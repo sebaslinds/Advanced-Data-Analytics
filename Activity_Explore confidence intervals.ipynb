{
 "cells": [
  {
   "cell_type": "markdown",
   "id": "887442f8",
   "metadata": {
    "id": "d25eed62-5910-4d10-a976-c18c4f7d99f7"
   },
   "source": [
    "# Activity: Explore confidence intervals"
   ]
  },
  {
   "cell_type": "markdown",
   "id": "b1592553",
   "metadata": {
    "id": "b50579ec-09df-4bb1-ad5a-d28f4790ca16"
   },
   "source": [
    "## Introduction"
   ]
  },
  {
   "cell_type": "markdown",
   "id": "7f8bcaf3",
   "metadata": {
    "id": "6a8992ac-22d5-41db-aa09-263b464950e0"
   },
   "source": [
    "The Air Quality Index (AQI) is the Environmental Protection Agency's index for reporting air quality. A value close to 0 signals little to no public health concern, while higher values are associated with increased risk to public health. The United States is considering a new federal policy that would create a subsidy for renewable energy in states observing an average AQI of 10 or above. <br>\n",
    "\n",
    "You've just started your new role as a data analyst in the Strategy division of Ripple Renewable Energy (RRE). **RRE operates in the following U.S. states: `California`, `Florida`, `Michigan`, `Ohio`, `Pennsylvania`, `Texas`.** You've been tasked with constructing an analysis which identifies which of these states are most likely to be affected, should the new federal policy be enacted."
   ]
  },
  {
   "cell_type": "markdown",
   "id": "9506535a",
   "metadata": {
    "id": "6e4e3b8a-b5f9-4fe1-a824-0bd3aece693c"
   },
   "source": [
    "Your manager has requested that you do the following for your analysis:\n",
    "1. Provide a summary of the mean AQI for the states in which RRE operates.\n",
    "2. Construct a boxplot visualization for AQI of these states using `seaborn`.\n",
    "3. Evaluate which state(s) may be most affected by this policy, based on the data and your boxplot visualization.\n",
    "4. Construct a confidence interval for the RRE state with the highest mean AQI."
   ]
  },
  {
   "cell_type": "markdown",
   "id": "38ffb853",
   "metadata": {
    "id": "3b4dc9a5-d724-4696-a704-57fefa9d5938"
   },
   "source": [
    "## Step 1: Imports\n",
    "\n",
    "### Import packages\n",
    "\n",
    "Import `pandas` and `numpy`."
   ]
  },
  {
   "cell_type": "code",
   "execution_count": 1,
   "id": "48483b72",
   "metadata": {
    "id": "0b3d0e1c-23b9-4491-82a5-ac1e4bd36f30"
   },
   "outputs": [],
   "source": [
    "# Import relevant packages\n",
    "import pandas as pd\n",
    "import numpy as np"
   ]
  },
  {
   "cell_type": "markdown",
   "id": "0d0d107d",
   "metadata": {
    "id": "a4f7c0d0-027e-475a-bce5-ad96d059cd04"
   },
   "source": [
    "### Load the dataset\n",
    "\n",
    "The dataset provided gives national Air Quality Index (AQI) measurements by state over time.  `Pandas` is used to import the file `c4_epa_air_quality.csv` as a DataFrame named `aqi`. As shown in this cell, the dataset has been automatically loaded in for you. You do not need to download the .csv file, or provide more code, in order to access the dataset and proceed with this lab. Please continue with this activity by completing the following instructions.\n",
    "\n",
    "*Note: For the purposes of your analysis, you can assume this data is randomly sampled from a larger population.*"
   ]
  },
  {
   "cell_type": "code",
   "execution_count": 2,
   "id": "53d3a6c6",
   "metadata": {
    "id": "1ce82ed7-cf32-4028-ac77-a377e7638458",
    "tags": []
   },
   "outputs": [],
   "source": [
    "# RUN THIS CELL TO IMPORT YOUR DATA\n",
    "\n",
    "### YOUR CODE HERE ###\n",
    "aqi = pd.read_csv('c4_epa_air_quality.csv')"
   ]
  },
  {
   "cell_type": "markdown",
   "id": "d96fcc3a",
   "metadata": {
    "id": "JLW4ftpm15LA"
   },
   "source": [
    "## Step 2: Data exploration"
   ]
  },
  {
   "cell_type": "markdown",
   "id": "3ada2d0f",
   "metadata": {
    "id": "c1ee0813-5e74-4564-8ea1-8d724700754a"
   },
   "source": [
    "### Explore your dataset\n",
    "\n",
    "Before proceeding to your deliverables, spend some time exploring the `aqi` DataFrame. "
   ]
  },
  {
   "cell_type": "code",
   "execution_count": 3,
   "id": "d2578e7b",
   "metadata": {
    "id": "0444122d-6fba-4051-8b09-b15392aacebf"
   },
   "outputs": [
    {
     "name": "stdout",
     "output_type": "stream",
     "text": [
      "   Unnamed: 0  date_local    state_name   county_name      city_name  \\\n",
      "0           0  2018-01-01       Arizona      Maricopa        Buckeye   \n",
      "1           1  2018-01-01          Ohio       Belmont      Shadyside   \n",
      "2           2  2018-01-01       Wyoming         Teton  Not in a city   \n",
      "3           3  2018-01-01  Pennsylvania  Philadelphia   Philadelphia   \n",
      "4           4  2018-01-01          Iowa          Polk     Des Moines   \n",
      "\n",
      "                                     local_site_name   parameter_name  \\\n",
      "0                                            BUCKEYE  Carbon monoxide   \n",
      "1                                          Shadyside  Carbon monoxide   \n",
      "2  Yellowstone National Park - Old Faithful Snow ...  Carbon monoxide   \n",
      "3                             North East Waste (NEW)  Carbon monoxide   \n",
      "4                                          CARPENTER  Carbon monoxide   \n",
      "\n",
      "    units_of_measure  arithmetic_mean  aqi  \n",
      "0  Parts per million         0.473684    7  \n",
      "1  Parts per million         0.263158    5  \n",
      "2  Parts per million         0.111111    2  \n",
      "3  Parts per million         0.300000    3  \n",
      "4  Parts per million         0.215789    3  \n",
      "<class 'pandas.core.frame.DataFrame'>\n",
      "RangeIndex: 260 entries, 0 to 259\n",
      "Data columns (total 10 columns):\n",
      " #   Column            Non-Null Count  Dtype  \n",
      "---  ------            --------------  -----  \n",
      " 0   Unnamed: 0        260 non-null    int64  \n",
      " 1   date_local        260 non-null    object \n",
      " 2   state_name        260 non-null    object \n",
      " 3   county_name       260 non-null    object \n",
      " 4   city_name         260 non-null    object \n",
      " 5   local_site_name   257 non-null    object \n",
      " 6   parameter_name    260 non-null    object \n",
      " 7   units_of_measure  260 non-null    object \n",
      " 8   arithmetic_mean   260 non-null    float64\n",
      " 9   aqi               260 non-null    int64  \n",
      "dtypes: float64(1), int64(2), object(7)\n",
      "memory usage: 20.4+ KB\n",
      "None\n",
      "       Unnamed: 0  arithmetic_mean         aqi\n",
      "count  260.000000       260.000000  260.000000\n",
      "mean   129.500000         0.403169    6.757692\n",
      "std     75.199734         0.317902    7.061707\n",
      "min      0.000000         0.000000    0.000000\n",
      "25%     64.750000         0.200000    2.000000\n",
      "50%    129.500000         0.276315    5.000000\n",
      "75%    194.250000         0.516009    9.000000\n",
      "max    259.000000         1.921053   50.000000\n",
      "Unnamed: 0          0\n",
      "date_local          0\n",
      "state_name          0\n",
      "county_name         0\n",
      "city_name           0\n",
      "local_site_name     3\n",
      "parameter_name      0\n",
      "units_of_measure    0\n",
      "arithmetic_mean     0\n",
      "aqi                 0\n",
      "dtype: int64\n",
      "['Arizona' 'Ohio' 'Wyoming' 'Pennsylvania' 'Iowa' 'Hawaii' 'Colorado'\n",
      " 'Minnesota' 'Indiana' 'Missouri' 'Connecticut' 'California' 'Nevada'\n",
      " 'Virginia' 'Rhode Island' 'Texas' 'Illinois' 'Kansas' 'Maryland'\n",
      " 'New Jersey' 'Massachusetts' 'Maine' 'Idaho' 'Florida' 'Vermont'\n",
      " 'Tennessee' 'Georgia' 'South Dakota' 'North Carolina' 'West Virginia'\n",
      " 'Michigan' 'Nebraska' 'Alabama' 'Washington' 'Kentucky' 'Oklahoma'\n",
      " 'New York' 'North Dakota' 'Montana' 'Utah' 'Delaware' 'New Hampshire'\n",
      " 'Louisiana' 'Mississippi' 'New Mexico' 'Oregon' 'District Of Columbia'\n",
      " 'Arkansas' 'Puerto Rico' 'South Carolina' 'Alaska' 'Wisconsin']\n"
     ]
    }
   ],
   "source": [
    "# Display the first few rows of the DataFrame\n",
    "print(aqi.head())\n",
    "\n",
    "# Get general information about the dataset\n",
    "print(aqi.info())\n",
    "\n",
    "# Get summary statistics for numerical columns\n",
    "print(aqi.describe())\n",
    "\n",
    "# Check for missing values\n",
    "print(aqi.isnull().sum())\n",
    "\n",
    "# Check the unique states in the dataset\n",
    "print(aqi['state_name'].unique())"
   ]
  },
  {
   "cell_type": "markdown",
   "id": "5af952f2",
   "metadata": {
    "id": "DOPQ6EL9ZmrB"
   },
   "source": [
    "**Question:** What time range does this data cover?\n",
    "\n",
    "From the date_local column, we can see that the data format is date-based. However, only one date (2018-01-01) is visible in the sample (head()). To determine the full time range, we would run:"
   ]
  },
  {
   "cell_type": "code",
   "execution_count": 4,
   "id": "e6aa20f7",
   "metadata": {},
   "outputs": [
    {
     "name": "stdout",
     "output_type": "stream",
     "text": [
      "2018-01-01\n",
      "2018-01-01\n"
     ]
    }
   ],
   "source": [
    "print(aqi['date_local'].min())\n",
    "print(aqi['date_local'].max())"
   ]
  },
  {
   "cell_type": "markdown",
   "id": "c1faf5fb",
   "metadata": {},
   "source": [
    "But based on the current preview, it appears the data might be limited to just January 1, 2018, or a very narrow range."
   ]
  },
  {
   "cell_type": "markdown",
   "id": "3450ec53",
   "metadata": {
    "id": "Sw0U5NWpZ1wp"
   },
   "source": [
    "**Question:** What are the minimum and maximum AQI values observed in the dataset?\n",
    "\n",
    "From the .describe() output:\n",
    "\n",
    "Minimum AQI: 0\n",
    "\n",
    "Maximum AQI: 50"
   ]
  },
  {
   "cell_type": "markdown",
   "id": "40b5856d",
   "metadata": {
    "id": "LWBj7cKZZ_du"
   },
   "source": [
    "**Question:** Are all states equally represented in the dataset?\n",
    "\n",
    "No, all states are not equally represented.\n",
    "There are 50+ state-like entities listed under state_name (including D.C. and Puerto Rico), but only 260 total rows, meaning many states likely have very few or even just one entry. To confirm uneven representation, you could run:"
   ]
  },
  {
   "cell_type": "code",
   "execution_count": 5,
   "id": "5fcb6e6b",
   "metadata": {},
   "outputs": [
    {
     "name": "stdout",
     "output_type": "stream",
     "text": [
      "California              66\n",
      "Arizona                 14\n",
      "Ohio                    12\n",
      "Florida                 12\n",
      "Texas                   10\n",
      "New York                10\n",
      "Pennsylvania            10\n",
      "Michigan                 9\n",
      "Colorado                 9\n",
      "Minnesota                7\n",
      "New Jersey               6\n",
      "Indiana                  5\n",
      "North Carolina           4\n",
      "Massachusetts            4\n",
      "Maryland                 4\n",
      "Oklahoma                 4\n",
      "Virginia                 4\n",
      "Nevada                   4\n",
      "Connecticut              4\n",
      "Kentucky                 3\n",
      "Missouri                 3\n",
      "Wyoming                  3\n",
      "Iowa                     3\n",
      "Hawaii                   3\n",
      "Utah                     3\n",
      "Vermont                  3\n",
      "Illinois                 3\n",
      "New Hampshire            2\n",
      "District Of Columbia     2\n",
      "New Mexico               2\n",
      "Montana                  2\n",
      "Oregon                   2\n",
      "Alaska                   2\n",
      "Georgia                  2\n",
      "Washington               2\n",
      "Idaho                    2\n",
      "Nebraska                 2\n",
      "Rhode Island             2\n",
      "Tennessee                2\n",
      "Maine                    2\n",
      "South Carolina           1\n",
      "Puerto Rico              1\n",
      "Arkansas                 1\n",
      "Kansas                   1\n",
      "Mississippi              1\n",
      "Alabama                  1\n",
      "Louisiana                1\n",
      "Delaware                 1\n",
      "South Dakota             1\n",
      "West Virginia            1\n",
      "North Dakota             1\n",
      "Wisconsin                1\n",
      "Name: state_name, dtype: int64\n"
     ]
    }
   ],
   "source": [
    "print(aqi['state_name'].value_counts())"
   ]
  },
  {
   "cell_type": "markdown",
   "id": "15a93d86",
   "metadata": {
    "id": "e3fe028b-178b-49c0-9765-a566f862ab1b"
   },
   "source": [
    "<details>\n",
    "  <summary><h4><strong>Hint 1</strong></h4></summary>\n",
    "\n",
    "Refer to [the content about descriptive statisics](https://www.coursera.org/learn/the-power-of-statistics/lecture/jVRS4/measures-of-central-tendency).\n",
    "</details>"
   ]
  },
  {
   "cell_type": "markdown",
   "id": "a86a5143",
   "metadata": {
    "id": "d7cba139-a71c-4b21-aef6-47e248da9315"
   },
   "source": [
    "<details>\n",
    "  <summary><h4><strong>Hint 2</strong></h4></summary>\n",
    "\n",
    "Use `pandas` or `numpy` to explore the `aqi` DataFrame.\n",
    "</details>"
   ]
  },
  {
   "cell_type": "markdown",
   "id": "3fcaf3e9",
   "metadata": {
    "id": "8b7138ff-2e02-42df-8946-c0bd1076169c"
   },
   "source": [
    "<details>\n",
    "  <summary><h4><strong>Hint 3</strong></h4></summary>\n",
    "\n",
    "Use any of the following functions:\n",
    "- `pandas`: `describe()`,`value_counts()`,`shape()`\n",
    "- `numpy`: `unique()`,`mean()`\n",
    "    \n",
    "</details>"
   ]
  },
  {
   "cell_type": "markdown",
   "id": "745bb07b",
   "metadata": {
    "id": "fd48d0f0-3f90-455e-87a1-0da43fcac202"
   },
   "source": [
    "## Step 3: Statistical tests\n",
    "\n",
    "### Summarize the mean AQI for RRE states\n",
    "\n",
    "Start with your first deliverable. Summarize the mean AQI for the states in which RRE operates (California, Florida, Michigan, Ohio, Pennsylvania, and Texas)."
   ]
  },
  {
   "cell_type": "code",
   "execution_count": 6,
   "id": "d03b20a9",
   "metadata": {
    "id": "83ef0d80-48ec-4a5a-8acd-0fab137243c3",
    "tags": []
   },
   "outputs": [
    {
     "name": "stdout",
     "output_type": "stream",
     "text": [
      "state_name\n",
      "California      12.121212\n",
      "Michigan         8.111111\n",
      "Florida          5.500000\n",
      "Ohio             3.333333\n",
      "Pennsylvania     2.900000\n",
      "Texas            2.700000\n",
      "Name: aqi, dtype: float64\n"
     ]
    }
   ],
   "source": [
    "# Create a list of RRE states\n",
    "rre_states = ['California', 'Florida', 'Michigan', 'Ohio', 'Pennsylvania', 'Texas']\n",
    "\n",
    "# Subset `aqi` to only include these states\n",
    "rre_aqi = aqi[aqi['state_name'].isin(rre_states)]\n",
    "\n",
    "# Find the mean AQI for each RRE state\n",
    "mean_aqi_by_state = rre_aqi.groupby('state_name')['aqi'].mean().sort_values(ascending=False)\n",
    "\n",
    "# Display the result\n",
    "print(mean_aqi_by_state)"
   ]
  },
  {
   "cell_type": "markdown",
   "id": "57b244b5",
   "metadata": {
    "id": "1078da6e-ce25-45c1-9707-9bf32ecc128f"
   },
   "source": [
    "<details>\n",
    "  <summary><h4><strong>Hint 1</strong></h4></summary>\n",
    "\n",
    "Subset your DataFrame to only include those states in which RRE operates. \n",
    "    \n",
    "</details>"
   ]
  },
  {
   "cell_type": "markdown",
   "id": "63b9f03c",
   "metadata": {
    "id": "096f97f3-7d89-4f0f-805a-2517807eec0d"
   },
   "source": [
    "<details>\n",
    "  <summary><h4><strong>Hint 2</strong></h4></summary>\n",
    "\n",
    "Define a list consisting of the states in which RRE operates and use that list to subset your DataFrame. \n",
    "    \n",
    "</details>"
   ]
  },
  {
   "cell_type": "markdown",
   "id": "613e239a",
   "metadata": {
    "id": "77d4a686-be3d-40c1-9d27-099677f182b9"
   },
   "source": [
    "<details>\n",
    "  <summary><h4><strong>Hint 3</strong></h4></summary>\n",
    "\n",
    "Use `pandas` `isin.()` to subset your DataFrame by the list of RRE states.\n",
    "    \n",
    "</details>"
   ]
  },
  {
   "cell_type": "markdown",
   "id": "df472d32",
   "metadata": {
    "id": "883abc8c-5aa9-480e-ac4b-c1c64f8ae0fd"
   },
   "source": [
    "### Construct a boxplot visualization for the AQI of these states\n",
    "\n",
    "Seaborn is a simple visualization library, commonly imported as `sns`. Import `seaborn`. Then utilize a boxplot visualization from this library to compare the distributions of AQI scores by state."
   ]
  },
  {
   "cell_type": "code",
   "execution_count": 7,
   "id": "49eb896f",
   "metadata": {
    "id": "ca381599-7cba-4454-922c-3383a2b7608d"
   },
   "outputs": [
    {
     "data": {
      "image/png": "[encoded data removed]",
      "text/plain": [
       "<Figure size 720x432 with 1 Axes>"
      ]
     },
     "metadata": {
      "needs_background": "light"
     },
     "output_type": "display_data"
    }
   ],
   "source": [
    "# Import seaborn as sns\n",
    "import seaborn as sns\n",
    "import matplotlib.pyplot as plt\n",
    "\n",
    "# Ensure plots appear in-line (for Jupyter or notebooks)\n",
    "%matplotlib inline\n",
    "\n",
    "# Create a boxplot comparing AQI distributions by state\n",
    "plt.figure(figsize=(10, 6))\n",
    "sns.boxplot(data=rre_aqi, x='state_name', y='aqi')\n",
    "plt.title('AQI Distribution by RRE State')\n",
    "plt.xlabel('State')\n",
    "plt.ylabel('Air Quality Index (AQI)')\n",
    "plt.xticks(rotation=45)\n",
    "plt.tight_layout()\n",
    "plt.show()"
   ]
  },
  {
   "cell_type": "markdown",
   "id": "0005a58c",
   "metadata": {
    "id": "01510e30-26e6-4408-9599-e7016fdb9948"
   },
   "source": [
    "### Create an in-line visualization showing the distribution of `aqi` by `state_name`\n",
    "\n",
    "Now, create an in-line visualization showing the distribution of `aqi` by `state_name`."
   ]
  },
  {
   "cell_type": "code",
   "execution_count": 8,
   "id": "6a18565b",
   "metadata": {
    "id": "50040050-1ff3-4d0e-a9e1-d2fd00454ce3"
   },
   "outputs": [
    {
     "data": {
      "image/png": "[encoded data removed]",
      "text/plain": [
       "<Figure size 720x432 with 1 Axes>"
      ]
     },
     "metadata": {
      "needs_background": "light"
     },
     "output_type": "display_data"
    }
   ],
   "source": [
    "# Import required libraries (if not already imported)\n",
    "import seaborn as sns\n",
    "import matplotlib.pyplot as plt\n",
    "\n",
    "# Ensure plots render inline (for notebooks like Jupyter)\n",
    "%matplotlib inline\n",
    "\n",
    "# Create the boxplot\n",
    "plt.figure(figsize=(10, 6))\n",
    "sns.boxplot(x='state_name', y='aqi', data=rre_aqi)\n",
    "plt.title('Distribution of AQI by State')\n",
    "plt.xlabel('State')\n",
    "plt.ylabel('Air Quality Index (AQI)')\n",
    "plt.xticks(rotation=45)\n",
    "plt.tight_layout()\n",
    "plt.show()"
   ]
  },
  {
   "cell_type": "markdown",
   "id": "83cdbb6e",
   "metadata": {
    "id": "2ec7b69d-072c-4c42-b0b4-7cff1aaa1579"
   },
   "source": [
    "<details>\n",
    "  <summary><h4><strong>Hint 1</strong></h4></summary>\n",
    "\n",
    "Use the boxplot visual for this purpose.\n",
    "    \n",
    "</details>"
   ]
  },
  {
   "cell_type": "markdown",
   "id": "503c362a",
   "metadata": {
    "id": "4218e686-47fc-49cc-b98d-fbca88144a34",
    "tags": []
   },
   "source": [
    "<details>\n",
    "  <summary><h4><strong>Hint 2</strong></h4></summary>\n",
    "\n",
    "Reference [Seaborn's boxplot visualization documentation](https://seaborn.pydata.org/generated/seaborn.boxplot.html). \n",
    "    \n",
    "</details>"
   ]
  },
  {
   "cell_type": "markdown",
   "id": "26ec6b8e",
   "metadata": {
    "id": "a3f8a76b-a277-4488-adf2-0ffc9d89e496",
    "tags": []
   },
   "source": [
    "<details>\n",
    "  <summary><h4><strong>Hint 3</strong></h4></summary>\n",
    "\n",
    "Assign `state_name` to the x argument and `aqi` to the y.\n",
    "    \n",
    "</details>"
   ]
  },
  {
   "cell_type": "markdown",
   "id": "6191a1a4",
   "metadata": {
    "id": "5e2af1a1-7816-4d8b-929b-41268234a579"
   },
   "source": [
    "**Question:** Based on the data and your visualizations, which state(s) do you suspect will be most affected by this policy?"
   ]
  },
  {
   "cell_type": "markdown",
   "id": "95108476",
   "metadata": {
    "id": "ZbPjfp_wgVpg"
   },
   "source": [
    "Based on the summary statistics and the boxplot visualization, California is the state most likely to be affected by the proposed federal policy. It has the highest mean AQI among the RRE states at 12.12, which is above the threshold of 10 stated in the policy.\n",
    "\n",
    "All other RRE states — Michigan, Florida, Ohio, Pennsylvania, and Texas — have mean AQI values well below 10, suggesting they are less likely to qualify for the subsidy if the policy is enacted as proposed."
   ]
  },
  {
   "cell_type": "markdown",
   "id": "6f69a8f2",
   "metadata": {
    "id": "30760c51-641f-4971-9837-4ae60b72cd64"
   },
   "source": [
    "<details>\n",
    "  <summary><h4><strong>Hint 1</strong></h4></summary>\n",
    "\n",
    "Consider the mean AQI for the RRE states, as well as the distribution in the boxplots relative to the policy limit (10).\n",
    "    \n",
    "</details>"
   ]
  },
  {
   "cell_type": "markdown",
   "id": "3467d3e2",
   "metadata": {
    "id": "b01231e9-0a80-4457-a47e-c62c2c230ae4"
   },
   "source": [
    "### Construct a confidence interval for the RRE state with the highest mean AQI\n",
    "\n",
    "Recall the 4-step process in constructing a confidence interval:\n",
    "\n",
    "1.   Identify a sample statistic.\n",
    "2.   Choose a confidence level.\n",
    "3.   Find the margin of error. \n",
    "4.   Calculate the interval."
   ]
  },
  {
   "cell_type": "markdown",
   "id": "12f10e65",
   "metadata": {
    "id": "587f8053-6cbd-454a-a390-9307e5a65b1b"
   },
   "source": [
    "### Construct your sample statistic\n",
    "\n",
    "To contruct your sample statistic, find the mean AQI for your state."
   ]
  },
  {
   "cell_type": "code",
   "execution_count": 9,
   "id": "3fe55fcc",
   "metadata": {
    "id": "58af6462-80ab-4055-85de-c99c87129752"
   },
   "outputs": [
    {
     "data": {
      "text/plain": [
       "12.121212121212121"
      ]
     },
     "execution_count": 9,
     "metadata": {},
     "output_type": "execute_result"
    }
   ],
   "source": [
    "# Filter the data for California\n",
    "california_aqi = rre_aqi[rre_aqi['state_name'] == 'California']\n",
    "\n",
    "# Calculate the mean AQI for California\n",
    "mean_aqi_california = california_aqi['aqi'].mean()\n",
    "\n",
    "# Display the mean AQI for California\n",
    "mean_aqi_california"
   ]
  },
  {
   "cell_type": "markdown",
   "id": "f2e64de4",
   "metadata": {
    "id": "3361efb6-9def-4140-8d55-061487583b3e"
   },
   "source": [
    "<details>\n",
    "  <summary><h4><strong>Hint 1</strong></h4></summary>\n",
    "\n",
    "Reference what you've previously learned to recall what a [sample statistic](https://www.coursera.org/learn/the-power-of-statistics/supplement/cdOx7/construct-a-confidence-interval-for-a-small-sample-size) is.\n",
    "    \n",
    "</details>"
   ]
  },
  {
   "cell_type": "markdown",
   "id": "e8bdbb15",
   "metadata": {
    "id": "54189c3c-a318-447b-b48f-b7bcd9b8a178"
   },
   "source": [
    "<details>\n",
    "  <summary><h4><strong>Hint 2</strong></h4></summary>\n",
    "\n",
    "Calculate the mean for your highest AQI state to arrive at your sample statistic.\n",
    "    \n",
    "</details>"
   ]
  },
  {
   "cell_type": "markdown",
   "id": "4bb33566",
   "metadata": {
    "id": "a2659e8e-1f67-441f-825c-8473c9f88081"
   },
   "source": [
    "<details>\n",
    " <summary><h4><strong>Hint 3</strong></h4></summary>\n",
    "\n",
    "Call the `mean()` function within `pandas` on your DataFrame.\n",
    "    \n",
    "</details>"
   ]
  },
  {
   "cell_type": "markdown",
   "id": "6b9bbb2e",
   "metadata": {
    "id": "9a15605d-5b99-4033-940f-1fab630ad6c1"
   },
   "source": [
    "### Choose your confidence level\n",
    "\n",
    "Choose your confidence level for your analysis. The most typical confidence level chosen is 95%; however, you can choose 90% or 99% if you want decrease or increase (respectively) your level of confidence about your result."
   ]
  },
  {
   "cell_type": "code",
   "execution_count": 10,
   "id": "8ec9dc9c",
   "metadata": {
    "id": "0a9c1f39-b4e2-4ec3-9369-dd313fd2d835",
    "outputId": "c035e170-c781-46b7-d1ec-5af2c66a7b1f"
   },
   "outputs": [],
   "source": [
    "# Choose a 95% confidence level\n",
    "confidence_level = 0.95"
   ]
  },
  {
   "cell_type": "markdown",
   "id": "c83aa021",
   "metadata": {
    "id": "ac18cb1b-40ca-4de3-bc0a-08be82f64781"
   },
   "source": [
    "### Find your margin of error (ME)\n",
    "\n",
    "Recall **margin of error = z * standard error**, where z is the appropriate z-value for the given confidence level. To calculate your margin of error:\n",
    "\n",
    "- Find your z-value. \n",
    "- Find the approximate z for common confidence levels.\n",
    "- Calculate your **standard error** estimate. \n",
    "\n",
    "| Confidence Level | Z Score |\n",
    "| --- | --- |\n",
    "| 90% | 1.65 |\n",
    "| 95% | 1.96 |\n",
    "| 99% | 2.58 |\n"
   ]
  },
  {
   "cell_type": "code",
   "execution_count": 11,
   "id": "20ebe3bb",
   "metadata": {
    "id": "930e5fb6-171c-4bba-a601-d5e3b84e2fdb"
   },
   "outputs": [
    {
     "name": "stdout",
     "output_type": "stream",
     "text": [
      "Standard Error: 0.8987209641127412\n",
      "Margin of Error: 1.7614930896609726\n"
     ]
    }
   ],
   "source": [
    "# Calculate the standard deviation for California\n",
    "std_aqi = rre_aqi[rre_aqi['state_name'] == 'California']['aqi'].std()\n",
    "\n",
    "# Get the number of data points (n) for California\n",
    "n = rre_aqi[rre_aqi['state_name'] == 'California'].shape[0]\n",
    "\n",
    "# Standard Error (SE) formula\n",
    "standard_error = std_aqi / np.sqrt(n)\n",
    "\n",
    "# Z-value for 95% confidence level\n",
    "z_value = 1.96\n",
    "\n",
    "# Margin of Error (ME) formula\n",
    "margin_of_error = z_value * standard_error\n",
    "\n",
    "# Output the margin of error\n",
    "print(f\"Standard Error: {standard_error}\")\n",
    "print(f\"Margin of Error: {margin_of_error}\")"
   ]
  },
  {
   "cell_type": "markdown",
   "id": "170da3bb",
   "metadata": {
    "id": "6b0d173b-06d4-4e82-81d8-092b24132bd2"
   },
   "source": [
    "### Calculate your interval\n",
    "\n",
    "Calculate both a lower and upper limit surrounding your sample mean to create your interval."
   ]
  },
  {
   "cell_type": "code",
   "execution_count": 12,
   "id": "f7baca1b",
   "metadata": {
    "id": "f83a7ba7-afdd-4d8c-8b78-849cff363180"
   },
   "outputs": [
    {
     "name": "stdout",
     "output_type": "stream",
     "text": [
      "Sample Mean for California: 12.121212121212121\n",
      "Confidence Interval: (10.359719031551148, 13.882705210873095)\n"
     ]
    }
   ],
   "source": [
    "# Sample mean for California (from prior calculation)\n",
    "mean_aqi_california = mean_aqi_by_state['California']\n",
    "\n",
    "# Lower and upper confidence interval limits\n",
    "lower_limit = mean_aqi_california - margin_of_error\n",
    "upper_limit = mean_aqi_california + margin_of_error\n",
    "\n",
    "# Output the results\n",
    "print(f\"Sample Mean for California: {mean_aqi_california}\")\n",
    "print(f\"Confidence Interval: ({lower_limit}, {upper_limit})\")"
   ]
  },
  {
   "cell_type": "markdown",
   "id": "45678e14",
   "metadata": {
    "id": "5c6af474-8803-40c3-88fe-3ae8d4523097"
   },
   "source": [
    "<details>\n",
    "  <summary><h4><strong>Hint 1</strong></h4></summary>\n",
    "\n",
    "Refer to [the content about constructing a confidence interval](https://www.coursera.org/learn/the-power-of-statistics/lecture/3jbsX/construct-a-confidence-interval-for-a-proportion).\n",
    "    \n",
    "</details>"
   ]
  },
  {
   "cell_type": "markdown",
   "id": "25841c7e",
   "metadata": {
    "id": "d515ba65-5524-492e-ba06-64d3a4e90e8f"
   },
   "source": [
    "<details>\n",
    "  <summary><h4><strong>Hint 2</strong></h4></summary>\n",
    "\n",
    "Identify the sample mean from your prior work. Then use the margin of error to construct your upper and lower limits.  \n",
    "    \n",
    "</details>"
   ]
  },
  {
   "cell_type": "markdown",
   "id": "ebe34cab",
   "metadata": {
    "id": "22532a0b-8db5-4874-9869-39d3e80a5ea9"
   },
   "source": [
    "<details>\n",
    "  <summary><h4><strong>Hint 3</strong></h4></summary>\n",
    "\n",
    "Subtract the margin of error from the sample mean to construct your lower limit, and add the margin of error to your sample mean to construct your upper limit.\n",
    "    \n",
    "</details>"
   ]
  },
  {
   "cell_type": "markdown",
   "id": "30a440b5",
   "metadata": {
    "id": "82e06ed3-2ec3-4851-b3df-2c6d969ea616"
   },
   "source": [
    "### Alternative: Construct the interval using `scipy.stats.norm.interval()`\n",
    "\n",
    "`scipy` presents a simpler solution to developing a confidence interval. To use this, first import the `stats` module from `scipy`."
   ]
  },
  {
   "cell_type": "code",
   "execution_count": 13,
   "id": "d60c0d54",
   "metadata": {
    "id": "0b6d2ecc-03ff-47ab-9d2d-57857fc38ca0"
   },
   "outputs": [
    {
     "name": "stdout",
     "output_type": "stream",
     "text": [
      "(10.359751399400034, 13.882672843024208)\n"
     ]
    }
   ],
   "source": [
    "# Importing the required module from scipy\n",
    "from scipy import stats\n",
    "\n",
    "# Use the scipy.stats.norm.interval method to calculate the confidence interval\n",
    "# Parameters:\n",
    "#   - confidence level (0.95 for 95% confidence)\n",
    "#   - loc (mean of the sample)\n",
    "#   - scale (standard error of the sample)\n",
    "\n",
    "# Calculate the confidence interval\n",
    "confidence_interval = stats.norm.interval(0.95, loc=mean_aqi_california, scale=standard_error)\n",
    "\n",
    "print(confidence_interval)"
   ]
  },
  {
   "cell_type": "markdown",
   "id": "98eaf217",
   "metadata": {
    "id": "ba8af068-f28e-4c29-82c9-238bc0f16ed1"
   },
   "source": [
    "## Step 4: Results and evaluation\n",
    "\n",
    "### Recalculate your confidence interval\n",
    "\n",
    "Provide your chosen `confidence_level`, `sample_mean`, and `standard_error` to `stats.norm.interval()` and recalculate your confidence interval."
   ]
  },
  {
   "cell_type": "code",
   "execution_count": 15,
   "id": "23592c63",
   "metadata": {
    "id": "f908eb99-ce5c-472f-891e-80a47cef5fed"
   },
   "outputs": [
    {
     "name": "stdout",
     "output_type": "stream",
     "text": [
      "Standard Error for California: 0.8987209641127412\n",
      "Confidence Level: 95.0%\n",
      "Sample Mean: 12.121212121212121\n",
      "Standard Error: 0.8987209641127412\n",
      "Confidence Interval: (10.359751399400034, 13.882672843024208)\n"
     ]
    }
   ],
   "source": [
    "# Calculate the standard deviation for California\n",
    "std_california = rre_aqi[rre_aqi['state_name'] == 'California']['aqi'].std()\n",
    "\n",
    "# Calculate the sample size for California\n",
    "n_california = rre_aqi[rre_aqi['state_name'] == 'California']['aqi'].count()\n",
    "\n",
    "# Calculate the standard error for California\n",
    "se_california = std_california / np.sqrt(n_california)\n",
    "\n",
    "# Display the standard error\n",
    "print(f\"Standard Error for California: {se_california}\")\n",
    "\n",
    "# Import necessary modules\n",
    "from scipy import stats\n",
    "\n",
    "# Given values\n",
    "confidence_level = 0.95\n",
    "sample_mean = mean_aqi_california  # Ensure this is the correct sample mean for California\n",
    "standard_error = se_california  # Ensure this is the correct standard error for California\n",
    "\n",
    "# Calculate the confidence interval\n",
    "confidence_interval = stats.norm.interval(confidence_level, loc=sample_mean, scale=standard_error)\n",
    "\n",
    "# Display the result\n",
    "print(f\"Confidence Level: {confidence_level * 100}%\")\n",
    "print(f\"Sample Mean: {sample_mean}\")\n",
    "print(f\"Standard Error: {standard_error}\")\n",
    "print(f\"Confidence Interval: {confidence_interval}\")"
   ]
  },
  {
   "cell_type": "markdown",
   "id": "b0f0b3cd",
   "metadata": {
    "id": "feb3e273-1aab-4965-bceb-8b8933c743b5"
   },
   "source": [
    "# Considerations\n",
    "\n",
    "**What are some key takeaways that you learned from this lab?**\n",
    "\n",
    "Data Exploration: We started by exploring the dataset, focusing on aspects like the range of AQI values, the distribution of data across states, and identifying the states that RRE operates in. We found that AQI data had a wide range of values, from 0 to 50, and that some states (like California) had more data points than others.\n",
    "\n",
    "Understanding AQI by State: By calculating the mean AQI for the six states where RRE operates, we saw that California has the highest AQI, well above the threshold of 10 proposed in the federal policy. This suggests California would be the most affected by the policy.\n",
    "\n",
    "Boxplot Visualization: The boxplot revealed that California's AQI distribution was skewed towards higher values compared to the other states, reinforcing the hypothesis that California has more severe air quality issues, and thus, is most likely to benefit from the proposed renewable energy subsidy.\n",
    "\n",
    "Confidence Interval Calculation: The lab guided us through constructing a confidence interval for California's mean AQI. The margin of error and standard error were calculated, and using these values, the confidence interval for the mean AQI in California was found to be approximately (10.36, 13.88). This interval gives us a range where we can expect the true mean AQI for California to fall with 95% confidence.\n",
    "\n",
    "**What findings would you share with others?**\n",
    "\n",
    "California is Most Affected: Based on the mean AQI of 12.12, California is the most likely state to be affected by the proposed policy. The mean AQI in California exceeds the threshold of 10, making it a prime candidate for the renewable energy subsidy.\n",
    "\n",
    "Policy Implications: Other states where RRE operates, such as Florida, Michigan, Ohio, Pennsylvania, and Texas, have AQI values below the threshold of 10. These states may not qualify for the subsidy if the policy is enacted as written.\n",
    "\n",
    "Statistical Confidence: By constructing a 95% confidence interval for California’s mean AQI, we can be reasonably confident that the true mean AQI for California falls between 10.36 and 13.88. This adds statistical rigor to our recommendation.\n",
    "\n",
    "**What would you convey to external stakeholders?**\n",
    "\n",
    "Target States for Policy Impact: Stakeholders should focus on states like California, where the AQI is consistently above the threshold of 10. This indicates that California would likely benefit the most from the renewable energy subsidy proposed in the new policy.\n",
    "\n",
    "Data-Driven Decision Making: The analysis provides a data-driven insight into the likelihood of RRE's states qualifying for the federal subsidy. This can inform the company's strategy moving forward, particularly in terms of where to expand operations or allocate resources.\n",
    "\n",
    "Confidence in Predictions: The 95% confidence interval helps assure stakeholders that the analysis is based on robust statistical methods. Although there is always some uncertainty in sample data, the range of 10.36 to 13.88 gives a high degree of certainty regarding California's AQI."
   ]
  },
  {
   "cell_type": "markdown",
   "id": "bdd9c48f",
   "metadata": {
    "id": "0IVWUekbeFEq"
   },
   "source": [
    "**References**\n",
    "\n",
    "[seaborn.boxplot — seaborn 0.12.1 documentation](https://seaborn.pydata.org/generated/seaborn.boxplot.html). (n.d.). "
   ]
  }
 ],
 "metadata": {
  "colab": {
   "collapsed_sections": [],
   "provenance": []
  },
  "kernelspec": {
   "display_name": "Python 3 (ipykernel)",
   "language": "python",
   "name": "python3"
  },
  "language_info": {
   "codemirror_mode": {
    "name": "ipython",
    "version": 3
   },
   "file_extension": ".py",
   "mimetype": "text/x-python",
   "name": "python",
   "nbconvert_exporter": "python",
   "pygments_lexer": "ipython3",
   "version": "3.11.9"
  }
 },
 "nbformat": 4,
 "nbformat_minor": 5
}
