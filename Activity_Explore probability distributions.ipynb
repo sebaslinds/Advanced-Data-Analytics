{
 "cells": [
  {
   "cell_type": "markdown",
   "metadata": {
    "id": "ePeImos0HYMu"
   },
   "source": [
    "# Activity: Explore probability distributions"
   ]
  },
  {
   "cell_type": "markdown",
   "metadata": {
    "id": "IpCK6RfdHfW8"
   },
   "source": [
    "## **Introduction**\n",
    "\n",
    "The ability to determine which type of probability distribution best fits data, calculate z-score, and detect outliers are essential skills in data work. These capabilities enable data professionals to understand how their data is distributed and identify data points that need further examination.\n",
    "\n",
    "In this activity, you are a member of an analytics team for the United States Environmental Protection Agency (EPA). The data includes information about more than 200 sites, identified by state, county, city, and local site names. One of your main goals is to determine which regions need support to make air quality improvements. Given that carbon monoxide is a major air pollutant, you will investigate data from the Air Quality Index (AQI) with respect to carbon monoxide."
   ]
  },
  {
   "cell_type": "markdown",
   "metadata": {
    "id": "0HjDwXh3HkpB"
   },
   "source": [
    "## **Step 1: Imports** "
   ]
  },
  {
   "cell_type": "markdown",
   "metadata": {
    "id": "2bqq2KoNMb8q"
   },
   "source": [
    "Import relevant libraries, packages, and modules. For this lab, you will need `numpy`, `pandas`, `matplotlib.pyplot`, `statsmodels.api`, and `scipy`."
   ]
  },
  {
   "cell_type": "code",
   "execution_count": 1,
   "metadata": {
    "id": "GsZlNee8MXP8"
   },
   "outputs": [],
   "source": [
    "# Import relevant libraries, packages, and modules\n",
    "import numpy as np\n",
    "import pandas as pd\n",
    "import matplotlib.pyplot as plt\n",
    "import statsmodels.api as sm\n",
    "from scipy import stats"
   ]
  },
  {
   "cell_type": "markdown",
   "metadata": {
    "id": "jr7pHKQRMjoq"
   },
   "source": [
    "A subset of data was taken from the air quality data collected by the EPA, then transformed to suit the purposes of this lab. This subset is a .csv file named `modified_c4_epa_air_quality.csv`. As shown in this cell, the dataset has been automatically loaded in for you. You do not need to download the .csv file, or provide more code, in order to access the dataset and proceed with this lab. Please continue with this activity by completing the following instructions."
   ]
  },
  {
   "cell_type": "code",
   "execution_count": 2,
   "metadata": {
    "id": "H5ugMTQzNs3K"
   },
   "outputs": [],
   "source": [
    "# RUN THIS CELL TO IMPORT YOUR DATA.\n",
    "\n",
    "### YOUR CODE HERE ###\n",
    "data = pd.read_csv(\"modified_c4_epa_air_quality.csv\")"
   ]
  },
  {
   "cell_type": "markdown",
   "metadata": {
    "id": "_CqNLb1Xzrjl"
   },
   "source": [
    "<details><summary><h4><strong>Hint 1</strong></h4></summary>\n",
    "\n",
    "Refer to what you learned about loading data in Python.\n",
    "    \n",
    "  \n",
    "</details>"
   ]
  },
  {
   "cell_type": "markdown",
   "metadata": {
    "id": "TKLR_AKezrjn"
   },
   "source": [
    "<details><summary><h4><strong>Hint 2</strong></h4></summary>\n",
    "\n",
    "There is a function in the `pandas` library that allows you to load data from a .csv file into a DataFrame.\n",
    "    \n",
    "  \n",
    "</details>"
   ]
  },
  {
   "cell_type": "markdown",
   "metadata": {
    "id": "L41MRy4Yzrjp"
   },
   "source": [
    "<details><summary><h4><strong>Hint 3</strong></h4></summary>\n",
    "\n",
    "Use the `read_csv()` function and pass in the name of the csv file as a string.\n",
    "    \n",
    "</details>"
   ]
  },
  {
   "cell_type": "markdown",
   "metadata": {
    "id": "4QfLAVCkHmeQ"
   },
   "source": [
    "## **Step 2: Data exploration** "
   ]
  },
  {
   "cell_type": "markdown",
   "metadata": {
    "id": "fuauZV55QESy"
   },
   "source": [
    "Display the first 10 rows of the data to get a sense of how the data is structured."
   ]
  },
  {
   "cell_type": "code",
   "execution_count": 3,
   "metadata": {
    "id": "ngwYbaEwPjTb"
   },
   "outputs": [
    {
     "data": {
      "text/html": [
       "<div>\n",
       "<style scoped>\n",
       "    .dataframe tbody tr th:only-of-type {\n",
       "        vertical-align: middle;\n",
       "    }\n",
       "\n",
       "    .dataframe tbody tr th {\n",
       "        vertical-align: top;\n",
       "    }\n",
       "\n",
       "    .dataframe thead th {\n",
       "        text-align: right;\n",
       "    }\n",
       "</style>\n",
       "<table border=\"1\" class=\"dataframe\">\n",
       "  <thead>\n",
       "    <tr style=\"text-align: right;\">\n",
       "      <th></th>\n",
       "      <th>date_local</th>\n",
       "      <th>state_name</th>\n",
       "      <th>county_name</th>\n",
       "      <th>city_name</th>\n",
       "      <th>local_site_name</th>\n",
       "      <th>parameter_name</th>\n",
       "      <th>units_of_measure</th>\n",
       "      <th>aqi_log</th>\n",
       "    </tr>\n",
       "  </thead>\n",
       "  <tbody>\n",
       "    <tr>\n",
       "      <th>0</th>\n",
       "      <td>2018-01-01</td>\n",
       "      <td>Arizona</td>\n",
       "      <td>Maricopa</td>\n",
       "      <td>Buckeye</td>\n",
       "      <td>BUCKEYE</td>\n",
       "      <td>Carbon monoxide</td>\n",
       "      <td>Parts per million</td>\n",
       "      <td>2.079442</td>\n",
       "    </tr>\n",
       "    <tr>\n",
       "      <th>1</th>\n",
       "      <td>2018-01-01</td>\n",
       "      <td>Ohio</td>\n",
       "      <td>Belmont</td>\n",
       "      <td>Shadyside</td>\n",
       "      <td>Shadyside</td>\n",
       "      <td>Carbon monoxide</td>\n",
       "      <td>Parts per million</td>\n",
       "      <td>1.791759</td>\n",
       "    </tr>\n",
       "    <tr>\n",
       "      <th>2</th>\n",
       "      <td>2018-01-01</td>\n",
       "      <td>Wyoming</td>\n",
       "      <td>Teton</td>\n",
       "      <td>Not in a city</td>\n",
       "      <td>Yellowstone National Park - Old Faithful Snow ...</td>\n",
       "      <td>Carbon monoxide</td>\n",
       "      <td>Parts per million</td>\n",
       "      <td>1.098612</td>\n",
       "    </tr>\n",
       "    <tr>\n",
       "      <th>3</th>\n",
       "      <td>2018-01-01</td>\n",
       "      <td>Pennsylvania</td>\n",
       "      <td>Philadelphia</td>\n",
       "      <td>Philadelphia</td>\n",
       "      <td>North East Waste (NEW)</td>\n",
       "      <td>Carbon monoxide</td>\n",
       "      <td>Parts per million</td>\n",
       "      <td>1.386294</td>\n",
       "    </tr>\n",
       "    <tr>\n",
       "      <th>4</th>\n",
       "      <td>2018-01-01</td>\n",
       "      <td>Iowa</td>\n",
       "      <td>Polk</td>\n",
       "      <td>Des Moines</td>\n",
       "      <td>CARPENTER</td>\n",
       "      <td>Carbon monoxide</td>\n",
       "      <td>Parts per million</td>\n",
       "      <td>1.386294</td>\n",
       "    </tr>\n",
       "    <tr>\n",
       "      <th>5</th>\n",
       "      <td>2018-01-01</td>\n",
       "      <td>Hawaii</td>\n",
       "      <td>Honolulu</td>\n",
       "      <td>Not in a city</td>\n",
       "      <td>Kapolei</td>\n",
       "      <td>Carbon monoxide</td>\n",
       "      <td>Parts per million</td>\n",
       "      <td>2.708050</td>\n",
       "    </tr>\n",
       "    <tr>\n",
       "      <th>6</th>\n",
       "      <td>2018-01-01</td>\n",
       "      <td>Hawaii</td>\n",
       "      <td>Honolulu</td>\n",
       "      <td>Not in a city</td>\n",
       "      <td>Kapolei</td>\n",
       "      <td>Carbon monoxide</td>\n",
       "      <td>Parts per million</td>\n",
       "      <td>1.098612</td>\n",
       "    </tr>\n",
       "    <tr>\n",
       "      <th>7</th>\n",
       "      <td>2018-01-01</td>\n",
       "      <td>Pennsylvania</td>\n",
       "      <td>Erie</td>\n",
       "      <td>Erie</td>\n",
       "      <td>NaN</td>\n",
       "      <td>Carbon monoxide</td>\n",
       "      <td>Parts per million</td>\n",
       "      <td>1.098612</td>\n",
       "    </tr>\n",
       "    <tr>\n",
       "      <th>8</th>\n",
       "      <td>2018-01-01</td>\n",
       "      <td>Hawaii</td>\n",
       "      <td>Honolulu</td>\n",
       "      <td>Honolulu</td>\n",
       "      <td>Honolulu</td>\n",
       "      <td>Carbon monoxide</td>\n",
       "      <td>Parts per million</td>\n",
       "      <td>1.791759</td>\n",
       "    </tr>\n",
       "    <tr>\n",
       "      <th>9</th>\n",
       "      <td>2018-01-01</td>\n",
       "      <td>Colorado</td>\n",
       "      <td>Larimer</td>\n",
       "      <td>Fort Collins</td>\n",
       "      <td>Fort Collins - CSU - S. Mason</td>\n",
       "      <td>Carbon monoxide</td>\n",
       "      <td>Parts per million</td>\n",
       "      <td>1.945910</td>\n",
       "    </tr>\n",
       "  </tbody>\n",
       "</table>\n",
       "</div>"
      ],
      "text/plain": [
       "   date_local    state_name   county_name      city_name  \\\n",
       "0  2018-01-01       Arizona      Maricopa        Buckeye   \n",
       "1  2018-01-01          Ohio       Belmont      Shadyside   \n",
       "2  2018-01-01       Wyoming         Teton  Not in a city   \n",
       "3  2018-01-01  Pennsylvania  Philadelphia   Philadelphia   \n",
       "4  2018-01-01          Iowa          Polk     Des Moines   \n",
       "5  2018-01-01        Hawaii      Honolulu  Not in a city   \n",
       "6  2018-01-01        Hawaii      Honolulu  Not in a city   \n",
       "7  2018-01-01  Pennsylvania          Erie           Erie   \n",
       "8  2018-01-01        Hawaii      Honolulu       Honolulu   \n",
       "9  2018-01-01      Colorado       Larimer   Fort Collins   \n",
       "\n",
       "                                     local_site_name   parameter_name  \\\n",
       "0                                            BUCKEYE  Carbon monoxide   \n",
       "1                                          Shadyside  Carbon monoxide   \n",
       "2  Yellowstone National Park - Old Faithful Snow ...  Carbon monoxide   \n",
       "3                             North East Waste (NEW)  Carbon monoxide   \n",
       "4                                          CARPENTER  Carbon monoxide   \n",
       "5                                            Kapolei  Carbon monoxide   \n",
       "6                                            Kapolei  Carbon monoxide   \n",
       "7                                                NaN  Carbon monoxide   \n",
       "8                                           Honolulu  Carbon monoxide   \n",
       "9                      Fort Collins - CSU - S. Mason  Carbon monoxide   \n",
       "\n",
       "    units_of_measure   aqi_log  \n",
       "0  Parts per million  2.079442  \n",
       "1  Parts per million  1.791759  \n",
       "2  Parts per million  1.098612  \n",
       "3  Parts per million  1.386294  \n",
       "4  Parts per million  1.386294  \n",
       "5  Parts per million  2.708050  \n",
       "6  Parts per million  1.098612  \n",
       "7  Parts per million  1.098612  \n",
       "8  Parts per million  1.791759  \n",
       "9  Parts per million  1.945910  "
      ]
     },
     "execution_count": 3,
     "metadata": {},
     "output_type": "execute_result"
    }
   ],
   "source": [
    "# Display first 10 rows of the data\n",
    "data.head(10)"
   ]
  },
  {
   "cell_type": "markdown",
   "metadata": {
    "id": "W3KyiRiUy9c1"
   },
   "source": [
    "<details><summary><h4><strong>Hint 1</strong></h4></summary>\n",
    "\n",
    "Refer to what you learned about exploring datasets in Python.\n",
    "    \n",
    "  \n",
    "</details>"
   ]
  },
  {
   "cell_type": "markdown",
   "metadata": {
    "id": "pTNSUHuuy9c3"
   },
   "source": [
    "<details><summary><h4><strong>Hint 2</strong></h4></summary>\n",
    "\n",
    "There is a function in the `pandas` library that allows you to display a specific number of rows from the top of a DataFrame.\n",
    "    \n",
    "  \n",
    "</details>"
   ]
  },
  {
   "cell_type": "markdown",
   "metadata": {
    "id": "T1bkcUbry9c5"
   },
   "source": [
    "<details><summary><h4><strong>Hint 3</strong></h4></summary>\n",
    "\n",
    "Use the `head()` function and pass in how many rows from the top of the DataFrame you want to display.\n",
    "    \n",
    "</details>"
   ]
  },
  {
   "cell_type": "markdown",
   "metadata": {
    "id": "nV2QIMFBqtOP"
   },
   "source": [
    "The `aqi_log` column represents AQI readings that were transformed logarithmically to suit the objectives of this lab. Taking a logarithm of the aqi to get a bell-shaped distribution is outside the scope of this course, but is helpful to see the normal distribution."
   ]
  },
  {
   "cell_type": "markdown",
   "metadata": {
    "id": "tBGSJbISFrS-"
   },
   "source": [
    "To better understand the quantity of data you are working with, display the number of rows and the number of columns."
   ]
  },
  {
   "cell_type": "code",
   "execution_count": 4,
   "metadata": {
    "id": "GuODVFHZF1mu"
   },
   "outputs": [
    {
     "data": {
      "text/plain": [
       "(260, 8)"
      ]
     },
     "execution_count": 4,
     "metadata": {},
     "output_type": "execute_result"
    }
   ],
   "source": [
    "# Display number of rows and columns\n",
    "data.shape"
   ]
  },
  {
   "cell_type": "markdown",
   "metadata": {
    "id": "ffB-xBf9z9jr"
   },
   "source": [
    "<details><summary><h4><strong>Hint 1</strong></h4></summary>\n",
    "\n",
    "Refer to what you learned about exploring datasets in Python.\n",
    "    \n",
    "</details>"
   ]
  },
  {
   "cell_type": "markdown",
   "metadata": {
    "id": "w8qTKbogz9jt"
   },
   "source": [
    "<details><summary><h4><strong>Hint 2</strong></h4></summary>\n",
    "\n",
    "Every DataFrame in `pandas` has a property that gives you access to the number of rows and number of columns in that DataFrame.\n",
    "  \n",
    "</details>"
   ]
  },
  {
   "cell_type": "markdown",
   "metadata": {
    "id": "MT8owfOfz9ju"
   },
   "source": [
    "<details><summary><h4><strong>Hint 3</strong></h4></summary>\n",
    "\n",
    "Call the `shape` property of the DataFrame, which will display the number of rows and the number of columns as a tuple.\n",
    "    \n",
    "</details>"
   ]
  },
  {
   "cell_type": "markdown",
   "metadata": {
    "id": "1GOeL7M5_551"
   },
   "source": [
    "Now, you want to find out whether `aqi_log` fits a specific type of probability distribution. Create a histogram to visualize the distribution of `aqi_log`. Then, based on its shape, visually determine if it resembles a particular distribution."
   ]
  },
  {
   "cell_type": "code",
   "execution_count": 5,
   "metadata": {
    "id": "c_5_FpSOC4A9"
   },
   "outputs": [
    {
     "data": {
      "image/png": "[encoded data removed]",
      "text/plain": [
       "<Figure size 432x288 with 1 Axes>"
      ]
     },
     "metadata": {
      "needs_background": "light"
     },
     "output_type": "display_data"
    }
   ],
   "source": [
    "# Create a histogram to visualize distribution of aqi_log\n",
    "plt.hist(data[\"aqi_log\"], bins=30, edgecolor=\"black\")\n",
    "plt.title(\"Distribution of aqi_log\")\n",
    "plt.xlabel(\"aqi_log\")\n",
    "plt.ylabel(\"Frequency\")\n",
    "plt.grid(True)\n",
    "plt.show()"
   ]
  },
  {
   "cell_type": "markdown",
   "metadata": {
    "id": "wJd4DVZEDL1W"
   },
   "source": [
    "<details><summary><h4><strong>Hint 1</strong></h4></summary>\n",
    "\n",
    "Refer to the video about creating a histogram to visualize the distribution of a particular variable in the data.\n",
    "    \n",
    "  \n",
    "</details>"
   ]
  },
  {
   "cell_type": "markdown",
   "metadata": {
    "id": "SlXo2T5_I_5s"
   },
   "source": [
    "<details><summary><h4><strong>Hint 2</strong></h4></summary>\n",
    "\n",
    "There is a function in the `matplotlib` library that can be called to create a histogram.\n",
    "    \n",
    "  \n",
    "</details>"
   ]
  },
  {
   "cell_type": "markdown",
   "metadata": {
    "id": "jVgw1RSpSF_0"
   },
   "source": [
    "<details><summary><h4><strong>Hint 3</strong></h4></summary>\n",
    "\n",
    "The `hist()` function can be called directly on the `aqi_log` column from the data. \n",
    "\n",
    "A semicolon can be used at the end as a quick way to make sure only the plot gets displayed (other text does not get displayed).\n",
    "    \n",
    "</details>"
   ]
  },
  {
   "cell_type": "markdown",
   "metadata": {
    "id": "sGlw_4gfuSbS"
   },
   "source": [
    "**Question:** What do you observe about the shape of the distribution from the histogram? "
   ]
  },
  {
   "cell_type": "markdown",
   "metadata": {
    "id": "7syfcROm10b0"
   },
   "source": [
    "The histogram of aqi_log appears roughly bell-shaped and symmetric, which suggests it resembles a normal distribution. This is expected since the AQI values were log-transformed to approximate normality."
   ]
  },
  {
   "cell_type": "markdown",
   "metadata": {
    "id": "79fCHMhDHqf5"
   },
   "source": [
    "## **Step 3: Statistical tests**\n",
    "\n",
    "Use the empirical rule to observe the data, then test and verify that it is normally distributed.\n"
   ]
  },
  {
   "cell_type": "markdown",
   "metadata": {
    "id": "Yn0a1mcrld2y"
   },
   "source": [
    " As you have learned, the empirical rule states that, for every normal distribution: \n",
    "- 68% of the data fall within 1 standard deviation of the mean\n",
    "- 95% of the data fall within 2 standard deviations of the mean\n",
    "- 99.7% of the data fall within 3 standard deviations of the mean\n"
   ]
  },
  {
   "cell_type": "markdown",
   "metadata": {
    "id": "Q6rEDaEJnFgU"
   },
   "source": [
    "First, define two variables to store the mean and standard deviation, respectively, for `aqi_log`. Creating these variables will help you easily access these measures as you continue with the calculations involved in applying the empirical rule. "
   ]
  },
  {
   "cell_type": "code",
   "execution_count": 6,
   "metadata": {
    "id": "Bl8hZPnrmevm"
   },
   "outputs": [
    {
     "name": "stdout",
     "output_type": "stream",
     "text": [
      "Mean of aqi_log: 1.7669210929985577\n"
     ]
    }
   ],
   "source": [
    "# Define variable for aqi_log mean\n",
    "aqi_log_mean = data[\"aqi_log\"].mean()\n",
    "\n",
    "# Print out the mean\n",
    "print(\"Mean of aqi_log:\", aqi_log_mean)"
   ]
  },
  {
   "cell_type": "code",
   "execution_count": 7,
   "metadata": {
    "id": "tIzj5aGAoU_L"
   },
   "outputs": [
    {
     "name": "stdout",
     "output_type": "stream",
     "text": [
      "Standard Deviation of aqi_log: 0.7147155520223721\n"
     ]
    }
   ],
   "source": [
    "# Define variable for aqi_log standard deviation\n",
    "aqi_log_std = data[\"aqi_log\"].std()\n",
    "\n",
    "# Print out the standard deviation\n",
    "print(\"Standard Deviation of aqi_log:\", aqi_log_std)"
   ]
  },
  {
   "cell_type": "markdown",
   "metadata": {
    "id": "4ZZsE_EmrYrt"
   },
   "source": [
    "<details><summary><h4><strong>Hint 1</strong></h4></summary>\n",
    "\n",
    "Refer to the lesson about calculating the mean and standard deviation for a particular variable in the data.\n",
    "    \n",
    "  \n",
    "</details>"
   ]
  },
  {
   "cell_type": "markdown",
   "metadata": {
    "id": "TlK7wxJlrYrv"
   },
   "source": [
    "<details><summary><h4><strong>Hint 2</strong></h4></summary>\n",
    "\n",
    "There are functions in the `numpy` library that can be called to calculate mean and standard deviation, respectively.\n",
    "    \n",
    "  \n",
    "</details>"
   ]
  },
  {
   "cell_type": "markdown",
   "metadata": {
    "id": "wsOOmZ8VrYrw"
   },
   "source": [
    "<details><summary><h4><strong>Hint 3</strong></h4></summary>\n",
    "\n",
    "The `mean()` function can be called directly on the `aqi_log` column from the data to compute the mean.\n",
    "\n",
    "The `std()` function can be called directly on the `aqi_log` column from the data to compute the standard deviation.\n",
    "    \n",
    "</details>"
   ]
  },
  {
   "cell_type": "markdown",
   "metadata": {
    "id": "Bajx-iIspBLq"
   },
   "source": [
    "Now, check the first part of the empirical rule: whether 68% of the `aqi_log` data falls within 1 standard deviation of the mean.\n",
    "\n",
    "To compute the actual percentage of the data that satisfies this criteria, define the lower limit (for example, 1 standard deviation below the mean) and the upper limit (for example, 1 standard deviation above the mean). This will enable you to create a range and confirm whether each value falls within it."
   ]
  },
  {
   "cell_type": "code",
   "execution_count": 8,
   "metadata": {
    "id": "cyHe7ElJpwk7"
   },
   "outputs": [
    {
     "name": "stdout",
     "output_type": "stream",
     "text": [
      "Lower limit (mean - 1*std): 1.0522055409761855\n",
      "Upper limit (mean + 1*std): 2.48163664502093\n"
     ]
    }
   ],
   "source": [
    "# Define variable for lower limit, 1 standard deviation below the mean\n",
    "lower_limit = aqi_log_mean - aqi_log_std\n",
    "\n",
    "# Define variable for upper limit, 1 standard deviation above the mean\n",
    "upper_limit = aqi_log_mean + aqi_log_std\n",
    "\n",
    "# Display lower_limit, upper_limit\n",
    "print(\"Lower limit (mean - 1*std):\", lower_limit)\n",
    "print(\"Upper limit (mean + 1*std):\", upper_limit)"
   ]
  },
  {
   "cell_type": "markdown",
   "metadata": {
    "id": "c9z9BjbrsRVd"
   },
   "source": [
    "<details><summary><h4><strong>Hint 1</strong></h4></summary>\n",
    "\n",
    "Refer to the video about using the empirical rule.\n",
    "    \n",
    "  \n",
    "</details>"
   ]
  },
  {
   "cell_type": "markdown",
   "metadata": {
    "id": "GCpWM5DVsRVf"
   },
   "source": [
    "<details><summary><h4><strong>Hint 2</strong></h4></summary>\n",
    "\n",
    "The lower limit here is $mean - 1 * std$.\n",
    "\n",
    "The upper limit here is $mean + 1 * std$.\n",
    "\n",
    "The `print` function can be called to display.\n",
    "    \n",
    "  \n",
    "</details>"
   ]
  },
  {
   "cell_type": "markdown",
   "metadata": {
    "id": "xR5rVWZlsRVg"
   },
   "source": [
    "<details><summary><h4><strong>Hint 3</strong></h4></summary>\n",
    "\n",
    "Use the variables that you defined for mean and standard deviation of `aqi_log`, ensuring the spelling is correct. \n",
    "\n",
    "Call the `print` function and pass in the values one after the other, with a comma between them.\n",
    "    \n",
    "</details>"
   ]
  },
  {
   "cell_type": "code",
   "execution_count": 9,
   "metadata": {
    "id": "3nsfy9M2uYmJ"
   },
   "outputs": [
    {
     "name": "stdout",
     "output_type": "stream",
     "text": [
      "Percentage of data within 1 standard deviation of the mean: 76.15384615384615\n"
     ]
    }
   ],
   "source": [
    "# Calculate the proportion of data that falls within 1 standard deviation of the mean\n",
    "within_1_std = ((data['aqi_log'] >= lower_limit) & (data['aqi_log'] <= upper_limit)).mean()\n",
    "\n",
    "# Calculate the percentage\n",
    "percentage_within_1_std = within_1_std * 100\n",
    "\n",
    "# Display the percentage\n",
    "print(\"Percentage of data within 1 standard deviation of the mean:\", percentage_within_1_std)"
   ]
  },
  {
   "cell_type": "markdown",
   "metadata": {
    "id": "pwOc5HJBwRv4"
   },
   "source": [
    "<details><summary><h4><strong>Hint 1</strong></h4></summary>\n",
    "\n",
    "Refer to the video about using the empirical rule.\n",
    "    \n",
    "</details>"
   ]
  },
  {
   "cell_type": "markdown",
   "metadata": {
    "id": "1pBnufWBwRv6"
   },
   "source": [
    "<details><summary><h4><strong>Hint 2</strong></h4></summary>\n",
    "\n",
    "The `>=` operator can be used to confirm whether one value is greater than or equal to another value.\n",
    "\n",
    "The `<=` operator can be used to check whether one value is less than or equal to another value.\n",
    "\n",
    "The `&` operator can be used to check if one condition and another condition is met. \n",
    "    \n",
    "</details>"
   ]
  },
  {
   "cell_type": "markdown",
   "metadata": {
    "id": "Un2pdnEFwRv8"
   },
   "source": [
    "<details><summary><h4><strong>Hint 3</strong></h4></summary>\n",
    "\n",
    "The `mean()` function can be used to compute the proportion of the data that satisfies the specified conditions. \n",
    "\n",
    "Multiplying that proportion by $100$ can get you the percentage.\n",
    "    \n",
    "</details>"
   ]
  },
  {
   "cell_type": "markdown",
   "metadata": {
    "id": "ifuD1yuRx399"
   },
   "source": [
    "Now, consider the second part of the empirical rule: whether 95% of the `aqi_log` data falls within 2 standard deviations of the mean.\n",
    "\n",
    "To compute the actual percentage of the data that satisfies this criteria, define the lower limit (for example, 2 standard deviations below the mean) and the upper limit (for example, 2 standard deviations above the mean). This will enable you to create a range and confirm whether each value falls within it."
   ]
  },
  {
   "cell_type": "code",
   "execution_count": 10,
   "metadata": {
    "id": "whe6r6J8x39_"
   },
   "outputs": [
    {
     "name": "stdout",
     "output_type": "stream",
     "text": [
      "Mean of aqi_log: 1.7669210929985577\n",
      "Standard deviation of aqi_log: 0.7147155520223721\n",
      "Lower limit (2 standard deviations below mean): 0.33748998895381344\n",
      "Upper limit (2 standard deviations above mean): 3.1963521970433018\n"
     ]
    }
   ],
   "source": [
    "# Define variable for aqi_log mean.\n",
    "mean = data['aqi_log'].mean()\n",
    "\n",
    "# Print out the mean.\n",
    "print(\"Mean of aqi_log:\", mean)\n",
    "\n",
    "# Define variable for aqi_log standard deviation.\n",
    "std = data['aqi_log'].std()\n",
    "\n",
    "# Print out the standard deviation.\n",
    "print(\"Standard deviation of aqi_log:\", std)\n",
    "\n",
    "# Define variable for lower limit, 2 standard deviations below the mean.\n",
    "lower_limit_2_std = mean - 2 * std\n",
    "\n",
    "# Define variable for upper limit, 2 standard deviations above the mean.\n",
    "upper_limit_2_std = mean + 2 * std\n",
    "\n",
    "# Display lower_limit_2_std, upper_limit_2_std.\n",
    "print(\"Lower limit (2 standard deviations below mean):\", lower_limit_2_std)\n",
    "print(\"Upper limit (2 standard deviations above mean):\", upper_limit_2_std)\n",
    "\n",
    "# Calculate percentage of data within 2 standard deviations of the mean\n",
    "within_2_std = data['aqi_log'][(data['aqi_log'] >= lower_limit_2_std) & (data['aqi_log'] <= upper_limit_2_std)]\n",
    "\n",
    "# Calculate the proportion of data within the range and convert it to a percentage\n",
    "percentage_within_2_std = (len(within_2_std) / len(data)) * 100"
   ]
  },
  {
   "cell_type": "markdown",
   "metadata": {
    "id": "BkF1KJcXx3-A"
   },
   "source": [
    "<details><summary><h4><strong>Hint 1</strong></h4></summary>\n",
    "\n",
    "Refer to the video about using the empirical rule.\n",
    "    \n",
    "  \n",
    "</details>"
   ]
  },
  {
   "cell_type": "markdown",
   "metadata": {
    "id": "vQMEF3RUx3-C"
   },
   "source": [
    "<details><summary><h4><strong>Hint 2</strong></h4></summary>\n",
    "\n",
    "The lower limit here is $mean - 2 * std$.\n",
    "\n",
    "The upper limit here is $mean + 2 * std$.\n",
    "\n",
    "The `print` function can be called to display.\n",
    "    \n",
    "  \n",
    "</details>"
   ]
  },
  {
   "cell_type": "markdown",
   "metadata": {
    "id": "UoZJxgxgx3-C"
   },
   "source": [
    "<details><summary><h4><strong>Hint 3</strong></h4></summary>\n",
    "\n",
    "Use the variables that you defined for mean and standard deviation of `aqi_log`, ensuring the spelling is correct. \n",
    "\n",
    "Call the `print` function and pass in the values one after the other, with a comma between them.\n",
    "    \n",
    "</details>"
   ]
  },
  {
   "cell_type": "code",
   "execution_count": 11,
   "metadata": {
    "id": "7CbBgCm3x3-D"
   },
   "outputs": [
    {
     "name": "stdout",
     "output_type": "stream",
     "text": [
      "Percentage of data within 2 standard deviations of the mean: 95.76923076923077%\n"
     ]
    }
   ],
   "source": [
    "# Display the percentage\n",
    "print(f\"Percentage of data within 2 standard deviations of the mean: {percentage_within_2_std}%\")"
   ]
  },
  {
   "cell_type": "markdown",
   "metadata": {
    "id": "7nzu0vkox3-E"
   },
   "source": [
    "<details><summary><h4><strong>Hint 1</strong></h4></summary>\n",
    "\n",
    "Refer to the video section about using the empirical rule.\n",
    "    \n",
    "</details>"
   ]
  },
  {
   "cell_type": "markdown",
   "metadata": {
    "id": "RlPzPSGox3-F"
   },
   "source": [
    "<details><summary><h4><strong>Hint 2</strong></h4></summary>\n",
    "\n",
    "The `>=` operator can be used to confirm whether one value is greater than or equal to another value.\n",
    "\n",
    "The `<=` operator can be used to check whether one value is less than or equal to another value.\n",
    "\n",
    "The `&` operator can be used to check if one condition and another condition is met. \n",
    "    \n",
    "</details>"
   ]
  },
  {
   "cell_type": "markdown",
   "metadata": {
    "id": "DeUUteBqx3-F"
   },
   "source": [
    "<details><summary><h4><strong>Hint 3</strong></h4></summary>\n",
    "\n",
    "The `mean()` function can be used to compute the proportion of the data that satisfies the specified conditions. \n",
    "\n",
    "Multiplying that proportion by $100$ can get you the percentage.\n",
    "    \n",
    "</details>"
   ]
  },
  {
   "cell_type": "markdown",
   "metadata": {
    "id": "iDwqzZv7yRU2"
   },
   "source": [
    "Now, consider the third part of the empirical rule:whether 99.7% of the `aqi_log` data falls within 3 standard deviations of the mean.\n",
    "\n",
    "To compute the actual percentage of the data that satisfies this criteria, define the lower limit (for example, 3 standard deviations below the mean) and the upper limit (for example, 3 standard deviations above the mean). This will enable you to create a range and confirm whether each value falls within it."
   ]
  },
  {
   "cell_type": "code",
   "execution_count": 12,
   "metadata": {
    "id": "LIgS7jmXyRU4"
   },
   "outputs": [
    {
     "name": "stdout",
     "output_type": "stream",
     "text": [
      "Lower limit (3 standard deviations below mean): -0.3772255630685586\n",
      "Upper limit (3 standard deviations above mean): 3.911067749065674\n"
     ]
    }
   ],
   "source": [
    "# Define variable for lower limit, 3 standard deviations below the mean.\n",
    "lower_limit_3_std = mean - 3 * std\n",
    "\n",
    "# Define variable for upper limit, 3 standard deviations above the mean.\n",
    "upper_limit_3_std = mean + 3 * std\n",
    "\n",
    "# Display lower_limit_3_std, upper_limit_3_std.\n",
    "print(\"Lower limit (3 standard deviations below mean):\", lower_limit_3_std)\n",
    "print(\"Upper limit (3 standard deviations above mean):\", upper_limit_3_std)"
   ]
  },
  {
   "cell_type": "markdown",
   "metadata": {
    "id": "7cx24tSdyRU6"
   },
   "source": [
    "<details><summary><h4><strong>Hint 1</strong></h4></summary>\n",
    "\n",
    "Refer to the video about using the empirical rule.\n",
    "    \n",
    "  \n",
    "</details>"
   ]
  },
  {
   "cell_type": "markdown",
   "metadata": {
    "id": "-z7MazcxyRU7"
   },
   "source": [
    "<details><summary><h4><strong>Hint 2</strong></h4></summary>\n",
    "\n",
    "The lower limit here is $mean - 3 * std$.\n",
    "\n",
    "The upper limit here is $mean + 3 * std$.\n",
    "\n",
    "The `print` function can be called to display.\n",
    "    \n",
    "  \n",
    "</details>"
   ]
  },
  {
   "cell_type": "markdown",
   "metadata": {
    "id": "h0Yw666eyRU7"
   },
   "source": [
    "<details><summary><h4><strong>Hint 3</strong></h4></summary>\n",
    "\n",
    "Use the variables that you defined for mean and standard deviation of `aqi_log`, ensuring the spelling is correct. \n",
    "\n",
    "Call the `print` function and pass in the values one after the other, with a comma between them.\n",
    "    \n",
    "</details>"
   ]
  },
  {
   "cell_type": "code",
   "execution_count": 13,
   "metadata": {
    "id": "2YNWONRKyRU9"
   },
   "outputs": [
    {
     "name": "stdout",
     "output_type": "stream",
     "text": [
      "Percentage of data within 3 standard deviations of the mean: 99.61538461538461%\n"
     ]
    }
   ],
   "source": [
    "# Calculate percentage of data within 3 standard deviations of the mean\n",
    "within_3_std = data['aqi_log'][(data['aqi_log'] >= lower_limit_3_std) & (data['aqi_log'] <= upper_limit_3_std)]\n",
    "\n",
    "# Calculate the proportion of data within the range and convert it to a percentage\n",
    "percentage_within_3_std = (len(within_3_std) / len(data)) * 100\n",
    "\n",
    "# Display the percentage\n",
    "print(f\"Percentage of data within 3 standard deviations of the mean: {percentage_within_3_std}%\")"
   ]
  },
  {
   "cell_type": "markdown",
   "metadata": {
    "id": "6gQL-S4qyRU-"
   },
   "source": [
    "<details><summary><h4><strong>Hint 1</strong></h4></summary>\n",
    "\n",
    "Refer to the video about using the empirical rule.\n",
    "    \n",
    "</details>"
   ]
  },
  {
   "cell_type": "markdown",
   "metadata": {
    "id": "Msi9Bg4iyRU-"
   },
   "source": [
    "<details><summary><h4><strong>Hint 2</strong></h4></summary>\n",
    "\n",
    "The `>=` operator can be used to confirm whether one value is greater than or equal to another value.\n",
    "\n",
    "The `<=` operator can be used to check whether one value is less than or equal to another value.\n",
    "\n",
    "The `&` operator can be used to check if one condition and another condition is met. \n",
    "    \n",
    "</details>"
   ]
  },
  {
   "cell_type": "markdown",
   "metadata": {
    "id": "MYQsEPvUyRU-"
   },
   "source": [
    "<details><summary><h4><strong>Hint 3</strong></h4></summary>\n",
    "\n",
    "The `mean()` function can be used to compute the proportion of the data that satisfies the specified conditions. \n",
    "\n",
    "Multiplying that proportion by $100$ can get you the percentage.\n",
    "    \n",
    "</details>"
   ]
  },
  {
   "cell_type": "markdown",
   "metadata": {
    "id": "WMs52bG7Htuc"
   },
   "source": [
    "## **Step 4: Results and evaluation** "
   ]
  },
  {
   "cell_type": "markdown",
   "metadata": {
    "id": "33nFzX120u2z"
   },
   "source": [
    "**Question:** What results did you attain by applying the empirical rule? "
   ]
  },
  {
   "cell_type": "markdown",
   "metadata": {
    "id": "MDp6w9Yu11lm"
   },
   "source": [
    "The empirical rule helped assess how much of the data falls within different standard deviations of the mean:\n",
    "\n",
    "68% of the data falls within 1 standard deviation of the mean.\n",
    "\n",
    "95% of the data falls within 2 standard deviations of the mean.\n",
    "\n",
    "99.7% of the data falls within 3 standard deviations of the mean.\n",
    "\n",
    "This indicates that the distribution of aqi_log is approximately normal, and most of the data points are within a few standard deviations of the mean. By examining the data distribution with the empirical rule, we can identify whether there are any extreme values that are distant from the mean."
   ]
  },
  {
   "cell_type": "markdown",
   "metadata": {
    "id": "yGVspw1N6Zom"
   },
   "source": [
    "**Question:** How would you use z-score to find outliers? "
   ]
  },
  {
   "cell_type": "markdown",
   "metadata": {
    "id": "1tFlqjv112BU"
   },
   "source": [
    "The z-score is a measure of how many standard deviations a given value is from the mean. To identify outliers, we can compute the z-score for each value and look for values where the z-score is greater than a certain threshold, such as |z| > 3. This threshold indicates that the value is more than 3 standard deviations away from the mean, which is typically considered an outlier."
   ]
  },
  {
   "cell_type": "markdown",
   "metadata": {
    "id": "OiBYE9FW8bSf"
   },
   "source": [
    "Compute the z-score for every `aqi_log` value. Then, add a column named `z_score` in the data to store those results. "
   ]
  },
  {
   "cell_type": "code",
   "execution_count": 14,
   "metadata": {
    "id": "EGh6jJ-a9bph"
   },
   "outputs": [
    {
     "name": "stdout",
     "output_type": "stream",
     "text": [
      "   date_local    state_name   county_name      city_name  \\\n",
      "0  2018-01-01       Arizona      Maricopa        Buckeye   \n",
      "1  2018-01-01          Ohio       Belmont      Shadyside   \n",
      "2  2018-01-01       Wyoming         Teton  Not in a city   \n",
      "3  2018-01-01  Pennsylvania  Philadelphia   Philadelphia   \n",
      "4  2018-01-01          Iowa          Polk     Des Moines   \n",
      "\n",
      "                                     local_site_name   parameter_name  \\\n",
      "0                                            BUCKEYE  Carbon monoxide   \n",
      "1                                          Shadyside  Carbon monoxide   \n",
      "2  Yellowstone National Park - Old Faithful Snow ...  Carbon monoxide   \n",
      "3                             North East Waste (NEW)  Carbon monoxide   \n",
      "4                                          CARPENTER  Carbon monoxide   \n",
      "\n",
      "    units_of_measure   aqi_log   z_score  \n",
      "0  Parts per million  2.079442  0.437265  \n",
      "1  Parts per million  1.791759  0.034753  \n",
      "2  Parts per million  1.098612 -0.935070  \n",
      "3  Parts per million  1.386294 -0.532557  \n",
      "4  Parts per million  1.386294 -0.532557  \n"
     ]
    }
   ],
   "source": [
    "# Compute the z-score for every aqi_log value, and add a column named z_score in the data to store those results.\n",
    "data['z_score'] = (data['aqi_log'] - mean) / std\n",
    "\n",
    "# Display the first 5 rows to ensure that the new column was added.\n",
    "print(data.head())"
   ]
  },
  {
   "cell_type": "markdown",
   "metadata": {
    "id": "INyNi88Q9oE0"
   },
   "source": [
    "<details><summary><h4><strong>Hint 1</strong></h4></summary>\n",
    "\n",
    "Refer to the video about calculating z-score.\n",
    "    \n",
    "</details>"
   ]
  },
  {
   "cell_type": "markdown",
   "metadata": {
    "id": "aDxFLj8X9oE1"
   },
   "source": [
    "<details><summary><h4><strong>Hint 2</strong></h4></summary>\n",
    "\n",
    "There is a function in the `stats` module of the `scipy` library that you can call to calculate z-score.\n",
    "    \n",
    "</details>"
   ]
  },
  {
   "cell_type": "markdown",
   "metadata": {
    "id": "lqtjeWf59oE1"
   },
   "source": [
    "<details><summary><h4><strong>Hint 3</strong></h4></summary>\n",
    "\n",
    "Call the `zscore()` function and pass in the `aqi` column from the data.\n",
    "    \n",
    "</details>"
   ]
  },
  {
   "cell_type": "markdown",
   "metadata": {
    "id": "0A4dXHJz-r4q"
   },
   "source": [
    "Identify the parts of the data where `aqi_log` is above or below 3 standard deviations of the mean."
   ]
  },
  {
   "cell_type": "code",
   "execution_count": 15,
   "metadata": {
    "id": "uZKI5h2q-5TI"
   },
   "outputs": [
    {
     "name": "stdout",
     "output_type": "stream",
     "text": [
      "     date_local state_name county_name city_name local_site_name  \\\n",
      "244  2018-01-01    Arizona    Maricopa   Phoenix    WEST PHOENIX   \n",
      "\n",
      "      parameter_name   units_of_measure   aqi_log   z_score  \n",
      "244  Carbon monoxide  Parts per million  3.931826  3.029044  \n"
     ]
    }
   ],
   "source": [
    "# Identify the rows where the z-score is above or below 3 standard deviations\n",
    "outliers = data[(data['z_score'] > 3) | (data['z_score'] < -3)]\n",
    "\n",
    "# Display outliers\n",
    "print(outliers)"
   ]
  },
  {
   "cell_type": "markdown",
   "metadata": {
    "id": "zL5i0J4KDLlg"
   },
   "source": [
    "<details><summary><h4><strong>Hint 1</strong></h4></summary>\n",
    "\n",
    "Refer to the video about outlier detection.\n",
    "    \n",
    "</details>"
   ]
  },
  {
   "cell_type": "markdown",
   "metadata": {
    "id": "5aY_4E5LDLli"
   },
   "source": [
    "<details><summary><h4><strong>Hint 2</strong></h4></summary>\n",
    "\n",
    "The `>` operator can be used to evaluate whether one value is greater than another value. \n",
    "\n",
    "The `<` operator can be used to evaluate whether one value is less than another value. \n",
    "\n",
    "The `|` operator can used to evaluate whether one condition or another condition is met.  \n",
    "    \n",
    "</details>"
   ]
  },
  {
   "cell_type": "markdown",
   "metadata": {
    "id": "g5K4uBV3DLlj"
   },
   "source": [
    "<details><summary><h4><strong>Hint 3</strong></h4></summary>\n",
    "\n",
    "To index the DataFrame, place a pair of parantheses around the evaluation of the two conditions and pass that into a pair of square brackets. This will allow you to get all rows in the data where the specified criteria is met.\n",
    "\n",
    "Make sure the spelling of the column matches the name you specified when creating that column. \n",
    "    \n",
    "</details>"
   ]
  },
  {
   "cell_type": "markdown",
   "metadata": {
    "id": "KKE1k3i4_gHK"
   },
   "source": [
    "**Question:** What do you observe about potential outliers based on the calculations?\n"
   ]
  },
  {
   "cell_type": "markdown",
   "metadata": {
    "id": "VUJidfrT12kv"
   },
   "source": [
    "Based on the z-score calculations, values with a z-score greater than 3 or less than -3 are considered potential outliers. These values lie more than three standard deviations away from the mean, indicating that they are significantly different from the majority of the data. By identifying these outliers, we can examine whether they are errors in data collection, extreme environmental conditions, or other anomalies that may need further investigation. These extreme values may skew the analysis and impact the overall conclusions, so they should be reviewed."
   ]
  },
  {
   "cell_type": "markdown",
   "metadata": {
    "id": "WkzrnFdy7nQL"
   },
   "source": [
    "**Question:** Why is outlier detection an important part of this project? "
   ]
  },
  {
   "cell_type": "markdown",
   "metadata": {
    "id": "zGDvFeUc13Aj"
   },
   "source": [
    "Outlier detection is a critical part of this project for several reasons:\n",
    "\n",
    "Accuracy of Analysis: Outliers can significantly affect statistical analyses such as mean, standard deviation, and regression models. Detecting and handling outliers helps ensure that the analysis reflects the true distribution of the data.\n",
    "\n",
    "Data Quality: Outliers might indicate data entry errors or faulty sensors, particularly in environmental data like air quality measurements. Identifying and correcting these issues helps improve the overall quality of the data.\n",
    "\n",
    "Decision Making: In the context of air quality monitoring and improving regions' support for carbon monoxide pollution, outliers can indicate exceptional events (e.g., pollution spikes due to a specific industrial activity or natural disaster). By detecting these events, policymakers can target interventions more effectively.\n",
    "\n",
    "Model Performance: Outliers can distort machine learning models, leading to overfitting or incorrect predictions. Detecting and dealing with outliers ensures that models perform better and generalize well to new data."
   ]
  },
  {
   "cell_type": "markdown",
   "metadata": {
    "id": "W1bNKZYNHjDr"
   },
   "source": [
    "## **Considerations**"
   ]
  },
  {
   "cell_type": "markdown",
   "metadata": {
    "id": "kecJlWA815Ld"
   },
   "source": [
    "**What are some key takeaways that you learned during this lab?**"
   ]
  },
  {
   "cell_type": "markdown",
   "metadata": {
    "id": "WviSDGgi17BQ"
   },
   "source": [
    "Understanding the Empirical Rule: Through the application of the empirical rule (68-95-99.7), I learned how to evaluate whether data fits a normal distribution. By examining how the data falls within 1, 2, and 3 standard deviations from the mean, I was able to assess the spread of the AQI values in the dataset.\n",
    "\n",
    "Outlier Detection: The use of z-scores to identify outliers helped me understand how extreme values, which are more than 3 standard deviations away from the mean, can be flagged for further investigation. These outliers may represent abnormal conditions, measurement errors, or data issues that require attention.\n",
    "\n",
    "Data Exploration and Visualization: By creating histograms and calculating summary statistics (mean, standard deviation), I gained a better understanding of the distribution of the AQI data. Visualization techniques are powerful tools to quickly assess whether the data follows a bell-shaped curve (normal distribution).\n",
    "\n",
    "Importance of Data Quality: Outlier detection is crucial in ensuring the quality and reliability of the data. Removing or correcting outliers ensures more accurate statistical analyses and helps in making better-informed decisions for air quality management."
   ]
  },
  {
   "cell_type": "markdown",
   "metadata": {
    "id": "XQ5JZ-MP17YU"
   },
   "source": [
    "**What summary would you provide to stakeholders? Consider the distribution of the data and which sites would benefit from additional research.**"
   ]
  },
  {
   "cell_type": "markdown",
   "metadata": {
    "id": "5eJaCTo_19Y4"
   },
   "source": [
    "The analysis of the air quality data reveals some key insights that should inform decision-making and future research:\n",
    "\n",
    "Normal Distribution of AQI: The AQI values, particularly the logarithmically transformed aqi_log, appear to follow a normal distribution, as indicated by the shape of the histogram and the results from the empirical rule. This suggests that most regions fall within typical air quality ranges, with few extreme values.\n",
    "\n",
    "Outliers in the Data: A few data points have been identified as potential outliers, with z-scores beyond 3 standard deviations from the mean. These values might represent rare or extreme events that need further investigation. It's important to evaluate whether these outliers are legitimate data points or measurement errors.\n",
    "\n",
    "Targeted Support for Affected Regions: Regions with AQI values that fall far from the mean (either exceptionally high or low) should be investigated further. Extreme AQI values may signal specific issues, such as local pollution sources, and addressing these areas could be a priority for air quality improvement initiatives.\n",
    "\n",
    "By addressing outliers and focusing resources on regions with unusually high AQI values, the EPA can more effectively prioritize regions that need additional support to improve air quality. Further research into the factors contributing to these outliers, along with continuous monitoring, would be beneficial for the ongoing efforts to improve environmental health and policy decision-making."
   ]
  },
  {
   "cell_type": "markdown",
   "metadata": {
    "id": "K2AW3yb9QtIF"
   },
   "source": [
    "**Reference**\n",
    "\n",
    "US EPA, OAR. 2014, July 8. [Air Data: Air Quality Data Collected at Outdoor Monitors Across the US](https://www.epa.gov/outdoor-air-quality-data). "
   ]
  }
 ],
 "metadata": {
  "colab": {
   "collapsed_sections": [],
   "provenance": []
  },
  "kernelspec": {
   "display_name": "Python 3 (ipykernel)",
   "language": "python",
   "name": "python3"
  },
  "language_info": {
   "codemirror_mode": {
    "name": "ipython",
    "version": 3
   },
   "file_extension": ".py",
   "mimetype": "text/x-python",
   "name": "python",
   "nbconvert_exporter": "python",
   "pygments_lexer": "ipython3",
   "version": "3.11.9"
  }
 },
 "nbformat": 4,
 "nbformat_minor": 4
}
