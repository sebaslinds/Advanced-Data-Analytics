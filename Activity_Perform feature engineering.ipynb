{
 "cells": [
  {
   "cell_type": "markdown",
   "metadata": {
    "id": "yugMU9MjJtBl"
   },
   "source": [
    "# Activity: Perform feature engineering "
   ]
  },
  {
   "cell_type": "markdown",
   "metadata": {
    "id": "EzWqJunmJotv"
   },
   "source": [
    "## **Introduction**\n",
    "\n",
    "\n",
    "As you're learning, data professionals working on modeling projects use featuring engineering to help them determine which attributes in the data can best predict certain measures.\n",
    "\n",
    "In this activity, you are working for a firm that provides insights to the National Basketball Association (NBA), a professional North American basketball league. You will help NBA managers and coaches identify which players are most likely to thrive in the high-pressure environment of professional basketball and help the team be successful over time.\n",
    "\n",
    "To do this, you will analyze a subset of data that contains information about NBA players and their performance records. You will conduct feature engineering to determine which features will most effectively predict whether a player's NBA career will last at least five years. The insights gained then will be used in the next stage of the project: building the predictive model.\n"
   ]
  },
  {
   "cell_type": "markdown",
   "metadata": {
    "id": "yTVinL1hJqoy"
   },
   "source": [
    "## **Step 1: Imports** \n"
   ]
  },
  {
   "cell_type": "markdown",
   "metadata": {},
   "source": [
    "Start by importing `pandas`."
   ]
  },
  {
   "cell_type": "code",
   "execution_count": 1,
   "metadata": {
    "id": "1nDjAJPa4lVZ"
   },
   "outputs": [],
   "source": [
    "# Import pandas\n",
    "import pandas as pd"
   ]
  },
  {
   "cell_type": "markdown",
   "metadata": {
    "id": "hKylHziGzY3X"
   },
   "source": [
    "The dataset is a .csv file named `nba-players.csv`. It consists of performance records for a subset of NBA players. As shown in this cell, the dataset has been automatically loaded in for you. You do not need to download the .csv file, or provide more code, in order to access the dataset and proceed with this lab. Please continue with this activity by completing the following instructions."
   ]
  },
  {
   "cell_type": "code",
   "execution_count": 2,
   "metadata": {
    "id": "4ebqpNcm4BDH"
   },
   "outputs": [],
   "source": [
    "# RUN THIS CELL TO IMPORT YOUR DATA.\n",
    "\n",
    "# Save in a variable named `data`.\n",
    "\n",
    "### YOUR CODE HERE ###\n",
    "\n",
    "data = pd.read_csv(\"nba-players.csv\", index_col=0)"
   ]
  },
  {
   "cell_type": "markdown",
   "metadata": {
    "id": "L41MRy4Yzrjp"
   },
   "source": [
    "<details><summary><h4><strong>Hint 1</strong></h4></summary>\n",
    "\n",
    "The `read_csv()` function from `pandas` allows you to read in data from a csv file and load it into a DataFrame.\n",
    "    \n",
    "</details>"
   ]
  },
  {
   "cell_type": "markdown",
   "metadata": {
    "id": "tZeUaTZQqCEH"
   },
   "source": [
    "<details><summary><h4><strong>Hint 2</strong></h4></summary>\n",
    "\n",
    "Call the `read_csv()`, pass in the name of the csv file as a string, followed by `index_col=0` to use the first column from the csv as the index in the DataFrame.\n",
    "    \n",
    "</details>"
   ]
  },
  {
   "cell_type": "markdown",
   "metadata": {
    "id": "4zz8claq0Swi"
   },
   "source": [
    "## **Step 2: Data exploration** "
   ]
  },
  {
   "cell_type": "markdown",
   "metadata": {
    "id": "8kgPx_MP0cuc"
   },
   "source": [
    "Display the first 10 rows of the data to get a sense of what it entails."
   ]
  },
  {
   "cell_type": "code",
   "execution_count": 3,
   "metadata": {
    "id": "0_U0Rb-x4h77"
   },
   "outputs": [
    {
     "data": {
      "text/html": [
       "<div>\n",
       "<style scoped>\n",
       "    .dataframe tbody tr th:only-of-type {\n",
       "        vertical-align: middle;\n",
       "    }\n",
       "\n",
       "    .dataframe tbody tr th {\n",
       "        vertical-align: top;\n",
       "    }\n",
       "\n",
       "    .dataframe thead th {\n",
       "        text-align: right;\n",
       "    }\n",
       "</style>\n",
       "<table border=\"1\" class=\"dataframe\">\n",
       "  <thead>\n",
       "    <tr style=\"text-align: right;\">\n",
       "      <th></th>\n",
       "      <th>name</th>\n",
       "      <th>gp</th>\n",
       "      <th>min</th>\n",
       "      <th>pts</th>\n",
       "      <th>fgm</th>\n",
       "      <th>fga</th>\n",
       "      <th>fg</th>\n",
       "      <th>3p_made</th>\n",
       "      <th>3pa</th>\n",
       "      <th>3p</th>\n",
       "      <th>...</th>\n",
       "      <th>fta</th>\n",
       "      <th>ft</th>\n",
       "      <th>oreb</th>\n",
       "      <th>dreb</th>\n",
       "      <th>reb</th>\n",
       "      <th>ast</th>\n",
       "      <th>stl</th>\n",
       "      <th>blk</th>\n",
       "      <th>tov</th>\n",
       "      <th>target_5yrs</th>\n",
       "    </tr>\n",
       "  </thead>\n",
       "  <tbody>\n",
       "    <tr>\n",
       "      <th>0</th>\n",
       "      <td>Brandon Ingram</td>\n",
       "      <td>36</td>\n",
       "      <td>27.4</td>\n",
       "      <td>7.4</td>\n",
       "      <td>2.6</td>\n",
       "      <td>7.6</td>\n",
       "      <td>34.7</td>\n",
       "      <td>0.5</td>\n",
       "      <td>2.1</td>\n",
       "      <td>25.0</td>\n",
       "      <td>...</td>\n",
       "      <td>2.3</td>\n",
       "      <td>69.9</td>\n",
       "      <td>0.7</td>\n",
       "      <td>3.4</td>\n",
       "      <td>4.1</td>\n",
       "      <td>1.9</td>\n",
       "      <td>0.4</td>\n",
       "      <td>0.4</td>\n",
       "      <td>1.3</td>\n",
       "      <td>0</td>\n",
       "    </tr>\n",
       "    <tr>\n",
       "      <th>1</th>\n",
       "      <td>Andrew Harrison</td>\n",
       "      <td>35</td>\n",
       "      <td>26.9</td>\n",
       "      <td>7.2</td>\n",
       "      <td>2.0</td>\n",
       "      <td>6.7</td>\n",
       "      <td>29.6</td>\n",
       "      <td>0.7</td>\n",
       "      <td>2.8</td>\n",
       "      <td>23.5</td>\n",
       "      <td>...</td>\n",
       "      <td>3.4</td>\n",
       "      <td>76.5</td>\n",
       "      <td>0.5</td>\n",
       "      <td>2.0</td>\n",
       "      <td>2.4</td>\n",
       "      <td>3.7</td>\n",
       "      <td>1.1</td>\n",
       "      <td>0.5</td>\n",
       "      <td>1.6</td>\n",
       "      <td>0</td>\n",
       "    </tr>\n",
       "    <tr>\n",
       "      <th>2</th>\n",
       "      <td>JaKarr Sampson</td>\n",
       "      <td>74</td>\n",
       "      <td>15.3</td>\n",
       "      <td>5.2</td>\n",
       "      <td>2.0</td>\n",
       "      <td>4.7</td>\n",
       "      <td>42.2</td>\n",
       "      <td>0.4</td>\n",
       "      <td>1.7</td>\n",
       "      <td>24.4</td>\n",
       "      <td>...</td>\n",
       "      <td>1.3</td>\n",
       "      <td>67.0</td>\n",
       "      <td>0.5</td>\n",
       "      <td>1.7</td>\n",
       "      <td>2.2</td>\n",
       "      <td>1.0</td>\n",
       "      <td>0.5</td>\n",
       "      <td>0.3</td>\n",
       "      <td>1.0</td>\n",
       "      <td>0</td>\n",
       "    </tr>\n",
       "    <tr>\n",
       "      <th>3</th>\n",
       "      <td>Malik Sealy</td>\n",
       "      <td>58</td>\n",
       "      <td>11.6</td>\n",
       "      <td>5.7</td>\n",
       "      <td>2.3</td>\n",
       "      <td>5.5</td>\n",
       "      <td>42.6</td>\n",
       "      <td>0.1</td>\n",
       "      <td>0.5</td>\n",
       "      <td>22.6</td>\n",
       "      <td>...</td>\n",
       "      <td>1.3</td>\n",
       "      <td>68.9</td>\n",
       "      <td>1.0</td>\n",
       "      <td>0.9</td>\n",
       "      <td>1.9</td>\n",
       "      <td>0.8</td>\n",
       "      <td>0.6</td>\n",
       "      <td>0.1</td>\n",
       "      <td>1.0</td>\n",
       "      <td>1</td>\n",
       "    </tr>\n",
       "    <tr>\n",
       "      <th>4</th>\n",
       "      <td>Matt Geiger</td>\n",
       "      <td>48</td>\n",
       "      <td>11.5</td>\n",
       "      <td>4.5</td>\n",
       "      <td>1.6</td>\n",
       "      <td>3.0</td>\n",
       "      <td>52.4</td>\n",
       "      <td>0.0</td>\n",
       "      <td>0.1</td>\n",
       "      <td>0.0</td>\n",
       "      <td>...</td>\n",
       "      <td>1.9</td>\n",
       "      <td>67.4</td>\n",
       "      <td>1.0</td>\n",
       "      <td>1.5</td>\n",
       "      <td>2.5</td>\n",
       "      <td>0.3</td>\n",
       "      <td>0.3</td>\n",
       "      <td>0.4</td>\n",
       "      <td>0.8</td>\n",
       "      <td>1</td>\n",
       "    </tr>\n",
       "    <tr>\n",
       "      <th>5</th>\n",
       "      <td>Tony Bennett</td>\n",
       "      <td>75</td>\n",
       "      <td>11.4</td>\n",
       "      <td>3.7</td>\n",
       "      <td>1.5</td>\n",
       "      <td>3.5</td>\n",
       "      <td>42.3</td>\n",
       "      <td>0.3</td>\n",
       "      <td>1.1</td>\n",
       "      <td>32.5</td>\n",
       "      <td>...</td>\n",
       "      <td>0.5</td>\n",
       "      <td>73.2</td>\n",
       "      <td>0.2</td>\n",
       "      <td>0.7</td>\n",
       "      <td>0.8</td>\n",
       "      <td>1.8</td>\n",
       "      <td>0.4</td>\n",
       "      <td>0.0</td>\n",
       "      <td>0.7</td>\n",
       "      <td>0</td>\n",
       "    </tr>\n",
       "    <tr>\n",
       "      <th>6</th>\n",
       "      <td>Don MacLean</td>\n",
       "      <td>62</td>\n",
       "      <td>10.9</td>\n",
       "      <td>6.6</td>\n",
       "      <td>2.5</td>\n",
       "      <td>5.8</td>\n",
       "      <td>43.5</td>\n",
       "      <td>0.0</td>\n",
       "      <td>0.1</td>\n",
       "      <td>50.0</td>\n",
       "      <td>...</td>\n",
       "      <td>1.8</td>\n",
       "      <td>81.1</td>\n",
       "      <td>0.5</td>\n",
       "      <td>1.4</td>\n",
       "      <td>2.0</td>\n",
       "      <td>0.6</td>\n",
       "      <td>0.2</td>\n",
       "      <td>0.1</td>\n",
       "      <td>0.7</td>\n",
       "      <td>1</td>\n",
       "    </tr>\n",
       "    <tr>\n",
       "      <th>7</th>\n",
       "      <td>Tracy Murray</td>\n",
       "      <td>48</td>\n",
       "      <td>10.3</td>\n",
       "      <td>5.7</td>\n",
       "      <td>2.3</td>\n",
       "      <td>5.4</td>\n",
       "      <td>41.5</td>\n",
       "      <td>0.4</td>\n",
       "      <td>1.5</td>\n",
       "      <td>30.0</td>\n",
       "      <td>...</td>\n",
       "      <td>0.8</td>\n",
       "      <td>87.5</td>\n",
       "      <td>0.8</td>\n",
       "      <td>0.9</td>\n",
       "      <td>1.7</td>\n",
       "      <td>0.2</td>\n",
       "      <td>0.2</td>\n",
       "      <td>0.1</td>\n",
       "      <td>0.7</td>\n",
       "      <td>1</td>\n",
       "    </tr>\n",
       "    <tr>\n",
       "      <th>8</th>\n",
       "      <td>Duane Cooper</td>\n",
       "      <td>65</td>\n",
       "      <td>9.9</td>\n",
       "      <td>2.4</td>\n",
       "      <td>1.0</td>\n",
       "      <td>2.4</td>\n",
       "      <td>39.2</td>\n",
       "      <td>0.1</td>\n",
       "      <td>0.5</td>\n",
       "      <td>23.3</td>\n",
       "      <td>...</td>\n",
       "      <td>0.5</td>\n",
       "      <td>71.4</td>\n",
       "      <td>0.2</td>\n",
       "      <td>0.6</td>\n",
       "      <td>0.8</td>\n",
       "      <td>2.3</td>\n",
       "      <td>0.3</td>\n",
       "      <td>0.0</td>\n",
       "      <td>1.1</td>\n",
       "      <td>0</td>\n",
       "    </tr>\n",
       "    <tr>\n",
       "      <th>9</th>\n",
       "      <td>Dave Johnson</td>\n",
       "      <td>42</td>\n",
       "      <td>8.5</td>\n",
       "      <td>3.7</td>\n",
       "      <td>1.4</td>\n",
       "      <td>3.5</td>\n",
       "      <td>38.3</td>\n",
       "      <td>0.1</td>\n",
       "      <td>0.3</td>\n",
       "      <td>21.4</td>\n",
       "      <td>...</td>\n",
       "      <td>1.4</td>\n",
       "      <td>67.8</td>\n",
       "      <td>0.4</td>\n",
       "      <td>0.7</td>\n",
       "      <td>1.1</td>\n",
       "      <td>0.3</td>\n",
       "      <td>0.2</td>\n",
       "      <td>0.0</td>\n",
       "      <td>0.7</td>\n",
       "      <td>0</td>\n",
       "    </tr>\n",
       "  </tbody>\n",
       "</table>\n",
       "<p>10 rows × 21 columns</p>\n",
       "</div>"
      ],
      "text/plain": [
       "              name  gp   min  pts  fgm  fga    fg  3p_made  3pa    3p  ...  \\\n",
       "0   Brandon Ingram  36  27.4  7.4  2.6  7.6  34.7      0.5  2.1  25.0  ...   \n",
       "1  Andrew Harrison  35  26.9  7.2  2.0  6.7  29.6      0.7  2.8  23.5  ...   \n",
       "2   JaKarr Sampson  74  15.3  5.2  2.0  4.7  42.2      0.4  1.7  24.4  ...   \n",
       "3      Malik Sealy  58  11.6  5.7  2.3  5.5  42.6      0.1  0.5  22.6  ...   \n",
       "4      Matt Geiger  48  11.5  4.5  1.6  3.0  52.4      0.0  0.1   0.0  ...   \n",
       "5     Tony Bennett  75  11.4  3.7  1.5  3.5  42.3      0.3  1.1  32.5  ...   \n",
       "6      Don MacLean  62  10.9  6.6  2.5  5.8  43.5      0.0  0.1  50.0  ...   \n",
       "7     Tracy Murray  48  10.3  5.7  2.3  5.4  41.5      0.4  1.5  30.0  ...   \n",
       "8     Duane Cooper  65   9.9  2.4  1.0  2.4  39.2      0.1  0.5  23.3  ...   \n",
       "9     Dave Johnson  42   8.5  3.7  1.4  3.5  38.3      0.1  0.3  21.4  ...   \n",
       "\n",
       "   fta    ft  oreb  dreb  reb  ast  stl  blk  tov  target_5yrs  \n",
       "0  2.3  69.9   0.7   3.4  4.1  1.9  0.4  0.4  1.3            0  \n",
       "1  3.4  76.5   0.5   2.0  2.4  3.7  1.1  0.5  1.6            0  \n",
       "2  1.3  67.0   0.5   1.7  2.2  1.0  0.5  0.3  1.0            0  \n",
       "3  1.3  68.9   1.0   0.9  1.9  0.8  0.6  0.1  1.0            1  \n",
       "4  1.9  67.4   1.0   1.5  2.5  0.3  0.3  0.4  0.8            1  \n",
       "5  0.5  73.2   0.2   0.7  0.8  1.8  0.4  0.0  0.7            0  \n",
       "6  1.8  81.1   0.5   1.4  2.0  0.6  0.2  0.1  0.7            1  \n",
       "7  0.8  87.5   0.8   0.9  1.7  0.2  0.2  0.1  0.7            1  \n",
       "8  0.5  71.4   0.2   0.6  0.8  2.3  0.3  0.0  1.1            0  \n",
       "9  1.4  67.8   0.4   0.7  1.1  0.3  0.2  0.0  0.7            0  \n",
       "\n",
       "[10 rows x 21 columns]"
      ]
     },
     "execution_count": 3,
     "metadata": {},
     "output_type": "execute_result"
    }
   ],
   "source": [
    "# Display first 10 rows of data\n",
    "data.head(10)"
   ]
  },
  {
   "cell_type": "markdown",
   "metadata": {
    "id": "pUmzKZUU2mKp"
   },
   "source": [
    "<details>\n",
    "<summary><h4><strong>Hint 1</strong></h4></summary>\n",
    "\n",
    "There is a function in the `pandas` library that can be called on a DataFrame to display the first n number of rows, where n is a number of your choice. \n",
    "</details>"
   ]
  },
  {
   "cell_type": "markdown",
   "metadata": {
    "id": "ORy1MNR62mKq"
   },
   "source": [
    "<details>\n",
    "<summary><h4><strong>Hint 2</strong></h4></summary>\n",
    "\n",
    "Call the `head()` function and pass in 10.\n",
    "</details>"
   ]
  },
  {
   "cell_type": "markdown",
   "metadata": {
    "id": "Gjasizab0tSL"
   },
   "source": [
    "Display the number of rows and the number of columns to get a sense of how much data is available to you."
   ]
  },
  {
   "cell_type": "code",
   "execution_count": 4,
   "metadata": {
    "id": "xtxpSjCm4jCa"
   },
   "outputs": [
    {
     "data": {
      "text/plain": [
       "(1340, 21)"
      ]
     },
     "execution_count": 4,
     "metadata": {},
     "output_type": "execute_result"
    }
   ],
   "source": [
    "# Display number of rows and number of columns\n",
    "data.shape"
   ]
  },
  {
   "cell_type": "markdown",
   "metadata": {
    "id": "dx8DO1Rw2ZBZ"
   },
   "source": [
    "<details>\n",
    "<summary><h4><strong>Hint 1</strong></h4></summary>\n",
    "\n",
    "DataFrames in `pandas` have an attribute that can be called to get the number of rows and columns as a tuple.\n",
    "</details>"
   ]
  },
  {
   "cell_type": "markdown",
   "metadata": {
    "id": "G9pDSxlG2di1"
   },
   "source": [
    "<details>\n",
    "<summary><h4><strong>Hint 2</strong></h4></summary>\n",
    "\n",
    "You can call the `shape` attribute.\n",
    "</details>"
   ]
  },
  {
   "cell_type": "markdown",
   "metadata": {
    "id": "zZndsnPq1UyL"
   },
   "source": [
    "**Question:** What do you observe about the number of rows and the number of columns in the data?"
   ]
  },
  {
   "cell_type": "markdown",
   "metadata": {
    "id": "PyElw2KWziLs"
   },
   "source": [
    " [Write your response here. Double-click (or enter) to edit.]"
   ]
  },
  {
   "cell_type": "markdown",
   "metadata": {
    "id": "27OsOXsfVPC7"
   },
   "source": [
    "Now, display all column names to get a sense of the kinds of metadata available about each player. Use the columns property in pandas.\n"
   ]
  },
  {
   "cell_type": "code",
   "execution_count": 5,
   "metadata": {
    "id": "3q9zjB-s1SZt"
   },
   "outputs": [
    {
     "data": {
      "text/plain": [
       "Index(['name', 'gp', 'min', 'pts', 'fgm', 'fga', 'fg', '3p_made', '3pa', '3p',\n",
       "       'ftm', 'fta', 'ft', 'oreb', 'dreb', 'reb', 'ast', 'stl', 'blk', 'tov',\n",
       "       'target_5yrs'],\n",
       "      dtype='object')"
      ]
     },
     "execution_count": 5,
     "metadata": {},
     "output_type": "execute_result"
    }
   ],
   "source": [
    "# Display all column names\n",
    "data.columns"
   ]
  },
  {
   "cell_type": "markdown",
   "metadata": {
    "id": "bxS9GyWmjwa-"
   },
   "source": [
    "The following table provides a description of the data in each column. This metadata comes from the data source, which is listed in the references section of this lab.\n",
    "\n",
    "<center>\n",
    "\n",
    "|Column Name|Column Description|\n",
    "|:---|:-------|\n",
    "|`name`|Name of NBA player|\n",
    "|`gp`|Number of games played|\n",
    "|`min`|Number of minutes played per game|\n",
    "|`pts`|Average number of points per game|\n",
    "|`fgm`|Average number of field goals made per game|\n",
    "|`fga`|Average number of field goal attempts per game|\n",
    "|`fg`|Average percent of field goals made per game|\n",
    "|`3p_made`|Average number of three-point field goals made per game|\n",
    "|`3pa`|Average number of three-point field goal attempts per game|\n",
    "|`3p`|Average percent of three-point field goals made per game|\n",
    "|`ftm`|Average number of free throws made per game|\n",
    "|`fta`|Average number of free throw attempts per game|\n",
    "|`ft`|Average percent of free throws made per game|\n",
    "|`oreb`|Average number of offensive rebounds per game|\n",
    "|`dreb`|Average number of defensive rebounds per game|\n",
    "|`reb`|Average number of rebounds per game|\n",
    "|`ast`|Average number of assists per game|\n",
    "|`stl`|Average number of steals per game|\n",
    "|`blk`|Average number of blocks per game|\n",
    "|`tov`|Average number of turnovers per game|\n",
    "|`target_5yrs`|1 if career duration >= 5 yrs, 0 otherwise|\n",
    "\n",
    "</center>"
   ]
  },
  {
   "cell_type": "markdown",
   "metadata": {
    "id": "HvomDnvFq4DW"
   },
   "source": [
    "Next, display a summary of the data to get additional information about the DataFrame, including the types of data in the columns."
   ]
  },
  {
   "cell_type": "code",
   "execution_count": 6,
   "metadata": {
    "id": "28h2TzH-o8NQ"
   },
   "outputs": [
    {
     "name": "stdout",
     "output_type": "stream",
     "text": [
      "<class 'pandas.core.frame.DataFrame'>\n",
      "Int64Index: 1340 entries, 0 to 1339\n",
      "Data columns (total 21 columns):\n",
      " #   Column       Non-Null Count  Dtype  \n",
      "---  ------       --------------  -----  \n",
      " 0   name         1340 non-null   object \n",
      " 1   gp           1340 non-null   int64  \n",
      " 2   min          1340 non-null   float64\n",
      " 3   pts          1340 non-null   float64\n",
      " 4   fgm          1340 non-null   float64\n",
      " 5   fga          1340 non-null   float64\n",
      " 6   fg           1340 non-null   float64\n",
      " 7   3p_made      1340 non-null   float64\n",
      " 8   3pa          1340 non-null   float64\n",
      " 9   3p           1340 non-null   float64\n",
      " 10  ftm          1340 non-null   float64\n",
      " 11  fta          1340 non-null   float64\n",
      " 12  ft           1340 non-null   float64\n",
      " 13  oreb         1340 non-null   float64\n",
      " 14  dreb         1340 non-null   float64\n",
      " 15  reb          1340 non-null   float64\n",
      " 16  ast          1340 non-null   float64\n",
      " 17  stl          1340 non-null   float64\n",
      " 18  blk          1340 non-null   float64\n",
      " 19  tov          1340 non-null   float64\n",
      " 20  target_5yrs  1340 non-null   int64  \n",
      "dtypes: float64(18), int64(2), object(1)\n",
      "memory usage: 230.3+ KB\n"
     ]
    }
   ],
   "source": [
    "# Use .info() to display a summary of the DataFrame\n",
    "data.info()"
   ]
  },
  {
   "cell_type": "markdown",
   "metadata": {
    "id": "0ajEYod6B7QJ"
   },
   "source": [
    "**Question:** Based on the preceding tables, which columns are numerical and which columns are categorical?"
   ]
  },
  {
   "cell_type": "markdown",
   "metadata": {
    "id": "5a-RfDKYzjN1"
   },
   "source": [
    "Numerical columns (quantitative values — either int64 or float64):\n",
    "\n",
    "gp (Games played)\n",
    "\n",
    "min (Minutes)\n",
    "\n",
    "pts (Points)\n",
    "\n",
    "fgm (Field goals made)\n",
    "\n",
    "fga (Field goals attempted)\n",
    "\n",
    "fg (Field goal percentage)\n",
    "\n",
    "3p_made (3-pointers made)\n",
    "\n",
    "3pa (3-pointers attempted)\n",
    "\n",
    "3p (3-point percentage)\n",
    "\n",
    "ftm (Free throws made)\n",
    "\n",
    "fta (Free throws attempted)\n",
    "\n",
    "ft (Free throw percentage)\n",
    "\n",
    "oreb (Offensive rebounds)\n",
    "\n",
    "dreb (Defensive rebounds)\n",
    "\n",
    "reb (Total rebounds)\n",
    "\n",
    "ast (Assists)\n",
    "\n",
    "stl (Steals)\n",
    "\n",
    "blk (Blocks)\n",
    "\n",
    "tov (Turnovers)\n",
    "\n",
    "target_5yrs (Target variable indicating whether the career lasted at least 5 years)\n",
    "\n",
    "Categorical column (non-numerical / object type):\n",
    "\n",
    "name (Player's name)"
   ]
  },
  {
   "cell_type": "markdown",
   "metadata": {
    "id": "VtL_ZDZC1xgF"
   },
   "source": [
    "### Check for missing values"
   ]
  },
  {
   "cell_type": "markdown",
   "metadata": {},
   "source": [
    "Now, review the data to determine whether it contains any missing values. Begin by displaying the number of missing values in each column. After that, use isna() to check whether each value in the data is missing. Finally, use sum() to aggregate the number of missing values per column.\n"
   ]
  },
  {
   "cell_type": "code",
   "execution_count": 7,
   "metadata": {
    "id": "_EGgJ5k92KX_"
   },
   "outputs": [
    {
     "data": {
      "text/plain": [
       "name           0\n",
       "gp             0\n",
       "min            0\n",
       "pts            0\n",
       "fgm            0\n",
       "fga            0\n",
       "fg             0\n",
       "3p_made        0\n",
       "3pa            0\n",
       "3p             0\n",
       "ftm            0\n",
       "fta            0\n",
       "ft             0\n",
       "oreb           0\n",
       "dreb           0\n",
       "reb            0\n",
       "ast            0\n",
       "stl            0\n",
       "blk            0\n",
       "tov            0\n",
       "target_5yrs    0\n",
       "dtype: int64"
      ]
     },
     "execution_count": 7,
     "metadata": {},
     "output_type": "execute_result"
    }
   ],
   "source": [
    "# Display the number of missing values in each column\n",
    "missing_values = data.isna().sum()\n",
    "missing_values"
   ]
  },
  {
   "cell_type": "markdown",
   "metadata": {
    "id": "qcLj6oPd2FVQ"
   },
   "source": [
    "**Question:** What do you observe about the missing values in the columns? "
   ]
  },
  {
   "cell_type": "markdown",
   "metadata": {
    "id": "MGjdyuaczjmX"
   },
   "source": [
    "There are no missing values in any of the columns. Every column in the dataset has complete data for all 1,340 player records."
   ]
  },
  {
   "cell_type": "markdown",
   "metadata": {},
   "source": [
    "**Question:** Why is it important to check for missing values?"
   ]
  },
  {
   "cell_type": "markdown",
   "metadata": {},
   "source": [
    "Checking for missing values is important because they can negatively impact the performance and accuracy of machine learning models. Models may not be able to process incomplete data properly, leading to errors, biases, or incorrect predictions. Identifying missing values allows data professionals to handle them appropriately — for example, by imputing, removing, or flagging them — to ensure data quality and model reliability."
   ]
  },
  {
   "cell_type": "markdown",
   "metadata": {
    "id": "MY0rAjlZAheh"
   },
   "source": [
    "## **Step 3: Statistical tests** \n",
    "\n"
   ]
  },
  {
   "cell_type": "markdown",
   "metadata": {
    "id": "v6VpTiBeGvyO"
   },
   "source": [
    "Next, use a statistical technique to check the class balance in the data. To understand how balanced the dataset is in terms of class, display the percentage of values that belong to each class in the target column. In this context, class 1 indicates an NBA career duration of at least five years, while class 0 indicates an NBA career duration of less than five years."
   ]
  },
  {
   "cell_type": "code",
   "execution_count": 8,
   "metadata": {
    "id": "gUEgzQW_6oMV"
   },
   "outputs": [
    {
     "data": {
      "text/plain": [
       "1    62.014925\n",
       "0    37.985075\n",
       "Name: target_5yrs, dtype: float64"
      ]
     },
     "execution_count": 8,
     "metadata": {},
     "output_type": "execute_result"
    }
   ],
   "source": [
    "# Display percentage (%) of values for each class in the target column\n",
    "class_distribution = data['target_5yrs'].value_counts(normalize=True) * 100\n",
    "class_distribution"
   ]
  },
  {
   "cell_type": "markdown",
   "metadata": {
    "id": "N4ITIR9Jlpbr"
   },
   "source": [
    "<details>\n",
    "<summary><h4><strong>Hint 1</strong></h4></summary>\n",
    "\n",
    "In `pandas`, `value_counts(normalize=True)` can be used to calculate the frequency of each distinct value in a specific column of a DataFrame.  \n",
    "</details>"
   ]
  },
  {
   "cell_type": "markdown",
   "metadata": {
    "id": "2xHH7INqlpbt"
   },
   "source": [
    "<details>\n",
    "<summary><h4><strong>Hint 2</strong></h4></summary>\n",
    "\n",
    "After `value_counts(normalize=True)`, multipling by `100` converts the frequencies into percentages (%).\n",
    "</details>"
   ]
  },
  {
   "cell_type": "markdown",
   "metadata": {
    "id": "uMcdNVQW8K2D"
   },
   "source": [
    "**Question:** What do you observe about the class balance in the target column?"
   ]
  },
  {
   "cell_type": "markdown",
   "metadata": {
    "id": "eDXjxG94zkZO"
   },
   "source": [
    "The dataset is somewhat imbalanced, with 62% of players having careers lasting at least five years (class 1) and 38% having careers shorter than five years (class 0). While this isn’t an extreme imbalance, it's still worth noting for modeling."
   ]
  },
  {
   "cell_type": "markdown",
   "metadata": {},
   "source": [
    "**Question:** Why is it important to check class balance?"
   ]
  },
  {
   "cell_type": "markdown",
   "metadata": {},
   "source": [
    "It is important to check class balance because imbalanced datasets can bias machine learning models toward the majority class, leading to misleading performance metrics. For example, a model might predict the majority class very well but perform poorly on the minority class — which may be the more critical one to predict correctly. Understanding class distribution helps inform decisions about model choice, evaluation metrics (like precision, recall, and F1-score), and whether techniques like resampling or class weighting are needed."
   ]
  },
  {
   "cell_type": "markdown",
   "metadata": {
    "id": "qgV_6xAQAvgg"
   },
   "source": [
    "## **Step 4: Results and evaluation** \n",
    "\n",
    "\n",
    "Now, perform feature engineering, with the goal of identifying and creating features that will serve as useful predictors for the target variable, `target_5yrs`. "
   ]
  },
  {
   "cell_type": "markdown",
   "metadata": {
    "id": "r-UHtsTnA5kE"
   },
   "source": [
    "### Feature selection"
   ]
  },
  {
   "cell_type": "markdown",
   "metadata": {
    "id": "atQDf16fK4in"
   },
   "source": [
    "The following table contains descriptions of the data in each column:\n",
    "\n",
    "<center>\n",
    "\n",
    "|Column Name|Column Description|\n",
    "|:---|:-------|\n",
    "|`name`|Name of NBA player|\n",
    "|`gp`|Number of games played|\n",
    "|`min`|Number of minutes played|\n",
    "|`pts`|Average number of points per game|\n",
    "|`fgm`|Average number of field goals made per game|\n",
    "|`fga`|Average number of field goal attempts per game|\n",
    "|`fg`|Average percent of field goals made per game|\n",
    "|`3p_made`|Average number of three-point field goals made per game|\n",
    "|`3pa`|Average number of three-point field goal attempts per game|\n",
    "|`3p`|Average percent of three-point field goals made per game|\n",
    "|`ftm`|Average number of free throws made per game|\n",
    "|`fta`|Average number of free throw attempts per game|\n",
    "|`ft`|Average percent of free throws made per game|\n",
    "|`oreb`|Average number of offensive rebounds per game|\n",
    "|`dreb`|Average number of defensive rebounds per game|\n",
    "|`reb`|Average number of rebounds per game|\n",
    "|`ast`|Average number of assists per game|\n",
    "|`stl`|Average number of steals per game|\n",
    "|`blk`|Average number of blocks per game|\n",
    "|`tov`|Average number of turnovers per game|\n",
    "|`target_5yrs`|1 if career duration >= 5 yrs, 0 otherwise|\n",
    "\n",
    "</center>"
   ]
  },
  {
   "cell_type": "markdown",
   "metadata": {
    "id": "uyUtq03NKe69"
   },
   "source": [
    "**Question:** Which columns would you select and avoid selecting as features, and why? Keep in mind the goal is to identify features that will serve as useful predictors for the target variable, `target_5yrs`. "
   ]
  },
  {
   "cell_type": "markdown",
   "metadata": {
    "id": "Lsur6i-azlnT"
   },
   "source": [
    "Columns to select:\n",
    "\n",
    "gp (Games played): Players who have played more games may have more experience, and this could be an indicator of career longevity.\n",
    "\n",
    "pts (Points): A key performance indicator that could help predict player career longevity — players who score more might be more valuable and have longer careers.\n",
    "\n",
    "fgm (Field goals made): This is tied to scoring ability, which is essential in evaluating player performance and might contribute to career longevity.\n",
    "\n",
    "fg (Field goal percentage): Players who are more efficient with their shooting are likely to have better careers.\n",
    "\n",
    "3p_made (Three-point field goals made) and 3p (Three-point percentage): The ability to make three-pointers is important in modern basketball, and successful players in this area tend to have longer careers.\n",
    "\n",
    "ftm (Free throws made) and ft (Free throw percentage): Free throw ability is a key skill in basketball, and efficiency here could correlate with career longevity.\n",
    "\n",
    "oreb (Offensive rebounds), dreb (Defensive rebounds), and reb (Total rebounds): Rebounding is a critical aspect of a player’s value and longevity in the league, so these features are likely to be useful.\n",
    "\n",
    "ast (Assists): Playmaking ability can be an indicator of a player’s overall value, and those with higher assists may have longer careers.\n",
    "\n",
    "stl (Steals) and blk (Blocks): Defensive skills are important for a player's value over the long term, so these features might be useful as predictors.\n",
    "\n",
    "tov (Turnovers): Turnovers may indicate decision-making ability and could be predictive of a player’s longevity if they consistently have low turnovers.\n",
    "\n",
    "Columns to avoid:\n",
    "\n",
    "name: The name of the player is a categorical feature and doesn't provide any relevant predictive value for career duration.\n",
    "\n",
    "target_5yrs: This is the target variable and should not be used as a feature in prediction models because it represents the outcome you're trying to predict.\n",
    "\n",
    "Summary:\n",
    "I would select columns that reflect a player's performance (points, assists, shooting efficiency, etc.) and experience (games played, rebounds, etc.). These features are likely to have the most predictive value for whether a player’s career will last at least five years. Columns like \"name\" are irrelevant for prediction and should be excluded."
   ]
  },
  {
   "cell_type": "markdown",
   "metadata": {
    "id": "f0EgC-r_X_gk"
   },
   "source": [
    "Next, select the columns you want to proceed with. Make sure to include the target column, `target_5yrs`. Display the first few rows to confirm they are as expected."
   ]
  },
  {
   "cell_type": "code",
   "execution_count": 9,
   "metadata": {
    "id": "jeLHjMh_XwsU"
   },
   "outputs": [
    {
     "data": {
      "text/html": [
       "<div>\n",
       "<style scoped>\n",
       "    .dataframe tbody tr th:only-of-type {\n",
       "        vertical-align: middle;\n",
       "    }\n",
       "\n",
       "    .dataframe tbody tr th {\n",
       "        vertical-align: top;\n",
       "    }\n",
       "\n",
       "    .dataframe thead th {\n",
       "        text-align: right;\n",
       "    }\n",
       "</style>\n",
       "<table border=\"1\" class=\"dataframe\">\n",
       "  <thead>\n",
       "    <tr style=\"text-align: right;\">\n",
       "      <th></th>\n",
       "      <th>gp</th>\n",
       "      <th>min</th>\n",
       "      <th>pts</th>\n",
       "      <th>fgm</th>\n",
       "      <th>fga</th>\n",
       "      <th>fg</th>\n",
       "      <th>3p_made</th>\n",
       "      <th>3pa</th>\n",
       "      <th>3p</th>\n",
       "      <th>ftm</th>\n",
       "      <th>fta</th>\n",
       "      <th>ft</th>\n",
       "      <th>oreb</th>\n",
       "      <th>dreb</th>\n",
       "      <th>reb</th>\n",
       "      <th>ast</th>\n",
       "      <th>stl</th>\n",
       "      <th>blk</th>\n",
       "      <th>tov</th>\n",
       "      <th>target_5yrs</th>\n",
       "    </tr>\n",
       "  </thead>\n",
       "  <tbody>\n",
       "    <tr>\n",
       "      <th>0</th>\n",
       "      <td>36</td>\n",
       "      <td>27.4</td>\n",
       "      <td>7.4</td>\n",
       "      <td>2.6</td>\n",
       "      <td>7.6</td>\n",
       "      <td>34.7</td>\n",
       "      <td>0.5</td>\n",
       "      <td>2.1</td>\n",
       "      <td>25.0</td>\n",
       "      <td>1.6</td>\n",
       "      <td>2.3</td>\n",
       "      <td>69.9</td>\n",
       "      <td>0.7</td>\n",
       "      <td>3.4</td>\n",
       "      <td>4.1</td>\n",
       "      <td>1.9</td>\n",
       "      <td>0.4</td>\n",
       "      <td>0.4</td>\n",
       "      <td>1.3</td>\n",
       "      <td>0</td>\n",
       "    </tr>\n",
       "    <tr>\n",
       "      <th>1</th>\n",
       "      <td>35</td>\n",
       "      <td>26.9</td>\n",
       "      <td>7.2</td>\n",
       "      <td>2.0</td>\n",
       "      <td>6.7</td>\n",
       "      <td>29.6</td>\n",
       "      <td>0.7</td>\n",
       "      <td>2.8</td>\n",
       "      <td>23.5</td>\n",
       "      <td>2.6</td>\n",
       "      <td>3.4</td>\n",
       "      <td>76.5</td>\n",
       "      <td>0.5</td>\n",
       "      <td>2.0</td>\n",
       "      <td>2.4</td>\n",
       "      <td>3.7</td>\n",
       "      <td>1.1</td>\n",
       "      <td>0.5</td>\n",
       "      <td>1.6</td>\n",
       "      <td>0</td>\n",
       "    </tr>\n",
       "    <tr>\n",
       "      <th>2</th>\n",
       "      <td>74</td>\n",
       "      <td>15.3</td>\n",
       "      <td>5.2</td>\n",
       "      <td>2.0</td>\n",
       "      <td>4.7</td>\n",
       "      <td>42.2</td>\n",
       "      <td>0.4</td>\n",
       "      <td>1.7</td>\n",
       "      <td>24.4</td>\n",
       "      <td>0.9</td>\n",
       "      <td>1.3</td>\n",
       "      <td>67.0</td>\n",
       "      <td>0.5</td>\n",
       "      <td>1.7</td>\n",
       "      <td>2.2</td>\n",
       "      <td>1.0</td>\n",
       "      <td>0.5</td>\n",
       "      <td>0.3</td>\n",
       "      <td>1.0</td>\n",
       "      <td>0</td>\n",
       "    </tr>\n",
       "    <tr>\n",
       "      <th>3</th>\n",
       "      <td>58</td>\n",
       "      <td>11.6</td>\n",
       "      <td>5.7</td>\n",
       "      <td>2.3</td>\n",
       "      <td>5.5</td>\n",
       "      <td>42.6</td>\n",
       "      <td>0.1</td>\n",
       "      <td>0.5</td>\n",
       "      <td>22.6</td>\n",
       "      <td>0.9</td>\n",
       "      <td>1.3</td>\n",
       "      <td>68.9</td>\n",
       "      <td>1.0</td>\n",
       "      <td>0.9</td>\n",
       "      <td>1.9</td>\n",
       "      <td>0.8</td>\n",
       "      <td>0.6</td>\n",
       "      <td>0.1</td>\n",
       "      <td>1.0</td>\n",
       "      <td>1</td>\n",
       "    </tr>\n",
       "    <tr>\n",
       "      <th>4</th>\n",
       "      <td>48</td>\n",
       "      <td>11.5</td>\n",
       "      <td>4.5</td>\n",
       "      <td>1.6</td>\n",
       "      <td>3.0</td>\n",
       "      <td>52.4</td>\n",
       "      <td>0.0</td>\n",
       "      <td>0.1</td>\n",
       "      <td>0.0</td>\n",
       "      <td>1.3</td>\n",
       "      <td>1.9</td>\n",
       "      <td>67.4</td>\n",
       "      <td>1.0</td>\n",
       "      <td>1.5</td>\n",
       "      <td>2.5</td>\n",
       "      <td>0.3</td>\n",
       "      <td>0.3</td>\n",
       "      <td>0.4</td>\n",
       "      <td>0.8</td>\n",
       "      <td>1</td>\n",
       "    </tr>\n",
       "  </tbody>\n",
       "</table>\n",
       "</div>"
      ],
      "text/plain": [
       "   gp   min  pts  fgm  fga    fg  3p_made  3pa    3p  ftm  fta    ft  oreb  \\\n",
       "0  36  27.4  7.4  2.6  7.6  34.7      0.5  2.1  25.0  1.6  2.3  69.9   0.7   \n",
       "1  35  26.9  7.2  2.0  6.7  29.6      0.7  2.8  23.5  2.6  3.4  76.5   0.5   \n",
       "2  74  15.3  5.2  2.0  4.7  42.2      0.4  1.7  24.4  0.9  1.3  67.0   0.5   \n",
       "3  58  11.6  5.7  2.3  5.5  42.6      0.1  0.5  22.6  0.9  1.3  68.9   1.0   \n",
       "4  48  11.5  4.5  1.6  3.0  52.4      0.0  0.1   0.0  1.3  1.9  67.4   1.0   \n",
       "\n",
       "   dreb  reb  ast  stl  blk  tov  target_5yrs  \n",
       "0   3.4  4.1  1.9  0.4  0.4  1.3            0  \n",
       "1   2.0  2.4  3.7  1.1  0.5  1.6            0  \n",
       "2   1.7  2.2  1.0  0.5  0.3  1.0            0  \n",
       "3   0.9  1.9  0.8  0.6  0.1  1.0            1  \n",
       "4   1.5  2.5  0.3  0.3  0.4  0.8            1  "
      ]
     },
     "execution_count": 9,
     "metadata": {},
     "output_type": "execute_result"
    }
   ],
   "source": [
    "# Select the columns to proceed with and save the DataFrame in new variable `selected_data`.\n",
    "selected_data = data[['gp', 'min', 'pts', 'fgm', 'fga', 'fg', '3p_made', '3pa', '3p', \n",
    "                       'ftm', 'fta', 'ft', 'oreb', 'dreb', 'reb', 'ast', 'stl', 'blk', 'tov', 'target_5yrs']]\n",
    "\n",
    "# Display the first few rows.\n",
    "selected_data.head()"
   ]
  },
  {
   "cell_type": "markdown",
   "metadata": {
    "id": "eec8mVaZitRl"
   },
   "source": [
    "<details>\n",
    "<summary><h4><strong>Hint 1</strong></h4></summary>\n",
    "\n",
    "Refer to the materials about feature selection and selecting a subset of a DataFrame.\n",
    "</details>"
   ]
  },
  {
   "cell_type": "markdown",
   "metadata": {
    "id": "IGVBka7oitRn"
   },
   "source": [
    "<details>\n",
    "<summary><h4><strong>Hint 2</strong></h4></summary>\n",
    "\n",
    "Use two pairs of square brackets, and place the names of the columns you want to select inside the innermost brackets. \n",
    "\n",
    "</details>"
   ]
  },
  {
   "cell_type": "markdown",
   "metadata": {
    "id": "BB6uE5RSitRn"
   },
   "source": [
    "<details>\n",
    "<summary><h4><strong>Hint 3</strong></h4></summary>\n",
    "\n",
    "There is a function in `pandas` that can be used to display the first few rows of a DataFrame. Make sure to specify the column names with spelling that matches what's in the data. Use quotes to represent each column name as a string. \n",
    "</details>"
   ]
  },
  {
   "cell_type": "markdown",
   "metadata": {
    "id": "m9SD-zhXCLSm"
   },
   "source": [
    "### Feature transformation"
   ]
  },
  {
   "cell_type": "markdown",
   "metadata": {
    "id": "UQwsbcQHWeX1"
   },
   "source": [
    "An important aspect of feature transformation is feature encoding. If there are categorical columns that you would want to use as features, those columns should be transformed to be numerical. This technique is also known as feature encoding."
   ]
  },
  {
   "cell_type": "markdown",
   "metadata": {
    "id": "IMm2PPbvOUHb"
   },
   "source": [
    "**Question:** Why is feature transformation important to consider? Are there any transformations necessary for the features you want to use?"
   ]
  },
  {
   "cell_type": "markdown",
   "metadata": {
    "id": "Kg-1y3f2zmrg"
   },
   "source": [
    "Feature Transformation Importance:\n",
    "Feature transformation is essential in machine learning because most algorithms require numerical input to perform calculations and make predictions. Transforming raw data into a form that can be understood by machine learning models can significantly impact the model's performance. Key reasons include:\n",
    "\n",
    "Consistency with Model Requirements: Many machine learning algorithms (such as regression, decision trees, or neural networks) expect numerical inputs. Categorical variables, like \"name\" or \"team,\" must be converted into numerical representations using techniques like one-hot encoding or label encoding.\n",
    "\n",
    "Improved Model Performance: Some models may struggle with non-numeric data because they can't process categorical variables directly. Feature encoding allows the model to understand the data's structure and relationships, leading to better performance.\n",
    "\n",
    "Enabling Feature Interaction: Transformations like scaling or normalization allow features to have comparable magnitudes, making it easier for models to identify patterns between features. This is especially useful when using algorithms sensitive to the scale of data, such as K-Nearest Neighbors (KNN) or Support Vector Machines (SVM).\n",
    "\n",
    "Handling Missing Data: Feature transformation techniques can also help deal with missing or inconsistent data (e.g., filling missing values, encoding missing categories), which helps ensure a more robust model.\n",
    "\n",
    "Are Transformations Necessary for the Features in Our Data?\n",
    "Upon reviewing the dataset, the following transformations might be necessary:\n",
    "\n",
    "Categorical Data: The only categorical feature in the data, in our case, is the \"name\" column, which we do not need for predictions. We will not include this column in the feature set.\n",
    "\n",
    "Numerical Data: Most of the features in the dataset, such as points, assists, field goals, rebounds, etc., are already numeric. However, we might need scaling or normalization if the features have vastly different ranges (for example, \"points\" might range in the tens, while \"minutes\" could be in the hundreds).\n",
    "\n",
    "Scaling: It's beneficial to scale numerical features (e.g., using Min-Max scaling or Standard scaling) to make the data suitable for models sensitive to feature scales (like logistic regression or SVM).\n",
    "\n",
    "Missing Values: We’ve already checked for missing values and found none, so we don't need to worry about imputing missing data."
   ]
  },
  {
   "cell_type": "markdown",
   "metadata": {
    "id": "yMK4zXxQCNYH"
   },
   "source": [
    "### Feature extraction"
   ]
  },
  {
   "cell_type": "markdown",
   "metadata": {
    "id": "LwU2VgiyfLg7"
   },
   "source": [
    "Display the first few rows containing containing descriptions of the data for reference. The table is as follows:\n",
    "\n",
    "<center>\n",
    "\n",
    "|Column Name|Column Description|\n",
    "|:---|:-------|\n",
    "|`name`|Name of NBA player|\n",
    "|`gp`|Number of games played|\n",
    "|`min`|Number of minutes played per game|\n",
    "|`pts`|Average number of points per game|\n",
    "|`fgm`|Average number of field goals made per game|\n",
    "|`fga`|Average number of field goal attempts per game|\n",
    "|`fg`|Average percent of field goals made per game|\n",
    "|`3p_made`|Average number of three-point field goals made per game|\n",
    "|`3pa`|Average number of three-point field goal attempts per game|\n",
    "|`3p`|Average percent of three-point field goals made per game|\n",
    "|`ftm`|Average number of free throws made per game|\n",
    "|`fta`|Average number of free throw attempts per game|\n",
    "|`ft`|Average percent of free throws made per game|\n",
    "|`oreb`|Average number of offensive rebounds per game|\n",
    "|`dreb`|Average number of defensive rebounds per game|\n",
    "|`reb`|Average number of rebounds per game|\n",
    "|`ast`|Average number of assists per game|\n",
    "|`stl`|Average number of steals per game|\n",
    "|`blk`|Average number of blocks per game|\n",
    "|`tov`|Average number of turnovers per game|\n",
    "|`target_5yrs`|1 if career duration >= 5 yrs, 0 otherwise|\n",
    "\n",
    "</center>"
   ]
  },
  {
   "cell_type": "code",
   "execution_count": 10,
   "metadata": {
    "id": "TImr9RUzfNNk"
   },
   "outputs": [
    {
     "data": {
      "text/html": [
       "<div>\n",
       "<style scoped>\n",
       "    .dataframe tbody tr th:only-of-type {\n",
       "        vertical-align: middle;\n",
       "    }\n",
       "\n",
       "    .dataframe tbody tr th {\n",
       "        vertical-align: top;\n",
       "    }\n",
       "\n",
       "    .dataframe thead th {\n",
       "        text-align: right;\n",
       "    }\n",
       "</style>\n",
       "<table border=\"1\" class=\"dataframe\">\n",
       "  <thead>\n",
       "    <tr style=\"text-align: right;\">\n",
       "      <th></th>\n",
       "      <th>gp</th>\n",
       "      <th>min</th>\n",
       "      <th>pts</th>\n",
       "      <th>fgm</th>\n",
       "      <th>fga</th>\n",
       "      <th>fg</th>\n",
       "      <th>3p_made</th>\n",
       "      <th>3pa</th>\n",
       "      <th>3p</th>\n",
       "      <th>ftm</th>\n",
       "      <th>fta</th>\n",
       "      <th>ft</th>\n",
       "      <th>oreb</th>\n",
       "      <th>dreb</th>\n",
       "      <th>reb</th>\n",
       "      <th>ast</th>\n",
       "      <th>stl</th>\n",
       "      <th>blk</th>\n",
       "      <th>tov</th>\n",
       "      <th>target_5yrs</th>\n",
       "    </tr>\n",
       "  </thead>\n",
       "  <tbody>\n",
       "    <tr>\n",
       "      <th>0</th>\n",
       "      <td>36</td>\n",
       "      <td>27.4</td>\n",
       "      <td>7.4</td>\n",
       "      <td>2.6</td>\n",
       "      <td>7.6</td>\n",
       "      <td>34.7</td>\n",
       "      <td>0.5</td>\n",
       "      <td>2.1</td>\n",
       "      <td>25.0</td>\n",
       "      <td>1.6</td>\n",
       "      <td>2.3</td>\n",
       "      <td>69.9</td>\n",
       "      <td>0.7</td>\n",
       "      <td>3.4</td>\n",
       "      <td>4.1</td>\n",
       "      <td>1.9</td>\n",
       "      <td>0.4</td>\n",
       "      <td>0.4</td>\n",
       "      <td>1.3</td>\n",
       "      <td>0</td>\n",
       "    </tr>\n",
       "    <tr>\n",
       "      <th>1</th>\n",
       "      <td>35</td>\n",
       "      <td>26.9</td>\n",
       "      <td>7.2</td>\n",
       "      <td>2.0</td>\n",
       "      <td>6.7</td>\n",
       "      <td>29.6</td>\n",
       "      <td>0.7</td>\n",
       "      <td>2.8</td>\n",
       "      <td>23.5</td>\n",
       "      <td>2.6</td>\n",
       "      <td>3.4</td>\n",
       "      <td>76.5</td>\n",
       "      <td>0.5</td>\n",
       "      <td>2.0</td>\n",
       "      <td>2.4</td>\n",
       "      <td>3.7</td>\n",
       "      <td>1.1</td>\n",
       "      <td>0.5</td>\n",
       "      <td>1.6</td>\n",
       "      <td>0</td>\n",
       "    </tr>\n",
       "    <tr>\n",
       "      <th>2</th>\n",
       "      <td>74</td>\n",
       "      <td>15.3</td>\n",
       "      <td>5.2</td>\n",
       "      <td>2.0</td>\n",
       "      <td>4.7</td>\n",
       "      <td>42.2</td>\n",
       "      <td>0.4</td>\n",
       "      <td>1.7</td>\n",
       "      <td>24.4</td>\n",
       "      <td>0.9</td>\n",
       "      <td>1.3</td>\n",
       "      <td>67.0</td>\n",
       "      <td>0.5</td>\n",
       "      <td>1.7</td>\n",
       "      <td>2.2</td>\n",
       "      <td>1.0</td>\n",
       "      <td>0.5</td>\n",
       "      <td>0.3</td>\n",
       "      <td>1.0</td>\n",
       "      <td>0</td>\n",
       "    </tr>\n",
       "    <tr>\n",
       "      <th>3</th>\n",
       "      <td>58</td>\n",
       "      <td>11.6</td>\n",
       "      <td>5.7</td>\n",
       "      <td>2.3</td>\n",
       "      <td>5.5</td>\n",
       "      <td>42.6</td>\n",
       "      <td>0.1</td>\n",
       "      <td>0.5</td>\n",
       "      <td>22.6</td>\n",
       "      <td>0.9</td>\n",
       "      <td>1.3</td>\n",
       "      <td>68.9</td>\n",
       "      <td>1.0</td>\n",
       "      <td>0.9</td>\n",
       "      <td>1.9</td>\n",
       "      <td>0.8</td>\n",
       "      <td>0.6</td>\n",
       "      <td>0.1</td>\n",
       "      <td>1.0</td>\n",
       "      <td>1</td>\n",
       "    </tr>\n",
       "    <tr>\n",
       "      <th>4</th>\n",
       "      <td>48</td>\n",
       "      <td>11.5</td>\n",
       "      <td>4.5</td>\n",
       "      <td>1.6</td>\n",
       "      <td>3.0</td>\n",
       "      <td>52.4</td>\n",
       "      <td>0.0</td>\n",
       "      <td>0.1</td>\n",
       "      <td>0.0</td>\n",
       "      <td>1.3</td>\n",
       "      <td>1.9</td>\n",
       "      <td>67.4</td>\n",
       "      <td>1.0</td>\n",
       "      <td>1.5</td>\n",
       "      <td>2.5</td>\n",
       "      <td>0.3</td>\n",
       "      <td>0.3</td>\n",
       "      <td>0.4</td>\n",
       "      <td>0.8</td>\n",
       "      <td>1</td>\n",
       "    </tr>\n",
       "  </tbody>\n",
       "</table>\n",
       "</div>"
      ],
      "text/plain": [
       "   gp   min  pts  fgm  fga    fg  3p_made  3pa    3p  ftm  fta    ft  oreb  \\\n",
       "0  36  27.4  7.4  2.6  7.6  34.7      0.5  2.1  25.0  1.6  2.3  69.9   0.7   \n",
       "1  35  26.9  7.2  2.0  6.7  29.6      0.7  2.8  23.5  2.6  3.4  76.5   0.5   \n",
       "2  74  15.3  5.2  2.0  4.7  42.2      0.4  1.7  24.4  0.9  1.3  67.0   0.5   \n",
       "3  58  11.6  5.7  2.3  5.5  42.6      0.1  0.5  22.6  0.9  1.3  68.9   1.0   \n",
       "4  48  11.5  4.5  1.6  3.0  52.4      0.0  0.1   0.0  1.3  1.9  67.4   1.0   \n",
       "\n",
       "   dreb  reb  ast  stl  blk  tov  target_5yrs  \n",
       "0   3.4  4.1  1.9  0.4  0.4  1.3            0  \n",
       "1   2.0  2.4  3.7  1.1  0.5  1.6            0  \n",
       "2   1.7  2.2  1.0  0.5  0.3  1.0            0  \n",
       "3   0.9  1.9  0.8  0.6  0.1  1.0            1  \n",
       "4   1.5  2.5  0.3  0.3  0.4  0.8            1  "
      ]
     },
     "execution_count": 10,
     "metadata": {},
     "output_type": "execute_result"
    }
   ],
   "source": [
    "# Display the first few rows of the selected_data DataFrame for reference.\n",
    "selected_data.head()"
   ]
  },
  {
   "cell_type": "markdown",
   "metadata": {
    "id": "c5GvdO_Ddgcv"
   },
   "source": [
    "**Question:** Which columns lend themselves to feature extraction?"
   ]
  },
  {
   "cell_type": "markdown",
   "metadata": {
    "id": "XrDQ4Qzezoo2"
   },
   "source": [
    "In this context, feature extraction involves creating new features from the existing ones, potentially combining multiple columns to generate more meaningful features for modeling. Some columns in the dataset already provide valuable performance metrics, but there are others that could be combined or transformed into new features to better predict the target variable (target_5yrs).\n",
    "\n",
    "Here are some columns that lend themselves to feature extraction:\n",
    "\n",
    "Field Goal Statistics:\n",
    "\n",
    "fgm (field goals made) and fga (field goals attempted) could be combined into a Field Goal Percentage column:\n",
    "\n",
    "Field Goal Percentage (fg%) = fgm / fga (if no zero attempts).\n",
    "\n",
    "Three-Point Statistics:\n",
    "\n",
    "3p_made (three-point field goals made) and 3pa (three-point attempts) could be transformed into a 3P% (three-point shooting percentage):\n",
    "\n",
    "Three-Point Percentage (3P%) = 3p_made / 3pa.\n",
    "\n",
    "Free Throw Statistics:\n",
    "\n",
    "ftm (free throws made) and fta (free throw attempts) could be used to create a Free Throw Percentage (FT%):\n",
    "\n",
    "Free Throw Percentage (FT%) = ftm / fta.\n",
    "\n",
    "Rebound Statistics:\n",
    "\n",
    "oreb (offensive rebounds) and dreb (defensive rebounds) could be combined into a Total Rebounds column:\n",
    "\n",
    "Total Rebounds (Reb) = oreb + dreb.\n",
    "\n",
    "Efficiency Metrics:\n",
    "\n",
    "pts (points per game) and min (minutes per game) can be used to calculate a Points per Minute (PPM) metric:\n",
    "\n",
    "Points per Minute (PPM) = pts / min.\n",
    "\n",
    "Player’s Role and Contribution:\n",
    "\n",
    "A Player Efficiency Rating (PER) or other metrics could be derived by combining several of the player's stats (e.g., assists, steals, blocks, turnovers, etc.).\n",
    "\n",
    "Why is feature extraction important?\n",
    "Feature extraction is important because it allows us to reduce the complexity of the data, making it more manageable and potentially more predictive. By combining or transforming the features, we may uncover hidden relationships between the features and the target variable, which could improve model accuracy."
   ]
  },
  {
   "cell_type": "markdown",
   "metadata": {
    "id": "TzdzdImXmlVV"
   },
   "source": [
    "Extract two features that you think would help predict `target_5yrs`. Then, create a new variable named 'extracted_data' that contains features from 'selected_data', as well as the features being extracted."
   ]
  },
  {
   "cell_type": "code",
   "execution_count": 11,
   "metadata": {
    "id": "-oKr7ZPumP4X"
   },
   "outputs": [
    {
     "data": {
      "text/html": [
       "<div>\n",
       "<style scoped>\n",
       "    .dataframe tbody tr th:only-of-type {\n",
       "        vertical-align: middle;\n",
       "    }\n",
       "\n",
       "    .dataframe tbody tr th {\n",
       "        vertical-align: top;\n",
       "    }\n",
       "\n",
       "    .dataframe thead th {\n",
       "        text-align: right;\n",
       "    }\n",
       "</style>\n",
       "<table border=\"1\" class=\"dataframe\">\n",
       "  <thead>\n",
       "    <tr style=\"text-align: right;\">\n",
       "      <th></th>\n",
       "      <th>gp</th>\n",
       "      <th>min</th>\n",
       "      <th>pts</th>\n",
       "      <th>fgm</th>\n",
       "      <th>fga</th>\n",
       "      <th>fg</th>\n",
       "      <th>3p_made</th>\n",
       "      <th>3pa</th>\n",
       "      <th>3p</th>\n",
       "      <th>ftm</th>\n",
       "      <th>...</th>\n",
       "      <th>oreb</th>\n",
       "      <th>dreb</th>\n",
       "      <th>reb</th>\n",
       "      <th>ast</th>\n",
       "      <th>stl</th>\n",
       "      <th>blk</th>\n",
       "      <th>tov</th>\n",
       "      <th>target_5yrs</th>\n",
       "      <th>fg_percentage</th>\n",
       "      <th>ppm</th>\n",
       "    </tr>\n",
       "  </thead>\n",
       "  <tbody>\n",
       "    <tr>\n",
       "      <th>0</th>\n",
       "      <td>36</td>\n",
       "      <td>27.4</td>\n",
       "      <td>7.4</td>\n",
       "      <td>2.6</td>\n",
       "      <td>7.6</td>\n",
       "      <td>34.7</td>\n",
       "      <td>0.5</td>\n",
       "      <td>2.1</td>\n",
       "      <td>25.0</td>\n",
       "      <td>1.6</td>\n",
       "      <td>...</td>\n",
       "      <td>0.7</td>\n",
       "      <td>3.4</td>\n",
       "      <td>4.1</td>\n",
       "      <td>1.9</td>\n",
       "      <td>0.4</td>\n",
       "      <td>0.4</td>\n",
       "      <td>1.3</td>\n",
       "      <td>0</td>\n",
       "      <td>0.342105</td>\n",
       "      <td>0.270073</td>\n",
       "    </tr>\n",
       "    <tr>\n",
       "      <th>1</th>\n",
       "      <td>35</td>\n",
       "      <td>26.9</td>\n",
       "      <td>7.2</td>\n",
       "      <td>2.0</td>\n",
       "      <td>6.7</td>\n",
       "      <td>29.6</td>\n",
       "      <td>0.7</td>\n",
       "      <td>2.8</td>\n",
       "      <td>23.5</td>\n",
       "      <td>2.6</td>\n",
       "      <td>...</td>\n",
       "      <td>0.5</td>\n",
       "      <td>2.0</td>\n",
       "      <td>2.4</td>\n",
       "      <td>3.7</td>\n",
       "      <td>1.1</td>\n",
       "      <td>0.5</td>\n",
       "      <td>1.6</td>\n",
       "      <td>0</td>\n",
       "      <td>0.298507</td>\n",
       "      <td>0.267658</td>\n",
       "    </tr>\n",
       "    <tr>\n",
       "      <th>2</th>\n",
       "      <td>74</td>\n",
       "      <td>15.3</td>\n",
       "      <td>5.2</td>\n",
       "      <td>2.0</td>\n",
       "      <td>4.7</td>\n",
       "      <td>42.2</td>\n",
       "      <td>0.4</td>\n",
       "      <td>1.7</td>\n",
       "      <td>24.4</td>\n",
       "      <td>0.9</td>\n",
       "      <td>...</td>\n",
       "      <td>0.5</td>\n",
       "      <td>1.7</td>\n",
       "      <td>2.2</td>\n",
       "      <td>1.0</td>\n",
       "      <td>0.5</td>\n",
       "      <td>0.3</td>\n",
       "      <td>1.0</td>\n",
       "      <td>0</td>\n",
       "      <td>0.425532</td>\n",
       "      <td>0.339869</td>\n",
       "    </tr>\n",
       "    <tr>\n",
       "      <th>3</th>\n",
       "      <td>58</td>\n",
       "      <td>11.6</td>\n",
       "      <td>5.7</td>\n",
       "      <td>2.3</td>\n",
       "      <td>5.5</td>\n",
       "      <td>42.6</td>\n",
       "      <td>0.1</td>\n",
       "      <td>0.5</td>\n",
       "      <td>22.6</td>\n",
       "      <td>0.9</td>\n",
       "      <td>...</td>\n",
       "      <td>1.0</td>\n",
       "      <td>0.9</td>\n",
       "      <td>1.9</td>\n",
       "      <td>0.8</td>\n",
       "      <td>0.6</td>\n",
       "      <td>0.1</td>\n",
       "      <td>1.0</td>\n",
       "      <td>1</td>\n",
       "      <td>0.418182</td>\n",
       "      <td>0.491379</td>\n",
       "    </tr>\n",
       "    <tr>\n",
       "      <th>4</th>\n",
       "      <td>48</td>\n",
       "      <td>11.5</td>\n",
       "      <td>4.5</td>\n",
       "      <td>1.6</td>\n",
       "      <td>3.0</td>\n",
       "      <td>52.4</td>\n",
       "      <td>0.0</td>\n",
       "      <td>0.1</td>\n",
       "      <td>0.0</td>\n",
       "      <td>1.3</td>\n",
       "      <td>...</td>\n",
       "      <td>1.0</td>\n",
       "      <td>1.5</td>\n",
       "      <td>2.5</td>\n",
       "      <td>0.3</td>\n",
       "      <td>0.3</td>\n",
       "      <td>0.4</td>\n",
       "      <td>0.8</td>\n",
       "      <td>1</td>\n",
       "      <td>0.533333</td>\n",
       "      <td>0.391304</td>\n",
       "    </tr>\n",
       "  </tbody>\n",
       "</table>\n",
       "<p>5 rows × 22 columns</p>\n",
       "</div>"
      ],
      "text/plain": [
       "   gp   min  pts  fgm  fga    fg  3p_made  3pa    3p  ftm  ...  oreb  dreb  \\\n",
       "0  36  27.4  7.4  2.6  7.6  34.7      0.5  2.1  25.0  1.6  ...   0.7   3.4   \n",
       "1  35  26.9  7.2  2.0  6.7  29.6      0.7  2.8  23.5  2.6  ...   0.5   2.0   \n",
       "2  74  15.3  5.2  2.0  4.7  42.2      0.4  1.7  24.4  0.9  ...   0.5   1.7   \n",
       "3  58  11.6  5.7  2.3  5.5  42.6      0.1  0.5  22.6  0.9  ...   1.0   0.9   \n",
       "4  48  11.5  4.5  1.6  3.0  52.4      0.0  0.1   0.0  1.3  ...   1.0   1.5   \n",
       "\n",
       "   reb  ast  stl  blk  tov  target_5yrs  fg_percentage       ppm  \n",
       "0  4.1  1.9  0.4  0.4  1.3            0       0.342105  0.270073  \n",
       "1  2.4  3.7  1.1  0.5  1.6            0       0.298507  0.267658  \n",
       "2  2.2  1.0  0.5  0.3  1.0            0       0.425532  0.339869  \n",
       "3  1.9  0.8  0.6  0.1  1.0            1       0.418182  0.491379  \n",
       "4  2.5  0.3  0.3  0.4  0.8            1       0.533333  0.391304  \n",
       "\n",
       "[5 rows x 22 columns]"
      ]
     },
     "execution_count": 11,
     "metadata": {},
     "output_type": "execute_result"
    }
   ],
   "source": [
    "# Extract features and create new variables\n",
    "extracted_data = selected_data.copy()\n",
    "\n",
    "# Calculate Field Goal Percentage (fg%)\n",
    "extracted_data['fg_percentage'] = extracted_data['fgm'] / extracted_data['fga']\n",
    "\n",
    "# Calculate Points per Minute (PPM)\n",
    "extracted_data['ppm'] = extracted_data['pts'] / extracted_data['min']\n",
    "\n",
    "# Display the first few rows to confirm the changes\n",
    "extracted_data.head()"
   ]
  },
  {
   "cell_type": "markdown",
   "metadata": {
    "id": "nBm31_L4stiM"
   },
   "source": [
    "<details>\n",
    "<summary><h4><strong>Hint 1</strong></h4></summary>\n",
    "\n",
    "Refer to the materials about feature extraction.\n",
    "</details>"
   ]
  },
  {
   "cell_type": "markdown",
   "metadata": {
    "id": "zfJjVoNnstiO"
   },
   "source": [
    "<details>\n",
    "<summary><h4><strong>Hint 2</strong></h4></summary>\n",
    "\n",
    "Use the function `copy()` to make a copy of a DataFrame. To access a specific column from a DataFrame, use a pair of square brackets and place the name of the column as a string inside the brackets.\n",
    "\n",
    "</details>"
   ]
  },
  {
   "cell_type": "markdown",
   "metadata": {
    "id": "5JK2XAKJstiP"
   },
   "source": [
    "<details>\n",
    "<summary><h4><strong>Hint 3</strong></h4></summary>\n",
    "\n",
    "Use a pair of square brackets to create a new column in a DataFrame. The columns in DataFrames are series objects, which support elementwise operations such as multiplication and division. Be sure the column names referenced in your code match the spelling of what's in the DataFrame.\n",
    "</details>"
   ]
  },
  {
   "cell_type": "markdown",
   "metadata": {
    "id": "_HSGCXKZt61x"
   },
   "source": [
    "Now, to prepare for the Naive Bayes model that you will build in a later lab, clean the extracted data and ensure ensure it is concise. Naive Bayes involves an assumption that features are independent of each other given the class. In order to satisfy that criteria, if certain features are aggregated to yield new features, it may be necessary to remove those original features. Therefore, drop the columns that were used to extract new features.\n",
    "\n",
    "**Note:** There are other types of models that do not involve independence assumptions, so this would not be required in those instances. In fact, keeping the original features may be beneficial."
   ]
  },
  {
   "cell_type": "code",
   "execution_count": 12,
   "metadata": {
    "id": "9kF4nRy5r1DV"
   },
   "outputs": [
    {
     "data": {
      "text/html": [
       "<div>\n",
       "<style scoped>\n",
       "    .dataframe tbody tr th:only-of-type {\n",
       "        vertical-align: middle;\n",
       "    }\n",
       "\n",
       "    .dataframe tbody tr th {\n",
       "        vertical-align: top;\n",
       "    }\n",
       "\n",
       "    .dataframe thead th {\n",
       "        text-align: right;\n",
       "    }\n",
       "</style>\n",
       "<table border=\"1\" class=\"dataframe\">\n",
       "  <thead>\n",
       "    <tr style=\"text-align: right;\">\n",
       "      <th></th>\n",
       "      <th>gp</th>\n",
       "      <th>pts</th>\n",
       "      <th>fg</th>\n",
       "      <th>3p_made</th>\n",
       "      <th>3pa</th>\n",
       "      <th>3p</th>\n",
       "      <th>ftm</th>\n",
       "      <th>fta</th>\n",
       "      <th>ft</th>\n",
       "      <th>oreb</th>\n",
       "      <th>dreb</th>\n",
       "      <th>reb</th>\n",
       "      <th>ast</th>\n",
       "      <th>stl</th>\n",
       "      <th>blk</th>\n",
       "      <th>tov</th>\n",
       "      <th>target_5yrs</th>\n",
       "      <th>fg_percentage</th>\n",
       "      <th>ppm</th>\n",
       "    </tr>\n",
       "  </thead>\n",
       "  <tbody>\n",
       "    <tr>\n",
       "      <th>0</th>\n",
       "      <td>36</td>\n",
       "      <td>7.4</td>\n",
       "      <td>34.7</td>\n",
       "      <td>0.5</td>\n",
       "      <td>2.1</td>\n",
       "      <td>25.0</td>\n",
       "      <td>1.6</td>\n",
       "      <td>2.3</td>\n",
       "      <td>69.9</td>\n",
       "      <td>0.7</td>\n",
       "      <td>3.4</td>\n",
       "      <td>4.1</td>\n",
       "      <td>1.9</td>\n",
       "      <td>0.4</td>\n",
       "      <td>0.4</td>\n",
       "      <td>1.3</td>\n",
       "      <td>0</td>\n",
       "      <td>0.342105</td>\n",
       "      <td>0.270073</td>\n",
       "    </tr>\n",
       "    <tr>\n",
       "      <th>1</th>\n",
       "      <td>35</td>\n",
       "      <td>7.2</td>\n",
       "      <td>29.6</td>\n",
       "      <td>0.7</td>\n",
       "      <td>2.8</td>\n",
       "      <td>23.5</td>\n",
       "      <td>2.6</td>\n",
       "      <td>3.4</td>\n",
       "      <td>76.5</td>\n",
       "      <td>0.5</td>\n",
       "      <td>2.0</td>\n",
       "      <td>2.4</td>\n",
       "      <td>3.7</td>\n",
       "      <td>1.1</td>\n",
       "      <td>0.5</td>\n",
       "      <td>1.6</td>\n",
       "      <td>0</td>\n",
       "      <td>0.298507</td>\n",
       "      <td>0.267658</td>\n",
       "    </tr>\n",
       "    <tr>\n",
       "      <th>2</th>\n",
       "      <td>74</td>\n",
       "      <td>5.2</td>\n",
       "      <td>42.2</td>\n",
       "      <td>0.4</td>\n",
       "      <td>1.7</td>\n",
       "      <td>24.4</td>\n",
       "      <td>0.9</td>\n",
       "      <td>1.3</td>\n",
       "      <td>67.0</td>\n",
       "      <td>0.5</td>\n",
       "      <td>1.7</td>\n",
       "      <td>2.2</td>\n",
       "      <td>1.0</td>\n",
       "      <td>0.5</td>\n",
       "      <td>0.3</td>\n",
       "      <td>1.0</td>\n",
       "      <td>0</td>\n",
       "      <td>0.425532</td>\n",
       "      <td>0.339869</td>\n",
       "    </tr>\n",
       "    <tr>\n",
       "      <th>3</th>\n",
       "      <td>58</td>\n",
       "      <td>5.7</td>\n",
       "      <td>42.6</td>\n",
       "      <td>0.1</td>\n",
       "      <td>0.5</td>\n",
       "      <td>22.6</td>\n",
       "      <td>0.9</td>\n",
       "      <td>1.3</td>\n",
       "      <td>68.9</td>\n",
       "      <td>1.0</td>\n",
       "      <td>0.9</td>\n",
       "      <td>1.9</td>\n",
       "      <td>0.8</td>\n",
       "      <td>0.6</td>\n",
       "      <td>0.1</td>\n",
       "      <td>1.0</td>\n",
       "      <td>1</td>\n",
       "      <td>0.418182</td>\n",
       "      <td>0.491379</td>\n",
       "    </tr>\n",
       "    <tr>\n",
       "      <th>4</th>\n",
       "      <td>48</td>\n",
       "      <td>4.5</td>\n",
       "      <td>52.4</td>\n",
       "      <td>0.0</td>\n",
       "      <td>0.1</td>\n",
       "      <td>0.0</td>\n",
       "      <td>1.3</td>\n",
       "      <td>1.9</td>\n",
       "      <td>67.4</td>\n",
       "      <td>1.0</td>\n",
       "      <td>1.5</td>\n",
       "      <td>2.5</td>\n",
       "      <td>0.3</td>\n",
       "      <td>0.3</td>\n",
       "      <td>0.4</td>\n",
       "      <td>0.8</td>\n",
       "      <td>1</td>\n",
       "      <td>0.533333</td>\n",
       "      <td>0.391304</td>\n",
       "    </tr>\n",
       "  </tbody>\n",
       "</table>\n",
       "</div>"
      ],
      "text/plain": [
       "   gp  pts    fg  3p_made  3pa    3p  ftm  fta    ft  oreb  dreb  reb  ast  \\\n",
       "0  36  7.4  34.7      0.5  2.1  25.0  1.6  2.3  69.9   0.7   3.4  4.1  1.9   \n",
       "1  35  7.2  29.6      0.7  2.8  23.5  2.6  3.4  76.5   0.5   2.0  2.4  3.7   \n",
       "2  74  5.2  42.2      0.4  1.7  24.4  0.9  1.3  67.0   0.5   1.7  2.2  1.0   \n",
       "3  58  5.7  42.6      0.1  0.5  22.6  0.9  1.3  68.9   1.0   0.9  1.9  0.8   \n",
       "4  48  4.5  52.4      0.0  0.1   0.0  1.3  1.9  67.4   1.0   1.5  2.5  0.3   \n",
       "\n",
       "   stl  blk  tov  target_5yrs  fg_percentage       ppm  \n",
       "0  0.4  0.4  1.3            0       0.342105  0.270073  \n",
       "1  1.1  0.5  1.6            0       0.298507  0.267658  \n",
       "2  0.5  0.3  1.0            0       0.425532  0.339869  \n",
       "3  0.6  0.1  1.0            1       0.418182  0.491379  \n",
       "4  0.3  0.4  0.8            1       0.533333  0.391304  "
      ]
     },
     "execution_count": 12,
     "metadata": {},
     "output_type": "execute_result"
    }
   ],
   "source": [
    "# Remove the columns that are no longer needed\n",
    "extracted_data = extracted_data.drop(['fgm', 'fga', 'min'], axis=1)\n",
    "\n",
    "# Display the first few rows to confirm the columns have been dropped\n",
    "extracted_data.head()"
   ]
  },
  {
   "cell_type": "markdown",
   "metadata": {
    "id": "zXgV7ogJutbC"
   },
   "source": [
    "<details>\n",
    "<summary><h4><strong>Hint 1</strong></h4></summary>\n",
    "\n",
    "Refer to the materials about feature extraction.\n",
    "</details>"
   ]
  },
  {
   "cell_type": "markdown",
   "metadata": {
    "id": "yy5eHxzrutbD"
   },
   "source": [
    "<details>\n",
    "<summary><h4><strong>Hint 2</strong></h4></summary>\n",
    "\n",
    "There are functions in the `pandas` library that remove specific columns from a DataFrame and that display the first few rows of a DataFrame.\n",
    "</details>"
   ]
  },
  {
   "cell_type": "markdown",
   "metadata": {
    "id": "V7pdI7hqutbE"
   },
   "source": [
    "<details>\n",
    "<summary><h4><strong>Hint 3</strong></h4></summary>\n",
    "\n",
    "Use the `drop()` function and pass in a list of the names of the columns you want to remove. By default, calling this function will result in a new DataFrame that reflects the changes you made. The original DataFrame is not automatically altered. You can reassign `extracted_data` to the result, in order to update it. \n",
    "\n",
    "Use the `head()` function to display the first few rows of a DataFrame.\n",
    "</details>"
   ]
  },
  {
   "cell_type": "markdown",
   "metadata": {
    "id": "T-_ViHlcwlik"
   },
   "source": [
    "Next, export the extracted data as a new .csv file. You will use this in a later lab. "
   ]
  },
  {
   "cell_type": "code",
   "execution_count": 13,
   "metadata": {
    "id": "gZ_DdQx1xIaN"
   },
   "outputs": [],
   "source": [
    "# Export the extracted data to a .csv file\n",
    "extracted_data.to_csv('extracted_data.csv', index=False)"
   ]
  },
  {
   "cell_type": "markdown",
   "metadata": {
    "id": "izEApnWFxTCC"
   },
   "source": [
    "<details>\n",
    "<summary><h4><strong>Hint 1</strong></h4></summary>\n",
    "\n",
    "There is a function in the `pandas` library that exports a DataFrame as a .csv file. \n",
    "</details>"
   ]
  },
  {
   "cell_type": "markdown",
   "metadata": {
    "id": "13VAjGwHxTCC"
   },
   "source": [
    "<details>\n",
    "<summary><h4><strong>Hint 2</strong></h4></summary>\n",
    "\n",
    "Use the `to_csv()` function to export the DataFrame as a .csv file. \n",
    "</details>"
   ]
  },
  {
   "cell_type": "markdown",
   "metadata": {
    "id": "X_BDkIONxTCE"
   },
   "source": [
    "<details>\n",
    "<summary><h4><strong>Hint 3</strong></h4></summary>\n",
    "\n",
    "Call the `to_csv()` function on `extracted_data`, and pass in the name that you want to give to the resulting .csv file. Specify the file name as a string and in the file name. Make sure to include `.csv` as the file extension. Also, pass in the parameter `index` set to `0`, so that when the export occurs, the row indices from the DataFrame are not treated as an additional column in the resulting file. \n",
    "</details>"
   ]
  },
  {
   "cell_type": "markdown",
   "metadata": {
    "id": "xur2FC5xAzp0"
   },
   "source": [
    "## **Considerations**\n"
   ]
  },
  {
   "cell_type": "markdown",
   "metadata": {
    "id": "cEvvjB_Pgcz6"
   },
   "source": [
    "**What are some key takeaways that you learned during this lab? Consider the process you followed and what tasks were performed during each step, as well as important priorities when training data.**"
   ]
  },
  {
   "cell_type": "markdown",
   "metadata": {
    "id": "GDDqO95rgfDP"
   },
   "source": [
    "Data Exploration and Preprocessing: The lab emphasized the importance of thoroughly exploring the dataset before any modeling. This includes checking for missing values, analyzing column types (categorical vs numerical), and understanding the class balance. Identifying issues in the data early helps in deciding how to handle them.\n",
    "\n",
    "Feature Selection and Engineering: Feature selection is crucial in identifying the most relevant columns for the target variable. I learned to select and transform data into features that help predict the target variable. Feature extraction, for example, helps combine existing features to create more meaningful predictors, which is important for enhancing the model's predictive power.\n",
    "\n",
    "Data Cleaning: It is important to clean the data by dropping unnecessary columns, especially after feature extraction, to ensure the data is concise and ready for model training. The Naive Bayes model specifically requires independent features, so removing redundant features that may conflict with that assumption is crucial.\n",
    "\n",
    "Data Export and Future Use: Once the data is cleaned and prepared, it’s essential to save the final version for later use. Exporting the data into a .csv format allows us to easily share it, and it can be used in later stages of model development."
   ]
  },
  {
   "cell_type": "markdown",
   "metadata": {
    "id": "WvBogkdfggKN"
   },
   "source": [
    "**What summary would you provide to stakeholders? Consider key attributes to be shared from the data, as well as upcoming project plans.**"
   ]
  },
  {
   "cell_type": "markdown",
   "metadata": {
    "id": "8d2_JyVFgg0r"
   },
   "source": [
    "In this phase of the project, we prepared the NBA player data to predict whether a player will have a career duration of at least five years based on their performance metrics. Here's a summary of the key findings and steps:\n",
    "\n",
    "Data Insights: We found that the dataset includes various player performance statistics such as points, assists, field goal percentage, and more. After analyzing the data, we selected the most relevant features for predicting career longevity, focusing on statistics like the number of games played, minutes, points, and field goals made.\n",
    "\n",
    "Data Quality: The data did not contain missing values, which simplified preprocessing. We ensured the features used were numerical and aligned with the assumptions of models like Naive Bayes.\n",
    "\n",
    "Feature Engineering: We extracted new features by combining existing ones to create meaningful predictors for the target variable (target_5yrs), representing career longevity.\n",
    "\n",
    "Data Preparation: After extracting new features, we cleaned the dataset by dropping redundant columns to ensure concise and usable data.\n",
    "\n",
    "Next Steps: We have now exported the prepared dataset for use in future modeling. The next steps involve using this data to build and evaluate predictive models, starting with Naive Bayes."
   ]
  }
 ],
 "metadata": {
  "colab": {
   "collapsed_sections": [],
   "provenance": []
  },
  "kernelspec": {
   "display_name": "Python 3 (ipykernel)",
   "language": "python",
   "name": "python3"
  },
  "language_info": {
   "codemirror_mode": {
    "name": "ipython",
    "version": 3
   },
   "file_extension": ".py",
   "mimetype": "text/x-python",
   "name": "python",
   "nbconvert_exporter": "python",
   "pygments_lexer": "ipython3",
   "version": "3.11.9"
  }
 },
 "nbformat": 4,
 "nbformat_minor": 4
}
