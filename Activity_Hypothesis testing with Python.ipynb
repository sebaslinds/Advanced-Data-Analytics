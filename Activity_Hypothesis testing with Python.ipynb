{
 "cells": [
  {
   "cell_type": "markdown",
   "id": "10a8b6d2",
   "metadata": {
    "id": "3efad4c7-d34f-44b0-a48d-94651f931bae"
   },
   "source": [
    "# Activity: Hypothesis testing with Python"
   ]
  },
  {
   "cell_type": "markdown",
   "id": "c2c19030",
   "metadata": {
    "id": "2faf7b57-5c13-45e5-b666-d575eff0d17c"
   },
   "source": [
    "## **Introduction**\n"
   ]
  },
  {
   "cell_type": "markdown",
   "id": "7b10c9d3",
   "metadata": {
    "id": "2ca9aca5-33e0-4aa7-acdb-05832b05e5a9"
   },
   "source": [
    "As you've been learning, analysis of variance (commonly called ANOVA) is a group of statistical techniques that test the difference of means among three or more groups. It's a powerful tool for determining whether population means are different across groups and for answering a wide range of business questions.\n",
    "\n",
    "In this activity, you are a data professional working with historical marketing promotion data. You will use the data to run a one-way ANOVA and a post hoc ANOVA test. Then, you will communicate your results to stakeholders. These experiences will help you make more confident recommendations in a professional setting. \n",
    "\n",
    "In your dataset, each row corresponds to an independent marketing promotion, where your business uses TV, social media, radio, and influencer promotions to increase sales. You have previously provided insights about how different promotion types affect sales; now stakeholders want to know if sales are significantly different among various TV and influencer promotion types.\n",
    "\n",
    "To address this request, a one-way ANOVA test will enable you to determine if there is a statistically significant difference in sales among groups. This includes:\n",
    "* Using plots and descriptive statistics to select a categorical independent variable\n",
    "* Creating and fitting a linear regression model with the selected categorical independent variable\n",
    "* Checking model assumptions\n",
    "* Performing and interpreting a one-way ANOVA test\n",
    "* Comparing pairs of groups using an ANOVA post hoc test\n",
    "* Interpreting model outputs and communicating the results to nontechnical stakeholders"
   ]
  },
  {
   "cell_type": "markdown",
   "id": "5dc264b9",
   "metadata": {
    "id": "bfcf5ec2-e48b-4443-9bf6-72670bd60041"
   },
   "source": [
    "## **Step 1: Imports** \n"
   ]
  },
  {
   "cell_type": "markdown",
   "id": "f9cc6936",
   "metadata": {
    "id": "7dcaa8a0-4fe8-4816-9ef5-5fc665a4638f"
   },
   "source": [
    "Import pandas, pyplot from matplotlib, seaborn, api from statsmodels, ols from statsmodels.formula.api, and pairwise_tukeyhsd from statsmodels.stats.multicomp."
   ]
  },
  {
   "cell_type": "code",
   "execution_count": 1,
   "id": "d4854014",
   "metadata": {
    "id": "b2f4b9fa-b7bd-4b88-8c71-d3af5ddcb906"
   },
   "outputs": [],
   "source": [
    "# Import necessary libraries and packages\n",
    "import pandas as pd\n",
    "import matplotlib.pyplot as plt\n",
    "import seaborn as sns\n",
    "\n",
    "import statsmodels.api as sm\n",
    "from statsmodels.formula.api import ols\n",
    "from statsmodels.stats.multicomp import pairwise_tukeyhsd"
   ]
  },
  {
   "cell_type": "markdown",
   "id": "ba2c0e0d",
   "metadata": {},
   "source": [
    "`Pandas` was used to load the dataset `marketing_sales_data.csv` as `data`, now display the first five rows. The variables in the dataset have been adjusted to suit the objectives of this lab. As shown in this cell, the dataset has been automatically loaded in for you. You do not need to download the .csv file, or provide more code, in order to access the dataset and proceed with this lab. Please continue with this activity by completing the following instructions."
   ]
  },
  {
   "cell_type": "code",
   "execution_count": 2,
   "id": "6d336eb0",
   "metadata": {
    "id": "32d46d82-2bd6-4433-b56e-cfa5542949ca"
   },
   "outputs": [
    {
     "data": {
      "text/html": [
       "<div>\n",
       "<style scoped>\n",
       "    .dataframe tbody tr th:only-of-type {\n",
       "        vertical-align: middle;\n",
       "    }\n",
       "\n",
       "    .dataframe tbody tr th {\n",
       "        vertical-align: top;\n",
       "    }\n",
       "\n",
       "    .dataframe thead th {\n",
       "        text-align: right;\n",
       "    }\n",
       "</style>\n",
       "<table border=\"1\" class=\"dataframe\">\n",
       "  <thead>\n",
       "    <tr style=\"text-align: right;\">\n",
       "      <th></th>\n",
       "      <th>TV</th>\n",
       "      <th>Radio</th>\n",
       "      <th>Social Media</th>\n",
       "      <th>Influencer</th>\n",
       "      <th>Sales</th>\n",
       "    </tr>\n",
       "  </thead>\n",
       "  <tbody>\n",
       "    <tr>\n",
       "      <th>0</th>\n",
       "      <td>Low</td>\n",
       "      <td>1.218354</td>\n",
       "      <td>1.270444</td>\n",
       "      <td>Micro</td>\n",
       "      <td>90.054222</td>\n",
       "    </tr>\n",
       "    <tr>\n",
       "      <th>1</th>\n",
       "      <td>Medium</td>\n",
       "      <td>14.949791</td>\n",
       "      <td>0.274451</td>\n",
       "      <td>Macro</td>\n",
       "      <td>222.741668</td>\n",
       "    </tr>\n",
       "    <tr>\n",
       "      <th>2</th>\n",
       "      <td>Low</td>\n",
       "      <td>10.377258</td>\n",
       "      <td>0.061984</td>\n",
       "      <td>Mega</td>\n",
       "      <td>102.774790</td>\n",
       "    </tr>\n",
       "    <tr>\n",
       "      <th>3</th>\n",
       "      <td>High</td>\n",
       "      <td>26.469274</td>\n",
       "      <td>7.070945</td>\n",
       "      <td>Micro</td>\n",
       "      <td>328.239378</td>\n",
       "    </tr>\n",
       "    <tr>\n",
       "      <th>4</th>\n",
       "      <td>High</td>\n",
       "      <td>36.876302</td>\n",
       "      <td>7.618605</td>\n",
       "      <td>Mega</td>\n",
       "      <td>351.807328</td>\n",
       "    </tr>\n",
       "  </tbody>\n",
       "</table>\n",
       "</div>"
      ],
      "text/plain": [
       "       TV      Radio  Social Media Influencer       Sales\n",
       "0     Low   1.218354      1.270444      Micro   90.054222\n",
       "1  Medium  14.949791      0.274451      Macro  222.741668\n",
       "2     Low  10.377258      0.061984       Mega  102.774790\n",
       "3    High  26.469274      7.070945      Micro  328.239378\n",
       "4    High  36.876302      7.618605       Mega  351.807328"
      ]
     },
     "execution_count": 2,
     "metadata": {},
     "output_type": "execute_result"
    }
   ],
   "source": [
    "# RUN THIS CELL TO IMPORT YOUR DATA.\n",
    "data = pd.read_csv('marketing_sales_data.csv')\n",
    "\n",
    "# Display the first five rows\n",
    "data.head()"
   ]
  },
  {
   "cell_type": "markdown",
   "id": "a6e85d68",
   "metadata": {
    "id": "c179e85f-20df-4840-ad29-de35b928dff6"
   },
   "source": [
    "The features in the data are:\n",
    "* TV promotion budget (in Low, Medium, and High categories)\n",
    "* Social media promotion budget (in millions of dollars)\n",
    "* Radio promotion budget (in millions of dollars)\n",
    "* Sales (in millions of dollars)\n",
    "* Influencer size (in Mega, Macro, Nano, and Micro categories)"
   ]
  },
  {
   "cell_type": "markdown",
   "id": "54bafe79",
   "metadata": {
    "id": "6db7b19a-dd9b-490a-b389-0c433ed16754"
   },
   "source": [
    "**Question:** Why is it useful to perform exploratory data analysis before constructing a linear regression model?"
   ]
  },
  {
   "cell_type": "markdown",
   "id": "9839e26a",
   "metadata": {
    "id": "88d82eb8-6ee1-46f0-9b9f-a859666038c9"
   },
   "source": [
    "It is useful to perform exploratory data analysis (EDA) before constructing a linear regression model because EDA helps you:\n",
    "\n",
    "Understand the Data Structure: EDA gives a clear overview of the data, including variable types, distributions, and data quality (e.g., missing values or outliers).\n",
    "\n",
    "Identify Relationships: Visualizations such as scatterplots, boxplots, and pairplots allow you to observe relationships and trends between variables, which can inform model building decisions (e.g., whether linearity is present).\n",
    "\n",
    "Detect Outliers and Anomalies: Outliers can heavily influence regression models. Identifying and deciding how to handle them is critical to model accuracy.\n",
    "\n",
    "Check for Multicollinearity: EDA can reveal correlations between independent variables, helping prevent issues related to multicollinearity, which can distort coefficient estimates.\n",
    "\n",
    "Assess Distribution: Understanding whether the variables (especially residuals) are normally distributed helps satisfy key regression assumptions.\n",
    "\n",
    "Improve Feature Selection: EDA provides insight into which features may or may not contribute meaningfully to the model, guiding better variable selection."
   ]
  },
  {
   "cell_type": "markdown",
   "id": "78cc9675",
   "metadata": {
    "id": "fd47ede7-63ff-4fe5-aeb0-b8f909e9ecbe"
   },
   "source": [
    "## **Step 2: Data exploration** \n"
   ]
  },
  {
   "cell_type": "markdown",
   "id": "f37408c8",
   "metadata": {
    "id": "b9669d71-a6b3-491b-b115-0c766625fc3d"
   },
   "source": [
    "First, use a boxplot to determine how `Sales` vary based on the `TV` promotion budget category."
   ]
  },
  {
   "cell_type": "code",
   "execution_count": null,
   "id": "a6845320",
   "metadata": {
    "id": "518254a6-44d5-45bf-9b57-13ce3a4deab3"
   },
   "outputs": [],
   "source": [
    "# Create a boxplot with TV and Sales.\n",
    "\n",
    "### YOUR CODE HERE ### \n"
   ]
  },
  {
   "cell_type": "markdown",
   "id": "83fc2500",
   "metadata": {
    "id": "dd7d4c26-24ae-43b6-a521-18ce36446216"
   },
   "source": [
    "<details>\n",
    "<summary><h4><strong>Hint 1</strong></h4></summary>\n",
    "\n",
    "There is a function in the `seaborn` library that creates a boxplot showing the distribution of a variable across multiple groups.\n",
    "\n",
    "</details>"
   ]
  },
  {
   "cell_type": "markdown",
   "id": "c583d2af",
   "metadata": {
    "id": "344a4a0a-1b9e-474a-979a-d55032c5bd75"
   },
   "source": [
    "<details>\n",
    "<summary><h4><strong>Hint 2</strong></h4></summary>\n",
    "\n",
    "Use the `boxplot()` function from `seaborn`.\n",
    "\n",
    "</details>"
   ]
  },
  {
   "cell_type": "markdown",
   "id": "5df023e0",
   "metadata": {
    "id": "0b172c8a-8c94-4f83-bd33-b89d634a5025",
    "jp-MarkdownHeadingCollapsed": true,
    "tags": []
   },
   "source": [
    "<details>\n",
    "<summary><h4><strong>Hint 3</strong></h4></summary>\n",
    "\n",
    "Use `TV` as the `x` argument, `Sales` as the `y` argument, and `data` as the `data` argument.\n",
    "\n",
    "</details>"
   ]
  },
  {
   "cell_type": "markdown",
   "id": "2302b73c",
   "metadata": {
    "id": "a956add8-97b0-45b8-a008-ca1f7033c308"
   },
   "source": [
    "**Question:** Is there variation in `Sales` based off the `TV` promotion budget?"
   ]
  },
  {
   "cell_type": "markdown",
   "id": "501a0f33",
   "metadata": {
    "id": "81f3c2fa-d98e-491d-be5b-f7d07845e490"
   },
   "source": [
    "[Write your response here. Double-click (or enter) to edit.]"
   ]
  },
  {
   "cell_type": "markdown",
   "id": "7ee815a7",
   "metadata": {
    "id": "f3100abe-32db-4a56-b831-18eb0857b2d7"
   },
   "source": [
    "Now, use a boxplot to determine how `Sales` vary based on the `Influencer` size category."
   ]
  },
  {
   "cell_type": "code",
   "execution_count": 3,
   "id": "5a322cc1",
   "metadata": {
    "id": "fafbc9e4-de0b-4892-a863-add240208344"
   },
   "outputs": [
    {
     "data": {
      "image/png": "[encoded data removed]",
      "text/plain": [
       "<Figure size 432x288 with 1 Axes>"
      ]
     },
     "metadata": {
      "needs_background": "light"
     },
     "output_type": "display_data"
    }
   ],
   "source": [
    "import seaborn as sns\n",
    "import matplotlib.pyplot as plt\n",
    "\n",
    "# Create a boxplot of Sales by TV category\n",
    "sns.boxplot(x='TV', y='Sales', data=data)\n",
    "\n",
    "# Add labels and title\n",
    "plt.title('Sales Distribution by TV Promotion Budget')\n",
    "plt.xlabel('TV Promotion Budget Category')\n",
    "plt.ylabel('Sales (in millions)')\n",
    "\n",
    "# Show the plot\n",
    "plt.show()"
   ]
  },
  {
   "cell_type": "markdown",
   "id": "0c474bd6",
   "metadata": {
    "id": "e415aa95-0650-47e0-9efd-2770b8dfcb3d"
   },
   "source": [
    "**Question:** Is there variation in `Sales` based off the `Influencer` size?"
   ]
  },
  {
   "cell_type": "markdown",
   "id": "1c4aab6f",
   "metadata": {
    "id": "b665e78d-7255-43de-b915-a78d6bbb87ce"
   },
   "source": [
    "Yes, there is some variation in Sales based on Influencer size, but the differences are less pronounced than for TV budget categories. The boxplot may show overlapping ranges across Mega, Macro, Micro, and Nano influencers. This suggests that while influencer size has some effect, it may not be a strong predictor of Sales in this dataset. Further statistical testing (e.g., ANOVA or regression) would help confirm whether the differences are statistically significant."
   ]
  },
  {
   "cell_type": "markdown",
   "id": "0b32ecfa",
   "metadata": {
    "id": "0f4adbee-9d13-400a-99e6-6d4c482b8e17"
   },
   "source": [
    "### Remove missing data\n",
    "\n",
    "You may recall from prior labs that this dataset contains rows with missing values. To correct this, drop these rows. Then, confirm the data contains no missing values."
   ]
  },
  {
   "cell_type": "code",
   "execution_count": 4,
   "id": "c5acc040",
   "metadata": {
    "id": "498e546b-e90e-4b84-a7d7-12b3bb514c1d"
   },
   "outputs": [
    {
     "name": "stdout",
     "output_type": "stream",
     "text": [
      "TV              0\n",
      "Radio           0\n",
      "Social Media    0\n",
      "Influencer      0\n",
      "Sales           0\n",
      "dtype: int64\n"
     ]
    }
   ],
   "source": [
    "# Drop rows that contain missing data and update the DataFrame\n",
    "data = data.dropna()\n",
    "\n",
    "# Confirm the data contains no missing values\n",
    "print(data.isnull().sum())"
   ]
  },
  {
   "cell_type": "markdown",
   "id": "e16a844d",
   "metadata": {
    "id": "e37d7507-1f3d-4432-912e-ced7feff4ac6"
   },
   "source": [
    "<details>\n",
    "<summary><h4><strong>Hint 1</strong></h4></summary>\n",
    "\n",
    "There is a `pandas` function that removes missing values.\n",
    "\n",
    "</details>"
   ]
  },
  {
   "cell_type": "markdown",
   "id": "333e7429",
   "metadata": {
    "id": "19cd01e1-9976-47f6-b25c-7b8ce2a05627"
   },
   "source": [
    "<details>\n",
    "<summary><h4><strong>Hint 2</strong></h4></summary>\n",
    "\n",
    "The `dropna()` function removes missing values from an object (e.g., DataFrame).\n",
    "\n",
    "</details>"
   ]
  },
  {
   "cell_type": "markdown",
   "id": "18c4608e",
   "metadata": {
    "id": "87a46eec-9d3e-4657-bf91-6b3bd02089f0"
   },
   "source": [
    "<details>\n",
    "<summary><h4><strong>Hint 3</strong></h4></summary>\n",
    "\n",
    "Verify the data is updated properly after the rows containing missing data are dropped.\n",
    "\n",
    "</details>"
   ]
  },
  {
   "cell_type": "markdown",
   "id": "67982eb3",
   "metadata": {
    "id": "888c90fa-d800-43e4-a692-9fdd576c9b9c"
   },
   "source": [
    "## **Step 3: Model building** \n"
   ]
  },
  {
   "cell_type": "markdown",
   "id": "ec7b2497",
   "metadata": {
    "id": "9c906193-db62-4af0-83fa-dffafc347554"
   },
   "source": [
    "Fit a linear regression model that predicts `Sales` using one of the independent categorical variables in `data`. Refer to your previous code for defining and fitting a linear regression model."
   ]
  },
  {
   "cell_type": "code",
   "execution_count": 5,
   "id": "adc5fa63",
   "metadata": {
    "id": "76f99341-1ea0-4f1d-a2c7-54e56bd57e38"
   },
   "outputs": [
    {
     "name": "stdout",
     "output_type": "stream",
     "text": [
      "                            OLS Regression Results                            \n",
      "==============================================================================\n",
      "Dep. Variable:                  Sales   R-squared:                       0.874\n",
      "Model:                            OLS   Adj. R-squared:                  0.874\n",
      "Method:                 Least Squares   F-statistic:                     1971.\n",
      "Date:                Sun, 11 May 2025   Prob (F-statistic):          8.81e-256\n",
      "Time:                        20:17:34   Log-Likelihood:                -2778.9\n",
      "No. Observations:                 569   AIC:                             5564.\n",
      "Df Residuals:                     566   BIC:                             5577.\n",
      "Df Model:                           2                                         \n",
      "Covariance Type:            nonrobust                                         \n",
      "===================================================================================\n",
      "                      coef    std err          t      P>|t|      [0.025      0.975]\n",
      "-----------------------------------------------------------------------------------\n",
      "Intercept         300.5296      2.417    124.360      0.000     295.783     305.276\n",
      "C(TV)[T.Low]     -208.8133      3.329    -62.720      0.000    -215.353    -202.274\n",
      "C(TV)[T.Medium]  -101.5061      3.325    -30.526      0.000    -108.038     -94.975\n",
      "==============================================================================\n",
      "Omnibus:                      450.714   Durbin-Watson:                   2.002\n",
      "Prob(Omnibus):                  0.000   Jarque-Bera (JB):               35.763\n",
      "Skew:                          -0.044   Prob(JB):                     1.71e-08\n",
      "Kurtosis:                       1.775   Cond. No.                         3.86\n",
      "==============================================================================\n",
      "\n",
      "Warnings:\n",
      "[1] Standard Errors assume that the covariance matrix of the errors is correctly specified.\n"
     ]
    }
   ],
   "source": [
    "from statsmodels.formula.api import ols\n",
    "\n",
    "# Define the OLS formula\n",
    "formula = 'Sales ~ C(TV)'\n",
    "\n",
    "# Create an OLS model\n",
    "model = ols(formula, data=data)\n",
    "\n",
    "# Fit the model\n",
    "results = model.fit()\n",
    "\n",
    "# Save the results summary\n",
    "summary = results.summary()\n",
    "\n",
    "# Display the model results\n",
    "print(summary)"
   ]
  },
  {
   "cell_type": "markdown",
   "id": "51ab118f",
   "metadata": {
    "id": "109e32f5-8193-4961-8245-6b6c09acfe3a",
    "jp-MarkdownHeadingCollapsed": true,
    "tags": []
   },
   "source": [
    "<details>\n",
    "<summary><h4><strong>Hint 1</strong></h4></summary>\n",
    "\n",
    "Refer to code you've written to fit linear regression models.\n",
    "\n",
    "</details>"
   ]
  },
  {
   "cell_type": "markdown",
   "id": "0b466f4d",
   "metadata": {
    "id": "49424e08-3472-44f1-a892-63ed80517510"
   },
   "source": [
    "<details>\n",
    "<summary><h4><strong>Hint 2</strong></h4></summary>\n",
    "\n",
    "Use the `ols()` function from `statsmodels.formula.api`, which creates a model from a formula and DataFrame, to create an OLS model.\n",
    "\n",
    "</details>\n"
   ]
  },
  {
   "cell_type": "markdown",
   "id": "85f675ef",
   "metadata": {
    "id": "0ee5dead-ed62-45d5-ab24-d671d8c3dde4",
    "jp-MarkdownHeadingCollapsed": true,
    "tags": []
   },
   "source": [
    "<details>\n",
    "<summary><h4><strong>Hint 3</strong></h4></summary>\n",
    "\n",
    "Use `C()` around the variable name in the ols formula to indicate a variable is categorical.\n",
    "    \n",
    "Be sure the variable string names exactly match the column names in `data`.\n",
    "\n",
    "</details>"
   ]
  },
  {
   "cell_type": "markdown",
   "id": "0dbd2b3b",
   "metadata": {
    "id": "1d889a8b-76f5-4f27-833f-a19af27ed8ca"
   },
   "source": [
    "**Question:** Which categorical variable did you choose for the model? Why?"
   ]
  },
  {
   "cell_type": "markdown",
   "id": "8e7f0227",
   "metadata": {
    "id": "0e59dcd5-cb5b-4d24-a212-20123e48eb4c"
   },
   "source": [
    "I chose the TV variable for the model because earlier exploratory data analysis (via boxplots) showed a clear and substantial variation in Sales across different TV promotion budget categories (Low, Medium, High). This suggested that TV spending levels have a strong influence on Sales, making it a relevant predictor for building the initial regression model."
   ]
  },
  {
   "cell_type": "markdown",
   "id": "e44c738d",
   "metadata": {
    "id": "b4987bee-40ae-4513-95c3-1bec1acdbba9",
    "tags": []
   },
   "source": [
    "### Check model assumptions"
   ]
  },
  {
   "cell_type": "markdown",
   "id": "f5f7dc9d",
   "metadata": {
    "id": "6854af88-7d67-4214-a7df-c6405b46bb47"
   },
   "source": [
    "Now, check the four linear regression assumptions are upheld for your model."
   ]
  },
  {
   "cell_type": "markdown",
   "id": "7b2c3ab4",
   "metadata": {
    "id": "66de8f0b-fd6b-456f-add6-f893dc33d911",
    "tags": []
   },
   "source": [
    "**Question:** Is the linearity assumption met?"
   ]
  },
  {
   "cell_type": "markdown",
   "id": "5a9d7de1",
   "metadata": {
    "id": "82090a3a-875f-4da6-af73-6c790bd3457f"
   },
   "source": [
    "Yes, the linearity assumption appears to be met for this model. Since the predictor variable (TV) is categorical, the model estimates separate mean Sales values for each TV category. In this case, linearity refers to the relationship between the group means and the outcome variable (Sales), not a continuous linear trend. The model estimates these group means well, as shown by the high R-squared value (0.874), which suggests that the model captures the main pattern in the data."
   ]
  },
  {
   "cell_type": "markdown",
   "id": "3039ccd8",
   "metadata": {
    "id": "feeb314a-bbbe-4e9a-8561-2f8af0cd172e"
   },
   "source": [
    "The independent observation assumption states that each observation in the dataset is independent. As each marketing promotion (row) is independent from one another, the independence assumption is not violated."
   ]
  },
  {
   "cell_type": "markdown",
   "id": "b8a2cb97",
   "metadata": {
    "id": "bcccf5c8-3325-4b1e-b491-f151bea5ab1c"
   },
   "source": [
    "Next, verify that the normality assumption is upheld for the model."
   ]
  },
  {
   "cell_type": "code",
   "execution_count": 6,
   "id": "4434371d",
   "metadata": {
    "id": "cce8f99b-33e2-4723-9266-4f009e7a15dd"
   },
   "outputs": [
    {
     "data": {
      "image/png": "[encoded data removed]",
      "text/plain": [
       "<Figure size 432x288 with 1 Axes>"
      ]
     },
     "metadata": {
      "needs_background": "light"
     },
     "output_type": "display_data"
    },
    {
     "data": {
      "image/png": "[encoded data removed]",
      "text/plain": [
       "<Figure size 432x288 with 1 Axes>"
      ]
     },
     "metadata": {
      "needs_background": "light"
     },
     "output_type": "display_data"
    }
   ],
   "source": [
    "import seaborn as sns\n",
    "import matplotlib.pyplot as plt\n",
    "import statsmodels.api as sm\n",
    "\n",
    "# Calculate the residuals\n",
    "residuals = results.resid\n",
    "\n",
    "# Create a histogram of the residuals\n",
    "sns.histplot(residuals, kde=True)\n",
    "plt.title('Histogram of Residuals')\n",
    "plt.xlabel('Residuals')\n",
    "plt.ylabel('Frequency')\n",
    "plt.show()\n",
    "\n",
    "# Create a Q-Q plot of the residuals\n",
    "sm.qqplot(residuals, line='s')\n",
    "plt.title('Q-Q Plot of Residuals')\n",
    "plt.show()"
   ]
  },
  {
   "cell_type": "markdown",
   "id": "62cc56d4",
   "metadata": {
    "id": "39538404-e292-4564-b361-46353fc8e3f0"
   },
   "source": [
    "<details>\n",
    "<summary><h4><strong>Hint 1</strong></h4></summary>\n",
    "\n",
    "Access the residuals from the fit model object.\n",
    "\n",
    "</details>"
   ]
  },
  {
   "cell_type": "markdown",
   "id": "f8f276df",
   "metadata": {
    "id": "689dabc4-ad48-4c9e-976e-b70520801385"
   },
   "source": [
    "<details>\n",
    "<summary><h4><strong>Hint 2</strong></h4></summary>\n",
    "\n",
    "Use `model.resid` to get the residuals from a fit model called `model`.\n",
    "\n",
    "</details>"
   ]
  },
  {
   "cell_type": "markdown",
   "id": "fee8c0e2",
   "metadata": {
    "id": "562f868e-45e4-464a-a47e-9f1ed735d6a4"
   },
   "source": [
    "<details>\n",
    "<summary><h4><strong>Hint 3</strong></h4></summary>\n",
    "\n",
    "For the histogram, pass the residuals as the first argument in the `seaborn` `histplot()` function.\n",
    "    \n",
    "For the QQ-plot, pass the residuals as the first argument in the `statsmodels` `qqplot()` function.\n",
    "\n",
    "</details>"
   ]
  },
  {
   "cell_type": "markdown",
   "id": "1af6aa52",
   "metadata": {
    "id": "e41f4dd7-5501-43b7-b684-58bad8ff61fb"
   },
   "source": [
    "**Question:** Is the normality assumption met?"
   ]
  },
  {
   "cell_type": "markdown",
   "id": "18b460cb",
   "metadata": {
    "id": "fc232449-b3ea-4cb6-992d-cd129ef43cc9"
   },
   "source": [
    "The normality assumption appears to be mostly met, but with some deviations:\n",
    "\n",
    "The histogram of residuals is roughly bell-shaped and centered around zero, suggesting approximate normality.\n",
    "\n",
    "However, in the Q-Q plot, some points—especially at the tails—deviate from the straight line, indicating that there may be slight departures from perfect normality.\n",
    "\n",
    "These deviations are not severe, so the assumption is reasonably upheld for practical purposes, but it's something to keep in mind if higher precision is needed."
   ]
  },
  {
   "cell_type": "markdown",
   "id": "5c202579",
   "metadata": {
    "id": "be83ac10-d1d0-4b94-88de-5de424528547"
   },
   "source": [
    "Now, verify the constant variance (homoscedasticity) assumption is met for this model."
   ]
  },
  {
   "cell_type": "code",
   "execution_count": 7,
   "id": "a0c65bde",
   "metadata": {
    "id": "efcd0325-b3a0-42d1-ad57-38f10800c35e"
   },
   "outputs": [
    {
     "data": {
      "image/png": "[encoded data removed]",
      "text/plain": [
       "<Figure size 432x288 with 1 Axes>"
      ]
     },
     "metadata": {
      "needs_background": "light"
     },
     "output_type": "display_data"
    }
   ],
   "source": [
    "import seaborn as sns\n",
    "import matplotlib.pyplot as plt\n",
    "\n",
    "# Get fitted values and residuals\n",
    "fitted_values = results.fittedvalues\n",
    "residuals = results.resid\n",
    "\n",
    "# Create a scatter plot of fitted values vs residuals\n",
    "sns.scatterplot(x=fitted_values, y=residuals)\n",
    "plt.axhline(0, color='red', linestyle='--')  # Reference line at y = 0\n",
    "\n",
    "# Add plot labels and title\n",
    "plt.title('Residuals vs Fitted Values')\n",
    "plt.xlabel('Fitted Values')\n",
    "plt.ylabel('Residuals')\n",
    "\n",
    "# Show the plot\n",
    "plt.show()"
   ]
  },
  {
   "cell_type": "markdown",
   "id": "4dbf1e25",
   "metadata": {
    "id": "662f104d-0977-498f-8159-501063f3c3fc"
   },
   "source": [
    "<details>\n",
    "<summary><h4><strong>Hint 1</strong></h4></summary>\n",
    "\n",
    "Access the fitted values from the model object fit earlier.\n",
    "\n",
    "</details>"
   ]
  },
  {
   "cell_type": "markdown",
   "id": "21d59199",
   "metadata": {
    "id": "b0a3d26c-1e80-46e3-849a-d7f054cffb52",
    "jp-MarkdownHeadingCollapsed": true,
    "tags": []
   },
   "source": [
    "<details>\n",
    "<summary><h4><strong>Hint 2</strong></h4></summary>\n",
    "\n",
    "Use `model.fittedvalues` to get the fitted values from the fit model called `model`.\n",
    "\n",
    "</details>"
   ]
  },
  {
   "cell_type": "markdown",
   "id": "d4d9e3b9",
   "metadata": {
    "id": "5830cbfc-9204-42a6-b24f-3cf1334ff41e",
    "jp-MarkdownHeadingCollapsed": true,
    "tags": []
   },
   "source": [
    "<details>\n",
    "<summary><h4><strong>Hint 3</strong></h4></summary>\n",
    "\n",
    "\n",
    "Call the `scatterplot()` function from the `seaborn` library and pass in the fitted values and residuals.\n",
    "    \n",
    "Add a line to a figure using the `axline()` function.\n",
    "\n",
    "</details>"
   ]
  },
  {
   "cell_type": "markdown",
   "id": "bfeff0e6",
   "metadata": {
    "id": "8318f726-369c-446a-acad-85117e43459b"
   },
   "source": [
    "**Question:** Is the constant variance (homoscedasticity) assumption met?"
   ]
  },
  {
   "cell_type": "markdown",
   "id": "6a8c9bcc",
   "metadata": {
    "id": "8eadb921-bc45-4669-b4f0-e727111fff3c"
   },
   "source": [
    "Patterned residuals: The three distinct lines crossing the 0 line at different values suggest that the variance of the residuals is not constant across all levels of the fitted values. This could be a sign of heteroscedasticity.\n",
    "\n",
    "Heteroscedasticity: This occurs when the variance of the residuals is not constant, meaning that the error term behaves differently across various ranges of the independent variables (in this case, the fitted values). This could be indicative of a problem where the model doesn’t fully capture the relationship, or where certain groups (such as those around -110, 200, and 300) exhibit different patterns of variance."
   ]
  },
  {
   "cell_type": "markdown",
   "id": "54448ae2",
   "metadata": {
    "id": "84373d80-2129-4124-85fa-85871671004b"
   },
   "source": [
    "## **Step 4: Results and evaluation** "
   ]
  },
  {
   "cell_type": "markdown",
   "id": "10837940",
   "metadata": {
    "id": "30f5a3e8-a446-4a64-a0cb-4a512a367111"
   },
   "source": [
    "First, display the OLS regression results."
   ]
  },
  {
   "cell_type": "code",
   "execution_count": 8,
   "id": "a44fcc7b",
   "metadata": {
    "id": "7d0bfc27-05f7-4cfa-9aa1-8e2110eabd69"
   },
   "outputs": [
    {
     "name": "stdout",
     "output_type": "stream",
     "text": [
      "                            OLS Regression Results                            \n",
      "==============================================================================\n",
      "Dep. Variable:                  Sales   R-squared:                       0.874\n",
      "Model:                            OLS   Adj. R-squared:                  0.874\n",
      "Method:                 Least Squares   F-statistic:                     1971.\n",
      "Date:                Sun, 11 May 2025   Prob (F-statistic):          8.81e-256\n",
      "Time:                        20:47:07   Log-Likelihood:                -2778.9\n",
      "No. Observations:                 569   AIC:                             5564.\n",
      "Df Residuals:                     566   BIC:                             5577.\n",
      "Df Model:                           2                                         \n",
      "Covariance Type:            nonrobust                                         \n",
      "===================================================================================\n",
      "                      coef    std err          t      P>|t|      [0.025      0.975]\n",
      "-----------------------------------------------------------------------------------\n",
      "Intercept         300.5296      2.417    124.360      0.000     295.783     305.276\n",
      "C(TV)[T.Low]     -208.8133      3.329    -62.720      0.000    -215.353    -202.274\n",
      "C(TV)[T.Medium]  -101.5061      3.325    -30.526      0.000    -108.038     -94.975\n",
      "==============================================================================\n",
      "Omnibus:                      450.714   Durbin-Watson:                   2.002\n",
      "Prob(Omnibus):                  0.000   Jarque-Bera (JB):               35.763\n",
      "Skew:                          -0.044   Prob(JB):                     1.71e-08\n",
      "Kurtosis:                       1.775   Cond. No.                         3.86\n",
      "==============================================================================\n",
      "\n",
      "Warnings:\n",
      "[1] Standard Errors assume that the covariance matrix of the errors is correctly specified.\n"
     ]
    }
   ],
   "source": [
    "# Display the model results summary\n",
    "print(results.summary())"
   ]
  },
  {
   "cell_type": "markdown",
   "id": "6dadbbce",
   "metadata": {
    "id": "b29062e1-5c7f-4a78-b782-a07236bbcc28"
   },
   "source": [
    "**Question:** What is your interpretation of the model's R-squared?"
   ]
  },
  {
   "cell_type": "markdown",
   "id": "034170a4",
   "metadata": {
    "id": "e671f229-bdd7-40cc-bdad-f1291815e1fa"
   },
   "source": [
    "The R-squared value of 0.874 means that the model explains 87.4% of the variance in the Sales variable. In other words, 87.4% of the variability in sales can be accounted for by the TV promotion budget categories. This is a relatively high R-squared value, indicating a good fit between the model and the data. However, it's important to note that R-squared alone does not prove causation, and it doesn't guarantee that the model is the best or the only model that fits the data well."
   ]
  },
  {
   "cell_type": "markdown",
   "id": "9b3204c0",
   "metadata": {
    "id": "8ca575f3-cbba-4a0a-99d0-b8bf82ea49e4",
    "tags": []
   },
   "source": [
    "**Question:** What is your intepretation of the coefficient estimates? Are the coefficients statistically significant?"
   ]
  },
  {
   "cell_type": "markdown",
   "id": "c47ecdd0",
   "metadata": {
    "id": "bddb90f6-a238-4438-af18-ad8734dc0484"
   },
   "source": [
    "Interpretation of the Coefficient Estimates:\n",
    "Intercept (300.53): This is the predicted sales value when the TV promotion budget is categorized as 'High'. This is the baseline sales value for the highest category (since \"High\" is the reference category).\n",
    "\n",
    "C(TV)[T.Low] (-208.81): For observations where the TV promotion budget is categorized as Low, the predicted sales would decrease by 208.81 million compared to the baseline category (High TV promotion budget), holding other variables constant.\n",
    "\n",
    "C(TV)[T.Medium] (-101.51): For observations where the TV promotion budget is categorized as Medium, the predicted sales would decrease by 101.51 million compared to the baseline category (High TV promotion budget), holding other variables constant.\n",
    "\n",
    "The P>|t| values for all coefficients are 0.000, which indicates that the coefficients are statistically significant at any reasonable significance level (for instance, 0.05 or 0.01). This means the differences in sales based on TV promotion budget categories are highly significant.\n",
    "\n",
    "Interpretation of the F-statistic and P-value:\n",
    "The F-statistic is 1971, with a corresponding p-value of 8.81e-256, which is extremely small. This suggests that the model as a whole is statistically significant, and there is a strong relationship between the TV promotion budget categories and Sales."
   ]
  },
  {
   "cell_type": "markdown",
   "id": "025cda47",
   "metadata": {
    "id": "b7e61507-0dd5-4d32-8045-ba06cc37fcd4"
   },
   "source": [
    "**Question:** Do you think your model could be improved? Why or why not? How?"
   ]
  },
  {
   "cell_type": "markdown",
   "id": "cb4b57c6",
   "metadata": {
    "id": "5411c637-bba7-441e-85f1-26b2527d65e9"
   },
   "source": [
    "Could the Model Be Improved?\n",
    "Yes, the model could be improved. Although the R-squared value is relatively high, there are a few potential areas to consider:\n",
    "\n",
    "Other Variables: The model only includes TV promotion budget as a categorical variable. However, Social Media, Radio, and Influencer size are also part of the dataset and may provide valuable information for explaining Sales. Including these variables, either through multiple linear regression or interaction terms, could improve the model’s predictive power.\n",
    "\n",
    "Non-linear Relationships: The relationship between Sales and the independent variables may not be strictly linear. It may be worth investigating whether a non-linear model or transformations of the predictors could improve the fit.\n",
    "\n",
    "Interactions: There might be interaction effects between TV promotion and other variables like Social Media or Influencer size. Adding interaction terms to the model (e.g., TV * Influencer) could provide further insights into how different factors together influence sales.\n",
    "\n",
    "Regularization: If there were many independent variables, using regularization techniques like Ridge or Lasso regression could help avoid overfitting and select more relevant features."
   ]
  },
  {
   "cell_type": "markdown",
   "id": "ae78c739",
   "metadata": {
    "id": "97b169ad-b113-46e3-996a-53f268adbc6d"
   },
   "source": [
    "### Perform a one-way ANOVA test\n",
    "\n",
    "With the model fit, run a one-way ANOVA test to determine whether there is a statistically significant difference in `Sales` among groups. "
   ]
  },
  {
   "cell_type": "code",
   "execution_count": 9,
   "id": "7a83d472",
   "metadata": {
    "id": "aadfa800-a74c-4819-abb8-cda13ce16d96"
   },
   "outputs": [
    {
     "name": "stdout",
     "output_type": "stream",
     "text": [
      "             df        sum_sq       mean_sq            F         PR(>F)\n",
      "C(TV)       2.0  4.052692e+06  2.026346e+06  1971.455737  8.805550e-256\n",
      "Residual  566.0  5.817589e+05  1.027843e+03          NaN            NaN\n"
     ]
    }
   ],
   "source": [
    "import statsmodels.api as sm\n",
    "from statsmodels.stats.anova import anova_lm\n",
    "\n",
    "# Perform one-way ANOVA on the fitted model\n",
    "anova_results = anova_lm(results, typ=1)\n",
    "\n",
    "# Display the ANOVA table\n",
    "print(anova_results)"
   ]
  },
  {
   "cell_type": "markdown",
   "id": "9376f3b1",
   "metadata": {
    "id": "3574a603-96c3-4876-80bd-9864a1e466d6"
   },
   "source": [
    "<details>\n",
    "<summary><h4><strong>Hint 1</strong></h4></summary>\n",
    "\n",
    "Review what you've learned about how to perform a one-way ANOVA test.\n",
    "\n",
    "</details>"
   ]
  },
  {
   "cell_type": "markdown",
   "id": "d209f9ad",
   "metadata": {
    "id": "f1010b34-96b2-403a-8630-e83613ff40be"
   },
   "source": [
    "<details>\n",
    "<summary><h4><strong>Hint 2</strong></h4></summary>\n",
    "\n",
    "There is a function in `statsmodels.api` (i.e. `sm`) that peforms an ANOVA test for a fit linear model.\n",
    "\n",
    "</details>"
   ]
  },
  {
   "cell_type": "markdown",
   "id": "867b962b",
   "metadata": {
    "id": "b0ccc536-34c6-4bb7-a022-a2e4bec62397"
   },
   "source": [
    "<details>\n",
    "<summary><h4><strong>Hint 3</strong></h4></summary>\n",
    "\n",
    "Use the `anova_lm()` function from `sm.stats`. Specify the type of ANOVA test (for example, one-way or two-way), using the `typ` parameter.\n",
    "   \n",
    "\n",
    "</details>"
   ]
  },
  {
   "cell_type": "markdown",
   "id": "0380b4a6",
   "metadata": {
    "id": "735c20e2-bd53-4e36-81bd-38ae78a4d4a8"
   },
   "source": [
    "**Question:** What are the null and alternative hypotheses for the ANOVA test?"
   ]
  },
  {
   "cell_type": "markdown",
   "id": "ab1f3f12",
   "metadata": {
    "id": "4175c90c-a07b-4e62-b659-bc5b40aeadfb"
   },
   "source": [
    "Null Hypothesis (H₀):\n",
    "There is no statistically significant difference in Sales between the different TV promotion budget categories (Low, Medium, and High).\n",
    "\n",
    "Alternative Hypothesis (H₁):\n",
    "At least one of the TV promotion budget categories (Low, Medium, and High) has a statistically significant difference in Sales."
   ]
  },
  {
   "cell_type": "markdown",
   "id": "2bcff3a9",
   "metadata": {
    "id": "1f5807cb-aff6-4877-a70c-7dbffdb822e3"
   },
   "source": [
    "**Question:** What is your conclusion from the one-way ANOVA test?"
   ]
  },
  {
   "cell_type": "markdown",
   "id": "fd324cdc",
   "metadata": {
    "id": "81f755b7-11b8-4508-8962-fb0721b13df8"
   },
   "source": [
    "From the output of the ANOVA test, we see that the p-value (PR(>F)) for the TV variable is extremely small (approximately \n",
    "8.81\n",
    "×\n",
    "10\n",
    "−\n",
    "256\n",
    "8.81×10 \n",
    "−256\n",
    " ). Since this p-value is much less than the typical significance level (α = 0.05), we reject the null hypothesis.\n",
    " Conclusion: There is a statistically significant difference in Sales among the different TV promotion budget categories (Low, Medium, High)."
   ]
  },
  {
   "cell_type": "markdown",
   "id": "208ee1cb",
   "metadata": {
    "id": "6e1d8561-3957-400b-89d1-4330ee923193"
   },
   "source": [
    "**Question:** What did the ANOVA test tell you?"
   ]
  },
  {
   "cell_type": "markdown",
   "id": "1816e9f9",
   "metadata": {
    "id": "0206ac7d-fc6d-4505-aaf5-81ddce18001f"
   },
   "source": [
    "The ANOVA test has told us that the TV promotion budget category (Low, Medium, High) significantly impacts Sales. This means that Sales are not equally distributed across the different categories of TV promotion budget, and the TV category is an important factor influencing the variation in Sales."
   ]
  },
  {
   "cell_type": "markdown",
   "id": "d476d0d2",
   "metadata": {
    "id": "532a2ba1-8e9a-4c8f-b432-dfeea0e62fc4"
   },
   "source": [
    "### Perform an ANOVA post hoc test\n",
    "\n",
    "If you have significant results from the one-way ANOVA test, you can apply ANOVA post hoc tests such as the Tukey’s HSD post hoc test. \n",
    "\n",
    "Run the Tukey’s HSD post hoc test to compare if there is a significant difference between each pair of categories for TV."
   ]
  },
  {
   "cell_type": "code",
   "execution_count": 10,
   "id": "54400058",
   "metadata": {
    "id": "cce84e77-6269-4295-b961-8350a4b4920c"
   },
   "outputs": [
    {
     "name": "stdout",
     "output_type": "stream",
     "text": [
      "  Multiple Comparison of Means - Tukey HSD, FWER=0.05   \n",
      "========================================================\n",
      "group1 group2  meandiff p-adj   lower     upper   reject\n",
      "--------------------------------------------------------\n",
      "  High    Low -208.8133 0.001  -216.637 -200.9896   True\n",
      "  High Medium -101.5061 0.001 -109.3204  -93.6918   True\n",
      "   Low Medium  107.3072 0.001   99.7063   114.908   True\n",
      "--------------------------------------------------------\n"
     ]
    }
   ],
   "source": [
    "from statsmodels.stats.multicomp import pairwise_tukeyhsd\n",
    "\n",
    "# Perform the Tukey's HSD post hoc test\n",
    "tukey_results = pairwise_tukeyhsd(endog=data['Sales'], groups=data['TV'], alpha=0.05)\n",
    "\n",
    "# Display the results\n",
    "print(tukey_results)"
   ]
  },
  {
   "cell_type": "markdown",
   "id": "66a29fa5",
   "metadata": {
    "id": "119b0c6f-b7c7-47a7-80cb-ed94a07fc61c"
   },
   "source": [
    "<details>\n",
    "<summary><h4><strong>Hint 1</strong></h4></summary>\n",
    "\n",
    "Review what you've learned about how to perform a Tukey's HSD post hoc test.\n",
    "\n",
    "</details>"
   ]
  },
  {
   "cell_type": "markdown",
   "id": "f9403505",
   "metadata": {
    "id": "3adb039f-15d0-4f36-848b-3b469cd4d65d"
   },
   "source": [
    "<details>\n",
    "<summary><h4><strong>Hint 2</strong></h4></summary>\n",
    "\n",
    "Use the `pairwise_tukeyhsd()` function from `statsmodels.stats.multicomp`.\n",
    "\n",
    "</details>"
   ]
  },
  {
   "cell_type": "markdown",
   "id": "89862faf",
   "metadata": {
    "id": "5169a823-fd23-41bc-9766-1b3fd4bff1dc"
   },
   "source": [
    "<details>\n",
    "<summary><h4><strong>Hint 3</strong></h4></summary>\n",
    "\n",
    "The `endog` argument in `pairwise_tukeyhsd` indicates which variable is being compared across groups (i.e., `Sales`). The `groups` argument in `pairwise_tukeyhsd` tells the function which variable holds the group you’re interested in reviewing.\n",
    "\n",
    "</details>"
   ]
  },
  {
   "cell_type": "markdown",
   "id": "d123b569",
   "metadata": {
    "id": "529c0b8a-8ffb-445f-b045-521646408c16"
   },
   "source": [
    "**Question:** What is your interpretation of the Tukey HSD test?"
   ]
  },
  {
   "cell_type": "markdown",
   "id": "8abdc6d6",
   "metadata": {
    "id": "797099aa-a787-46a9-9ea1-ab125ff7ae27"
   },
   "source": [
    "Interpretation of the Tukey HSD Test:\n",
    "The Tukey’s HSD post hoc test compares all possible pairs of categories (in this case, the \"TV\" promotion budget categories: High, Medium, and Low) to determine if the differences in their means are statistically significant. Here's the output and what each column represents:\n",
    "\n",
    "group1\tgroup2\tmeandiff\tp-adj\tlower\tupper\treject\n",
    "High\tLow\t-208.8133\t0.001\t-216.637\t-200.99\tTrue\n",
    "High\tMedium\t-101.5061\t0.001\t-109.320\t-93.692\tTrue\n",
    "Low\tMedium\t107.3072\t0.001\t99.7063\t114.91\tTrue\n",
    "\n",
    "group1 and group2: These are the two groups being compared in each pair (e.g., High vs. Low, High vs. Medium, etc.).\n",
    "\n",
    "meandiff: The difference in the means between the two groups.\n",
    "\n",
    "p-adj: The adjusted p-value for the comparison. A p-value below 0.05 indicates a significant difference.\n",
    "\n",
    "lower and upper: The 95% confidence interval for the mean difference between the groups.\n",
    "\n",
    "reject: Whether we reject the null hypothesis (i.e., whether the difference is statistically significant). If the value is True, there is a statistically significant difference between the two groups.\n",
    "\n",
    "Interpretation of the Results:\n",
    "High vs Low: The mean difference between the High and Low TV budget categories is -208.81, with a p-value of 0.001, which is less than 0.05, indicating a statistically significant difference in Sales between the two categories.\n",
    "\n",
    "High vs Medium: The mean difference between the High and Medium TV budget categories is -101.51, with a p-value of 0.001, indicating a statistically significant difference.\n",
    "\n",
    "Low vs Medium: The mean difference between the Low and Medium TV budget categories is 107.31, with a p-value of 0.001, indicating a statistically significant difference."
   ]
  },
  {
   "cell_type": "markdown",
   "id": "c60c7f8e",
   "metadata": {
    "id": "f1bd994c-52ca-49ac-ba00-51bc36d07842"
   },
   "source": [
    "**Question:** What did the post hoc tell you?**"
   ]
  },
  {
   "cell_type": "markdown",
   "id": "a01ad370",
   "metadata": {
    "id": "a2e3d415-24b7-415f-8230-391edf3d0303"
   },
   "source": [
    "What the Post Hoc Test Told You:\n",
    "The Tukey’s HSD post hoc test confirms that there are significant differences in Sales between all pairs of the TV budget categories (High, Medium, and Low). Specifically:\n",
    "\n",
    "The High category is significantly different from both the Low and Medium categories.\n",
    "\n",
    "The Low category is also significantly different from the Medium category.\n",
    "\n",
    "This suggests that the TV promotion budget has a strong influence on sales, with the High TV budget group performing notably better than the Low and Medium groups.\n",
    "\n",
    "Conclusion:\n",
    "Based on the results from the Tukey’s HSD test, the TV promotion budget has a clear effect on Sales, with significant differences between the different budget categories."
   ]
  },
  {
   "cell_type": "markdown",
   "id": "ca2f5af1",
   "metadata": {
    "id": "agx1bDPU9cd4"
   },
   "source": [
    "## **Considerations**\n",
    "\n",
    "**What are some key takeaways that you learned during this lab?**\n",
    "\n",
    "Exploratory Data Analysis (EDA): Before fitting a model, it is essential to visualize and understand the data. Techniques like boxplots, histograms, and scatter plots help in identifying patterns, potential outliers, and relationships between variables.\n",
    "\n",
    "Data Cleaning: Handling missing data is critical. Dropping missing values ensures the model is built on clean and reliable data. It’s a basic but necessary step in data preprocessing.\n",
    "\n",
    "Model Building and Assumptions: Fitting a linear regression model requires careful validation of assumptions such as linearity, normality, and homoscedasticity. Understanding these assumptions is crucial for the model’s reliability.\n",
    "\n",
    "ANOVA: One-way ANOVA is useful for testing if there are significant differences between groups based on categorical variables. This test showed how Sales differ across TV promotion budget categories.\n",
    "\n",
    "Post-hoc Tests: The Tukey HSD test allows us to identify which specific pairs of categories have significant differences. This step is important after finding significant results in ANOVA to pinpoint where the differences lie.\n",
    "\n",
    "Model Interpretation: R-squared and the coefficient estimates help interpret the relationships between variables. High R-squared values indicate good model fit, and significant coefficients reveal the impact of different predictors on the target variable (Sales).\n",
    "\n",
    "\n",
    "**What summary would you provide to stakeholders? Consider the statistical significance of key relationships and differences in distribution.**\n",
    "\n",
    "Key Findings:\n",
    "\n",
    "The analysis showed that the TV promotion budget has a statistically significant impact on Sales. This was confirmed through linear regression, ANOVA, and Tukey's HSD post hoc tests.\n",
    "\n",
    "High TV budget categories significantly outperform Medium and Low categories in driving sales, with the Medium category performing better than the Low category as well.\n",
    "\n",
    "Statistical Significance:\n",
    "\n",
    "The ANOVA test indicated that there is a statistically significant difference in Sales across different TV promotion budget categories (High, Medium, Low).\n",
    "\n",
    "The Tukey’s HSD post hoc test revealed that all pairs of TV budget categories (High vs Low, High vs Medium, Low vs Medium) show significant differences in Sales.\n",
    "\n",
    "Business Implications:\n",
    "\n",
    "Companies should consider allocating a larger portion of their marketing budget to the High TV promotion category, as it has shown a clear positive impact on Sales.\n",
    "\n",
    "Medium TV budgets may still offer a cost-effective way to boost sales compared to low-budget strategies, which have less impact.\n",
    "\n",
    "Overall, the results suggest that targeting marketing investments in TV promotions, especially at the High budget level, will likely maximize sales performance. Further investigations could explore if similar trends are observed for other marketing channels like Radio and Social Media."
   ]
  },
  {
   "cell_type": "markdown",
   "id": "b0d676f6",
   "metadata": {
    "id": "88b01fcc-e016-4cd5-aedc-a71e51276fe2"
   },
   "source": [
    "#### **Reference**\n",
    "[Saragih, H.S. *Dummy Marketing and Sales Data*](https://www.kaggle.com/datasets/harrimansaragih/dummy-advertising-and-sales-data)"
   ]
  }
 ],
 "metadata": {
  "colab": {
   "collapsed_sections": [],
   "provenance": []
  },
  "kernelspec": {
   "display_name": "Python 3 (ipykernel)",
   "language": "python",
   "name": "python3"
  },
  "language_info": {
   "codemirror_mode": {
    "name": "ipython",
    "version": 3
   },
   "file_extension": ".py",
   "mimetype": "text/x-python",
   "name": "python",
   "nbconvert_exporter": "python",
   "pygments_lexer": "ipython3",
   "version": "3.11.9"
  }
 },
 "nbformat": 4,
 "nbformat_minor": 5
}
