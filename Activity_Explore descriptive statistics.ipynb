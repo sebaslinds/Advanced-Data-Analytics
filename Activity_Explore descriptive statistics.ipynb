{
 "cells": [
  {
   "cell_type": "markdown",
   "id": "e8dbef03",
   "metadata": {
    "id": "9HYKQFUbTX8V"
   },
   "source": [
    "# Activity: Explore descriptive statistics"
   ]
  },
  {
   "cell_type": "markdown",
   "id": "8ff8241a",
   "metadata": {
    "id": "ee31943b-274e-4c28-bce6-155cb6f4c334"
   },
   "source": [
    "## **Introduction**\n",
    "\n",
    "Data professionals often use descriptive statistics to understand the data they are working with and provide collaborators with a summary of the relative location of values in the data, as well an information about its spread. \n",
    "\n",
    "For this activity, you are a member of an analytics team for the United States Environmental Protection Agency (EPA). You are assigned to analyze data on air quality with respect to carbon monoxide, a major air pollutant. The data includes information from more than 200 sites, identified by state, county, city, and local site names. You will use Python functions to gather statistics about air quality, then share insights with stakeholders."
   ]
  },
  {
   "cell_type": "markdown",
   "id": "2dda9f38",
   "metadata": {
    "id": "4bb9630e-b940-4835-a389-d39def1fa848"
   },
   "source": [
    "## **Step 1: Imports** \n"
   ]
  },
  {
   "cell_type": "markdown",
   "id": "eb3d3e70",
   "metadata": {
    "id": "bc180686-4ae2-47ea-a292-3588ac60a820"
   },
   "source": [
    "Import the relevant Python libraries `pandas` and `numpy`."
   ]
  },
  {
   "cell_type": "code",
   "execution_count": 1,
   "id": "60cfea6e",
   "metadata": {
    "id": "8e7f1f2c-bbcc-4f3c-b927-b090ee8334c4"
   },
   "outputs": [],
   "source": [
    "# Import relevant Python libraries.\n",
    "import pandas as pd\n",
    "import numpy as np"
   ]
  },
  {
   "cell_type": "markdown",
   "id": "b4a96c67",
   "metadata": {
    "id": "7d29c6bd-f194-46bb-b794-56dc20130473"
   },
   "source": [
    "The dataset provided is in the form of a .csv file named `c4_epa_air_quality.csv`. It contains a subset of data from the U.S. EPA. As shown in this cell, the dataset has been automatically loaded in for you. You do not need to download the .csv file, or provide more code, in order to access the dataset and proceed with this lab. Please continue with this activity by completing the following instructions."
   ]
  },
  {
   "cell_type": "code",
   "execution_count": 2,
   "id": "baa88c80",
   "metadata": {
    "id": "3bd40d44-080f-4e49-b0c2-160dedc3c4df"
   },
   "outputs": [],
   "source": [
    "# RUN THIS CELL TO IMPORT YOUR DATA.\n",
    "\n",
    "### YOUR CODE HERE\n",
    "epa_data = pd.read_csv(\"c4_epa_air_quality.csv\", index_col = 0)"
   ]
  },
  {
   "cell_type": "markdown",
   "id": "f5ba9350",
   "metadata": {
    "id": "49881dfd-4532-424f-9729-f5378d984df0",
    "jp-MarkdownHeadingCollapsed": true,
    "tags": []
   },
   "source": [
    "<details>\n",
    "  <summary><h4><strong>Hint 1</strong></h4></summary>\n",
    "\n",
    "Refer to the video about loading data in Python.\n",
    "\n",
    "</details>"
   ]
  },
  {
   "cell_type": "markdown",
   "id": "3085565b",
   "metadata": {
    "id": "k2QxFOi9HW1Q",
    "jp-MarkdownHeadingCollapsed": true,
    "tags": []
   },
   "source": [
    "<details>\n",
    "  <summary><h4><strong>Hint 2</strong></h4></summary>\n",
    "\n",
    "  There is a function in the `pandas` library that allows you to read in data from a .csv file and load it into a DataFrame. \n",
    "\n",
    "</details>"
   ]
  },
  {
   "cell_type": "markdown",
   "id": "58def998",
   "metadata": {
    "id": "ptkclWFzHjHv",
    "jp-MarkdownHeadingCollapsed": true,
    "tags": []
   },
   "source": [
    "<details>\n",
    "  <summary><h4><strong>Hint 3</strong></h4></summary>\n",
    "\n",
    "  Use the `read_csv` function from the pandas `library`. The `index_col` parameter can be set to `0` to read in the first column as an index (and to avoid `\"Unnamed: 0\"` appearing as a column in the resulting DataFrame).\n",
    "\n",
    "</details>"
   ]
  },
  {
   "cell_type": "markdown",
   "id": "767328f2",
   "metadata": {
    "id": "95bf39c9-d05c-4324-a40b-bc692607b61b"
   },
   "source": [
    "## **Step 2: Data exploration** "
   ]
  },
  {
   "cell_type": "markdown",
   "id": "432dd3a2",
   "metadata": {
    "id": "26561614-8e9b-4840-8dbf-b50131ae5314",
    "tags": []
   },
   "source": [
    "To understand how the dataset is structured, display the first 10 rows of the data."
   ]
  },
  {
   "cell_type": "code",
   "execution_count": 3,
   "id": "65c99239",
   "metadata": {
    "id": "ad5210a5-7a64-4991-b004-de818cfaf506"
   },
   "outputs": [
    {
     "data": {
      "text/html": [
       "<div>\n",
       "<style scoped>\n",
       "    .dataframe tbody tr th:only-of-type {\n",
       "        vertical-align: middle;\n",
       "    }\n",
       "\n",
       "    .dataframe tbody tr th {\n",
       "        vertical-align: top;\n",
       "    }\n",
       "\n",
       "    .dataframe thead th {\n",
       "        text-align: right;\n",
       "    }\n",
       "</style>\n",
       "<table border=\"1\" class=\"dataframe\">\n",
       "  <thead>\n",
       "    <tr style=\"text-align: right;\">\n",
       "      <th></th>\n",
       "      <th>date_local</th>\n",
       "      <th>state_name</th>\n",
       "      <th>county_name</th>\n",
       "      <th>city_name</th>\n",
       "      <th>local_site_name</th>\n",
       "      <th>parameter_name</th>\n",
       "      <th>units_of_measure</th>\n",
       "      <th>arithmetic_mean</th>\n",
       "      <th>aqi</th>\n",
       "    </tr>\n",
       "  </thead>\n",
       "  <tbody>\n",
       "    <tr>\n",
       "      <th>0</th>\n",
       "      <td>2018-01-01</td>\n",
       "      <td>Arizona</td>\n",
       "      <td>Maricopa</td>\n",
       "      <td>Buckeye</td>\n",
       "      <td>BUCKEYE</td>\n",
       "      <td>Carbon monoxide</td>\n",
       "      <td>Parts per million</td>\n",
       "      <td>0.473684</td>\n",
       "      <td>7</td>\n",
       "    </tr>\n",
       "    <tr>\n",
       "      <th>1</th>\n",
       "      <td>2018-01-01</td>\n",
       "      <td>Ohio</td>\n",
       "      <td>Belmont</td>\n",
       "      <td>Shadyside</td>\n",
       "      <td>Shadyside</td>\n",
       "      <td>Carbon monoxide</td>\n",
       "      <td>Parts per million</td>\n",
       "      <td>0.263158</td>\n",
       "      <td>5</td>\n",
       "    </tr>\n",
       "    <tr>\n",
       "      <th>2</th>\n",
       "      <td>2018-01-01</td>\n",
       "      <td>Wyoming</td>\n",
       "      <td>Teton</td>\n",
       "      <td>Not in a city</td>\n",
       "      <td>Yellowstone National Park - Old Faithful Snow ...</td>\n",
       "      <td>Carbon monoxide</td>\n",
       "      <td>Parts per million</td>\n",
       "      <td>0.111111</td>\n",
       "      <td>2</td>\n",
       "    </tr>\n",
       "    <tr>\n",
       "      <th>3</th>\n",
       "      <td>2018-01-01</td>\n",
       "      <td>Pennsylvania</td>\n",
       "      <td>Philadelphia</td>\n",
       "      <td>Philadelphia</td>\n",
       "      <td>North East Waste (NEW)</td>\n",
       "      <td>Carbon monoxide</td>\n",
       "      <td>Parts per million</td>\n",
       "      <td>0.300000</td>\n",
       "      <td>3</td>\n",
       "    </tr>\n",
       "    <tr>\n",
       "      <th>4</th>\n",
       "      <td>2018-01-01</td>\n",
       "      <td>Iowa</td>\n",
       "      <td>Polk</td>\n",
       "      <td>Des Moines</td>\n",
       "      <td>CARPENTER</td>\n",
       "      <td>Carbon monoxide</td>\n",
       "      <td>Parts per million</td>\n",
       "      <td>0.215789</td>\n",
       "      <td>3</td>\n",
       "    </tr>\n",
       "    <tr>\n",
       "      <th>5</th>\n",
       "      <td>2018-01-01</td>\n",
       "      <td>Hawaii</td>\n",
       "      <td>Honolulu</td>\n",
       "      <td>Not in a city</td>\n",
       "      <td>Kapolei</td>\n",
       "      <td>Carbon monoxide</td>\n",
       "      <td>Parts per million</td>\n",
       "      <td>0.994737</td>\n",
       "      <td>14</td>\n",
       "    </tr>\n",
       "    <tr>\n",
       "      <th>6</th>\n",
       "      <td>2018-01-01</td>\n",
       "      <td>Hawaii</td>\n",
       "      <td>Honolulu</td>\n",
       "      <td>Not in a city</td>\n",
       "      <td>Kapolei</td>\n",
       "      <td>Carbon monoxide</td>\n",
       "      <td>Parts per million</td>\n",
       "      <td>0.200000</td>\n",
       "      <td>2</td>\n",
       "    </tr>\n",
       "    <tr>\n",
       "      <th>7</th>\n",
       "      <td>2018-01-01</td>\n",
       "      <td>Pennsylvania</td>\n",
       "      <td>Erie</td>\n",
       "      <td>Erie</td>\n",
       "      <td>NaN</td>\n",
       "      <td>Carbon monoxide</td>\n",
       "      <td>Parts per million</td>\n",
       "      <td>0.200000</td>\n",
       "      <td>2</td>\n",
       "    </tr>\n",
       "    <tr>\n",
       "      <th>8</th>\n",
       "      <td>2018-01-01</td>\n",
       "      <td>Hawaii</td>\n",
       "      <td>Honolulu</td>\n",
       "      <td>Honolulu</td>\n",
       "      <td>Honolulu</td>\n",
       "      <td>Carbon monoxide</td>\n",
       "      <td>Parts per million</td>\n",
       "      <td>0.400000</td>\n",
       "      <td>5</td>\n",
       "    </tr>\n",
       "    <tr>\n",
       "      <th>9</th>\n",
       "      <td>2018-01-01</td>\n",
       "      <td>Colorado</td>\n",
       "      <td>Larimer</td>\n",
       "      <td>Fort Collins</td>\n",
       "      <td>Fort Collins - CSU - S. Mason</td>\n",
       "      <td>Carbon monoxide</td>\n",
       "      <td>Parts per million</td>\n",
       "      <td>0.300000</td>\n",
       "      <td>6</td>\n",
       "    </tr>\n",
       "  </tbody>\n",
       "</table>\n",
       "</div>"
      ],
      "text/plain": [
       "   date_local    state_name   county_name      city_name  \\\n",
       "0  2018-01-01       Arizona      Maricopa        Buckeye   \n",
       "1  2018-01-01          Ohio       Belmont      Shadyside   \n",
       "2  2018-01-01       Wyoming         Teton  Not in a city   \n",
       "3  2018-01-01  Pennsylvania  Philadelphia   Philadelphia   \n",
       "4  2018-01-01          Iowa          Polk     Des Moines   \n",
       "5  2018-01-01        Hawaii      Honolulu  Not in a city   \n",
       "6  2018-01-01        Hawaii      Honolulu  Not in a city   \n",
       "7  2018-01-01  Pennsylvania          Erie           Erie   \n",
       "8  2018-01-01        Hawaii      Honolulu       Honolulu   \n",
       "9  2018-01-01      Colorado       Larimer   Fort Collins   \n",
       "\n",
       "                                     local_site_name   parameter_name  \\\n",
       "0                                            BUCKEYE  Carbon monoxide   \n",
       "1                                          Shadyside  Carbon monoxide   \n",
       "2  Yellowstone National Park - Old Faithful Snow ...  Carbon monoxide   \n",
       "3                             North East Waste (NEW)  Carbon monoxide   \n",
       "4                                          CARPENTER  Carbon monoxide   \n",
       "5                                            Kapolei  Carbon monoxide   \n",
       "6                                            Kapolei  Carbon monoxide   \n",
       "7                                                NaN  Carbon monoxide   \n",
       "8                                           Honolulu  Carbon monoxide   \n",
       "9                      Fort Collins - CSU - S. Mason  Carbon monoxide   \n",
       "\n",
       "    units_of_measure  arithmetic_mean  aqi  \n",
       "0  Parts per million         0.473684    7  \n",
       "1  Parts per million         0.263158    5  \n",
       "2  Parts per million         0.111111    2  \n",
       "3  Parts per million         0.300000    3  \n",
       "4  Parts per million         0.215789    3  \n",
       "5  Parts per million         0.994737   14  \n",
       "6  Parts per million         0.200000    2  \n",
       "7  Parts per million         0.200000    2  \n",
       "8  Parts per million         0.400000    5  \n",
       "9  Parts per million         0.300000    6  "
      ]
     },
     "execution_count": 3,
     "metadata": {},
     "output_type": "execute_result"
    }
   ],
   "source": [
    "# Display first 10 rows of the data.\n",
    "epa_data.head(10)"
   ]
  },
  {
   "cell_type": "markdown",
   "id": "6936a8e0",
   "metadata": {
    "id": "2UikTeK7IA-i",
    "jp-MarkdownHeadingCollapsed": true,
    "tags": []
   },
   "source": [
    "<details>\n",
    "  <summary><h4><strong>Hint 1</strong></h4></summary>\n",
    "\n",
    "Refer to the video about exploratory data analysis in Python.\n",
    "\n",
    "</details>"
   ]
  },
  {
   "cell_type": "markdown",
   "id": "c0860a4c",
   "metadata": {
    "id": "9WUbcPx6IA-k",
    "jp-MarkdownHeadingCollapsed": true,
    "tags": []
   },
   "source": [
    "<details>\n",
    "  <summary><h4><strong>Hint 2</strong></h4></summary>\n",
    "\n",
    "  There is a function in the `pandas` library that allows you to get a specific number of rows from the top of a DataFrame. \n",
    "\n",
    "</details>"
   ]
  },
  {
   "cell_type": "markdown",
   "id": "fdf8b250",
   "metadata": {
    "id": "rUiFGOUDIA-m",
    "jp-MarkdownHeadingCollapsed": true,
    "tags": []
   },
   "source": [
    "<details>\n",
    "  <summary><h4><strong>Hint 3</strong></h4></summary>\n",
    "\n",
    "  Use the `head()` function from the `pandas` library.\n",
    "\n",
    "</details>"
   ]
  },
  {
   "cell_type": "markdown",
   "id": "ef36bb15",
   "metadata": {
    "id": "fb45ed17-5e22-4d48-9750-130a8586bbf9",
    "tags": []
   },
   "source": [
    "**Question:** What does the `aqi` column represent?"
   ]
  },
  {
   "cell_type": "markdown",
   "id": "eaf2bbe0",
   "metadata": {
    "id": "MlpXJ36xpBFP"
   },
   "source": [
    "The aqi column represents the Air Quality Index, a standardized value used to report daily air quality. It indicates how clean or polluted the air is and what associated health effects might be of concern. A higher AQI value typically signifies worse air quality and greater potential health risks."
   ]
  },
  {
   "cell_type": "markdown",
   "id": "6a013b04",
   "metadata": {
    "id": "7dac147e-19e1-49e7-bd80-e122390c3a70",
    "tags": []
   },
   "source": [
    "Now, get a table that contains some descriptive statistics about the data."
   ]
  },
  {
   "cell_type": "code",
   "execution_count": 4,
   "id": "f9d3e0d2",
   "metadata": {
    "id": "13f1c1dd-5637-4726-8fa0-2fbd838e4afa"
   },
   "outputs": [
    {
     "data": {
      "text/html": [
       "<div>\n",
       "<style scoped>\n",
       "    .dataframe tbody tr th:only-of-type {\n",
       "        vertical-align: middle;\n",
       "    }\n",
       "\n",
       "    .dataframe tbody tr th {\n",
       "        vertical-align: top;\n",
       "    }\n",
       "\n",
       "    .dataframe thead th {\n",
       "        text-align: right;\n",
       "    }\n",
       "</style>\n",
       "<table border=\"1\" class=\"dataframe\">\n",
       "  <thead>\n",
       "    <tr style=\"text-align: right;\">\n",
       "      <th></th>\n",
       "      <th>arithmetic_mean</th>\n",
       "      <th>aqi</th>\n",
       "    </tr>\n",
       "  </thead>\n",
       "  <tbody>\n",
       "    <tr>\n",
       "      <th>count</th>\n",
       "      <td>260.000000</td>\n",
       "      <td>260.000000</td>\n",
       "    </tr>\n",
       "    <tr>\n",
       "      <th>mean</th>\n",
       "      <td>0.403169</td>\n",
       "      <td>6.757692</td>\n",
       "    </tr>\n",
       "    <tr>\n",
       "      <th>std</th>\n",
       "      <td>0.317902</td>\n",
       "      <td>7.061707</td>\n",
       "    </tr>\n",
       "    <tr>\n",
       "      <th>min</th>\n",
       "      <td>0.000000</td>\n",
       "      <td>0.000000</td>\n",
       "    </tr>\n",
       "    <tr>\n",
       "      <th>25%</th>\n",
       "      <td>0.200000</td>\n",
       "      <td>2.000000</td>\n",
       "    </tr>\n",
       "    <tr>\n",
       "      <th>50%</th>\n",
       "      <td>0.276315</td>\n",
       "      <td>5.000000</td>\n",
       "    </tr>\n",
       "    <tr>\n",
       "      <th>75%</th>\n",
       "      <td>0.516009</td>\n",
       "      <td>9.000000</td>\n",
       "    </tr>\n",
       "    <tr>\n",
       "      <th>max</th>\n",
       "      <td>1.921053</td>\n",
       "      <td>50.000000</td>\n",
       "    </tr>\n",
       "  </tbody>\n",
       "</table>\n",
       "</div>"
      ],
      "text/plain": [
       "       arithmetic_mean         aqi\n",
       "count       260.000000  260.000000\n",
       "mean          0.403169    6.757692\n",
       "std           0.317902    7.061707\n",
       "min           0.000000    0.000000\n",
       "25%           0.200000    2.000000\n",
       "50%           0.276315    5.000000\n",
       "75%           0.516009    9.000000\n",
       "max           1.921053   50.000000"
      ]
     },
     "execution_count": 4,
     "metadata": {},
     "output_type": "execute_result"
    }
   ],
   "source": [
    "# Get descriptive stats.\n",
    "epa_data.describe()"
   ]
  },
  {
   "cell_type": "markdown",
   "id": "44277230",
   "metadata": {
    "id": "c25c3da0-e242-4f46-9620-6d7f04911aea",
    "jp-MarkdownHeadingCollapsed": true,
    "tags": []
   },
   "source": [
    "<details>\n",
    "  <summary><h4><strong>Hint 1</strong></h4></summary>\n",
    "\n",
    "Refer to the video about descriptive statistics in Python.\n",
    "\n",
    "</details>"
   ]
  },
  {
   "cell_type": "markdown",
   "id": "1dc89139",
   "metadata": {
    "id": "BM8x5LToI-Kn",
    "jp-MarkdownHeadingCollapsed": true,
    "tags": []
   },
   "source": [
    "<details>\n",
    "  <summary><h4><strong>Hint 2</strong></h4></summary>\n",
    "\n",
    "  There is a function in the `pandas` library that allows you to generate a table of basic descriptive statistics about the numeric columns in a DataFrame.\n",
    "\n",
    "</details>"
   ]
  },
  {
   "cell_type": "markdown",
   "id": "e2ba8c95",
   "metadata": {
    "id": "TVhhKA-6I-Ko",
    "jp-MarkdownHeadingCollapsed": true,
    "tags": []
   },
   "source": [
    "<details>\n",
    "  <summary><h4><strong>Hint 3</strong></h4></summary>\n",
    "\n",
    "  Use the `describe()` function from the `pandas` library.\n",
    "\n",
    "</details>"
   ]
  },
  {
   "cell_type": "markdown",
   "id": "fdda2b4f",
   "metadata": {
    "id": "a70475eb-d3a6-42e4-8b71-a49b5a1aa0db"
   },
   "source": [
    "**Question:** Based on the table of descriptive statistics, what do you notice about the count value for the `aqi` column?"
   ]
  },
  {
   "cell_type": "markdown",
   "id": "ecc7e938",
   "metadata": {
    "id": "ZJddhXIUpCwz"
   },
   "source": [
    "The count value tells us how many non-null (non-missing) entries exist in the aqi column. If the count is less than the total number of rows in the dataset, it indicates that some values are missing. This helps assess data completeness."
   ]
  },
  {
   "cell_type": "markdown",
   "id": "860fd629",
   "metadata": {
    "id": "c7a59d04-61f1-45e5-946f-eaed074988cf"
   },
   "source": [
    "**Question:** What do you notice about the 25th percentile for the `aqi` column?\n",
    "\n",
    "This is an important measure for understanding where the aqi values lie. "
   ]
  },
  {
   "cell_type": "markdown",
   "id": "177a04a5",
   "metadata": {
    "id": "xhL4Qk7TpDrZ"
   },
   "source": [
    "The 25th percentile (also known as Q1) tells us that 25% of the AQI values fall below this number. This gives a sense of what constitutes lower-end air quality in the dataset and can help identify areas with consistently better air."
   ]
  },
  {
   "cell_type": "markdown",
   "id": "af1886a7",
   "metadata": {
    "id": "245a9299-23ea-4def-b968-b26be1da3a74"
   },
   "source": [
    "**Question:** What do you notice about the 75th percentile for the `aqi` column?\n",
    "\n",
    "This is another important measure for understanding where the aqi values lie. "
   ]
  },
  {
   "cell_type": "markdown",
   "id": "c8232aa0",
   "metadata": {
    "id": "W2SLJkeCpEOj"
   },
   "source": [
    "The 75th percentile (Q3) shows that 75% of the AQI values fall below this number. This value helps highlight the upper range of more polluted air conditions and is useful for detecting outliers or unusually high AQI levels."
   ]
  },
  {
   "cell_type": "markdown",
   "id": "65421c9c",
   "metadata": {
    "id": "ZfvOKy7F7SOA"
   },
   "source": [
    "## **Step 3: Statistical tests** "
   ]
  },
  {
   "cell_type": "markdown",
   "id": "cba3fac5",
   "metadata": {
    "id": "5464fa18-f969-4e1e-8539-9b2d9a11766d",
    "tags": []
   },
   "source": [
    "Next, get some descriptive statistics about the states in the data."
   ]
  },
  {
   "cell_type": "code",
   "execution_count": 5,
   "id": "288dcd29",
   "metadata": {
    "id": "678346a1-bc1a-40be-850a-c03488970604"
   },
   "outputs": [
    {
     "data": {
      "text/plain": [
       "count            260\n",
       "unique            52\n",
       "top       California\n",
       "freq              66\n",
       "Name: state_name, dtype: object"
      ]
     },
     "execution_count": 5,
     "metadata": {},
     "output_type": "execute_result"
    }
   ],
   "source": [
    "# Get descriptive stats about the states in the data.\n",
    "epa_data[\"state_name\"].describe()"
   ]
  },
  {
   "cell_type": "markdown",
   "id": "efe7782b",
   "metadata": {
    "id": "mXN8yn5hKneJ",
    "jp-MarkdownHeadingCollapsed": true,
    "tags": []
   },
   "source": [
    "<details>\n",
    "  <summary><h4><strong>Hint 1</strong></h4></summary>\n",
    "\n",
    "Refer to the video about descriptive statistics in Python.\n",
    "\n",
    "</details>"
   ]
  },
  {
   "cell_type": "markdown",
   "id": "7a6c6085",
   "metadata": {
    "id": "NrCBFqf6KneL",
    "jp-MarkdownHeadingCollapsed": true,
    "tags": []
   },
   "source": [
    "<details>\n",
    "  <summary><h4><strong>Hint 2</strong></h4></summary>\n",
    "\n",
    "  There is a function in the `pandas` library that allows you to generate basic descriptive statistics about a DataFrame or a column you are interested in.\n",
    "\n",
    "</details>"
   ]
  },
  {
   "cell_type": "markdown",
   "id": "db20efd5",
   "metadata": {
    "id": "ELA3AlzhKneN",
    "jp-MarkdownHeadingCollapsed": true,
    "tags": []
   },
   "source": [
    "<details>\n",
    "  <summary><h4><strong>Hint 3</strong></h4></summary>\n",
    "\n",
    " Use the `describe()` function from the `pandas` library. Note that this function can be used:\n",
    "- \"on a DataFrame (to find descriptive statistics about the numeric columns)\" \n",
    "- \"directly on a column containing categorical data (to find pertinent descriptive statistics)\"\n",
    "\n",
    "</details>"
   ]
  },
  {
   "cell_type": "markdown",
   "id": "61243a66",
   "metadata": {
    "id": "d6f10268-bf06-471f-8e6e-41c30a8e3e2a",
    "tags": []
   },
   "source": [
    "**Question:** What do you notice while reviewing the descriptive statistics about the states in the data? \n",
    "\n",
    "Note: Sometimes you have to individually calculate statistics. To review to that approach, use the `numpy` library to calculate each of the main statistics in the preceding table for the `aqi` column."
   ]
  },
  {
   "cell_type": "markdown",
   "id": "ed8e20bb",
   "metadata": {
    "id": "Vbu9rG78pGY1"
   },
   "source": [
    "[Write your response here. Double-click (or enter) to edit.]"
   ]
  },
  {
   "cell_type": "markdown",
   "id": "48502363",
   "metadata": {
    "id": "ArTZls9y8amg"
   },
   "source": [
    "## **Step 4. Results and evaluation**"
   ]
  },
  {
   "cell_type": "markdown",
   "id": "be4e510a",
   "metadata": {
    "id": "8c37014f-2751-4f65-b145-c63aa3a82e9a",
    "tags": []
   },
   "source": [
    "Now, compute the mean value from the `aqi` column."
   ]
  },
  {
   "cell_type": "code",
   "execution_count": 6,
   "id": "03c7a4f5",
   "metadata": {
    "id": "df5f18bc-9d4b-4625-9b6f-01a6323b8b89"
   },
   "outputs": [
    {
     "name": "stdout",
     "output_type": "stream",
     "text": [
      "Mean AQI: 6.757692307692308\n"
     ]
    }
   ],
   "source": [
    "import numpy as np\n",
    "\n",
    "# Compute the mean value from the aqi column\n",
    "mean_aqi = np.mean(epa_data[\"aqi\"])\n",
    "print(\"Mean AQI:\", mean_aqi)"
   ]
  },
  {
   "cell_type": "markdown",
   "id": "9d12871c",
   "metadata": {
    "id": "a2E3VhSkL4QR",
    "jp-MarkdownHeadingCollapsed": true,
    "tags": []
   },
   "source": [
    "<details>\n",
    "  <summary><h4><strong>Hint 1</strong></h4></summary>\n",
    "\n",
    "Refer to the video about descriptive statistics in Python.\n",
    "\n",
    "</details>"
   ]
  },
  {
   "cell_type": "markdown",
   "id": "6df08560",
   "metadata": {
    "id": "Cs9IQSfYL4QT",
    "jp-MarkdownHeadingCollapsed": true,
    "tags": []
   },
   "source": [
    "<details>\n",
    "  <summary><h4><strong>Hint 2</strong></h4></summary>\n",
    "\n",
    "  There is a function in the `numpy` library that allows you to get the mean value from an array or a Series of values.\n",
    "\n",
    "</details>"
   ]
  },
  {
   "cell_type": "markdown",
   "id": "840d81b0",
   "metadata": {
    "id": "aqewdWRoL4QU",
    "jp-MarkdownHeadingCollapsed": true,
    "tags": []
   },
   "source": [
    "<details>\n",
    "  <summary><h4><strong>Hint 3</strong></h4></summary>\n",
    "\n",
    "  Use the `mean()` function from the `numpy` library.\n",
    "\n",
    "</details>"
   ]
  },
  {
   "cell_type": "markdown",
   "id": "6166c824",
   "metadata": {
    "id": "4552de4a-70d5-4862-bff8-e08b8a812d98"
   },
   "source": [
    "**Question:** What do you notice about the mean value from the `aqi` column?\n",
    "\n",
    "This is an important measure, as it tells you what the average air quality is based on the data."
   ]
  },
  {
   "cell_type": "markdown",
   "id": "35c53006",
   "metadata": {
    "id": "PV0GCfM9pJqw"
   },
   "source": [
    "The mean AQI value gives us an estimate of the average air quality across all recorded sites. A higher mean could indicate more widespread pollution events or consistently poor air quality. If the mean is close to the median or the 50th percentile, this suggests a relatively symmetric distribution; if it is much higher than the median, it may indicate skewed data with some high-AQI outliers."
   ]
  },
  {
   "cell_type": "markdown",
   "id": "2fe157d3",
   "metadata": {
    "id": "573d29cd-0ea9-4c96-80ea-c02144a155e9",
    "tags": []
   },
   "source": [
    "Next, compute the median value from the aqi column."
   ]
  },
  {
   "cell_type": "code",
   "execution_count": 7,
   "id": "307856dd",
   "metadata": {
    "id": "12da2095-441f-48f5-b8eb-1c7ae76edc9e"
   },
   "outputs": [
    {
     "name": "stdout",
     "output_type": "stream",
     "text": [
      "Median AQI: 5.0\n"
     ]
    }
   ],
   "source": [
    "import numpy as np\n",
    "\n",
    "# Compute the median value from the aqi column\n",
    "median_aqi = np.median(epa_data[\"aqi\"])\n",
    "print(\"Median AQI:\", median_aqi)"
   ]
  },
  {
   "cell_type": "markdown",
   "id": "64f2320a",
   "metadata": {
    "id": "ZTaoY4RpM3q7",
    "jp-MarkdownHeadingCollapsed": true,
    "tags": []
   },
   "source": [
    "<details>\n",
    "  <summary><h4><strong>Hint 1</strong></h4></summary>\n",
    "\n",
    "Refer to the video about descriptive statistics in Python.\n",
    "\n",
    "</details>"
   ]
  },
  {
   "cell_type": "markdown",
   "id": "f2790b62",
   "metadata": {
    "id": "AuZzoodzM3q9",
    "jp-MarkdownHeadingCollapsed": true,
    "tags": []
   },
   "source": [
    "<details>\n",
    "  <summary><h4><strong>Hint 2</strong></h4></summary>\n",
    "\n",
    "  There is a function in the `numpy` library that allows you to get the median value from an array or a series of values.\n",
    "\n",
    "</details>"
   ]
  },
  {
   "cell_type": "markdown",
   "id": "acdbc14e",
   "metadata": {
    "id": "hdeDIF-tM3q_",
    "jp-MarkdownHeadingCollapsed": true,
    "tags": []
   },
   "source": [
    "<details>\n",
    "  <summary><h4><strong>Hint 3</strong></h4></summary>\n",
    "\n",
    "  Use the `median()` function from the `numpy` library.\n",
    "\n",
    "</details>"
   ]
  },
  {
   "cell_type": "markdown",
   "id": "c643a740",
   "metadata": {
    "id": "be75aa7d-a91c-4e3b-8eda-e2e3fe89c8d0"
   },
   "source": [
    "**Question:** What do you notice about the median value from the `aqi` column?\n",
    "\n",
    "This is an important measure for understanding the central location of the data."
   ]
  },
  {
   "cell_type": "markdown",
   "id": "7b10f558",
   "metadata": {
    "id": "LCW6pR6fpKdR"
   },
   "source": [
    "The median AQI represents the middle value of the dataset and is less affected by outliers than the mean. If the median is significantly lower than the mean, it indicates a right-skewed distribution, suggesting that some very high AQI readings are pulling the mean upward. This skewness can point to occasional severe pollution events affecting the overall average but not the majority of the data."
   ]
  },
  {
   "cell_type": "markdown",
   "id": "75b9cd4b",
   "metadata": {
    "id": "4f8cdeda-be0c-4a18-9a33-0a16c91f08fc",
    "tags": []
   },
   "source": [
    "Next, identify the minimum value from the `aqi` column."
   ]
  },
  {
   "cell_type": "code",
   "execution_count": 8,
   "id": "a6bf3875",
   "metadata": {
    "id": "bb3f1739-89aa-442a-8ddb-6c2d381243f3"
   },
   "outputs": [
    {
     "name": "stdout",
     "output_type": "stream",
     "text": [
      "Minimum AQI: 0\n"
     ]
    }
   ],
   "source": [
    "import numpy as np\n",
    "\n",
    "# Identify the minimum value from the aqi column\n",
    "min_aqi = np.min(epa_data[\"aqi\"])\n",
    "print(\"Minimum AQI:\", min_aqi)"
   ]
  },
  {
   "cell_type": "markdown",
   "id": "4a998b2c",
   "metadata": {
    "id": "qx6thFRiR7Ed",
    "jp-MarkdownHeadingCollapsed": true,
    "tags": []
   },
   "source": [
    "<details>\n",
    "  <summary><h4><strong>Hint 1</strong></h4></summary>\n",
    "\n",
    "Refer to the video about descriptive statistics in Python.\n",
    "\n",
    "</details>"
   ]
  },
  {
   "cell_type": "markdown",
   "id": "839a0578",
   "metadata": {
    "id": "vZeWnVMDR7Ee",
    "jp-MarkdownHeadingCollapsed": true,
    "tags": []
   },
   "source": [
    "<details>\n",
    "  <summary><h4><strong>Hint 2</strong></h4></summary>\n",
    "\n",
    "  There is a function in the `numpy` library that allows you to get the minimum value from an array or a Series of values.\n",
    "\n",
    "</details>"
   ]
  },
  {
   "cell_type": "markdown",
   "id": "d18e40be",
   "metadata": {
    "id": "RILxi-fPR7Ef",
    "jp-MarkdownHeadingCollapsed": true,
    "tags": []
   },
   "source": [
    "<details>\n",
    "  <summary><h4><strong>Hint 3</strong></h4></summary>\n",
    "\n",
    "  Use the `min()` function from the `numpy` library.\n",
    "\n",
    "</details>"
   ]
  },
  {
   "cell_type": "markdown",
   "id": "225eb8cd",
   "metadata": {
    "id": "59335267-2025-4013-92de-fec720576263"
   },
   "source": [
    "**Question:** What do you notice about the minimum value from the `aqi` column?\n",
    "\n",
    "This is an important measure, as it tell you the best air quality observed in the data."
   ]
  },
  {
   "cell_type": "markdown",
   "id": "7fb2d2d4",
   "metadata": {
    "id": "0IbKLA8gpLVR"
   },
   "source": [
    "The minimum AQI value represents the best air quality recorded in the dataset. A low AQI (especially between 0 and 50) indicates good air quality with little or no risk to health. This tells us that at least one measurement point in the dataset experienced excellent air quality conditions."
   ]
  },
  {
   "cell_type": "markdown",
   "id": "6edb680b",
   "metadata": {
    "id": "5864cf7b-af15-4cd9-8648-903c882e8e8f",
    "tags": []
   },
   "source": [
    "Now, identify the maximum value from the `aqi` column."
   ]
  },
  {
   "cell_type": "code",
   "execution_count": 9,
   "id": "49fe82bf",
   "metadata": {
    "id": "ce9670ac-1fb3-48d1-ac92-f04f73ef0e37"
   },
   "outputs": [
    {
     "name": "stdout",
     "output_type": "stream",
     "text": [
      "Maximum AQI: 50\n"
     ]
    }
   ],
   "source": [
    "import numpy as np\n",
    "\n",
    "# Identify the maximum value from the aqi column\n",
    "max_aqi = np.max(epa_data[\"aqi\"])\n",
    "print(\"Maximum AQI:\", max_aqi)"
   ]
  },
  {
   "cell_type": "markdown",
   "id": "db006946",
   "metadata": {
    "id": "FUhO3yFeSFXZ",
    "jp-MarkdownHeadingCollapsed": true,
    "tags": []
   },
   "source": [
    "<details>\n",
    "  <summary><h4><strong>Hint 1</strong></h4></summary>\n",
    "\n",
    "Refer to the video about descriptive statistics in Python.\n",
    "\n",
    "</details>"
   ]
  },
  {
   "cell_type": "markdown",
   "id": "b6b39ea6",
   "metadata": {
    "id": "vR475DQfSFXc",
    "jp-MarkdownHeadingCollapsed": true,
    "tags": []
   },
   "source": [
    "<details>\n",
    "  <summary><h4><strong>Hint 2</strong></h4></summary>\n",
    "\n",
    "  There is a function in the `numpy` library that allows you to get the maximum value from an array or a Series of values.\n",
    "\n",
    "</details>"
   ]
  },
  {
   "cell_type": "markdown",
   "id": "41d000d2",
   "metadata": {
    "id": "a7eDQB8_SFXe",
    "jp-MarkdownHeadingCollapsed": true,
    "tags": []
   },
   "source": [
    "<details>\n",
    "  <summary><h4><strong>Hint 3</strong></h4></summary>\n",
    "\n",
    "  Use the `max()` function from the `numpy` library.\n",
    "\n",
    "</details>"
   ]
  },
  {
   "cell_type": "markdown",
   "id": "e8c4bd16",
   "metadata": {
    "id": "b66e1d7d-a90e-4aff-b8da-3725c4f15c26"
   },
   "source": [
    "**Question:** What do you notice about the maximum value from the `aqi` column?\n",
    "\n",
    "This is an important measure, as it tells you which value in the data corresponds to the worst air quality observed in the data."
   ]
  },
  {
   "cell_type": "markdown",
   "id": "7b9a8215",
   "metadata": {
    "id": "_BOdBpYupMNh"
   },
   "source": [
    "The maximum AQI value represents the worst air quality recorded in the dataset. A high AQI (especially above 150) indicates unhealthy or hazardous air quality, particularly for sensitive groups or even the general population. This helps identify pollution hotspots or problematic time periods that may need further investigation or regulatory action."
   ]
  },
  {
   "cell_type": "markdown",
   "id": "5a792dc1",
   "metadata": {
    "id": "0f2b502c-55bd-4567-b602-129d5b682ea4",
    "tags": []
   },
   "source": [
    "Now, compute the standard deviation for the `aqi` column.\n",
    "\n",
    "By default, the `numpy` library uses 0 as the Delta Degrees of Freedom, while `pandas` library uses 1. To get the same value for standard deviation using either library, specify the `ddof` parameter to 1 when calculating standard deviation."
   ]
  },
  {
   "cell_type": "code",
   "execution_count": 10,
   "id": "7697974b",
   "metadata": {
    "id": "4caba3ad-6e7c-416a-a062-39a6af9f1f00"
   },
   "outputs": [
    {
     "name": "stdout",
     "output_type": "stream",
     "text": [
      "Standard Deviation of AQI: 7.0617066788207215\n"
     ]
    }
   ],
   "source": [
    "# Compute the standard deviation for the aqi column\n",
    "std_aqi = np.std(epa_data[\"aqi\"], ddof=1)  # ddof=1 for sample standard deviation\n",
    "print(\"Standard Deviation of AQI:\", std_aqi)"
   ]
  },
  {
   "cell_type": "markdown",
   "id": "480b209f",
   "metadata": {
    "id": "dZTFWnOTSNbA",
    "jp-MarkdownHeadingCollapsed": true,
    "tags": []
   },
   "source": [
    "<details>\n",
    "  <summary><h4><strong>Hint 1</strong></h4></summary>\n",
    "\n",
    "Refer to the video section about descriptive statistics in Python.\n",
    "\n",
    "</details>"
   ]
  },
  {
   "cell_type": "markdown",
   "id": "0cb2feed",
   "metadata": {
    "id": "ps6bHHn_SNbC",
    "jp-MarkdownHeadingCollapsed": true,
    "tags": []
   },
   "source": [
    "<details>\n",
    "  <summary><h4><strong>Hint 2</strong></h4></summary>\n",
    "\n",
    "  There is a function in the `numpy` library that allows you to get the standard deviation from an array or a series of values.\n",
    "\n",
    "</details>"
   ]
  },
  {
   "cell_type": "markdown",
   "id": "7d471e5f",
   "metadata": {
    "id": "FI09MR1ZSNbD",
    "jp-MarkdownHeadingCollapsed": true,
    "tags": []
   },
   "source": [
    "<details>\n",
    "  <summary><h4><strong>Hint 3</strong></h4></summary>\n",
    "\n",
    "Use the `std()` function from the `numpy` library. Make sure to specify the `ddof` parameter as 1. To read more about this function,  refer to its documentation in the references section of this lab.\n",
    "\n",
    "</details>"
   ]
  },
  {
   "cell_type": "markdown",
   "id": "ba69157e",
   "metadata": {
    "id": "890f18c1-97cc-4e92-8860-1e4ce3213e2e"
   },
   "source": [
    "**Question:** What do you notice about the standard deviation for the `aqi` column? \n",
    "\n",
    "This is an important measure of how spread out the aqi values are."
   ]
  },
  {
   "cell_type": "markdown",
   "id": "5ada5137",
   "metadata": {
    "id": "FWASCwOQZsgP"
   },
   "source": [
    "The standard deviation represents the amount of variation or spread in the AQI data. A larger standard deviation indicates that the air quality measurements are widely spread out from the mean, whereas a smaller standard deviation indicates that the values are closer to the mean.\n",
    "\n",
    "If the standard deviation is relatively large compared to the mean, it suggests that there are areas with significantly worse air quality (with high AQI values) as well as areas with better air quality (with lower AQI values). Understanding this can help identify regions with more variable air quality."
   ]
  },
  {
   "cell_type": "markdown",
   "id": "53ce8301",
   "metadata": {
    "id": "c77e7f0f-d2b9-4464-8a7c-9575d1e1ef9f"
   },
   "source": [
    "## **Considerations**\n"
   ]
  },
  {
   "cell_type": "markdown",
   "id": "beabd8e4",
   "metadata": {
    "id": "eptkD7BmYw0h"
   },
   "source": [
    "**What are some key takeaways that you learned during this lab?**"
   ]
  },
  {
   "cell_type": "markdown",
   "id": "6b37764e",
   "metadata": {
    "id": "LmFmOwT7Yzlw"
   },
   "source": [
    "During this lab, I learned how to effectively calculate and interpret key descriptive statistics for a dataset, including measures of central tendency (mean, median), spread (standard deviation), and boundaries (minimum and maximum values). These measures are critical for understanding the data and identifying trends or outliers. The analysis also helped me understand how the AQI (Air Quality Index) values vary across different locations, which provides valuable insight into regions with potentially hazardous air quality."
   ]
  },
  {
   "cell_type": "markdown",
   "id": "081f1bc8",
   "metadata": {
    "id": "P_B0fXmoYz_g"
   },
   "source": [
    "**How would you present your findings from this lab to others? Consider the following relevant points noted by AirNow.gov as you respond:**\n",
    "- \"AQI values at or below 100 are generally thought of as satisfactory. When AQI values are above 100, air quality is considered to be unhealthy—at first for certain sensitive groups of people, then for everyone as AQI values increase.\"\n",
    "- \"An AQI of 100 for carbon monoxide corresponds to a level of 9.4 parts per million.\""
   ]
  },
  {
   "cell_type": "markdown",
   "id": "2284bc81",
   "metadata": {
    "id": "gfnZAHZ4Y7a_"
   },
   "source": [
    "Presentation of Findings:\n",
    "To present the findings from this lab, I would emphasize the following key insights:\n",
    "\n",
    "Average Air Quality (Mean AQI): The mean AQI provides an overall picture of the average air quality in the dataset. If the mean AQI is close to or above 100, this indicates that the air quality may not be satisfactory for many areas, and steps may need to be taken to address pollution.\n",
    "\n",
    "Spread of AQI Values: The standard deviation allows us to assess how much air quality deviates from the average across different regions. If there is high variability, this could mean that some areas experience significantly worse air quality compared to others.\n",
    "\n",
    "Extreme AQI Values: Identifying the maximum and minimum AQI values helps to pinpoint the worst and best air quality recorded. This is particularly important when considering vulnerable populations, as extremely high AQI values can indicate unhealthy air conditions.\n",
    "\n",
    "Interpretation of AQI Levels: Based on AirNow.gov's guidelines, AQI values below 100 are generally considered satisfactory, while values above 100 become progressively more hazardous, especially for sensitive groups. As AQI increases above 100, the health risk extends to the general population."
   ]
  },
  {
   "cell_type": "markdown",
   "id": "807e73cb",
   "metadata": {
    "id": "B9NTCauFY7xU"
   },
   "source": [
    "**What summary would you provide to stakeholders? Use the same information provided previously from AirNow.gov as you respond.**"
   ]
  },
  {
   "cell_type": "markdown",
   "id": "8c164ca2",
   "metadata": {
    "id": "BO_KrnISY9ts"
   },
   "source": [
    "Based on the results of this analysis:\n",
    "\n",
    "Most areas have an acceptable AQI (less than 100), but there are regions with significant pollution that exceed the threshold for unhealthy air quality.\n",
    "\n",
    "The mean AQI across the dataset indicates the average air quality across different sites, and the standard deviation shows how much variability exists in air quality.\n",
    "\n",
    "There are areas with extremely high AQI values, which could pose health risks, especially to sensitive groups like children, elderly individuals, or those with respiratory conditions.\n",
    "\n",
    "I would recommend focusing efforts on reducing carbon monoxide emissions in areas with AQI values well above 100 to ensure the health and well-being of residents and visitors."
   ]
  },
  {
   "cell_type": "markdown",
   "id": "724a1964",
   "metadata": {
    "id": "OPcCpjDLuHaW"
   },
   "source": [
    "**References**\n",
    "\n",
    "[Air Quality Index - A Guide to Air Quality and Your Health](https://www.airnow.gov/sites/default/files/2018-04/aqi_brochure_02_14_0.pdf). (2014,February)\n",
    "\n",
    "[Numpy.Std — NumPy v1.23 Manual](https://numpy.org/doc/stable/reference/generated/numpy.std.html)\n",
    "\n",
    "US EPA, OAR. (2014, 8 July).[*Air Data: Air Quality Data Collected at Outdoor Monitors Across the US*](https://www.epa.gov/outdoor-air-quality-data). "
   ]
  }
 ],
 "metadata": {
  "colab": {
   "collapsed_sections": [
    "68dc9b73-8944-4dd6-b2f8-6879717a7dab",
    "a70475eb-d3a6-42e4-8b71-a49b5a1aa0db",
    "c7a59d04-61f1-45e5-946f-eaed074988cf",
    "4552de4a-70d5-4862-bff8-e08b8a812d98",
    "be75aa7d-a91c-4e3b-8eda-e2e3fe89c8d0",
    "59335267-2025-4013-92de-fec720576263",
    "b66e1d7d-a90e-4aff-b8da-3725c4f15c26"
   ],
   "name": "SR-032_Learner_Facing_Lab_Round4.ipynb",
   "provenance": []
  },
  "kernelspec": {
   "display_name": "Python 3 (ipykernel)",
   "language": "python",
   "name": "python3"
  },
  "language_info": {
   "codemirror_mode": {
    "name": "ipython",
    "version": 3
   },
   "file_extension": ".py",
   "mimetype": "text/x-python",
   "name": "python",
   "nbconvert_exporter": "python",
   "pygments_lexer": "ipython3",
   "version": "3.11.9"
  },
  "toc-autonumbering": false,
  "toc-showtags": false
 },
 "nbformat": 4,
 "nbformat_minor": 5
}
