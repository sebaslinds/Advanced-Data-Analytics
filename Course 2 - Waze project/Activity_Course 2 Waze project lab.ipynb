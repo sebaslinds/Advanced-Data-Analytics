{
 "cells": [
  {
   "cell_type": "markdown",
   "metadata": {
    "id": "DtNBZFHO3M7n"
   },
   "source": [
    "# **Waze Project**\n",
    "**Course 2 - Get Started with Python**"
   ]
  },
  {
   "cell_type": "markdown",
   "metadata": {
    "id": "zJCatj3xzrQZ"
   },
   "source": [
    "Welcome to the Waze Project!\n",
    "\n",
    "Your Waze data analytics team is still in the early stages of their user churn project. Previously, you were asked to complete a project proposal by your supervisor, May Santner. You have received notice that your project proposal has been approved and that your team has been given access to Waze's user data. To get clear insights, the user data must be inspected and prepared for the upcoming process of exploratory data analysis (EDA).\n",
    "\n",
    "A Python notebook has been prepared to guide you through this project. Answer the questions and create an executive summary for the Waze data team."
   ]
  },
  {
   "cell_type": "markdown",
   "metadata": {
    "id": "rgSbVJvomcVa"
   },
   "source": [
    "# **Course 2 End-of-course project: Inspect and analyze data**\n",
    "\n",
    "In this activity, you will examine data provided and prepare it for analysis. This activity will help ensure the information is,\n",
    "\n",
    "1.   Ready to answer questions and yield insights\n",
    "\n",
    "2.   Ready for visualizations\n",
    "\n",
    "3.   Ready for future hypothesis testing and statistical methods\n",
    "<br/>\n",
    "\n",
    "**The purpose** of this project is to investigate and understand the data provided.\n",
    "\n",
    "**The goal** is to use a dataframe contructed within Python, perform a cursory inspection of the provided dataset, and inform team members of your findings.\n",
    "<br/>\n",
    "\n",
    "*This activity has three parts:*\n",
    "\n",
    "**Part 1:** Understand the situation\n",
    "* How can you best prepare to understand and organize the provided information?\n",
    "\n",
    "**Part 2:** Understand the data\n",
    "\n",
    "* Create a pandas dataframe for data learning, future exploratory data analysis (EDA), and statistical activities\n",
    "\n",
    "* Compile summary information about the data to inform next steps\n",
    "\n",
    "**Part 3:** Understand the variables\n",
    "\n",
    "* Use insights from your examination of the summary data to guide deeper investigation into variables\n",
    "\n",
    "\n",
    "<br/>\n",
    "\n",
    "Follow the instructions and answer the following questions to complete the activity. Then, you will complete an Executive Summary using the questions listed on the PACE Strategy Document.\n",
    "\n",
    "Be sure to complete this activity before moving on. The next course item will provide you with a completed exemplar to compare to your own work.\n",
    "\n"
   ]
  },
  {
   "cell_type": "markdown",
   "metadata": {
    "id": "HjFGokxv2pc5"
   },
   "source": [
    "# **Identify data types and compile summary information**\n"
   ]
  },
  {
   "cell_type": "markdown",
   "metadata": {
    "id": "MRUYfzCb4vop"
   },
   "source": [
    "<img src=\"images/Pace.png\" width=\"100\" height=\"100\" align=left>\n",
    "\n",
    "# **PACE stages**"
   ]
  },
  {
   "cell_type": "markdown",
   "metadata": {
    "id": "b4B47DQPcSQu"
   },
   "source": [
    "Throughout these project notebooks, you'll see references to the problem-solving framework, PACE. The following notebook components are labeled with the respective PACE stages: Plan, Analyze, Construct, and Execute."
   ]
  },
  {
   "cell_type": "markdown",
   "metadata": {
    "id": "zRHb2QQWj99m"
   },
   "source": [
    "<img src=\"images/Plan.png\" width=\"100\" height=\"100\" align=left>\n",
    "\n",
    "\n",
    "## **PACE: Plan**\n",
    "\n",
    "Consider the questions in your PACE Strategy Document and those below to craft your response:"
   ]
  },
  {
   "cell_type": "markdown",
   "metadata": {
    "id": "pWEfG5zJV5oG"
   },
   "source": [
    "### **Task 1. Understand the situation**\n",
    "\n",
    "*   How can you best prepare to understand and organize the provided driver data?\n",
    "\n",
    "\n",
    "*Begin by exploring your dataset and consider reviewing the Data Dictionary.*"
   ]
  },
  {
   "cell_type": "markdown",
   "metadata": {
    "id": "irvqnKSe6Z80"
   },
   "source": [
    "To best prepare for understanding and organizing the provided **driver data** for the Waze Project, consider the following steps, using the available fields:\n",
    "\n",
    "#### 1. **Explore the Dataset**\n",
    "\n",
    "Begin by loading and inspecting the dataset using Python:\n",
    "\n",
    "* **Load the Data**: Use pandas to load the dataset into a DataFrame.\n",
    "* **Preview the Data**: Check the first few rows using `.head()` and the dataset's structure with `.info()` to understand the columns and their data types.\n",
    "\n",
    "#### 2. **Review the Data Dictionary**\n",
    "\n",
    "From the fields provided, we can infer the following meaning for each:\n",
    "\n",
    "* **ID**: A unique identifier for each driver or session.\n",
    "* **label**: The classification label associated with each session, possibly indicating whether a session is a \"claim\" or \"non-claim\" or some other form of categorization.\n",
    "* **sessions**: The number of sessions a driver has participated in.\n",
    "* **drives**: The number of individual driving events or trips for each driver.\n",
    "* **total\\_sessions**: The total number of sessions the driver has completed.\n",
    "* **n\\_days\\_after\\_onboarding**: The number of days since the driver first used the app or was onboarded.\n",
    "* **total\\_navigations\\_fav1**: The total number of navigations using the first favorite route.\n",
    "* **total\\_navigations\\_fav2**: The total number of navigations using the second favorite route.\n",
    "* **driven\\_km\\_drives**: The total kilometers driven across all drives.\n",
    "* **duration\\_minutes\\_drives**: The total duration of the driving events, measured in minutes.\n",
    "* **activity\\_days**: The number of days the driver has been active in the app.\n",
    "* **driving\\_days**: The number of days the driver has actively driven.\n",
    "* **device**: The device used by the driver (e.g., iOS or Android).\n",
    "\n",
    "#### 3. **Identify Key Variables**\n",
    "\n",
    "From the fields above, the following variables seem especially relevant for understanding driver behavior:\n",
    "\n",
    "* **Driving Metrics**: `drives`, `driven_km_drives`, `duration_minutes_drives`, `total_sessions`, and `driving_days` will provide insights into how much and how often the driver is active. These are key to understanding overall driving activity and usage patterns.\n",
    "* **Navigation Behavior**: `total_navigations_fav1` and `total_navigations_fav2` indicate how often the driver uses favorite routes, potentially influencing behavior or outcomes.\n",
    "* **Driver Engagement**: `sessions`, `activity_days`, and `n_days_after_onboarding` can give a sense of how engaged and active the driver is with the app, as well as how quickly they adopt it after onboarding.\n",
    "* **Device**: The `device` field might be important to consider if device type affects app behavior, performance, or driver engagement.\n",
    "\n",
    "#### 4. **Data Cleaning and Preprocessing**\n",
    "\n",
    "* **Missing Data**: Check for missing values and decide whether to fill, drop, or otherwise handle them.\n",
    "* **Outliers**: Look for extreme values in fields like `driven_km_drives` and `duration_minutes_drives`, as they may skew analysis or model results.\n",
    "* **Categorical Variables**: The `device` field may require encoding (e.g., one-hot encoding) if it is used in any models.\n",
    "\n",
    "#### 5. **Formulate Initial Hypotheses**\n",
    "\n",
    "Based on the data, we can hypothesize relationships and insights:\n",
    "\n",
    "* **Engagement and Driving Behavior**: Drivers who have been using the app for more days (`n_days_after_onboarding`, `activity_days`) are likely to have higher driving activity (measured by `drives`, `driven_km_drives`).\n",
    "* **Navigation Preferences**: Drivers who frequently use their favorite routes (`total_navigations_fav1`, `total_navigations_fav2`) might exhibit more predictable driving patterns.\n",
    "* **Device Impact**: There might be differences in driving behavior or session frequency based on the device type (iOS vs. Android), suggesting that app performance or driver preferences differ by platform.\n",
    "\n",
    "---\n",
    "\n",
    "By thoroughly exploring these fields and reviewing their relationships, we can effectively prepare to **analyze**, **construct**, and **execute** your models or evaluations in later stages of the project."
   ]
  },
  {
   "cell_type": "markdown",
   "metadata": {
    "id": "1E9Y5aC0IAA-"
   },
   "source": [
    "<img src=\"images/Analyze.png\" width=\"100\" height=\"100\" align=left>\n",
    "\n",
    "## **PACE: Analyze**\n",
    "\n",
    "Consider the questions in your PACE Strategy Document to reflect on the Analyze stage."
   ]
  },
  {
   "cell_type": "markdown",
   "metadata": {
    "id": "D4WK_AxP_S__"
   },
   "source": [
    "### **Task 2a. Imports and data loading**\n",
    "\n",
    "Start by importing the packages that you will need to load and explore the dataset. Make sure to use the following import statements:\n",
    "\n",
    "*   `import pandas as pd`\n",
    "\n",
    "*   `import numpy as np`\n"
   ]
  },
  {
   "cell_type": "code",
   "execution_count": 1,
   "metadata": {
    "id": "OZSXM4q5zrQh"
   },
   "outputs": [],
   "source": [
    "# Import necessary libraries\n",
    "import pandas as pd\n",
    "import numpy as np"
   ]
  },
  {
   "cell_type": "markdown",
   "metadata": {
    "id": "2-hT-EQA67v3"
   },
   "source": [
    "Then, load the dataset into a dataframe. Creating a dataframe will help you conduct data manipulation, exploratory data analysis (EDA), and statistical activities.\n",
    "\n",
    "**Note:** As shown in this cell, the dataset has been automatically loaded in for you. You do not need to download the .csv file, or provide more code, in order to access the dataset and proceed with this lab. Please continue with this activity by completing the following instructions."
   ]
  },
  {
   "cell_type": "code",
   "execution_count": 2,
   "metadata": {},
   "outputs": [],
   "source": [
    "# Load dataset into dataframe\n",
    "df = pd.read_csv('waze_dataset.csv')"
   ]
  },
  {
   "cell_type": "markdown",
   "metadata": {
    "id": "gYx1emvno7U_"
   },
   "source": [
    "### **Task 2b. Summary information**\n",
    "\n",
    "View and inspect summary information about the dataframe by **coding the following:**\n",
    "\n",
    "1.   df.head(10)\n",
    "2.   df.info()\n",
    "\n",
    "*Consider the following questions:*\n",
    "\n",
    "1. When reviewing the `df.head()` output, are there any variables that have missing values?\n",
    "\n",
    "2. When reviewing the `df.info()` output, what are the data types? How many rows and columns do you have?\n",
    "\n",
    "3. Does the dataset have any missing values?"
   ]
  },
  {
   "cell_type": "code",
   "execution_count": 3,
   "metadata": {
    "id": "t7Nck2hh4R6J"
   },
   "outputs": [
    {
     "data": {
      "text/html": [
       "<div>\n",
       "<style scoped>\n",
       "    .dataframe tbody tr th:only-of-type {\n",
       "        vertical-align: middle;\n",
       "    }\n",
       "\n",
       "    .dataframe tbody tr th {\n",
       "        vertical-align: top;\n",
       "    }\n",
       "\n",
       "    .dataframe thead th {\n",
       "        text-align: right;\n",
       "    }\n",
       "</style>\n",
       "<table border=\"1\" class=\"dataframe\">\n",
       "  <thead>\n",
       "    <tr style=\"text-align: right;\">\n",
       "      <th></th>\n",
       "      <th>ID</th>\n",
       "      <th>label</th>\n",
       "      <th>sessions</th>\n",
       "      <th>drives</th>\n",
       "      <th>total_sessions</th>\n",
       "      <th>n_days_after_onboarding</th>\n",
       "      <th>total_navigations_fav1</th>\n",
       "      <th>total_navigations_fav2</th>\n",
       "      <th>driven_km_drives</th>\n",
       "      <th>duration_minutes_drives</th>\n",
       "      <th>activity_days</th>\n",
       "      <th>driving_days</th>\n",
       "      <th>device</th>\n",
       "    </tr>\n",
       "  </thead>\n",
       "  <tbody>\n",
       "    <tr>\n",
       "      <th>0</th>\n",
       "      <td>0</td>\n",
       "      <td>retained</td>\n",
       "      <td>283</td>\n",
       "      <td>226</td>\n",
       "      <td>296.748273</td>\n",
       "      <td>2276</td>\n",
       "      <td>208</td>\n",
       "      <td>0</td>\n",
       "      <td>2628.845068</td>\n",
       "      <td>1985.775061</td>\n",
       "      <td>28</td>\n",
       "      <td>19</td>\n",
       "      <td>Android</td>\n",
       "    </tr>\n",
       "    <tr>\n",
       "      <th>1</th>\n",
       "      <td>1</td>\n",
       "      <td>retained</td>\n",
       "      <td>133</td>\n",
       "      <td>107</td>\n",
       "      <td>326.896596</td>\n",
       "      <td>1225</td>\n",
       "      <td>19</td>\n",
       "      <td>64</td>\n",
       "      <td>13715.920550</td>\n",
       "      <td>3160.472914</td>\n",
       "      <td>13</td>\n",
       "      <td>11</td>\n",
       "      <td>iPhone</td>\n",
       "    </tr>\n",
       "    <tr>\n",
       "      <th>2</th>\n",
       "      <td>2</td>\n",
       "      <td>retained</td>\n",
       "      <td>114</td>\n",
       "      <td>95</td>\n",
       "      <td>135.522926</td>\n",
       "      <td>2651</td>\n",
       "      <td>0</td>\n",
       "      <td>0</td>\n",
       "      <td>3059.148818</td>\n",
       "      <td>1610.735904</td>\n",
       "      <td>14</td>\n",
       "      <td>8</td>\n",
       "      <td>Android</td>\n",
       "    </tr>\n",
       "    <tr>\n",
       "      <th>3</th>\n",
       "      <td>3</td>\n",
       "      <td>retained</td>\n",
       "      <td>49</td>\n",
       "      <td>40</td>\n",
       "      <td>67.589221</td>\n",
       "      <td>15</td>\n",
       "      <td>322</td>\n",
       "      <td>7</td>\n",
       "      <td>913.591123</td>\n",
       "      <td>587.196542</td>\n",
       "      <td>7</td>\n",
       "      <td>3</td>\n",
       "      <td>iPhone</td>\n",
       "    </tr>\n",
       "    <tr>\n",
       "      <th>4</th>\n",
       "      <td>4</td>\n",
       "      <td>retained</td>\n",
       "      <td>84</td>\n",
       "      <td>68</td>\n",
       "      <td>168.247020</td>\n",
       "      <td>1562</td>\n",
       "      <td>166</td>\n",
       "      <td>5</td>\n",
       "      <td>3950.202008</td>\n",
       "      <td>1219.555924</td>\n",
       "      <td>27</td>\n",
       "      <td>18</td>\n",
       "      <td>Android</td>\n",
       "    </tr>\n",
       "  </tbody>\n",
       "</table>\n",
       "</div>"
      ],
      "text/plain": [
       "   ID     label  sessions  drives  total_sessions  n_days_after_onboarding  \\\n",
       "0   0  retained       283     226      296.748273                     2276   \n",
       "1   1  retained       133     107      326.896596                     1225   \n",
       "2   2  retained       114      95      135.522926                     2651   \n",
       "3   3  retained        49      40       67.589221                       15   \n",
       "4   4  retained        84      68      168.247020                     1562   \n",
       "\n",
       "   total_navigations_fav1  total_navigations_fav2  driven_km_drives  \\\n",
       "0                     208                       0       2628.845068   \n",
       "1                      19                      64      13715.920550   \n",
       "2                       0                       0       3059.148818   \n",
       "3                     322                       7        913.591123   \n",
       "4                     166                       5       3950.202008   \n",
       "\n",
       "   duration_minutes_drives  activity_days  driving_days   device  \n",
       "0              1985.775061             28            19  Android  \n",
       "1              3160.472914             13            11   iPhone  \n",
       "2              1610.735904             14             8  Android  \n",
       "3               587.196542              7             3   iPhone  \n",
       "4              1219.555924             27            18  Android  "
      ]
     },
     "execution_count": 3,
     "metadata": {},
     "output_type": "execute_result"
    }
   ],
   "source": [
    "df.head(5)"
   ]
  },
  {
   "cell_type": "code",
   "execution_count": 4,
   "metadata": {
    "id": "3NctoTSAvGGD"
   },
   "outputs": [
    {
     "name": "stdout",
     "output_type": "stream",
     "text": [
      "<class 'pandas.core.frame.DataFrame'>\n",
      "RangeIndex: 14999 entries, 0 to 14998\n",
      "Data columns (total 13 columns):\n",
      " #   Column                   Non-Null Count  Dtype  \n",
      "---  ------                   --------------  -----  \n",
      " 0   ID                       14999 non-null  int64  \n",
      " 1   label                    14299 non-null  object \n",
      " 2   sessions                 14999 non-null  int64  \n",
      " 3   drives                   14999 non-null  int64  \n",
      " 4   total_sessions           14999 non-null  float64\n",
      " 5   n_days_after_onboarding  14999 non-null  int64  \n",
      " 6   total_navigations_fav1   14999 non-null  int64  \n",
      " 7   total_navigations_fav2   14999 non-null  int64  \n",
      " 8   driven_km_drives         14999 non-null  float64\n",
      " 9   duration_minutes_drives  14999 non-null  float64\n",
      " 10  activity_days            14999 non-null  int64  \n",
      " 11  driving_days             14999 non-null  int64  \n",
      " 12  device                   14999 non-null  object \n",
      "dtypes: float64(3), int64(8), object(2)\n",
      "memory usage: 1.5+ MB\n"
     ]
    }
   ],
   "source": [
    "df.info()"
   ]
  },
  {
   "cell_type": "markdown",
   "metadata": {
    "id": "JscqNfr6ZVsE"
   },
   "source": [
    "**1. When reviewing the `df.head()` output, are there any variables that have missing values?**\n",
    "From the first 5 rows shown in `df.head()`, there are **no immediately obvious missing values**. However, this only gives a partial view and may not reflect missing data elsewhere in the dataset.\n",
    "\n",
    "---\n",
    "\n",
    "**2. When reviewing the `df.info()` output, what are the data types? How many rows and columns do you have?**\n",
    "\n",
    "* The dataset contains **14,999 rows** and **13 columns**.\n",
    "* Data types:\n",
    "\n",
    "  * **`int64`** for 8 columns: numerical counts like `sessions`, `drives`, etc.\n",
    "  * **`float64`** for 3 columns: continuous variables like `total_sessions`, `driven_km_drives`, and `duration_minutes_drives`.\n",
    "  * **`object`** for 2 columns: `label` and `device`, which are categorical (text-based) features.\n",
    "\n",
    "---\n",
    "\n",
    "**3. Does the dataset have any missing values?**\n",
    "Yes — the `label` column has **14,299 non-null values**, meaning **700 values are missing**.\n",
    "All other columns are **complete** (14,999 non-null values), so the only column with missing data is `label`."
   ]
  },
  {
   "cell_type": "markdown",
   "metadata": {
    "id": "BMNnIoc51_1N"
   },
   "source": [
    "### **Task 2c. Null values and summary statistics**\n",
    "\n",
    "Compare the summary statistics of the 700 rows that are missing labels with summary statistics of the rows that are not missing any values.\n",
    "\n",
    "**Question:** Is there a discernible difference between the two populations?\n"
   ]
  },
  {
   "cell_type": "code",
   "execution_count": 5,
   "metadata": {
    "id": "bAQeHW-d2S1-"
   },
   "outputs": [
    {
     "name": "stdout",
     "output_type": "stream",
     "text": [
      "Summary Statistics: Rows with Missing Labels\n",
      "                 ID    sessions      drives  total_sessions  \\\n",
      "count    700.000000  700.000000  700.000000      700.000000   \n",
      "mean    7405.584286   80.837143   67.798571      198.483348   \n",
      "std     4306.900234   79.987440   65.271926      140.561715   \n",
      "min       77.000000    0.000000    0.000000        5.582648   \n",
      "25%     3744.500000   23.000000   20.000000       94.056340   \n",
      "50%     7443.000000   56.000000   47.500000      177.255925   \n",
      "75%    11007.000000  112.250000   94.000000      266.058022   \n",
      "max    14993.000000  556.000000  445.000000     1076.879741   \n",
      "\n",
      "       n_days_after_onboarding  total_navigations_fav1  \\\n",
      "count               700.000000              700.000000   \n",
      "mean               1709.295714              118.717143   \n",
      "std                1005.306562              156.308140   \n",
      "min                  16.000000                0.000000   \n",
      "25%                 869.000000                4.000000   \n",
      "50%                1650.500000               62.500000   \n",
      "75%                2508.750000              169.250000   \n",
      "max                3498.000000             1096.000000   \n",
      "\n",
      "       total_navigations_fav2  driven_km_drives  duration_minutes_drives  \\\n",
      "count              700.000000        700.000000               700.000000   \n",
      "mean                30.371429       3935.967029              1795.123358   \n",
      "std                 46.306984       2443.107121              1419.242246   \n",
      "min                  0.000000        290.119811                66.588493   \n",
      "25%                  0.000000       2119.344818               779.009271   \n",
      "50%                 10.000000       3421.156721              1414.966279   \n",
      "75%                 43.000000       5166.097373              2443.955404   \n",
      "max                352.000000      15135.391280              9746.253023   \n",
      "\n",
      "       activity_days  driving_days  \n",
      "count     700.000000    700.000000  \n",
      "mean       15.382857     12.125714  \n",
      "std         8.772714      7.626373  \n",
      "min         0.000000      0.000000  \n",
      "25%         8.000000      6.000000  \n",
      "50%        15.000000     12.000000  \n",
      "75%        23.000000     18.000000  \n",
      "max        31.000000     30.000000  \n",
      "\n",
      "Summary Statistics: Rows with Complete Data\n",
      "                 ID      sessions        drives  total_sessions  \\\n",
      "count  14299.000000  14299.000000  14299.000000    14299.000000   \n",
      "mean    7503.573117     80.623820     67.255822      189.547409   \n",
      "std     4331.207621     80.736502     65.947295      136.189764   \n",
      "min        0.000000      0.000000      0.000000        0.220211   \n",
      "25%     3749.500000     23.000000     20.000000       90.457733   \n",
      "50%     7504.000000     56.000000     48.000000      158.718571   \n",
      "75%    11257.500000    111.000000     93.000000      253.540450   \n",
      "max    14998.000000    743.000000    596.000000     1216.154633   \n",
      "\n",
      "       n_days_after_onboarding  total_navigations_fav1  \\\n",
      "count             14299.000000            14299.000000   \n",
      "mean               1751.822505              121.747395   \n",
      "std                1008.663834              147.713428   \n",
      "min                   4.000000                0.000000   \n",
      "25%                 878.500000               10.000000   \n",
      "50%                1749.000000               71.000000   \n",
      "75%                2627.500000              178.000000   \n",
      "max                3500.000000             1236.000000   \n",
      "\n",
      "       total_navigations_fav2  driven_km_drives  duration_minutes_drives  \\\n",
      "count            14299.000000      14299.000000             14299.000000   \n",
      "mean                29.638296       4044.401535              1864.199794   \n",
      "std                 45.350890       2504.977970              1448.005047   \n",
      "min                  0.000000         60.441250                18.282082   \n",
      "25%                  0.000000       2217.319909               840.181344   \n",
      "50%                  9.000000       3496.545617              1479.394387   \n",
      "75%                 43.000000       5299.972162              2466.928876   \n",
      "max                415.000000      21183.401890             15851.727160   \n",
      "\n",
      "       activity_days  driving_days  \n",
      "count   14299.000000  14299.000000  \n",
      "mean       15.544653     12.182530  \n",
      "std         9.016088      7.833835  \n",
      "min         0.000000      0.000000  \n",
      "25%         8.000000      5.000000  \n",
      "50%        16.000000     12.000000  \n",
      "75%        23.000000     19.000000  \n",
      "max        31.000000     30.000000  \n"
     ]
    }
   ],
   "source": [
    "# Isolate rows with null values in the 'label' column\n",
    "df_missing_labels = df[df['label'].isnull()]\n",
    "\n",
    "# Isolate rows without missing values\n",
    "df_complete = df[df['label'].notnull()]\n",
    "\n",
    "# Display summary statistics of rows with null labels\n",
    "print(\"Summary Statistics: Rows with Missing Labels\")\n",
    "print(df_missing_labels.describe())\n",
    "\n",
    "# Display summary statistics of rows with complete data\n",
    "print(\"\\nSummary Statistics: Rows with Complete Data\")\n",
    "print(df_complete.describe())"
   ]
  },
  {
   "cell_type": "code",
   "execution_count": 6,
   "metadata": {
    "id": "W77hp8q3w-zi"
   },
   "outputs": [
    {
     "name": "stdout",
     "output_type": "stream",
     "text": [
      "Summary Statistics: Rows WITHOUT Missing Labels\n",
      "                 ID      sessions        drives  total_sessions  \\\n",
      "count  14299.000000  14299.000000  14299.000000    14299.000000   \n",
      "mean    7503.573117     80.623820     67.255822      189.547409   \n",
      "std     4331.207621     80.736502     65.947295      136.189764   \n",
      "min        0.000000      0.000000      0.000000        0.220211   \n",
      "25%     3749.500000     23.000000     20.000000       90.457733   \n",
      "50%     7504.000000     56.000000     48.000000      158.718571   \n",
      "75%    11257.500000    111.000000     93.000000      253.540450   \n",
      "max    14998.000000    743.000000    596.000000     1216.154633   \n",
      "\n",
      "       n_days_after_onboarding  total_navigations_fav1  \\\n",
      "count             14299.000000            14299.000000   \n",
      "mean               1751.822505              121.747395   \n",
      "std                1008.663834              147.713428   \n",
      "min                   4.000000                0.000000   \n",
      "25%                 878.500000               10.000000   \n",
      "50%                1749.000000               71.000000   \n",
      "75%                2627.500000              178.000000   \n",
      "max                3500.000000             1236.000000   \n",
      "\n",
      "       total_navigations_fav2  driven_km_drives  duration_minutes_drives  \\\n",
      "count            14299.000000      14299.000000             14299.000000   \n",
      "mean                29.638296       4044.401535              1864.199794   \n",
      "std                 45.350890       2504.977970              1448.005047   \n",
      "min                  0.000000         60.441250                18.282082   \n",
      "25%                  0.000000       2217.319909               840.181344   \n",
      "50%                  9.000000       3496.545617              1479.394387   \n",
      "75%                 43.000000       5299.972162              2466.928876   \n",
      "max                415.000000      21183.401890             15851.727160   \n",
      "\n",
      "       activity_days  driving_days  \n",
      "count   14299.000000  14299.000000  \n",
      "mean       15.544653     12.182530  \n",
      "std         9.016088      7.833835  \n",
      "min         0.000000      0.000000  \n",
      "25%         8.000000      5.000000  \n",
      "50%        16.000000     12.000000  \n",
      "75%        23.000000     19.000000  \n",
      "max        31.000000     30.000000  \n"
     ]
    }
   ],
   "source": [
    "# Isolate rows without null values in the 'label' column\n",
    "df_complete = df[df['label'].notnull()]\n",
    "\n",
    "# Display summary statistics of rows without null values\n",
    "print(\"Summary Statistics: Rows WITHOUT Missing Labels\")\n",
    "print(df_complete.describe())"
   ]
  },
  {
   "cell_type": "markdown",
   "metadata": {
    "id": "sJpXfBZUlWC5"
   },
   "source": [
    "**Do the rows with missing labels differ from the rest of the dataset?**\n",
    "\n",
    "Overall, **the rows with missing labels are quite similar** to those with labels across most features, but there are a few subtle differences worth noting:\n",
    "\n",
    "### Key Comparisons:\n",
    "\n",
    "| Feature                       | Missing Labels (700 rows) | Complete Labels (14,299 rows) | Notable Difference?                    |\n",
    "| ----------------------------- | ------------------------- | ----------------------------- | -------------------------------------- |\n",
    "| **sessions**                  | Mean = 80.84              | Mean = 80.62                  | Almost identical                       |\n",
    "| **drives**                    | Mean = 67.80              | Mean = 67.26                  | Almost identical                       |\n",
    "| **total\\_sessions**           | Mean = 198.48             | Mean = 189.55                 | Slightly higher in missing-label group |\n",
    "| **driven\\_km\\_drives**        | Mean = 3935.97 km         | Mean = 4044.40 km             | Slightly lower in missing-label group  |\n",
    "| **duration\\_minutes\\_drives** | Mean = 1795.12 min        | Mean = 1864.20 min            | Slightly lower                         |\n",
    "| **total\\_navigations\\_fav1**  | Mean = 118.72             | Mean = 121.75                 | Very similar                           |\n",
    "| **total\\_navigations\\_fav2**  | Mean = 30.37              | Mean = 29.64                  | Very similar                           |\n",
    "| **activity\\_days**            | Mean = 15.38              | Mean = 15.54                  | Almost identical                       |\n",
    "\n",
    "---\n",
    "* The rows with missing `label` values show **no major anomalies** or drastic behavioral differences compared to labeled rows.\n",
    "* These users appear **active and engaged**, so their missing labels could be due to **data collection issues** rather than inactivity or outliers.\n",
    "* Since the missing group behaves similarly to the labeled group, they could potentially be used for **unsupervised learning** or **label prediction** later on.\n",
    "* For a supervised model, you would likely **exclude** these rows or impute the labels if appropriate."
   ]
  },
  {
   "cell_type": "markdown",
   "metadata": {
    "id": "S2CupDgSlpm4"
   },
   "source": [
    "### **Task 2d. Null values - device counts**\n",
    "\n",
    "Next, check the two populations with respect to the `device` variable.\n",
    "\n",
    "**Question:** How many iPhone users had null values and how many Android users had null values?"
   ]
  },
  {
   "cell_type": "code",
   "execution_count": 7,
   "metadata": {
    "id": "IbCnokO8lsq3"
   },
   "outputs": [
    {
     "name": "stdout",
     "output_type": "stream",
     "text": [
      "Device Counts (Missing Labels):\n",
      "device\n",
      "iPhone     447\n",
      "Android    253\n",
      "Name: count, dtype: int64\n",
      "\n",
      "Device Counts (Complete Data):\n",
      "device\n",
      "iPhone     9225\n",
      "Android    5074\n",
      "Name: count, dtype: int64\n"
     ]
    }
   ],
   "source": [
    "# Get device counts for rows with missing labels\n",
    "print(\"Device Counts (Missing Labels):\")\n",
    "print(df_missing_labels['device'].value_counts())\n",
    "\n",
    "# Get device counts for rows without missing labels\n",
    "print(\"\\nDevice Counts (Complete Data):\")\n",
    "print(df_complete['device'].value_counts())"
   ]
  },
  {
   "cell_type": "markdown",
   "metadata": {
    "id": "JKfLfQQUltQk"
   },
   "source": [
    "Among the 700 rows with missing labels:\n",
    "\n",
    "iPhone users: 447\n",
    "\n",
    "Android users: 253\n",
    "\n",
    "This means that iPhone users make up a larger share of the missing label population, accounting for approximately 64% of the missing data, compared to 36% from Android users."
   ]
  },
  {
   "cell_type": "markdown",
   "metadata": {
    "id": "xodMNO1Ql5PZ"
   },
   "source": [
    "Now, of the rows with null values, calculate the percentage with each device&mdash;Android and iPhone. You can do this directly with the [`value_counts()`](https://pandas.pydata.org/docs/reference/api/pandas.Series.value_counts.html) function."
   ]
  },
  {
   "cell_type": "code",
   "execution_count": 8,
   "metadata": {
    "id": "ajlCljYHmCTa"
   },
   "outputs": [
    {
     "name": "stdout",
     "output_type": "stream",
     "text": [
      "Percentage of Devices Among Rows with Missing Labels:\n",
      "device\n",
      "iPhone     63.857143\n",
      "Android    36.142857\n",
      "Name: proportion, dtype: float64\n"
     ]
    }
   ],
   "source": [
    "# Calculate percentage of iPhone and Android users among rows with missing labels\n",
    "device_null_percentages = df_missing_labels['device'].value_counts(normalize=True) * 100\n",
    "\n",
    "# Display the percentages\n",
    "print(\"Percentage of Devices Among Rows with Missing Labels:\")\n",
    "print(device_null_percentages)"
   ]
  },
  {
   "cell_type": "markdown",
   "metadata": {
    "id": "dA_ps_fA3xn9"
   },
   "source": [
    "How does this compare to the device ratio in the full dataset?\n",
    "\n",
    "| Device  | % in Missing Labels | % in Full Dataset |\n",
    "| ------- | ------------------- | ----------------- |\n",
    "| iPhone  | **63.86%**          | **64.82%**        |\n",
    "| Android | **36.14%**          | **35.18%**        |\n",
    "\n",
    "The device distribution in rows with missing labels is very similar to the overall device distribution in the full dataset. This suggests that missing labels are not strongly biased by device type, and device likely doesn't influence label missingness in a significant way."
   ]
  },
  {
   "cell_type": "code",
   "execution_count": 9,
   "metadata": {
    "id": "Dm-qKyQNmCsQ"
   },
   "outputs": [
    {
     "name": "stdout",
     "output_type": "stream",
     "text": [
      "Percentage of Devices in Full Dataset:\n",
      "device\n",
      "iPhone     64.484299\n",
      "Android    35.515701\n",
      "Name: proportion, dtype: float64\n"
     ]
    }
   ],
   "source": [
    "# Calculate percentage of each device in the full dataset\n",
    "device_percent_full = df['device'].value_counts(normalize=True) * 100\n",
    "\n",
    "# Display results\n",
    "print(\"Percentage of Devices in Full Dataset:\")\n",
    "print(device_percent_full)"
   ]
  },
  {
   "cell_type": "markdown",
   "metadata": {
    "id": "eEIeGZdgmRh9"
   },
   "source": [
    "The percentage of missing values by each device is consistent with their representation in the data overall.\n",
    "\n",
    "There is nothing to suggest a non-random cause of the missing data."
   ]
  },
  {
   "cell_type": "markdown",
   "metadata": {
    "id": "uIzg4fXtmSTe"
   },
   "source": [
    "Examine the counts and percentages of users who churned vs. those who were retained. How many of each group are represented in the data?"
   ]
  },
  {
   "cell_type": "code",
   "execution_count": 10,
   "metadata": {
    "id": "zQ1mu8g9maYX"
   },
   "outputs": [
    {
     "name": "stdout",
     "output_type": "stream",
     "text": [
      "Counts of Churned vs. Retained Users:\n",
      "label\n",
      "retained    11763\n",
      "churned      2536\n",
      "Name: count, dtype: int64\n"
     ]
    }
   ],
   "source": [
    "# Calculate counts of churned vs. retained users\n",
    "churn_counts = df['label'].value_counts()\n",
    "\n",
    "# Display the result\n",
    "print(\"Counts of Churned vs. Retained Users:\")\n",
    "print(churn_counts)"
   ]
  },
  {
   "cell_type": "markdown",
   "metadata": {
    "id": "VYTZIIOKmfIz"
   },
   "source": [
    "This dataset contains 82% retained users and 18% churned users.\n",
    "\n",
    "Next, compare the medians of each variable for churned and retained users. The reason for calculating the median and not the mean is that you don't want outliers to unduly affect the portrayal of a typical user. Notice, for example, that the maximum value in the `driven_km_drives` column is 21,183 km. That's more than half the circumference of the earth!"
   ]
  },
  {
   "cell_type": "code",
   "execution_count": 11,
   "metadata": {
    "id": "jzngebHRmmFA",
    "scrolled": true
   },
   "outputs": [
    {
     "data": {
      "text/html": [
       "<div>\n",
       "<style scoped>\n",
       "    .dataframe tbody tr th:only-of-type {\n",
       "        vertical-align: middle;\n",
       "    }\n",
       "\n",
       "    .dataframe tbody tr th {\n",
       "        vertical-align: top;\n",
       "    }\n",
       "\n",
       "    .dataframe thead th {\n",
       "        text-align: right;\n",
       "    }\n",
       "</style>\n",
       "<table border=\"1\" class=\"dataframe\">\n",
       "  <thead>\n",
       "    <tr style=\"text-align: right;\">\n",
       "      <th></th>\n",
       "      <th>ID</th>\n",
       "      <th>sessions</th>\n",
       "      <th>drives</th>\n",
       "      <th>total_sessions</th>\n",
       "      <th>n_days_after_onboarding</th>\n",
       "      <th>total_navigations_fav1</th>\n",
       "      <th>total_navigations_fav2</th>\n",
       "      <th>driven_km_drives</th>\n",
       "      <th>duration_minutes_drives</th>\n",
       "      <th>activity_days</th>\n",
       "      <th>driving_days</th>\n",
       "    </tr>\n",
       "    <tr>\n",
       "      <th>label</th>\n",
       "      <th></th>\n",
       "      <th></th>\n",
       "      <th></th>\n",
       "      <th></th>\n",
       "      <th></th>\n",
       "      <th></th>\n",
       "      <th></th>\n",
       "      <th></th>\n",
       "      <th></th>\n",
       "      <th></th>\n",
       "      <th></th>\n",
       "    </tr>\n",
       "  </thead>\n",
       "  <tbody>\n",
       "    <tr>\n",
       "      <th>churned</th>\n",
       "      <td>7477.5</td>\n",
       "      <td>59.0</td>\n",
       "      <td>50.0</td>\n",
       "      <td>164.339042</td>\n",
       "      <td>1321.0</td>\n",
       "      <td>84.5</td>\n",
       "      <td>11.0</td>\n",
       "      <td>3652.655666</td>\n",
       "      <td>1607.183785</td>\n",
       "      <td>8.0</td>\n",
       "      <td>6.0</td>\n",
       "    </tr>\n",
       "    <tr>\n",
       "      <th>retained</th>\n",
       "      <td>7509.0</td>\n",
       "      <td>56.0</td>\n",
       "      <td>47.0</td>\n",
       "      <td>157.586756</td>\n",
       "      <td>1843.0</td>\n",
       "      <td>68.0</td>\n",
       "      <td>9.0</td>\n",
       "      <td>3464.684614</td>\n",
       "      <td>1458.046141</td>\n",
       "      <td>17.0</td>\n",
       "      <td>14.0</td>\n",
       "    </tr>\n",
       "  </tbody>\n",
       "</table>\n",
       "</div>"
      ],
      "text/plain": [
       "              ID  sessions  drives  total_sessions  n_days_after_onboarding  \\\n",
       "label                                                                         \n",
       "churned   7477.5      59.0    50.0      164.339042                   1321.0   \n",
       "retained  7509.0      56.0    47.0      157.586756                   1843.0   \n",
       "\n",
       "          total_navigations_fav1  total_navigations_fav2  driven_km_drives  \\\n",
       "label                                                                        \n",
       "churned                     84.5                    11.0       3652.655666   \n",
       "retained                    68.0                     9.0       3464.684614   \n",
       "\n",
       "          duration_minutes_drives  activity_days  driving_days  \n",
       "label                                                           \n",
       "churned               1607.183785            8.0           6.0  \n",
       "retained              1458.046141           17.0          14.0  "
      ]
     },
     "execution_count": 11,
     "metadata": {},
     "output_type": "execute_result"
    }
   ],
   "source": [
    "# Calculate median values of all columns for churned and retained users\n",
    "df.groupby('label').median(numeric_only=True)"
   ]
  },
  {
   "cell_type": "markdown",
   "metadata": {
    "id": "NvnPFKS3mm71"
   },
   "source": [
    "This offers an interesting snapshot of the two groups, churned vs. retained:\n",
    "\n",
    "Users who churned averaged ~3 more drives in the last month than retained users, but retained users used the app on over twice as many days as churned users in the same time period.\n",
    "\n",
    "The median churned user drove ~200 more kilometers and 2.5 more hours during the last month than the median retained user.\n",
    "\n",
    "It seems that churned users had more drives in fewer days, and their trips were farther and longer in duration. Perhaps this is suggestive of a user profile. Continue exploring!"
   ]
  },
  {
   "cell_type": "markdown",
   "metadata": {
    "id": "cUAkU-JInALK"
   },
   "source": [
    "Calculate the median kilometers per drive in the last month for both retained and churned users.\n",
    "\n",
    "Begin by dividing the `driven_km_drives` column by the `drives` column. Then, group the results by churned/retained and calculate the median km/drive of each group."
   ]
  },
  {
   "cell_type": "code",
   "execution_count": 12,
   "metadata": {
    "id": "TVcP2PPhnBMZ"
   },
   "outputs": [
    {
     "data": {
      "text/plain": [
       "label\n",
       "churned     73.491807\n",
       "retained    74.051037\n",
       "Name: km_per_drive, dtype: float64"
      ]
     },
     "execution_count": 12,
     "metadata": {},
     "output_type": "execute_result"
    }
   ],
   "source": [
    "# Avoid division by zero\n",
    "df['km_per_drive'] = df['driven_km_drives'] / df['drives'].replace(0, np.nan)\n",
    "\n",
    "# Group by 'label' and calculate median km per drive\n",
    "median_km_per_drive = df.groupby('label')['km_per_drive'].median()\n",
    "\n",
    "# Display results\n",
    "median_km_per_drive"
   ]
  },
  {
   "cell_type": "markdown",
   "metadata": {
    "id": "C6VicaRVnFzq"
   },
   "source": [
    "The median retained user drove about one more kilometer per drive than the median churned user. How many kilometers per driving day was this?\n",
    "\n",
    "To calculate this statistic, repeat the steps above using `driving_days` instead of `drives`."
   ]
  },
  {
   "cell_type": "code",
   "execution_count": 13,
   "metadata": {
    "id": "I6lD33kfnGQb"
   },
   "outputs": [
    {
     "name": "stdout",
     "output_type": "stream",
     "text": [
      "Median kilometers per driving day by user type:\n",
      "label\n",
      "churned     523.086749\n",
      "retained    272.628549\n",
      "Name: km_per_driving_day, dtype: float64\n"
     ]
    }
   ],
   "source": [
    "# Add a column for kilometers per driving day (avoiding division by zero)\n",
    "df['km_per_driving_day'] = df['driven_km_drives'] / df['driving_days'].replace(0, np.nan)\n",
    "\n",
    "# Group by 'label' and calculate the median kilometers per driving day\n",
    "median_km_per_day = df.groupby('label')['km_per_driving_day'].median()\n",
    "\n",
    "# Display the result\n",
    "print(\"Median kilometers per driving day by user type:\")\n",
    "print(median_km_per_day)"
   ]
  },
  {
   "cell_type": "markdown",
   "metadata": {
    "id": "kIfSmukAnVSs"
   },
   "source": [
    "Now, calculate the median number of drives per driving day for each group."
   ]
  },
  {
   "cell_type": "code",
   "execution_count": 14,
   "metadata": {
    "id": "VAHqOO8endWX"
   },
   "outputs": [
    {
     "name": "stdout",
     "output_type": "stream",
     "text": [
      "Median drives per driving day by user type:\n",
      "label\n",
      "churned     7.454545\n",
      "retained    3.750000\n",
      "Name: drives_per_driving_day, dtype: float64\n"
     ]
    }
   ],
   "source": [
    "# Add a column for drives per driving day (avoid division by zero)\n",
    "df['drives_per_driving_day'] = df['drives'] / df['driving_days'].replace(0, np.nan)\n",
    "\n",
    "# Group by 'label' and calculate the median of drives per driving day\n",
    "median_drives_per_day = df.groupby('label')['drives_per_driving_day'].median()\n",
    "\n",
    "# Display the result\n",
    "print(\"Median drives per driving day by user type:\")\n",
    "print(median_drives_per_day)"
   ]
  },
  {
   "cell_type": "markdown",
   "metadata": {
    "id": "LVRAwsb1nv2L"
   },
   "source": [
    "The median user who churned drove 523 kilometers each day they drove last month, which is almost ~199% the per-drive-day distance of retained users. The median churned user had a similarly disproporionate number of drives per drive day compared to retained users.\n",
    "\n",
    "It is clear from these figures that, regardless of whether a user churned or not, the users represented in this data are serious drivers! It would probably be safe to assume that this data does not represent typical drivers at large. Perhaps the data&mdash;and in particular the sample of churned users&mdash;contains a high proportion of long-haul truckers.\n",
    "\n",
    "In consideration of how much these users drive, it would be worthwhile to recommend to Waze that they gather more data on these super-drivers. It's possible that the reason for their driving so much is also the reason why the Waze app does not meet their specific set of needs, which may differ from the needs of a more typical driver, such as a commuter."
   ]
  },
  {
   "cell_type": "markdown",
   "metadata": {
    "id": "xc7Q6elLoD1R"
   },
   "source": [
    "Finally, examine whether there is an imbalance in how many users churned by device type.\n",
    "\n",
    "Begin by getting the overall counts of each device type for each group, churned and retained."
   ]
  },
  {
   "cell_type": "code",
   "execution_count": 15,
   "metadata": {
    "id": "LGkODIILoEp-"
   },
   "outputs": [
    {
     "name": "stdout",
     "output_type": "stream",
     "text": [
      "Device Counts by User Type:\n",
      "label     device \n",
      "churned   Android     891\n",
      "          iPhone     1645\n",
      "retained  Android    4183\n",
      "          iPhone     7580\n",
      "dtype: int64\n"
     ]
    }
   ],
   "source": [
    "# Count of users by label and device\n",
    "device_counts_by_label = df.groupby(['label', 'device']).size()\n",
    "\n",
    "# Display the results\n",
    "print(\"Device Counts by User Type:\")\n",
    "print(device_counts_by_label)"
   ]
  },
  {
   "cell_type": "markdown",
   "metadata": {
    "id": "yTVM6qFkoJs4"
   },
   "source": [
    "Now, within each group, churned and retained, calculate what percent was Android and what percent was iPhone."
   ]
  },
  {
   "cell_type": "code",
   "execution_count": 16,
   "metadata": {
    "id": "rx0ElsS6oO7y"
   },
   "outputs": [
    {
     "name": "stdout",
     "output_type": "stream",
     "text": [
      "Percentage of Device Types by User Type:\n",
      "label     label     device \n",
      "churned   churned   Android    35.134069\n",
      "                    iPhone     64.865931\n",
      "retained  retained  Android    35.560656\n",
      "                    iPhone     64.439344\n",
      "dtype: float64\n"
     ]
    }
   ],
   "source": [
    "# Count of users by label and device\n",
    "device_counts = df.groupby(['label', 'device']).size()\n",
    "\n",
    "# Convert counts to percentages within each label group\n",
    "device_percentages = device_counts.groupby(level=0).apply(lambda x: 100 * x / x.sum())\n",
    "\n",
    "# Display the result\n",
    "print(\"Percentage of Device Types by User Type:\")\n",
    "print(device_percentages)"
   ]
  },
  {
   "cell_type": "markdown",
   "metadata": {
    "id": "DQVIMPzroavO"
   },
   "source": [
    "The ratio of iPhone users and Android users is consistent between the churned group and the retained group, and those ratios are both consistent with the ratio found in the overall dataset."
   ]
  },
  {
   "cell_type": "markdown",
   "metadata": {
    "id": "tF_82VLgzrQm"
   },
   "source": [
    "<img src=\"images/Construct.png\" width=\"100\" height=\"100\" align=left>\n",
    "\n",
    "## **PACE: Construct**\n",
    "\n",
    "**Note**: The Construct stage does not apply to this workflow. The PACE framework can be adapted to fit the specific requirements of any project.\n",
    "\n"
   ]
  },
  {
   "cell_type": "markdown",
   "metadata": {
    "id": "BMHV86A6zrQo"
   },
   "source": [
    "<img src=\"images/Execute.png\" width=\"100\" height=\"100\" align=left>\n",
    "\n",
    "## **PACE: Execute**\n",
    "\n",
    "Consider the questions in your PACE Strategy Document and those below to craft your response:"
   ]
  },
  {
   "cell_type": "markdown",
   "metadata": {
    "id": "u3HxcMZgz6iW"
   },
   "source": [
    "### **Task 3. Conclusion**\n",
    "\n",
    "Recall that your supervisor, May Santer, asked you to share your findings with the data team in an executive summary. Consider the following questions as you prepare to write your summary. Think about key points you may want to share with the team, and what information is most relevant to the user churn project.\n",
    "\n",
    "**Questions:**\n",
    "\n",
    "1. Did the data contain any missing values? How many, and which variables were affected? Was there a pattern to the missing data?\n",
    "\n",
    "Yes, the dataset contained 700 rows with missing values in the label column, which indicates whether a user churned or was retained. No other columns appeared to have missing values.\n",
    "A pattern was identified: 63.9% of the users with missing labels were iPhone users, while 36.1% were Android users. This distribution is consistent with the device ratio in the complete data, so there’s no indication of device-based bias in the missing labels.\n",
    "\n",
    "2. What is a benefit of using the median value of a sample instead of the mean?\n",
    "\n",
    "The median is less sensitive to extreme outliers than the mean. This makes it a more accurate representation of a \"typical\" user in datasets where values like driven_km_drives can be skewed by a small number of users driving extremely long distances (e.g., over 21,000 km in a month).\n",
    "\n",
    "3. Did your investigation give rise to further questions that you would like to explore or ask the Waze team about?\n",
    "\n",
    "Yes. The data suggest that users who churned were extremely active drivers, with high kilometers and drives per driving day. This raises questions such as:\n",
    "\n",
    "Are these users professional drivers (e.g., long-haul truckers)?\n",
    "\n",
    "If so, does the Waze app lack features tailored to their needs?\n",
    "\n",
    "Could customizing the app experience for super-drivers reduce churn?\n",
    "\n",
    "4. What percentage of the users in the dataset were Android users and what percentage were iPhone users?\n",
    "\n",
    "Android users: 35.5%\n",
    "\n",
    "iPhone users: 64.5%\n",
    "\n",
    "5. What were some distinguishing characteristics of users who churned vs. users who were retained?\n",
    "\n",
    "Compared to retained users, churned users:\n",
    "\n",
    "Had more drives per month (median of 51 vs. 48)\n",
    "\n",
    "Drove ~200 km more and spent ~2.5 more hours driving per month\n",
    "\n",
    "Had fewer driving days (11 vs. 12), but did more drives per driving day (7.45 vs. 3.75)\n",
    "\n",
    "Drove longer distances per driving day (median of 523 km vs. 263 km)\n",
    "\n",
    "These users were intense app users over fewer days, which may suggest a distinct segment.\n",
    "\n",
    "6. Was there an appreciable difference in churn rate between iPhone users vs. Android users?\n",
    "\n",
    "No. The percentage of iPhone and Android users within both the churned and retained groups was nearly identical:\n",
    "\n",
    "Churned: 64.9% iPhone, 35.1% Android\n",
    "\n",
    "Retained: 64.4% iPhone, 35.6% Android\n",
    "\n",
    "This suggests that device type did not significantly affect churn behavior in this dataset."
   ]
  }
 ],
 "metadata": {
  "colab": {
   "provenance": [
    {
     "file_id": "11e8ZirEhEEhZj7pNZmB8r_dPDEwRnfPR",
     "timestamp": 1671051831339
    },
    {
     "file_id": "1SoZM3Yq8C8BdYu-st3_BAlhze2_Z6Ilb",
     "timestamp": 1668798742100
    },
    {
     "file_id": "1U6q6WFOo7_Ka_C9cdq49KwAsI_lFX86-",
     "timestamp": 1668698832849
    },
    {
     "file_id": "1h6rKqbyzegmvnh5T6X1MhTFOXE6VUciq",
     "timestamp": 1666209449412
    },
    {
     "file_id": "1Vz66UR_ImIhJ4HEkCzdY_9E9QLKiboV1",
     "timestamp": 1663780048645
    }
   ],
   "toc_visible": true
  },
  "kernelspec": {
   "display_name": "Python 3 (ipykernel)",
   "language": "python",
   "name": "python3"
  },
  "language_info": {
   "codemirror_mode": {
    "name": "ipython",
    "version": 3
   },
   "file_extension": ".py",
   "mimetype": "text/x-python",
   "name": "python",
   "nbconvert_exporter": "python",
   "pygments_lexer": "ipython3",
   "version": "3.11.9"
  }
 },
 "nbformat": 4,
 "nbformat_minor": 4
}
