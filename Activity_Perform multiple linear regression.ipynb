{
 "cells": [
  {
   "cell_type": "markdown",
   "id": "2b1a9e19",
   "metadata": {
    "id": "3efad4c7-d34f-44b0-a48d-94651f931bae"
   },
   "source": [
    "# Activity: Perform multiple linear regression\n"
   ]
  },
  {
   "cell_type": "markdown",
   "id": "8720344e",
   "metadata": {
    "id": "2faf7b57-5c13-45e5-b666-d575eff0d17c"
   },
   "source": [
    "## Introduction"
   ]
  },
  {
   "cell_type": "markdown",
   "id": "fad1f158",
   "metadata": {
    "id": "2ca9aca5-33e0-4aa7-acdb-05832b05e5a9"
   },
   "source": [
    "As you have learned, multiple linear regression helps you estimate the linear relationship between one continuous dependent variable and two or more independent variables. For data science professionals, this is a useful skill because it allows you to compare more than one variable to the variable you're measuring against. This provides the opportunity for much more thorough and flexible analysis. \n",
    "\n",
    "For this activity, you will be analyzing a small business' historical marketing promotion data. Each row corresponds to an independent marketing promotion where their business uses TV, social media, radio, and influencer promotions to increase sales. They previously had you work on finding a single variable that predicts sales, and now they are hoping to expand this analysis to include other variables that can help them target their marketing efforts.\n",
    "\n",
    "To address the business' request, you will conduct a multiple linear regression analysis to estimate sales from a combination of independent variables. This will include:\n",
    "\n",
    "* Exploring and cleaning data\n",
    "* Using plots and descriptive statistics to select the independent variables\n",
    "* Creating a fitting multiple linear regression model\n",
    "* Checking model assumptions\n",
    "* Interpreting model outputs and communicating the results to non-technical stakeholders"
   ]
  },
  {
   "cell_type": "markdown",
   "id": "dc839fe7",
   "metadata": {
    "id": "bfcf5ec2-e48b-4443-9bf6-72670bd60041"
   },
   "source": [
    "## Step 1: Imports"
   ]
  },
  {
   "cell_type": "markdown",
   "id": "52c97672",
   "metadata": {
    "id": "9d3f02aa-20dd-4844-baad-c080e7d5c48d"
   },
   "source": [
    "### Import packages"
   ]
  },
  {
   "cell_type": "markdown",
   "id": "f8cee3db",
   "metadata": {
    "id": "7dcaa8a0-4fe8-4816-9ef5-5fc665a4638f"
   },
   "source": [
    "Import relevant Python libraries and modules."
   ]
  },
  {
   "cell_type": "code",
   "execution_count": 1,
   "id": "bdf311cd",
   "metadata": {
    "id": "b2f4b9fa-b7bd-4b88-8c71-d3af5ddcb906"
   },
   "outputs": [],
   "source": [
    "# Import libraries and modules\n",
    "import pandas as pd\n",
    "import numpy as np\n",
    "import matplotlib.pyplot as plt\n",
    "import seaborn as sns\n",
    "\n",
    "# Import OLS from statsmodels\n",
    "import statsmodels.api as sm\n",
    "from statsmodels.formula.api import ols"
   ]
  },
  {
   "cell_type": "markdown",
   "id": "87e5bc2e",
   "metadata": {
    "id": "84d9d20a-4ea9-4f2d-a633-b21420f47eeb"
   },
   "source": [
    "### Load dataset"
   ]
  },
  {
   "cell_type": "markdown",
   "id": "6b7838dd",
   "metadata": {
    "id": "b05c77e3-9f0f-4245-a683-07be022e2cd6"
   },
   "source": [
    "`Pandas` was used to load the dataset `marketing_sales_data.csv` as `data`, now display the first five rows. The variables in the dataset have been adjusted to suit the objectives of this lab. As shown in this cell, the dataset has been automatically loaded in for you. You do not need to download the .csv file, or provide more code, in order to access the dataset and proceed with this lab. Please continue with this activity by completing the following instructions."
   ]
  },
  {
   "cell_type": "code",
   "execution_count": 3,
   "id": "bc7d515b",
   "metadata": {
    "id": "32d46d82-2bd6-4433-b56e-cfa5542949ca"
   },
   "outputs": [
    {
     "data": {
      "text/html": [
       "<div>\n",
       "<style scoped>\n",
       "    .dataframe tbody tr th:only-of-type {\n",
       "        vertical-align: middle;\n",
       "    }\n",
       "\n",
       "    .dataframe tbody tr th {\n",
       "        vertical-align: top;\n",
       "    }\n",
       "\n",
       "    .dataframe thead th {\n",
       "        text-align: right;\n",
       "    }\n",
       "</style>\n",
       "<table border=\"1\" class=\"dataframe\">\n",
       "  <thead>\n",
       "    <tr style=\"text-align: right;\">\n",
       "      <th></th>\n",
       "      <th>TV</th>\n",
       "      <th>Radio</th>\n",
       "      <th>Social Media</th>\n",
       "      <th>Influencer</th>\n",
       "      <th>Sales</th>\n",
       "    </tr>\n",
       "  </thead>\n",
       "  <tbody>\n",
       "    <tr>\n",
       "      <th>0</th>\n",
       "      <td>Low</td>\n",
       "      <td>3.518070</td>\n",
       "      <td>2.293790</td>\n",
       "      <td>Micro</td>\n",
       "      <td>55.261284</td>\n",
       "    </tr>\n",
       "    <tr>\n",
       "      <th>1</th>\n",
       "      <td>Low</td>\n",
       "      <td>7.756876</td>\n",
       "      <td>2.572287</td>\n",
       "      <td>Mega</td>\n",
       "      <td>67.574904</td>\n",
       "    </tr>\n",
       "    <tr>\n",
       "      <th>2</th>\n",
       "      <td>High</td>\n",
       "      <td>20.348988</td>\n",
       "      <td>1.227180</td>\n",
       "      <td>Micro</td>\n",
       "      <td>272.250108</td>\n",
       "    </tr>\n",
       "    <tr>\n",
       "      <th>3</th>\n",
       "      <td>Medium</td>\n",
       "      <td>20.108487</td>\n",
       "      <td>2.728374</td>\n",
       "      <td>Mega</td>\n",
       "      <td>195.102176</td>\n",
       "    </tr>\n",
       "    <tr>\n",
       "      <th>4</th>\n",
       "      <td>High</td>\n",
       "      <td>31.653200</td>\n",
       "      <td>7.776978</td>\n",
       "      <td>Nano</td>\n",
       "      <td>273.960377</td>\n",
       "    </tr>\n",
       "  </tbody>\n",
       "</table>\n",
       "</div>"
      ],
      "text/plain": [
       "       TV      Radio  Social Media Influencer       Sales\n",
       "0     Low   3.518070      2.293790      Micro   55.261284\n",
       "1     Low   7.756876      2.572287       Mega   67.574904\n",
       "2    High  20.348988      1.227180      Micro  272.250108\n",
       "3  Medium  20.108487      2.728374       Mega  195.102176\n",
       "4    High  31.653200      7.776978       Nano  273.960377"
      ]
     },
     "execution_count": 3,
     "metadata": {},
     "output_type": "execute_result"
    }
   ],
   "source": [
    "# RUN THIS CELL TO IMPORT YOUR DATA.\n",
    "\n",
    "### YOUR CODE HERE ### \n",
    "data = pd.read_csv('marketing_sales_data.csv')\n",
    "\n",
    "# Display the first five rows of the dataset\n",
    "data.head()"
   ]
  },
  {
   "cell_type": "markdown",
   "id": "04109f46",
   "metadata": {
    "id": "fd47ede7-63ff-4fe5-aeb0-b8f909e9ecbe"
   },
   "source": [
    "## Step 2: Data exploration"
   ]
  },
  {
   "cell_type": "markdown",
   "id": "0aa5020f",
   "metadata": {},
   "source": [
    "### Familiarize yourself with the data's features\n",
    "\n",
    "Start with an exploratory data analysis to familiarize yourself with the data and prepare it for modeling.\n",
    "\n",
    "The features in the data are:\n",
    "\n",
    "* TV promotional budget (in \"Low,\" \"Medium,\" and \"High\" categories)\n",
    "* Social media promotional budget (in millions of dollars)\n",
    "* Radio promotional budget (in millions of dollars)\n",
    "* Sales (in millions of dollars)\n",
    "* Influencer size (in \"Mega,\" \"Macro,\" \"Micro,\" and \"Nano\" categories)\n"
   ]
  },
  {
   "cell_type": "markdown",
   "id": "20176277",
   "metadata": {},
   "source": [
    "**Question:** What are some purposes of EDA before constructing a multiple linear regression model?"
   ]
  },
  {
   "cell_type": "markdown",
   "id": "a5c10f87",
   "metadata": {},
   "source": [
    "Exploratory Data Analysis (EDA) serves several important purposes before constructing a multiple linear regression model:\n",
    "\n",
    "Understanding the structure of the data: EDA helps identify the variables involved, their data types (categorical or continuous), and their distributions. This is critical for determining how each variable can be included in the model.\n",
    "\n",
    "Detecting data quality issues: EDA can reveal missing values, outliers, or errors in the dataset that need to be addressed before modeling to avoid biased or misleading results.\n",
    "\n",
    "Identifying relationships between variables: Through visualizations and correlation analysis, EDA helps uncover potential relationships between independent variables and the dependent variable, guiding variable selection for the regression.\n",
    "\n",
    "Checking for multicollinearity: It allows data professionals to examine the correlations among independent variables, which is important to ensure that multicollinearity does not distort the model estimates.\n",
    "\n",
    "Assessing assumptions: Preliminary visualizations can help assess linearity and normality, which are key assumptions of linear regression."
   ]
  },
  {
   "cell_type": "markdown",
   "id": "9562ec89",
   "metadata": {
    "id": "3f63f855-1dac-415b-a303-4f66fc39322c"
   },
   "source": [
    "### Create a pairplot of the data\n",
    "\n",
    "Create a pairplot to visualize the relationship between the continous variables in `data`."
   ]
  },
  {
   "cell_type": "code",
   "execution_count": 4,
   "id": "eae520ec",
   "metadata": {
    "id": "518254a6-44d5-45bf-9b57-13ce3a4deab3"
   },
   "outputs": [
    {
     "data": {
      "image/png": "[encoded data removed]",
      "text/plain": [
       "<Figure size 540x540 with 12 Axes>"
      ]
     },
     "metadata": {
      "needs_background": "light"
     },
     "output_type": "display_data"
    }
   ],
   "source": [
    "# Create a pairplot of the data\n",
    "sns.pairplot(data)\n",
    "plt.show()"
   ]
  },
  {
   "cell_type": "markdown",
   "id": "7d7450b2",
   "metadata": {
    "id": "93223044-e133-4d60-ab37-d792ca43c234"
   },
   "source": [
    "<details>\n",
    "<summary><h4><strong>Hint 1</strong></h4></summary>\n",
    "\n",
    "Refer to [the content where creating a pairplot is demonstrated](https://www.coursera.org/learn/regression-analysis-simplify-complex-data-relationships/item/dnjWm).\n",
    "\n",
    "</details>\n"
   ]
  },
  {
   "cell_type": "markdown",
   "id": "94d0ef89",
   "metadata": {
    "id": "fb6bfb6f-35b6-427e-8d58-8ae5f25c5b9f"
   },
   "source": [
    "<details>\n",
    "<summary><h4><strong>Hint 2</strong></h4></summary>\n",
    "\n",
    "Use the function in the `seaborn` library that allows you to create a pairplot showing the relationships between variables in the data.\n",
    "\n",
    "</details>\n"
   ]
  },
  {
   "cell_type": "markdown",
   "id": "8c9f0dc7",
   "metadata": {
    "id": "672bccbf-ffc6-4999-8153-12d658341f56"
   },
   "source": [
    "<details>\n",
    "<summary><h4><strong>Hint 3</strong></h4></summary>\n",
    "\n",
    "Use the `pairplot()` function from the `seaborn` library and pass in the entire DataFrame.\n",
    "\n",
    "</details>\n"
   ]
  },
  {
   "cell_type": "markdown",
   "id": "9194b541",
   "metadata": {
    "id": "043e38a8-35fe-4c4e-b278-f3dab9b897da"
   },
   "source": [
    "**Question:** Which variables have a linear relationship with `Sales`? Why are some variables in the data excluded from the preceding plot?\n",
    "\n"
   ]
  },
  {
   "cell_type": "markdown",
   "id": "daefaf43",
   "metadata": {
    "id": "1AsrnNkd4hl9"
   },
   "source": [
    "From the pairplot, we can observe that Radio and Social Media show a clear positive linear relationship with Sales. As the values for these variables increase, the values for Sales also tend to increase in a roughly straight-line pattern. This indicates that these variables may be good predictors in a multiple linear regression model.\n",
    "\n",
    "Some variables are excluded from the plot because they are categorical (such as \"TV\" and \"Influencer\"), and the pairplot function in Seaborn automatically displays only numerical (continuous) variables when plotting scatterplots and histograms. Categorical variables don't have a meaningful numeric scale, so they can't be plotted in the same way as continuous variables. These variables will require encoding (like one-hot encoding) before they can be used in a regression model."
   ]
  },
  {
   "cell_type": "markdown",
   "id": "911db557",
   "metadata": {
    "id": "af82ed3e-be07-47a2-8531-ac759b607dd7"
   },
   "source": [
    "### Calculate the mean sales for each categorical variable"
   ]
  },
  {
   "cell_type": "markdown",
   "id": "bda443f3",
   "metadata": {
    "id": "63116e2d-3453-478e-a98e-8564ff72829c"
   },
   "source": [
    "There are two categorical variables: `TV` and `Influencer`. To characterize the relationship between the categorical variables and `Sales`, find the mean `Sales` for each category in `TV` and the mean `Sales` for each category in `Influencer`. "
   ]
  },
  {
   "cell_type": "code",
   "execution_count": 5,
   "id": "b1adedda",
   "metadata": {
    "id": "cf770bc2-d2fd-4441-99b0-94ac2e704f90"
   },
   "outputs": [
    {
     "name": "stdout",
     "output_type": "stream",
     "text": [
      "Mean Sales by TV category:\n",
      " TV\n",
      "High      300.853195\n",
      "Low        90.984101\n",
      "Medium    195.358032\n",
      "Name: Sales, dtype: float64\n",
      "\n",
      "Mean Sales by Influencer category:\n",
      " Influencer\n",
      "Macro    181.670070\n",
      "Mega     194.487941\n",
      "Micro    188.321846\n",
      "Nano     191.874432\n",
      "Name: Sales, dtype: float64\n"
     ]
    }
   ],
   "source": [
    "# Calculate the mean sales for each TV category\n",
    "tv_mean_sales = data.groupby('TV')['Sales'].mean()\n",
    "print(\"Mean Sales by TV category:\\n\", tv_mean_sales)\n",
    "\n",
    "# Calculate the mean sales for each Influencer category\n",
    "influencer_mean_sales = data.groupby('Influencer')['Sales'].mean()\n",
    "print(\"\\nMean Sales by Influencer category:\\n\", influencer_mean_sales)"
   ]
  },
  {
   "cell_type": "markdown",
   "id": "f9a9ba4c",
   "metadata": {
    "id": "75cca644-b19a-4a48-b99e-e5261de0ac7c"
   },
   "source": [
    "<details>\n",
    "<summary><h4><strong>Hint 1</strong></h4></summary>\n",
    "\n",
    "Find the mean `Sales` when the `TV` promotion is `High`, `Medium`, or `Low`.\n",
    "    \n",
    "Find the mean `Sales` when the `Influencer` promotion is `Macro`, `Mega`, `Micro`, or `Nano`.  \n",
    "\n",
    "</details>"
   ]
  },
  {
   "cell_type": "markdown",
   "id": "932ad070",
   "metadata": {
    "id": "66d8f2bb-3eac-487f-8357-ffe1c69fb1a7"
   },
   "source": [
    "<details>\n",
    "<summary><h4><strong>Hint 2</strong></h4></summary>\n",
    "\n",
    "Use the `groupby` operation in `pandas` to split an object (e.g., data) into groups and apply a calculation to each group.\n",
    "\n",
    "</details>"
   ]
  },
  {
   "cell_type": "markdown",
   "id": "b2045948",
   "metadata": {
    "id": "84b3354e-a688-469f-9891-677d935eddd2"
   },
   "source": [
    "<details>\n",
    "<summary><h4><strong>Hint 3</strong></h4></summary>\n",
    "\n",
    "To calculate the mean `Sales` for each `TV` category, group by `TV`, select the `Sales` column, and then calculate the mean. \n",
    "    \n",
    "Apply the same process to calculate the mean `Sales` for each `Influencer` category.\n",
    "\n",
    "</details>"
   ]
  },
  {
   "cell_type": "markdown",
   "id": "6a8b15de",
   "metadata": {
    "id": "e415aa95-0650-47e0-9efd-2770b8dfcb3d"
   },
   "source": [
    "**Question:** What do you notice about the categorical variables? Could they be useful predictors of `Sales`?\n",
    "\n"
   ]
  },
  {
   "cell_type": "markdown",
   "id": "8264fe60",
   "metadata": {
    "id": "2-NgZvWJ4ijo"
   },
   "source": [
    "From the mean sales for each category:\n",
    "\n",
    "TV Categories:\n",
    "\n",
    "High TV promotion has the highest mean sales at 300.85.\n",
    "\n",
    "Medium TV promotion has a mean sales of 195.36.\n",
    "\n",
    "Low TV promotion has the lowest mean sales at 90.98.\n",
    "\n",
    "This indicates a strong positive relationship between the amount of TV promotion (Low, Medium, High) and Sales. As the TV promotion budget increases, the sales tend to increase as well. Therefore, TV promotion is a significant factor that seems to impact sales directly.\n",
    "\n",
    "Influencer Categories:\n",
    "\n",
    "Macro influencers have a mean sales of 181.67.\n",
    "\n",
    "Mega influencers have a mean sales of 194.49.\n",
    "\n",
    "Micro influencers have a mean sales of 188.32.\n",
    "\n",
    "Nano influencers have a mean sales of 191.87.\n",
    "\n",
    "Unlike TV, the relationship between influencer size and sales seems more uniform. The mean sales across different influencer sizes (Macro, Mega, Micro, Nano) are fairly close to each other, which suggests that influencer size might not have as strong of an effect on sales compared to TV promotions.\n",
    "\n",
    "Conclusion:\n",
    "\n",
    "The TV category has a clear relationship with sales and could be a strong predictor of sales in the regression model.\n",
    "\n",
    "The Influencer category shows similar mean sales across different levels, so while it might still have an impact, it may not be as influential or predictive as the TV budget.\n",
    "\n",
    "Given this, TV is likely to be a more important predictor of sales, but influencer size could still offer some additional insight or predictive power, especially if combined with other variables."
   ]
  },
  {
   "cell_type": "markdown",
   "id": "7aecd96f",
   "metadata": {
    "id": "0f4adbee-9d13-400a-99e6-6d4c482b8e17"
   },
   "source": [
    "### Remove missing data\n",
    "\n",
    "This dataset contains rows with missing values. To correct this, drop all rows that contain missing data."
   ]
  },
  {
   "cell_type": "code",
   "execution_count": 6,
   "id": "d3a40bb5",
   "metadata": {
    "id": "498e546b-e90e-4b84-a7d7-12b3bb514c1d"
   },
   "outputs": [
    {
     "data": {
      "text/html": [
       "<div>\n",
       "<style scoped>\n",
       "    .dataframe tbody tr th:only-of-type {\n",
       "        vertical-align: middle;\n",
       "    }\n",
       "\n",
       "    .dataframe tbody tr th {\n",
       "        vertical-align: top;\n",
       "    }\n",
       "\n",
       "    .dataframe thead th {\n",
       "        text-align: right;\n",
       "    }\n",
       "</style>\n",
       "<table border=\"1\" class=\"dataframe\">\n",
       "  <thead>\n",
       "    <tr style=\"text-align: right;\">\n",
       "      <th></th>\n",
       "      <th>TV</th>\n",
       "      <th>Radio</th>\n",
       "      <th>Social Media</th>\n",
       "      <th>Influencer</th>\n",
       "      <th>Sales</th>\n",
       "    </tr>\n",
       "  </thead>\n",
       "  <tbody>\n",
       "    <tr>\n",
       "      <th>0</th>\n",
       "      <td>Low</td>\n",
       "      <td>3.518070</td>\n",
       "      <td>2.293790</td>\n",
       "      <td>Micro</td>\n",
       "      <td>55.261284</td>\n",
       "    </tr>\n",
       "    <tr>\n",
       "      <th>1</th>\n",
       "      <td>Low</td>\n",
       "      <td>7.756876</td>\n",
       "      <td>2.572287</td>\n",
       "      <td>Mega</td>\n",
       "      <td>67.574904</td>\n",
       "    </tr>\n",
       "    <tr>\n",
       "      <th>2</th>\n",
       "      <td>High</td>\n",
       "      <td>20.348988</td>\n",
       "      <td>1.227180</td>\n",
       "      <td>Micro</td>\n",
       "      <td>272.250108</td>\n",
       "    </tr>\n",
       "    <tr>\n",
       "      <th>3</th>\n",
       "      <td>Medium</td>\n",
       "      <td>20.108487</td>\n",
       "      <td>2.728374</td>\n",
       "      <td>Mega</td>\n",
       "      <td>195.102176</td>\n",
       "    </tr>\n",
       "    <tr>\n",
       "      <th>4</th>\n",
       "      <td>High</td>\n",
       "      <td>31.653200</td>\n",
       "      <td>7.776978</td>\n",
       "      <td>Nano</td>\n",
       "      <td>273.960377</td>\n",
       "    </tr>\n",
       "  </tbody>\n",
       "</table>\n",
       "</div>"
      ],
      "text/plain": [
       "       TV      Radio  Social Media Influencer       Sales\n",
       "0     Low   3.518070      2.293790      Micro   55.261284\n",
       "1     Low   7.756876      2.572287       Mega   67.574904\n",
       "2    High  20.348988      1.227180      Micro  272.250108\n",
       "3  Medium  20.108487      2.728374       Mega  195.102176\n",
       "4    High  31.653200      7.776978       Nano  273.960377"
      ]
     },
     "execution_count": 6,
     "metadata": {},
     "output_type": "execute_result"
    }
   ],
   "source": [
    "# Drop rows with missing data and update the DataFrame\n",
    "data_cleaned = data.dropna(axis=0)\n",
    "\n",
    "# Display the first five rows of the cleaned dataset\n",
    "data_cleaned.head()"
   ]
  },
  {
   "cell_type": "markdown",
   "id": "04045295",
   "metadata": {
    "id": "e37d7507-1f3d-4432-912e-ced7feff4ac6"
   },
   "source": [
    "<details>\n",
    "<summary><h4><strong>Hint 1</strong></h4></summary>\n",
    "\n",
    "Use the `pandas` function that removes missing values.\n",
    "\n",
    "</details>"
   ]
  },
  {
   "cell_type": "markdown",
   "id": "c9c4bf72",
   "metadata": {
    "id": "19cd01e1-9976-47f6-b25c-7b8ce2a05627"
   },
   "source": [
    "<details>\n",
    "<summary><h4><strong>Hint 2</strong></h4></summary>\n",
    "\n",
    "The `dropna()` function removes missing values from an object (e.g., DataFrame).\n",
    "\n",
    "</details>"
   ]
  },
  {
   "cell_type": "markdown",
   "id": "d6b87fad",
   "metadata": {
    "id": "87a46eec-9d3e-4657-bf91-6b3bd02089f0"
   },
   "source": [
    "<details>\n",
    "<summary><h4><strong>Hint 3</strong></h4></summary>\n",
    "\n",
    "Use `data.dropna(axis=0)` to drop all rows with missing values in `data`. Be sure to properly update the DataFrame.\n",
    "\n",
    "</details>"
   ]
  },
  {
   "cell_type": "markdown",
   "id": "495abde0",
   "metadata": {
    "id": "6c77f884-a459-4083-ac2f-abfd2d476f28"
   },
   "source": [
    "### Clean column names"
   ]
  },
  {
   "cell_type": "markdown",
   "id": "5de6cc9b",
   "metadata": {
    "id": "f1235ced-59ff-46e0-9120-c52517ec89d1"
   },
   "source": [
    "The `ols()` function doesn't run when variable names contain a space. Check that the column names in `data` do not contain spaces and fix them, if needed."
   ]
  },
  {
   "cell_type": "code",
   "execution_count": 7,
   "id": "bd99cb2c",
   "metadata": {
    "id": "ac28fd29-44d9-4842-9c94-0aa9bd8ebb04"
   },
   "outputs": [
    {
     "name": "stdout",
     "output_type": "stream",
     "text": [
      "Index(['TV', 'Radio', 'Social_Media', 'Influencer', 'Sales'], dtype='object')\n"
     ]
    }
   ],
   "source": [
    "# Rename columns to remove spaces in the names\n",
    "data.columns = data.columns.str.replace(' ', '_')\n",
    "\n",
    "# Display the cleaned column names to verify\n",
    "print(data.columns)"
   ]
  },
  {
   "cell_type": "markdown",
   "id": "96c631b2",
   "metadata": {
    "id": "f6ee1e20-acb5-4c7a-ac25-bb6891825895"
   },
   "source": [
    "<details>\n",
    "<summary><h4><strong>Hint 1</strong></h4></summary>\n",
    "\n",
    "There is one column name that contains a space. Search for it in `data`.\n",
    "\n",
    "</details>"
   ]
  },
  {
   "cell_type": "markdown",
   "id": "c99cccc2",
   "metadata": {
    "id": "ed1e4f56-c792-4355-bbb3-59da85f67a1e"
   },
   "source": [
    "<details>\n",
    "<summary><h4><strong>Hint 2</strong></h4></summary>\n",
    "\n",
    "The `Social Media` column name in `data` contains a space. This is not allowed in the `ols()` function.\n",
    "\n",
    "</details>"
   ]
  },
  {
   "cell_type": "markdown",
   "id": "3f4bf022",
   "metadata": {
    "id": "e146d3ff-3ab5-4eb7-a789-5e4300ecaf9d"
   },
   "source": [
    "<details>\n",
    "<summary><h4><strong>Hint 3</strong></h4></summary>\n",
    "\n",
    "Use the `rename()` function in `pandas` and use the `columns` argument to provide a new name for `Social Media`.\n",
    "\n",
    "</details>"
   ]
  },
  {
   "cell_type": "markdown",
   "id": "0c01f0ad",
   "metadata": {
    "id": "888c90fa-d800-43e4-a692-9fdd576c9b9c"
   },
   "source": [
    "## Step 3: Model building"
   ]
  },
  {
   "cell_type": "markdown",
   "id": "b2fbd954",
   "metadata": {
    "id": "9c906193-db62-4af0-83fa-dffafc347554"
   },
   "source": [
    "### Fit a multiple linear regression model that predicts sales\n",
    "\n",
    "Using the independent variables of your choice, fit a multiple linear regression model that predicts `Sales` using two or more independent variables from `data`."
   ]
  },
  {
   "cell_type": "code",
   "execution_count": 8,
   "id": "d395d1f1",
   "metadata": {
    "id": "76f99341-1ea0-4f1d-a2c7-54e56bd57e38"
   },
   "outputs": [
    {
     "name": "stdout",
     "output_type": "stream",
     "text": [
      "                            OLS Regression Results                            \n",
      "==============================================================================\n",
      "Dep. Variable:                  Sales   R-squared:                       0.904\n",
      "Model:                            OLS   Adj. R-squared:                  0.903\n",
      "Method:                 Least Squares   F-statistic:                     760.4\n",
      "Date:                Sun, 11 May 2025   Prob (F-statistic):          1.82e-282\n",
      "Time:                        13:11:44   Log-Likelihood:                -2713.4\n",
      "No. Observations:                 572   AIC:                             5443.\n",
      "Df Residuals:                     564   BIC:                             5478.\n",
      "Df Model:                           7                                         \n",
      "Covariance Type:            nonrobust                                         \n",
      "=======================================================================================\n",
      "                          coef    std err          t      P>|t|      [0.025      0.975]\n",
      "---------------------------------------------------------------------------------------\n",
      "Intercept             217.4784      6.584     33.031      0.000     204.546     230.411\n",
      "TV[T.Low]            -154.5736      4.949    -31.231      0.000    -164.295    -144.852\n",
      "TV[T.Medium]          -75.5947      3.647    -20.726      0.000     -82.759     -68.431\n",
      "Influencer[T.Mega]      2.4948      3.462      0.721      0.471      -4.305       9.295\n",
      "Influencer[T.Micro]     2.9391      3.378      0.870      0.385      -3.695       9.574\n",
      "Influencer[T.Nano]      0.8015      3.346      0.240      0.811      -5.770       7.373\n",
      "Radio                   2.9735      0.235     12.644      0.000       2.512       3.435\n",
      "Social_Media           -0.1391      0.676     -0.206      0.837      -1.467       1.189\n",
      "==============================================================================\n",
      "Omnibus:                       58.711   Durbin-Watson:                   1.874\n",
      "Prob(Omnibus):                  0.000   Jarque-Bera (JB):               17.802\n",
      "Skew:                           0.057   Prob(JB):                     0.000136\n",
      "Kurtosis:                       2.143   Cond. No.                         147.\n",
      "==============================================================================\n",
      "\n",
      "Warnings:\n",
      "[1] Standard Errors assume that the covariance matrix of the errors is correctly specified.\n"
     ]
    }
   ],
   "source": [
    "# Define the OLS formula\n",
    "formula = 'Sales ~ TV + Radio + Social_Media + Influencer'\n",
    "\n",
    "# Create an OLS model\n",
    "model = ols(formula, data=data)\n",
    "\n",
    "# Fit the model\n",
    "results = model.fit()\n",
    "\n",
    "# Save the results summary\n",
    "model_summary = results.summary()\n",
    "\n",
    "# Display the model results\n",
    "print(model_summary)"
   ]
  },
  {
   "cell_type": "markdown",
   "id": "d848335d",
   "metadata": {
    "id": "109e32f5-8193-4961-8245-6b6c09acfe3a",
    "jp-MarkdownHeadingCollapsed": true,
    "tags": []
   },
   "source": [
    "<details>\n",
    "<summary><h4><strong>Hint 1</strong></h4></summary>\n",
    "\n",
    "Refer to the content that discusses [model building](https://www.coursera.org/learn/regression-analysis-simplify-complex-data-relationships/lecture/zd74V/interpret-multiple-regression-coefficients) for linear regression.\n",
    "\n",
    "</details>"
   ]
  },
  {
   "cell_type": "markdown",
   "id": "f2b9045c",
   "metadata": {
    "id": "49424e08-3472-44f1-a892-63ed80517510"
   },
   "source": [
    "<details>\n",
    "<summary><h4><strong>Hint 2</strong></h4></summary>\n",
    "\n",
    "Use the `ols()` function imported earlier—which creates a model from a formula and DataFrame—to create an OLS model.\n",
    "\n",
    "</details>"
   ]
  },
  {
   "cell_type": "markdown",
   "id": "251f7878",
   "metadata": {
    "id": "0ee5dead-ed62-45d5-ab24-d671d8c3dde4",
    "jp-MarkdownHeadingCollapsed": true,
    "tags": []
   },
   "source": [
    "<details>\n",
    "<summary><h4><strong>Hint 3</strong></h4></summary>\n",
    "\n",
    "You previously learned how to specify in `ols()` that a feature is categorical. \n",
    "    \n",
    "Be sure the string names for the independent variables match the column names in `data` exactly.\n",
    "\n",
    "</details>"
   ]
  },
  {
   "cell_type": "markdown",
   "id": "162501be",
   "metadata": {
    "id": "1d889a8b-76f5-4f27-833f-a19af27ed8ca",
    "tags": []
   },
   "source": [
    "**Question:** Which independent variables did you choose for the model, and why?\n",
    "\n"
   ]
  },
  {
   "cell_type": "markdown",
   "id": "ec3e4652",
   "metadata": {
    "id": "OCCzMeFc5CYv"
   },
   "source": [
    "Independent Variables Chosen for the Model:\n",
    "In this model, I selected the following independent variables to predict Sales:\n",
    "\n",
    "TV (categorical: Low, Medium, High):\n",
    "\n",
    "Reason: TV advertising is often a key marketing tool, and it is important to see how different levels of TV promotional budgets (Low, Medium, High) affect sales. This categorical variable captures the potential impact of TV advertising efforts.\n",
    "\n",
    "Radio (continuous, in millions of dollars):\n",
    "\n",
    "Reason: Radio is another marketing medium, and the variable captures how varying radio budgets influence sales. As a continuous variable, it allows for precise quantification of its effect on sales.\n",
    "\n",
    "Social_Media (continuous, in millions of dollars):\n",
    "\n",
    "Reason: Social media promotions have become increasingly important for marketing. By including this variable, we are able to evaluate how budget spending on social media platforms can contribute to sales outcomes.\n",
    "\n",
    "Influencer (categorical: Mega, Macro, Micro, Nano):\n",
    "\n",
    "Reason: Influencer marketing has become a prominent method for promoting products. I included this variable to examine how different influencer sizes impact sales. The categories allow us to explore the effectiveness of influencers in different tiers.\n",
    "\n",
    "Why these Variables?\n",
    "TV, Radio, and Social Media represent important channels of marketing promotion. Including these allows us to assess how each channel contributes to the overall sales outcome.\n",
    "\n",
    "Influencer marketing is a rising trend in marketing strategies, and by including influencer categories, we aim to understand if influencer size has a measurable impact on sales.\n",
    "\n",
    "Model Results Overview:\n",
    "R-squared = 0.904: The model explains approximately 90.4% of the variance in sales, indicating a strong fit.\n",
    "\n",
    "P-values: Variables like TV (Low and Medium) and Radio have significant p-values (< 0.05), suggesting they are significant predictors of sales.\n",
    "\n",
    "Insignificant Variables: Influencer categories (Mega, Micro, Nano) and Social Media have higher p-values, indicating that they may not be significant predictors in this model.\n",
    "\n",
    "Conclusion:\n",
    "The selection of TV, Radio, and Social Media was based on their relevance in marketing efforts that could influence sales directly. Influencer was included to test if influencer marketing has a substantial effect, but it appears to be less significant in this specific dataset. The model could benefit from further refinement by potentially removing non-significant variables or adding other variables based on business insights."
   ]
  },
  {
   "cell_type": "markdown",
   "id": "6a5237ad",
   "metadata": {
    "id": "b4987bee-40ae-4513-95c3-1bec1acdbba9",
    "tags": []
   },
   "source": [
    "### Check model assumptions"
   ]
  },
  {
   "cell_type": "markdown",
   "id": "73920702",
   "metadata": {
    "id": "6854af88-7d67-4214-a7df-c6405b46bb47"
   },
   "source": [
    "For multiple linear regression, there is an additional assumption added to the four simple linear regression assumptions: **multicollinearity**. \n",
    "\n",
    "Check that all five multiple linear regression assumptions are upheld for your model."
   ]
  },
  {
   "cell_type": "markdown",
   "id": "e391433a",
   "metadata": {
    "id": "72eeb1c7-2f17-44fe-ac3f-71d555c2d81e"
   },
   "source": [
    "### Model assumption: Linearity"
   ]
  },
  {
   "cell_type": "markdown",
   "id": "a2928947",
   "metadata": {
    "id": "6f042e3e-ba44-4f93-b37d-421cf93d560f"
   },
   "source": [
    "Create scatterplots comparing the continuous independent variable(s) you selected previously with `Sales` to check the linearity assumption. Use the pairplot you created earlier to verify the linearity assumption or create new scatterplots comparing the variables of interest."
   ]
  },
  {
   "cell_type": "code",
   "execution_count": 9,
   "id": "7ebc8472",
   "metadata": {
    "id": "52036579-1a91-4250-966e-035fc0371f8f"
   },
   "outputs": [
    {
     "data": {
      "image/png": "[encoded data removed]",
      "text/plain": [
       "<Figure size 432x288 with 1 Axes>"
      ]
     },
     "metadata": {
      "needs_background": "light"
     },
     "output_type": "display_data"
    },
    {
     "data": {
      "image/png": "[encoded data removed]",
      "text/plain": [
       "<Figure size 432x288 with 1 Axes>"
      ]
     },
     "metadata": {
      "needs_background": "light"
     },
     "output_type": "display_data"
    }
   ],
   "source": [
    "# Create scatterplots comparing the continuous independent variables with Sales to check the linearity assumption\n",
    "\n",
    "# Scatterplot for Radio and Sales\n",
    "import seaborn as sns\n",
    "import matplotlib.pyplot as plt\n",
    "\n",
    "sns.scatterplot(x=data['Radio'], y=data['Sales'])\n",
    "plt.title('Scatterplot of Radio vs Sales')\n",
    "plt.xlabel('Radio Promotional Budget (in millions)')\n",
    "plt.ylabel('Sales (in millions)')\n",
    "plt.show()\n",
    "\n",
    "# Scatterplot for Social Media and Sales\n",
    "sns.scatterplot(x=data['Social_Media'], y=data['Sales'])\n",
    "plt.title('Scatterplot of Social Media vs Sales')\n",
    "plt.xlabel('Social Media Promotional Budget (in millions)')\n",
    "plt.ylabel('Sales (in millions)')\n",
    "plt.show()"
   ]
  },
  {
   "cell_type": "markdown",
   "id": "cf2cdd23",
   "metadata": {
    "id": "330dc5d1-2013-484b-b2aa-15ec71ee68a4"
   },
   "source": [
    "<details>\n",
    "<summary><h4><strong>Hint 1</strong></h4></summary>\n",
    "\n",
    "Use the function in the `seaborn` library that allows you to create a scatterplot to display the values for two variables.\n",
    "\n",
    "</details>"
   ]
  },
  {
   "cell_type": "markdown",
   "id": "5736a578",
   "metadata": {
    "id": "a247c7c5-f32b-4829-97a6-f745bbac3b70"
   },
   "source": [
    "<details>\n",
    "<summary><h4><strong>Hint 2</strong></h4></summary>\n",
    "\n",
    "Use the `scatterplot()` function in `seaborn`.\n",
    "\n",
    "</details>"
   ]
  },
  {
   "cell_type": "markdown",
   "id": "7182635d",
   "metadata": {
    "id": "4d1b8824-781d-4e8d-a2ba-e2658d7751e0"
   },
   "source": [
    "<details>\n",
    "<summary><h4><strong>Hint 3</strong></h4></summary>\n",
    "    \n",
    "Pass the independent and dependent variables in your model as the arguments for `x` and `y`, respectively, in the `scatterplot()` function. Do this for each continous independent variable in your model.\n",
    "\n",
    "</details>"
   ]
  },
  {
   "cell_type": "markdown",
   "id": "74fc1f97",
   "metadata": {
    "id": "66de8f0b-fd6b-456f-add6-f893dc33d911"
   },
   "source": [
    "**Question:** Is the linearity assumption met?\n"
   ]
  },
  {
   "cell_type": "markdown",
   "id": "77d508a1",
   "metadata": {},
   "source": [
    "Impact on the Linearity Assumption:\n",
    "Radio vs Sales: Since there is a positive correlation between Radio and Sales, and the scatterplot displays an upward trend (from left to right), this suggests that the linearity assumption is likely met for this variable. This is because we can assume a linear relationship where increasing Radio spending leads to an increase in Sales.\n",
    "\n",
    "Conclusion:\n",
    "For Radio, the linearity assumption is likely satisfied, as the scatterplot would show a positive linear trend.\n",
    "\n",
    "This supports the validity of using Radio as an independent variable in the regression model, as it shows a clear linear relationship with Sales."
   ]
  },
  {
   "cell_type": "markdown",
   "id": "1eed535f",
   "metadata": {
    "id": "892bb8a6-c4e1-4439-96bb-53125d509492"
   },
   "source": [
    "### Model assumption: Independence"
   ]
  },
  {
   "cell_type": "markdown",
   "id": "219e1386",
   "metadata": {
    "id": "feeb314a-bbbe-4e9a-8561-2f8af0cd172e"
   },
   "source": [
    "The **independent observation assumption** states that each observation in the dataset is independent. As each marketing promotion (i.e., row) is independent from one another, the independence assumption is not violated."
   ]
  },
  {
   "cell_type": "markdown",
   "id": "0e31b4e7",
   "metadata": {
    "id": "59e4bb03-4ea6-4954-9ebc-3cc0d98eb0b0"
   },
   "source": [
    "### Model assumption: Normality"
   ]
  },
  {
   "cell_type": "markdown",
   "id": "77e7c676",
   "metadata": {
    "id": "bcccf5c8-3325-4b1e-b491-f151bea5ab1c"
   },
   "source": [
    "Create the following plots to check the **normality assumption**:\n",
    "\n",
    "* **Plot 1**: Histogram of the residuals\n",
    "* **Plot 2**: Q-Q plot of the residuals"
   ]
  },
  {
   "cell_type": "code",
   "execution_count": 10,
   "id": "c7765df7",
   "metadata": {
    "id": "cce8f99b-33e2-4723-9266-4f009e7a15dd"
   },
   "outputs": [
    {
     "data": {
      "image/png": "[encoded data removed]",
      "text/plain": [
       "<Figure size 432x288 with 1 Axes>"
      ]
     },
     "metadata": {
      "needs_background": "light"
     },
     "output_type": "display_data"
    },
    {
     "data": {
      "image/png": "[encoded data removed]",
      "text/plain": [
       "<Figure size 432x288 with 1 Axes>"
      ]
     },
     "metadata": {
      "needs_background": "light"
     },
     "output_type": "display_data"
    }
   ],
   "source": [
    "# Import necessary libraries\n",
    "import seaborn as sns\n",
    "import matplotlib.pyplot as plt\n",
    "import statsmodels.api as sm\n",
    "import numpy as np\n",
    "\n",
    "# Calculate the residuals from your model\n",
    "residuals = results.resid\n",
    "\n",
    "# Create a histogram with the residuals\n",
    "sns.histplot(residuals, kde=True)\n",
    "plt.title('Histogram of Residuals')\n",
    "plt.xlabel('Residuals')\n",
    "plt.ylabel('Frequency')\n",
    "plt.show()\n",
    "\n",
    "# Create a Q-Q plot of the residuals\n",
    "sm.qqplot(residuals, line='45')\n",
    "plt.title('Q-Q Plot of Residuals')\n",
    "plt.show()"
   ]
  },
  {
   "cell_type": "markdown",
   "id": "4c0fbb1b",
   "metadata": {
    "id": "39538404-e292-4564-b361-46353fc8e3f0",
    "jp-MarkdownHeadingCollapsed": true,
    "tags": []
   },
   "source": [
    "<details>\n",
    "<summary><h4><strong>Hint 1</strong></h4></summary>\n",
    "\n",
    "Access the residuals from the fit model object.\n",
    "\n",
    "</details>"
   ]
  },
  {
   "cell_type": "markdown",
   "id": "7b47c160",
   "metadata": {
    "id": "689dabc4-ad48-4c9e-976e-b70520801385"
   },
   "source": [
    "<details>\n",
    "<summary><h4><strong>Hint 2</strong></h4></summary>\n",
    "\n",
    "Use `model.resid` to get the residuals from a fit model called `model`.\n",
    "\n",
    "</details>"
   ]
  },
  {
   "cell_type": "markdown",
   "id": "2bd9b422",
   "metadata": {
    "id": "562f868e-45e4-464a-a47e-9f1ed735d6a4"
   },
   "source": [
    "<details>\n",
    "<summary><h4><strong>Hint 3</strong></h4></summary>\n",
    "\n",
    "For the histogram, pass the residuals as the first argument in the `seaborn` `histplot()` function.\n",
    "    \n",
    "For the Q-Q plot, pass the residuals as the first argument in the `statsmodels` `qqplot()` function.\n",
    "\n",
    "</details>"
   ]
  },
  {
   "cell_type": "markdown",
   "id": "dcb78f5c",
   "metadata": {
    "id": "e41f4dd7-5501-43b7-b684-58bad8ff61fb"
   },
   "source": [
    "**Question:** Is the normality assumption met?\n",
    "\n"
   ]
  },
  {
   "cell_type": "markdown",
   "id": "8ebcefbd",
   "metadata": {
    "id": "lDtSuMov5R6F"
   },
   "source": [
    "The histogram showing a bell shape is encouraging and suggests some degree of normality.\n",
    "\n",
    "However, the Q-Q plot’s significant deviations from the line point to potential violations of the normality assumption, particularly for the tails or outliers in the data."
   ]
  },
  {
   "cell_type": "markdown",
   "id": "2ba3e1f4",
   "metadata": {
    "id": "aee36b49-b0e4-4d86-9ca0-c12ec6ffe74d"
   },
   "source": [
    "### Model assumption: Constant variance"
   ]
  },
  {
   "cell_type": "markdown",
   "id": "5395c339",
   "metadata": {
    "id": "be83ac10-d1d0-4b94-88de-5de424528547"
   },
   "source": [
    "Check that the **constant variance assumption** is not violated by creating a scatterplot with the fitted values and residuals. Add a line at $y = 0$ to visualize the variance of residuals above and below $y = 0$."
   ]
  },
  {
   "cell_type": "code",
   "execution_count": 11,
   "id": "2ac24094",
   "metadata": {
    "id": "efcd0325-b3a0-42d1-ad57-38f10800c35e"
   },
   "outputs": [
    {
     "data": {
      "image/png": "[encoded data removed]",
      "text/plain": [
       "<Figure size 432x288 with 1 Axes>"
      ]
     },
     "metadata": {
      "needs_background": "light"
     },
     "output_type": "display_data"
    }
   ],
   "source": [
    "import seaborn as sns\n",
    "import matplotlib.pyplot as plt\n",
    "\n",
    "# Get the fitted values and residuals\n",
    "fitted_values = results.fittedvalues\n",
    "residuals = results.resid\n",
    "\n",
    "# Create a scatterplot\n",
    "sns.scatterplot(x=fitted_values, y=residuals)\n",
    "plt.axhline(0, color='red', linestyle='--')  # Add a line at y=0\n",
    "\n",
    "# Adding labels and title\n",
    "plt.title('Residuals vs Fitted Values')\n",
    "plt.xlabel('Fitted Values')\n",
    "plt.ylabel('Residuals')\n",
    "\n",
    "# Display the plot\n",
    "plt.show()"
   ]
  },
  {
   "cell_type": "markdown",
   "id": "061423f4",
   "metadata": {
    "id": "662f104d-0977-498f-8159-501063f3c3fc"
   },
   "source": [
    "<details>\n",
    "<summary><h4><strong>Hint 1</strong></h4></summary>\n",
    "\n",
    "Access the fitted values from the model object fit earlier.\n",
    "\n",
    "</details>"
   ]
  },
  {
   "cell_type": "markdown",
   "id": "74b0af8b",
   "metadata": {
    "id": "b0a3d26c-1e80-46e3-849a-d7f054cffb52"
   },
   "source": [
    "<details>\n",
    "<summary><h4><strong>Hint 2</strong></h4></summary>\n",
    "\n",
    "Use `model.fittedvalues` to get the fitted values from a fit model called `model`.\n",
    "\n",
    "</details>"
   ]
  },
  {
   "cell_type": "markdown",
   "id": "58285f45",
   "metadata": {
    "id": "5830cbfc-9204-42a6-b24f-3cf1334ff41e"
   },
   "source": [
    "<details>\n",
    "<summary><h4><strong>Hint 3</strong></h4></summary>\n",
    "\n",
    "\n",
    "Call the `scatterplot()` function from the `seaborn` library and pass in the fitted values and residuals.\n",
    "    \n",
    "Add a line to a figure using the `axline()` function.\n",
    "\n",
    "</details>"
   ]
  },
  {
   "cell_type": "markdown",
   "id": "751001a4",
   "metadata": {
    "id": "8318f726-369c-446a-acad-85117e43459b"
   },
   "source": [
    "**Question:** Is the constant variance assumption met?\n",
    "\n",
    "\n"
   ]
  },
  {
   "cell_type": "markdown",
   "id": "96ddb59e",
   "metadata": {
    "id": "Z_L3I-zc5QQk"
   },
   "source": [
    "Given that the spread of residuals forms distinct shapes, this indicates that the constant variance assumption has been violated. "
   ]
  },
  {
   "cell_type": "markdown",
   "id": "6a617f0d",
   "metadata": {
    "id": "1689e730-9973-4574-bf9f-6fba303c4cc4"
   },
   "source": [
    "### Model assumption: No multicollinearity"
   ]
  },
  {
   "cell_type": "markdown",
   "id": "85291de0",
   "metadata": {
    "id": "f53a057f-7f7a-446e-826f-4f3383145453"
   },
   "source": [
    "The **no multicollinearity assumption** states that no two independent variables ($X_i$ and $X_j$) can be highly correlated with each other. \n",
    "\n",
    "Two common ways to check for multicollinearity are to:\n",
    "\n",
    "* Create scatterplots to show the relationship between pairs of independent variables\n",
    "* Use the variance inflation factor to detect multicollinearity\n",
    "\n",
    "Use one of these two methods to check your model's no multicollinearity assumption."
   ]
  },
  {
   "cell_type": "code",
   "execution_count": 12,
   "id": "31826e64",
   "metadata": {
    "id": "0609c527-fb44-4b79-927d-6e75c4510e8d"
   },
   "outputs": [
    {
     "data": {
      "image/png": "[encoded data removed]",
      "text/plain": [
       "<Figure size 360x360 with 6 Axes>"
      ]
     },
     "metadata": {
      "needs_background": "light"
     },
     "output_type": "display_data"
    }
   ],
   "source": [
    "import seaborn as sns\n",
    "import matplotlib.pyplot as plt\n",
    "\n",
    "# Subset the data to only include continuous independent variables (e.g., Radio and Social Media)\n",
    "continuous_vars = ['Radio', 'Social_Media']\n",
    "\n",
    "# Create a pairplot\n",
    "sns.pairplot(data[continuous_vars])\n",
    "plt.show()"
   ]
  },
  {
   "cell_type": "code",
   "execution_count": 13,
   "id": "48485087",
   "metadata": {
    "id": "607a7bd6-4480-48f2-ba71-81a412b336ce"
   },
   "outputs": [
    {
     "name": "stdout",
     "output_type": "stream",
     "text": [
      "       Variable       VIF\n",
      "0         const  4.713305\n",
      "1         Radio  1.657894\n",
      "2  Social_Media  1.657894\n"
     ]
    }
   ],
   "source": [
    "from statsmodels.stats.outliers_influence import variance_inflation_factor\n",
    "from statsmodels.tools.tools import add_constant\n",
    "\n",
    "# Subset the continuous variables\n",
    "X = data[['Radio', 'Social_Media']]  # You can add more continuous variables if necessary\n",
    "\n",
    "# Add a constant to the model (for intercept calculation)\n",
    "X = add_constant(X)\n",
    "\n",
    "# Calculate VIF for each variable\n",
    "vif_data = pd.DataFrame()\n",
    "vif_data[\"Variable\"] = X.columns\n",
    "vif_data[\"VIF\"] = [variance_inflation_factor(X.values, i) for i in range(X.shape[1])]\n",
    "\n",
    "# Display the VIF values\n",
    "print(vif_data)"
   ]
  },
  {
   "cell_type": "markdown",
   "id": "af69ffe9",
   "metadata": {
    "id": "ae9b5170-670f-46a1-95df-13467a068e51",
    "jp-MarkdownHeadingCollapsed": true,
    "tags": []
   },
   "source": [
    "<details>\n",
    "<summary><h4><strong>Hint 1</strong></h4></summary>\n",
    "\n",
    "Confirm that you previously created plots that could check the no multicollinearity assumption.\n",
    "\n",
    "</details>"
   ]
  },
  {
   "cell_type": "markdown",
   "id": "5f71a491",
   "metadata": {
    "id": "483b5bb6-8459-4407-abb0-fddc775c5c36"
   },
   "source": [
    "<details>\n",
    "<summary><h4><strong>Hint 2</strong></h4></summary>\n",
    "\n",
    "The `pairplot()` function applied earlier to `data` plots the relationship between all continous variables  (e.g., between `Radio` and `Social Media`).\n",
    "\n",
    "</details>"
   ]
  },
  {
   "cell_type": "markdown",
   "id": "5eff86ee",
   "metadata": {
    "id": "8958c9dd-11ac-4648-a3ee-07f9887966fe"
   },
   "source": [
    "<details>\n",
    "<summary><h4><strong>Hint 3</strong></h4></summary>\n",
    "\n",
    "The `statsmodels` library has a function to calculate the variance inflation factor called `variance_inflation_factor()`. \n",
    "    \n",
    "When using this function, subset the data to only include the continous independent variables (e.g., `Radio` and `Social Media`). Refer to external tutorials on how to apply the variance inflation factor function mentioned previously.\n",
    " \n",
    "\n",
    "</details>"
   ]
  },
  {
   "cell_type": "markdown",
   "id": "4fd73453",
   "metadata": {
    "id": "742acde3-9164-4b55-b711-6339e874a37c"
   },
   "source": [
    "**Question 8:** Is the no multicollinearity assumption met?\n",
    "\n"
   ]
  },
  {
   "cell_type": "markdown",
   "id": "02614ea7",
   "metadata": {},
   "source": [
    "Pairplot: From the pairplot you generated, we should visually check the relationship between the independent variables (Radio and Social_Media). If the relationship is linear and strong, that could indicate a potential multicollinearity issue. However, we haven't visually identified any obvious linearity in the pairplot from the provided code.\n",
    "\n",
    "Variance Inflation Factor (VIF):\n",
    "\n",
    "The VIF values for Radio and Social_Media are both 1.66, which are well below the threshold of 10. This suggests that there is no severe multicollinearity between these two variables. The constant term (intercept) has a VIF of 4.71, which is also acceptable.\n",
    "\n",
    "Conclusion:\n",
    "VIF Values: All VIF values are within acceptable limits (less than 10), indicating no significant multicollinearity between the independent variables.\n",
    "\n",
    "Pairplot: There isn't a strong linear relationship that would raise concerns about multicollinearity."
   ]
  },
  {
   "cell_type": "markdown",
   "id": "cd98443a",
   "metadata": {
    "id": "84373d80-2129-4124-85fa-85871671004b"
   },
   "source": [
    "## Step 4: Results and evaluation"
   ]
  },
  {
   "cell_type": "markdown",
   "id": "b4463f76",
   "metadata": {
    "id": "30f5a3e8-a446-4a64-a0cb-4a512a367111"
   },
   "source": [
    "### Display the OLS regression results\n",
    "\n",
    "If the model assumptions are met, you can interpret the model results accurately.\n",
    "\n",
    "First, display the OLS regression results."
   ]
  },
  {
   "cell_type": "code",
   "execution_count": 15,
   "id": "1a1c157f",
   "metadata": {
    "id": "7d0bfc27-05f7-4cfa-9aa1-8e2110eabd69"
   },
   "outputs": [
    {
     "name": "stdout",
     "output_type": "stream",
     "text": [
      "                            OLS Regression Results                            \n",
      "==============================================================================\n",
      "Dep. Variable:                  Sales   R-squared:                       0.904\n",
      "Model:                            OLS   Adj. R-squared:                  0.903\n",
      "Method:                 Least Squares   F-statistic:                     760.4\n",
      "Date:                Sun, 11 May 2025   Prob (F-statistic):          1.82e-282\n",
      "Time:                        13:32:45   Log-Likelihood:                -2713.4\n",
      "No. Observations:                 572   AIC:                             5443.\n",
      "Df Residuals:                     564   BIC:                             5478.\n",
      "Df Model:                           7                                         \n",
      "Covariance Type:            nonrobust                                         \n",
      "=======================================================================================\n",
      "                          coef    std err          t      P>|t|      [0.025      0.975]\n",
      "---------------------------------------------------------------------------------------\n",
      "Intercept             217.4784      6.584     33.031      0.000     204.546     230.411\n",
      "TV[T.Low]            -154.5736      4.949    -31.231      0.000    -164.295    -144.852\n",
      "TV[T.Medium]          -75.5947      3.647    -20.726      0.000     -82.759     -68.431\n",
      "Influencer[T.Mega]      2.4948      3.462      0.721      0.471      -4.305       9.295\n",
      "Influencer[T.Micro]     2.9391      3.378      0.870      0.385      -3.695       9.574\n",
      "Influencer[T.Nano]      0.8015      3.346      0.240      0.811      -5.770       7.373\n",
      "Radio                   2.9735      0.235     12.644      0.000       2.512       3.435\n",
      "Social_Media           -0.1391      0.676     -0.206      0.837      -1.467       1.189\n",
      "==============================================================================\n",
      "Omnibus:                       58.711   Durbin-Watson:                   1.874\n",
      "Prob(Omnibus):                  0.000   Jarque-Bera (JB):               17.802\n",
      "Skew:                           0.057   Prob(JB):                     0.000136\n",
      "Kurtosis:                       2.143   Cond. No.                         147.\n",
      "==============================================================================\n",
      "\n",
      "Warnings:\n",
      "[1] Standard Errors assume that the covariance matrix of the errors is correctly specified.\n"
     ]
    }
   ],
   "source": [
    "# Display the model results summary\n",
    "print(results.summary())"
   ]
  },
  {
   "cell_type": "markdown",
   "id": "84f2cb77",
   "metadata": {
    "id": "b29062e1-5c7f-4a78-b782-a07236bbcc28"
   },
   "source": [
    "**Question:** What is your interpretation of the model's R-squared?\n"
   ]
  },
  {
   "cell_type": "markdown",
   "id": "2027a3b5",
   "metadata": {
    "id": "zfGBVqxU5TTd"
   },
   "source": [
    "Interpretation of the Model's R-squared:\n",
    "\n",
    "The R-squared value of the model is 0.904, which means that approximately 90.4% of the variability in the dependent variable (Sales) can be explained by the independent variables in the model (TV, Radio, Social Media, and Influencer).\n",
    "\n",
    "This suggests that the model is a strong fit to the data, as it explains a large proportion of the variance in sales. However, it's also important to consider the Adjusted R-squared value (0.903), which accounts for the number of predictors in the model and penalizes for overfitting. In this case, the Adjusted R-squared is very close to the R-squared value, indicating that adding more variables did not drastically inflate the model’s explanatory power.\n",
    "\n",
    "Key Points:\n",
    "R-squared = 0.904 indicates a high level of explanatory power.\n",
    "\n",
    "This means that 90.4% of the variation in sales is explained by the marketing variables (TV, Radio, Social Media, and Influencer).\n",
    "\n",
    "This is a good result, but there is still about 9.6% of the variance in sales that is not explained by these variables, possibly due to other factors not included in the model.\n",
    "\n",
    "The high R-squared value suggests that the model is successful in capturing the relationship between the predictors and sales, although the remaining unexplained variance could still be influenced by other factors or noise in the data."
   ]
  },
  {
   "cell_type": "markdown",
   "id": "c5188bbd",
   "metadata": {
    "id": "39504539-44c5-4d88-bfb1-7fd9a8c0c8d9"
   },
   "source": [
    "### Interpret model coefficients"
   ]
  },
  {
   "cell_type": "markdown",
   "id": "78b5bc9e",
   "metadata": {
    "id": "d1bcd73c-449d-4bd8-8f70-91e27e577c2f"
   },
   "source": [
    "With the model fit evaluated, you can look at the coefficient estimates and the uncertainty of these estimates.\n",
    "\n",
    "Again, display the OLS regression results."
   ]
  },
  {
   "cell_type": "code",
   "execution_count": 16,
   "id": "7c06d7a6",
   "metadata": {
    "id": "083b952e-deca-4532-acdb-e2113880751e"
   },
   "outputs": [
    {
     "name": "stdout",
     "output_type": "stream",
     "text": [
      "                            OLS Regression Results                            \n",
      "==============================================================================\n",
      "Dep. Variable:                  Sales   R-squared:                       0.904\n",
      "Model:                            OLS   Adj. R-squared:                  0.903\n",
      "Method:                 Least Squares   F-statistic:                     760.4\n",
      "Date:                Sun, 11 May 2025   Prob (F-statistic):          1.82e-282\n",
      "Time:                        13:35:06   Log-Likelihood:                -2713.4\n",
      "No. Observations:                 572   AIC:                             5443.\n",
      "Df Residuals:                     564   BIC:                             5478.\n",
      "Df Model:                           7                                         \n",
      "Covariance Type:            nonrobust                                         \n",
      "=======================================================================================\n",
      "                          coef    std err          t      P>|t|      [0.025      0.975]\n",
      "---------------------------------------------------------------------------------------\n",
      "Intercept             217.4784      6.584     33.031      0.000     204.546     230.411\n",
      "TV[T.Low]            -154.5736      4.949    -31.231      0.000    -164.295    -144.852\n",
      "TV[T.Medium]          -75.5947      3.647    -20.726      0.000     -82.759     -68.431\n",
      "Influencer[T.Mega]      2.4948      3.462      0.721      0.471      -4.305       9.295\n",
      "Influencer[T.Micro]     2.9391      3.378      0.870      0.385      -3.695       9.574\n",
      "Influencer[T.Nano]      0.8015      3.346      0.240      0.811      -5.770       7.373\n",
      "Radio                   2.9735      0.235     12.644      0.000       2.512       3.435\n",
      "Social_Media           -0.1391      0.676     -0.206      0.837      -1.467       1.189\n",
      "==============================================================================\n",
      "Omnibus:                       58.711   Durbin-Watson:                   1.874\n",
      "Prob(Omnibus):                  0.000   Jarque-Bera (JB):               17.802\n",
      "Skew:                           0.057   Prob(JB):                     0.000136\n",
      "Kurtosis:                       2.143   Cond. No.                         147.\n",
      "==============================================================================\n",
      "\n",
      "Warnings:\n",
      "[1] Standard Errors assume that the covariance matrix of the errors is correctly specified.\n"
     ]
    }
   ],
   "source": [
    "# Display the model results summary\n",
    "print(results.summary())"
   ]
  },
  {
   "cell_type": "markdown",
   "id": "4d012c96",
   "metadata": {
    "id": "bc293d6c-0e33-4613-8b4c-c6d27b48d903"
   },
   "source": [
    "**Question:** What are the model coefficients?\n",
    "\n"
   ]
  },
  {
   "cell_type": "markdown",
   "id": "2e26b243",
   "metadata": {
    "id": "o_D7L39q5Xv4"
   },
   "source": [
    "Here are the coefficients from the regression model:\n",
    "\n",
    "Intercept: 217.4784\n",
    "\n",
    "TV[T.Low]: -154.5736\n",
    "\n",
    "TV[T.Medium]: -75.5947\n",
    "\n",
    "Influencer[T.Mega]: 2.4948\n",
    "\n",
    "Influencer[T.Micro]: 2.9391\n",
    "\n",
    "Influencer[T.Nano]: 0.8015\n",
    "\n",
    "Radio: 2.9735\n",
    "\n",
    "Social_Media: -0.1391"
   ]
  },
  {
   "cell_type": "markdown",
   "id": "1fcc84c4",
   "metadata": {
    "id": "9826fb29-2740-4f19-b4dc-326cf3de2ca8"
   },
   "source": [
    "**Question:** How would you write the relationship between `Sales` and the independent variables as a linear equation?\n",
    "\n"
   ]
  },
  {
   "cell_type": "markdown",
   "id": "87548d19",
   "metadata": {
    "id": "8_g0Yl1z5Zj5"
   },
   "source": [
    "Sales=217.48\n",
    "−\n",
    "154.57\n",
    "×\n",
    "TV (Low)\n",
    "−154.57×TV (Low)\n",
    "−\n",
    "75.59\n",
    "×\n",
    "TV (Medium)\n",
    "−75.59×TV (Medium)\n",
    "+\n",
    "2.49\n",
    "×\n",
    "Influencer (Mega)\n",
    "+2.49×Influencer (Mega)\n",
    "+\n",
    "2.94\n",
    "×\n",
    "Influencer (Micro)\n",
    "+2.94×Influencer (Micro)\n",
    "+\n",
    "0.80\n",
    "×\n",
    "Influencer (Nano)\n",
    "+0.80×Influencer (Nano)\n",
    "+\n",
    "2.97\n",
    "×\n",
    "Radio\n",
    "+2.97×Radio\n",
    "−\n",
    "0.14\n",
    "×\n",
    "Social Media\n",
    "−0.14×Social Media"
   ]
  },
  {
   "cell_type": "markdown",
   "id": "d40f2b9b",
   "metadata": {
    "id": "8ca575f3-cbba-4a0a-99d0-b8bf82ea49e4",
    "jp-MarkdownHeadingCollapsed": true,
    "tags": []
   },
   "source": [
    "**Question:** What is your intepretation of the coefficient estimates? Are the coefficients statistically significant?\n",
    "\n"
   ]
  },
  {
   "cell_type": "markdown",
   "id": "5f5398ec",
   "metadata": {
    "id": "u8ARb9Dh5asn"
   },
   "source": [
    "Intercept (217.4784): This is the baseline sales when all variables are at their reference levels (e.g., \"High\" TV spend, \"Nano\" influencers, and no advertising).\n",
    "\n",
    "TV[T.Low] (-154.5736): If TV advertising is classified as \"Low,\" sales are expected to decrease by about 154.57 units compared to \"High\" TV spending. This is statistically significant (p-value = 0.000).\n",
    "\n",
    "TV[T.Medium] (-75.5947): If TV advertising is classified as \"Medium,\" sales are expected to decrease by about 75.59 units compared to \"High\" TV spending. This is also statistically significant (p-value = 0.000).\n",
    "\n",
    "Influencer[T.Mega] (2.4948): The sales increase by about 2.49 units with \"Mega\" influencers, but this is not statistically significant (p-value = 0.471).\n",
    "\n",
    "Influencer[T.Micro] (2.9391): The sales increase by 2.94 units with \"Micro\" influencers, but this is not statistically significant (p-value = 0.385).\n",
    "\n",
    "Influencer[T.Nano] (0.8015): The sales increase by about 0.80 units with \"Nano\" influencers, but this is not statistically significant (p-value = 0.811).\n",
    "\n",
    "Radio (2.9735): Each additional unit spent on radio advertising increases sales by about 2.97 units. This effect is statistically significant (p-value = 0.000).\n",
    "\n",
    "Social_Media (-0.1391): Each additional unit spent on social media decreases sales by 0.14 units, but this is not statistically significant (p-value = 0.837)."
   ]
  },
  {
   "cell_type": "markdown",
   "id": "0176d635",
   "metadata": {
    "id": "4affd7d9-656b-4c8a-adaa-69e4e26d13bd"
   },
   "source": [
    "**Question:** Why is it important to interpret the beta coefficients?\n",
    "\n"
   ]
  },
  {
   "cell_type": "markdown",
   "id": "ad1b17b3",
   "metadata": {
    "id": "24w7tW-c5kDu"
   },
   "source": [
    "Interpreting the beta coefficients is essential because:\n",
    "\n",
    "Understanding the impact: Coefficients help us understand the direction and magnitude of each independent variable's impact on the dependent variable (Sales).\n",
    "\n",
    "Identifying key variables: By interpreting the coefficients, we can identify which variables have a significant influence on sales and which ones may not be as important.\n",
    "\n",
    "Quantifying relationships: The coefficients tell us how much change in the dependent variable (Sales) can be expected from a one-unit change in each independent variable, which is important for decision-making and forecasting."
   ]
  },
  {
   "cell_type": "markdown",
   "id": "d33e8819",
   "metadata": {
    "id": "9aa744ec-f277-4110-b237-6d278f773e15",
    "tags": []
   },
   "source": [
    "**Question:** What are you interested in exploring based on your model?\n",
    "\n"
   ]
  },
  {
   "cell_type": "markdown",
   "id": "df767c6f",
   "metadata": {
    "id": "unDgab5O5kc1"
   },
   "source": [
    "Based on the model, some areas to explore include:\n",
    "\n",
    "TV advertising: Since TV (Low and Medium) is negatively correlated with sales, it might be worth investigating why this happens and if shifting focus to other advertising platforms would improve sales.\n",
    "\n",
    "Influencer marketing: The coefficients for different types of influencers (Mega, Micro, Nano) are not significant, but further analysis or experimentation with different influencer strategies might provide insights.\n",
    "\n",
    "Radio vs Social Media: The positive effect of Radio on sales is interesting, while Social Media shows no effect. It would be valuable to investigate why social media might not be as effective or if improvements in targeting could increase its impact."
   ]
  },
  {
   "cell_type": "markdown",
   "id": "90f7839d",
   "metadata": {
    "id": "e6066524-9394-44d0-8da1-6b72f0dc5f10",
    "tags": []
   },
   "source": [
    "**Question:** Do you think your model could be improved? Why or why not? How?"
   ]
  },
  {
   "cell_type": "markdown",
   "id": "44be75ea",
   "metadata": {
    "id": "kHOKq-eg5k27"
   },
   "source": [
    "Yes, the model could be improved:\n",
    "\n",
    "Additional variables: Including more relevant features (such as seasonal factors or target audience demographics) might improve the model's accuracy.\n",
    "\n",
    "Interaction effects: Testing interactions between variables (e.g., TV spending and radio advertising) could reveal more complex relationships that might explain sales better.\n",
    "\n",
    "Alternative models: Trying other models, such as polynomial regression or regularized models (e.g., ridge or lasso), could help deal with multicollinearity, improve accuracy, or reduce overfitting.\n",
    "\n",
    "More data: Collecting more data, especially on the influencer variable, could help strengthen statistical significance and provide clearer insights."
   ]
  },
  {
   "cell_type": "markdown",
   "id": "840096f2",
   "metadata": {
    "id": "c626bd63-c4d3-4925-86e3-f03113021740"
   },
   "source": [
    "## Conclusion"
   ]
  },
  {
   "cell_type": "markdown",
   "id": "2127b9aa",
   "metadata": {
    "id": "f3d533b2-4491-449d-be3d-7dd5144fa710"
   },
   "source": [
    "**What are the key takeaways from this lab?**\n",
    "\n",
    "The model effectively explains Sales based on various marketing channels such as TV spend, influencer types, radio, and social media.\n",
    "\n",
    "The R-squared value of 0.904 indicates that the model explains 90.4% of the variation in sales, which suggests a good fit.\n",
    "\n",
    "TV spend, particularly the Low and Medium categories, has a significant negative effect on sales, implying that higher TV spend correlates with better sales performance.\n",
    "\n",
    "Radio spend has a positive and statistically significant relationship with sales, showing that increasing radio advertising is likely to boost sales.\n",
    "\n",
    "The effect of Influencer marketing is mixed, with no significant relationship found for the Mega, Micro, and Nano categories, meaning influencer marketing may not be a primary driver of sales in this case.\n",
    "\n",
    "Social Media has a very weak, negative relationship with sales, but this result is not statistically significant, suggesting it might not be an effective channel on its own.\n",
    "\n",
    "**What results can be presented from this lab?**\n",
    "\n",
    "Regression coefficients for each independent variable and their statistical significance:\n",
    "\n",
    "TV spending (Low and Medium): Significant negative effect on sales.\n",
    "\n",
    "Radio: Significant positive effect on sales.\n",
    "\n",
    "Influencer types (Mega, Micro, Nano): No significant effect on sales.\n",
    "\n",
    "Social Media: No significant effect on sales.\n",
    "\n",
    "R-squared value: 0.904, indicating a strong model fit.\n",
    "\n",
    "P-values for each coefficient, indicating which variables are statistically significant.\n",
    "\n",
    "Insights into potential improvements in marketing strategies based on the model.\n",
    "\n",
    "**How would you frame your findings to external stakeholders?**\n",
    "\n",
    "To external stakeholders, I would frame the findings as follows:\n",
    "\n",
    "\"Our analysis reveals that TV advertising and radio promotions are the most effective marketing channels in driving sales. Specifically, increasing TV spend (especially in the High category) and investing more in radio ads have a significant positive impact on sales. While influencer marketing and social media do have some potential, they are not as influential based on this model, suggesting they may not be as effective in this particular context.\n",
    "\n",
    "As a result, it might be beneficial to reassess the budget allocations for TV and radio marketing while carefully considering the ROI of influencer campaigns. The overall model performance indicates that 90.4% of the variation in sales is explained by these marketing factors, offering a clear direction for refining our marketing strategies.\""
   ]
  },
  {
   "cell_type": "markdown",
   "id": "7357b04b",
   "metadata": {
    "id": "88b01fcc-e016-4cd5-aedc-a71e51276fe2"
   },
   "source": [
    "#### **References**\n",
    "\n",
    "Saragih, H.S. (2020). [*Dummy Marketing and Sales Data*](https://www.kaggle.com/datasets/harrimansaragih/dummy-advertising-and-sales-data)."
   ]
  }
 ],
 "metadata": {
  "colab": {
   "collapsed_sections": [],
   "provenance": []
  },
  "kernelspec": {
   "display_name": "Python 3 (ipykernel)",
   "language": "python",
   "name": "python3"
  },
  "language_info": {
   "codemirror_mode": {
    "name": "ipython",
    "version": 3
   },
   "file_extension": ".py",
   "mimetype": "text/x-python",
   "name": "python",
   "nbconvert_exporter": "python",
   "pygments_lexer": "ipython3",
   "version": "3.11.9"
  }
 },
 "nbformat": 4,
 "nbformat_minor": 5
}
