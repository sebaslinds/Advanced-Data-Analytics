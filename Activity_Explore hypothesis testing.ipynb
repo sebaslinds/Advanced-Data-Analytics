{
 "cells": [
  {
   "cell_type": "markdown",
   "id": "1e6f73bd",
   "metadata": {
    "id": "d25eed62-5910-4d10-a976-c18c4f7d99f7"
   },
   "source": [
    "# Activity: Explore hypothesis testing"
   ]
  },
  {
   "cell_type": "markdown",
   "id": "17b96cf0",
   "metadata": {
    "id": "b50579ec-09df-4bb1-ad5a-d28f4790ca16"
   },
   "source": [
    "## Introduction"
   ]
  },
  {
   "cell_type": "markdown",
   "id": "4d62f5d3",
   "metadata": {
    "id": "6a8992ac-22d5-41db-aa09-263b464950e0"
   },
   "source": [
    "You work for an environmental think tank called Repair Our Air (ROA). ROA is formulating policy recommendations to improve the air quality in America, using the Environmental Protection Agency's Air Quality Index (AQI) to guide their decision making. An AQI value close to 0 signals \"little to no\" public health concern, while higher values are associated with increased risk to public health. \n",
    "\n",
    "They've tasked you with leveraging AQI data to help them prioritize their strategy for improving air quality in America."
   ]
  },
  {
   "cell_type": "markdown",
   "id": "8e971d50",
   "metadata": {
    "id": "6e4e3b8a-b5f9-4fe1-a824-0bd3aece693c"
   },
   "source": [
    "ROA is considering the following decisions. For each, construct a hypothesis test and an accompanying visualization, using your results of that test to make a recommendation:\n",
    "\n",
    "1. ROA is considering a metropolitan-focused approach. Within California, they want to know if the mean AQI in Los Angeles County is statistically different from the rest of California.\n",
    "2. With limited resources, ROA has to choose between New York and Ohio for their next regional office. Does New York have a lower AQI than Ohio?\n",
    "3. A new policy will affect those states with a mean AQI of 10 or greater. Will Michigan be affected by this new policy?\n",
    "\n",
    "**Notes:**\n",
    "1. For your analysis, you'll default to a 5% level of significance.\n",
    "2. Throughout the lab, for two-sample t-tests, use Welch's t-test (i.e., setting the `equal_var` parameter to `False` in `scipy.stats.ttest_ind()`). This will account for the possibly unequal variances between the two groups in the comparison."
   ]
  },
  {
   "cell_type": "markdown",
   "id": "cae36cb7",
   "metadata": {
    "id": "3b4dc9a5-d724-4696-a704-57fefa9d5938"
   },
   "source": [
    "## Step 1: Imports\n",
    "\n",
    "To proceed with your analysis, import `pandas` and `numpy`. To conduct your hypothesis testing, import `stats` from `scipy`."
   ]
  },
  {
   "cell_type": "markdown",
   "id": "4e63c1d0",
   "metadata": {
    "id": "3d28827d-9bb3-45c7-a969-c00f6feda0e2"
   },
   "source": [
    "#### Import Packages"
   ]
  },
  {
   "cell_type": "code",
   "execution_count": 1,
   "id": "0ed17bac",
   "metadata": {
    "id": "0b3d0e1c-23b9-4491-82a5-ac1e4bd36f30"
   },
   "outputs": [],
   "source": [
    "# Import data manipulation libraries\n",
    "import pandas as pd\n",
    "import numpy as np\n",
    "\n",
    "# Import statistical functions\n",
    "from scipy import stats\n",
    "\n",
    "# Import visualization libraries\n",
    "import seaborn as sns\n",
    "import matplotlib.pyplot as plt\n",
    "\n",
    "# Ensure plots display in notebook environments\n",
    "%matplotlib inline"
   ]
  },
  {
   "cell_type": "markdown",
   "id": "11854b2f",
   "metadata": {
    "id": "a4f7c0d0-027e-475a-bce5-ad96d059cd04"
   },
   "source": [
    "You are also provided with a dataset with national Air Quality Index (AQI) measurements by state over time for this analysis. `Pandas` was used to import the file `c4_epa_air_quality.csv` as a dataframe named `aqi`. As shown in this cell, the dataset has been automatically loaded in for you. You do not need to download the .csv file, or provide more code, in order to access the dataset and proceed with this lab. Please continue with this activity by completing the following instructions.\n",
    "\n",
    "**Note:** For purposes of your analysis, you can assume this data is randomly sampled from a larger population."
   ]
  },
  {
   "cell_type": "markdown",
   "id": "b793383c",
   "metadata": {
    "id": "4b765030-5f02-47d2-aa77-8ac5b2117cc1"
   },
   "source": [
    "#### Load Dataset"
   ]
  },
  {
   "cell_type": "code",
   "execution_count": 2,
   "id": "e7a4e369",
   "metadata": {
    "id": "1ce82ed7-cf32-4028-ac77-a377e7638458",
    "tags": []
   },
   "outputs": [],
   "source": [
    "# RUN THIS CELL TO IMPORT YOUR DATA.\n",
    "\n",
    "### YOUR CODE HERE ###\n",
    "aqi = pd.read_csv('c4_epa_air_quality.csv')"
   ]
  },
  {
   "cell_type": "markdown",
   "id": "4a077e0e",
   "metadata": {
    "id": "ZDz9XgvMy0MD"
   },
   "source": [
    "## Step 2: Data Exploration"
   ]
  },
  {
   "cell_type": "markdown",
   "id": "9621d2f6",
   "metadata": {
    "id": "c1ee0813-5e74-4564-8ea1-8d724700754a"
   },
   "source": [
    "### Before proceeding to your deliverables, explore your datasets.\n",
    "\n",
    "Use the following space to surface descriptive statistics about your data. In particular, explore whether you believe the research questions you were given are readily answerable with this data."
   ]
  },
  {
   "cell_type": "code",
   "execution_count": 3,
   "id": "76b49243",
   "metadata": {
    "id": "0444122d-6fba-4051-8b09-b15392aacebf",
    "tags": []
   },
   "outputs": [
    {
     "name": "stdout",
     "output_type": "stream",
     "text": [
      "   Unnamed: 0  date_local    state_name   county_name      city_name  \\\n",
      "0           0  2018-01-01       Arizona      Maricopa        Buckeye   \n",
      "1           1  2018-01-01          Ohio       Belmont      Shadyside   \n",
      "2           2  2018-01-01       Wyoming         Teton  Not in a city   \n",
      "3           3  2018-01-01  Pennsylvania  Philadelphia   Philadelphia   \n",
      "4           4  2018-01-01          Iowa          Polk     Des Moines   \n",
      "\n",
      "                                     local_site_name   parameter_name  \\\n",
      "0                                            BUCKEYE  Carbon monoxide   \n",
      "1                                          Shadyside  Carbon monoxide   \n",
      "2  Yellowstone National Park - Old Faithful Snow ...  Carbon monoxide   \n",
      "3                             North East Waste (NEW)  Carbon monoxide   \n",
      "4                                          CARPENTER  Carbon monoxide   \n",
      "\n",
      "    units_of_measure  arithmetic_mean  aqi  \n",
      "0  Parts per million         0.473684    7  \n",
      "1  Parts per million         0.263158    5  \n",
      "2  Parts per million         0.111111    2  \n",
      "3  Parts per million         0.300000    3  \n",
      "4  Parts per million         0.215789    3  \n",
      "<class 'pandas.core.frame.DataFrame'>\n",
      "RangeIndex: 260 entries, 0 to 259\n",
      "Data columns (total 10 columns):\n",
      " #   Column            Non-Null Count  Dtype  \n",
      "---  ------            --------------  -----  \n",
      " 0   Unnamed: 0        260 non-null    int64  \n",
      " 1   date_local        260 non-null    object \n",
      " 2   state_name        260 non-null    object \n",
      " 3   county_name       260 non-null    object \n",
      " 4   city_name         260 non-null    object \n",
      " 5   local_site_name   257 non-null    object \n",
      " 6   parameter_name    260 non-null    object \n",
      " 7   units_of_measure  260 non-null    object \n",
      " 8   arithmetic_mean   260 non-null    float64\n",
      " 9   aqi               260 non-null    int64  \n",
      "dtypes: float64(1), int64(2), object(7)\n",
      "memory usage: 20.4+ KB\n",
      "None\n",
      "       Unnamed: 0  arithmetic_mean         aqi\n",
      "count  260.000000       260.000000  260.000000\n",
      "mean   129.500000         0.403169    6.757692\n",
      "std     75.199734         0.317902    7.061707\n",
      "min      0.000000         0.000000    0.000000\n",
      "25%     64.750000         0.200000    2.000000\n",
      "50%    129.500000         0.276315    5.000000\n",
      "75%    194.250000         0.516009    9.000000\n",
      "max    259.000000         1.921053   50.000000\n",
      "Unnamed: 0          0\n",
      "date_local          0\n",
      "state_name          0\n",
      "county_name         0\n",
      "city_name           0\n",
      "local_site_name     3\n",
      "parameter_name      0\n",
      "units_of_measure    0\n",
      "arithmetic_mean     0\n",
      "aqi                 0\n",
      "dtype: int64\n",
      "Unique states: 52\n",
      "Unique counties: 149\n",
      "Unique cities: 190\n",
      "California              66\n",
      "Arizona                 14\n",
      "Ohio                    12\n",
      "Florida                 12\n",
      "Texas                   10\n",
      "New York                10\n",
      "Pennsylvania            10\n",
      "Michigan                 9\n",
      "Colorado                 9\n",
      "Minnesota                7\n",
      "New Jersey               6\n",
      "Indiana                  5\n",
      "North Carolina           4\n",
      "Massachusetts            4\n",
      "Maryland                 4\n",
      "Oklahoma                 4\n",
      "Virginia                 4\n",
      "Nevada                   4\n",
      "Connecticut              4\n",
      "Kentucky                 3\n",
      "Missouri                 3\n",
      "Wyoming                  3\n",
      "Iowa                     3\n",
      "Hawaii                   3\n",
      "Utah                     3\n",
      "Vermont                  3\n",
      "Illinois                 3\n",
      "New Hampshire            2\n",
      "District Of Columbia     2\n",
      "New Mexico               2\n",
      "Montana                  2\n",
      "Oregon                   2\n",
      "Alaska                   2\n",
      "Georgia                  2\n",
      "Washington               2\n",
      "Idaho                    2\n",
      "Nebraska                 2\n",
      "Rhode Island             2\n",
      "Tennessee                2\n",
      "Maine                    2\n",
      "South Carolina           1\n",
      "Puerto Rico              1\n",
      "Arkansas                 1\n",
      "Kansas                   1\n",
      "Mississippi              1\n",
      "Alabama                  1\n",
      "Louisiana                1\n",
      "Delaware                 1\n",
      "South Dakota             1\n",
      "West Virginia            1\n",
      "North Dakota             1\n",
      "Wisconsin                1\n",
      "Name: state_name, dtype: int64\n",
      "Rows for California: 66\n",
      "Rows for Los Angeles County in California: 14\n"
     ]
    }
   ],
   "source": [
    "# Display the first few rows of the dataset\n",
    "print(aqi.head())\n",
    "\n",
    "# Get general information about the dataset: column names, types, non-null counts\n",
    "print(aqi.info())\n",
    "\n",
    "# Get summary statistics for numeric columns (like AQI and arithmetic mean)\n",
    "print(aqi.describe())\n",
    "\n",
    "# Check for missing values in each column\n",
    "print(aqi.isnull().sum())\n",
    "\n",
    "# Check the number of unique states, counties, and cities\n",
    "print(\"Unique states:\", aqi['state_name'].nunique())\n",
    "print(\"Unique counties:\", aqi['county_name'].nunique())\n",
    "print(\"Unique cities:\", aqi['city_name'].nunique())\n",
    "\n",
    "# Explore which states are represented and how many rows per state\n",
    "print(aqi['state_name'].value_counts())\n",
    "\n",
    "# Check how many rows are available for California and Los Angeles County\n",
    "print(\"Rows for California:\", aqi[aqi['state_name'] == 'California'].shape[0])\n",
    "print(\"Rows for Los Angeles County in California:\", aqi[(aqi['state_name'] == 'California') & (aqi['county_name'] == 'Los Angeles')].shape[0])"
   ]
  },
  {
   "cell_type": "markdown",
   "id": "c76eeff6",
   "metadata": {
    "id": "797aa5f9-b5e6-4c8d-95ab-f0604d27d9f8"
   },
   "source": [
    "<details>\n",
    "  <summary><h4><strong>HINT 1</strong></h4></summary>\n",
    "\n",
    "  Consider referring to the material on descriptive statisics.\n",
    "</details>"
   ]
  },
  {
   "cell_type": "markdown",
   "id": "4c500e78",
   "metadata": {
    "id": "753d0f10-d5ca-4da4-828a-3162e8ebccf8"
   },
   "source": [
    "<details>\n",
    "  <summary><h4><strong>HINT 2</strong></h4></summary>\n",
    "\n",
    "  Consider using `pandas` or `numpy` to explore the `aqi` dataframe.\n",
    "</details>"
   ]
  },
  {
   "cell_type": "markdown",
   "id": "fb48b394",
   "metadata": {
    "id": "5ccfa752-01c9-4a6d-a1d3-41b30e9bac09"
   },
   "source": [
    "<details>\n",
    "  <summary><h4><strong>HINT 3</strong></h4></summary>\n",
    "\n",
    "Any of the following functions may be useful:\n",
    "- `pandas`: `describe()`,`value_counts()`,`shape()`, `head()`\n",
    "- `numpy`: `unique()`,`mean()`\n",
    "    \n",
    "</details>"
   ]
  },
  {
   "cell_type": "markdown",
   "id": "7fe251c5",
   "metadata": {
    "id": "4a29c065-73b4-409f-a57c-b49c740f3d1d"
   },
   "source": [
    "#### **Question 1: From the preceding data exploration, what do you recognize?**"
   ]
  },
  {
   "cell_type": "markdown",
   "id": "a1ad4400",
   "metadata": {
    "id": "yxdjmP4WJ4wH"
   },
   "source": [
    "Data Sufficiency for Hypothesis Tests:\n",
    "\n",
    "The dataset includes AQI data from 260 observations across 52 states, with California having the highest count (66 rows).\n",
    "\n",
    "Los Angeles County within California has 14 rows, which should be sufficient to perform a one-sample t-test or comparison with other counties in California, although larger samples would improve power.\n",
    "\n",
    "New York (10 rows) and Ohio (12 rows) both have moderate sample sizes, making a two-sample comparison feasible, especially using Welch’s t-test which accounts for unequal variances.\n",
    "\n",
    "Michigan has 9 observations, which is borderline but still usable for a one-sample t-test to determine whether its mean AQI is significantly different from 10.\n",
    "\n",
    "Completeness:\n",
    "\n",
    "There are no missing values in the critical columns for this analysis (state_name, county_name, aqi, arithmetic_mean), which supports reliable hypothesis testing.\n",
    "\n",
    "A minor amount of missing data in local_site_name (3 missing), but that won't impact our AQI analysis.\n",
    "\n",
    "Data Characteristics:\n",
    "\n",
    "The average AQI across all records is approximately 6.76, with a standard deviation of about 7.06.\n",
    "\n",
    "AQI values range from 0 to 50, covering a meaningful spectrum of air quality situations.\n",
    "\n",
    "Variable Understanding:\n",
    "\n",
    "The column aqi is the variable of interest for hypothesis testing, representing air quality. arithmetic_mean refers to pollutant concentrations, which may be related but is not the direct target of the policy-related questions."
   ]
  },
  {
   "cell_type": "markdown",
   "id": "32d9af07",
   "metadata": {
    "id": "TCEJUvQ7-519"
   },
   "source": []
  },
  {
   "cell_type": "markdown",
   "id": "cd96df24",
   "metadata": {
    "id": "fd48d0f0-3f90-455e-87a1-0da43fcac202"
   },
   "source": [
    "## Step 3. Statistical Tests\n",
    "\n",
    "Before you proceed, recall the following steps for conducting hypothesis testing:\n",
    "\n",
    "1. Formulate the null hypothesis and the alternative hypothesis.<br>\n",
    "2. Set the significance level.<br>\n",
    "3. Determine the appropriate test procedure.<br>\n",
    "4. Compute the p-value.<br>\n",
    "5. Draw your conclusion."
   ]
  },
  {
   "cell_type": "markdown",
   "id": "f41ead25",
   "metadata": {
    "id": "d572fbab-b82e-4898-96d5-93a8f20c3094"
   },
   "source": [
    "### Hypothesis 1: ROA is considering a metropolitan-focused approach. Within California, they want to know if the mean AQI in Los Angeles County is statistically different from the rest of California.\n",
    "\n",
    "Before proceeding with your analysis, it will be helpful to subset the data for your comparison."
   ]
  },
  {
   "cell_type": "code",
   "execution_count": 4,
   "id": "1526f379",
   "metadata": {
    "id": "c8e42529-af00-4699-96b4-bd0f8989014a"
   },
   "outputs": [
    {
     "name": "stdout",
     "output_type": "stream",
     "text": [
      "Los Angeles County rows: 14\n",
      "Rest of California rows: 52\n"
     ]
    }
   ],
   "source": [
    "# Subset for Los Angeles County in California\n",
    "la_df = aqi[(aqi['state_name'] == 'California') & (aqi['county_name'] == 'Los Angeles')]\n",
    "\n",
    "# Subset for the rest of California (excluding Los Angeles County)\n",
    "rest_of_ca_df = aqi[(aqi['state_name'] == 'California') & (aqi['county_name'] != 'Los Angeles')]\n",
    "\n",
    "# Check the sizes of each group\n",
    "print(f\"Los Angeles County rows: {len(la_df)}\")\n",
    "print(f\"Rest of California rows: {len(rest_of_ca_df)}\")"
   ]
  },
  {
   "cell_type": "markdown",
   "id": "8a6a0e87",
   "metadata": {
    "id": "c57f5c93-1aad-4d67-b5fe-d8764103a2e5"
   },
   "source": [
    "<details>\n",
    "  <summary><h4><strong>HINT 1</strong></h4></summary>\n",
    "\n",
    "  Consider referencing the material on subsetting dataframes.  \n",
    "</details>"
   ]
  },
  {
   "cell_type": "markdown",
   "id": "7591913c",
   "metadata": {
    "id": "bf95629f-9b89-4165-a8a9-c53903660564"
   },
   "source": [
    "<details>\n",
    "  <summary><h4><strong>HINT 2</strong></h4></summary>\n",
    "\n",
    "  Consider creating two dataframes, one for Los Angeles, and one for all other California observations.\n",
    "</details>"
   ]
  },
  {
   "cell_type": "markdown",
   "id": "134daf60",
   "metadata": {
    "id": "c1db6a6f-4547-421d-a9cb-56d085372ba5"
   },
   "source": [
    "<details>\n",
    "  <summary><h4><strong>HINT 3</strong></h4></summary>\n",
    "\n",
    "For your first dataframe, filter to `county_name` of `Los Angeles`. For your second dataframe, filter to `state_name` of `Calfornia` and `county_name` not equal to `Los Angeles`.\n",
    "    \n",
    "</details>"
   ]
  },
  {
   "cell_type": "markdown",
   "id": "cd0a9702",
   "metadata": {
    "id": "7dff76cf-3a49-49d2-9660-0b5ec17d5f0a"
   },
   "source": [
    "#### Formulate your hypothesis:"
   ]
  },
  {
   "cell_type": "markdown",
   "id": "8e821936",
   "metadata": {
    "id": "fdddef66-6207-4cc0-853c-0b578674bbfc"
   },
   "source": [
    "**Formulate your null and alternative hypotheses:**\n",
    "\n",
    "*   $H_0$: There is no difference in the mean AQI between Los Angeles County and the rest of California.\n",
    "*   $H_A$: There is a difference in the mean AQI between Los Angeles County and the rest of California.\n"
   ]
  },
  {
   "cell_type": "markdown",
   "id": "af464f43",
   "metadata": {
    "id": "5dac3136-16bf-45d2-a560-05fe5361f5cb"
   },
   "source": [
    "#### Set the significance level:"
   ]
  },
  {
   "cell_type": "code",
   "execution_count": 5,
   "id": "9666afc8",
   "metadata": {
    "id": "5ef36549-7ccb-4547-bf04-d23b166c65d4"
   },
   "outputs": [
    {
     "name": "stdout",
     "output_type": "stream",
     "text": [
      "T-statistic: 2.1107010796372014\n",
      "P-value: 0.049839056842410995\n",
      "Reject the null hypothesis. There is a statistically significant difference in mean AQI.\n"
     ]
    }
   ],
   "source": [
    "from scipy import stats\n",
    "\n",
    "# Extract the AQI values\n",
    "la_aqi = la_df['aqi']\n",
    "rest_ca_aqi = rest_of_ca_df['aqi']\n",
    "\n",
    "# Set the significance level\n",
    "alpha = 0.05\n",
    "\n",
    "# Perform Welch’s t-test\n",
    "t_stat, p_value = stats.ttest_ind(la_aqi, rest_ca_aqi, equal_var=False)\n",
    "\n",
    "# Print the results\n",
    "print(\"T-statistic:\", t_stat)\n",
    "print(\"P-value:\", p_value)\n",
    "\n",
    "# Draw conclusion\n",
    "if p_value < alpha:\n",
    "    print(\"Reject the null hypothesis. There is a statistically significant difference in mean AQI.\")\n",
    "else:\n",
    "    print(\"Fail to reject the null hypothesis. There is no statistically significant difference in mean AQI.\")"
   ]
  },
  {
   "cell_type": "markdown",
   "id": "495a8d9d",
   "metadata": {
    "id": "4ebb679d-188d-4ca8-a886-6edb9ba1301e"
   },
   "source": [
    "#### Determine the appropriate test procedure:"
   ]
  },
  {
   "cell_type": "markdown",
   "id": "36916380",
   "metadata": {
    "id": "ab717428-91e5-4f88-b6d5-0a8c3034e010"
   },
   "source": [
    "Here, you are comparing the sample means between two independent samples. Therefore, you will utilize a **two-sample  𝑡-test**."
   ]
  },
  {
   "cell_type": "markdown",
   "id": "0c13e50c",
   "metadata": {
    "id": "e862eb4d-a170-4126-9373-a527bf5659da"
   },
   "source": [
    "#### Compute the P-value"
   ]
  },
  {
   "cell_type": "code",
   "execution_count": 6,
   "id": "b78a6f9a",
   "metadata": {
    "id": "83ef0d80-48ec-4a5a-8acd-0fab137243c3",
    "tags": []
   },
   "outputs": [
    {
     "name": "stdout",
     "output_type": "stream",
     "text": [
      "T-statistic: 2.1107010796372014\n",
      "P-value: 0.049839056842410995\n"
     ]
    }
   ],
   "source": [
    "from scipy import stats\n",
    "\n",
    "# Compute the p-value using Welch’s t-test\n",
    "t_stat, p_value = stats.ttest_ind(la_df['aqi'], rest_of_ca_df['aqi'], equal_var=False)\n",
    "\n",
    "# Output the test statistic and p-value\n",
    "print(\"T-statistic:\", t_stat)\n",
    "print(\"P-value:\", p_value)"
   ]
  },
  {
   "cell_type": "markdown",
   "id": "1457f5ab",
   "metadata": {
    "id": "baf0078e-b142-47c0-927f-64bf93051c07"
   },
   "source": [
    "<details>\n",
    "  <summary><h4><strong>HINT 1</strong></h4></summary>\n",
    "\n",
    "  Consider referencing the material on how to perform a two-sample t-test.\n",
    "</details>"
   ]
  },
  {
   "cell_type": "markdown",
   "id": "a2a5a734",
   "metadata": {
    "id": "9a4f077a-89a6-47f4-bbb3-fcdfde51177e"
   },
   "source": [
    "<details>\n",
    "  <summary><h4><strong>HINT 2</strong></h4></summary>\n",
    "\n",
    "  In `ttest_ind()`, a is the aqi column from our \"Los Angeles\" dataframe, and b is the aqi column from the \"Other California\" dataframe.\n",
    "</details>"
   ]
  },
  {
   "cell_type": "markdown",
   "id": "54093df1",
   "metadata": {
    "id": "d8b19b4d-7ef8-4a85-82d3-47aa85169f44"
   },
   "source": [
    "<details>\n",
    "  <summary><h4><strong>HINT 3</strong></h4></summary>\n",
    "\n",
    "  Be sure to set `equal_var` = False.\n",
    "\n",
    "</details>"
   ]
  },
  {
   "cell_type": "markdown",
   "id": "f92095a5",
   "metadata": {
    "id": "2d62e8b0-59e5-471d-a5fc-d50395955a2a"
   },
   "source": [
    "#### **Question 2. What is your P-value for hypothesis 1, and what does this indicate for your null hypothesis?**"
   ]
  },
  {
   "cell_type": "markdown",
   "id": "a3c8fb0e",
   "metadata": {
    "id": "KUEKceuOJ1S2"
   },
   "source": [
    "The computed p-value is 0.04984.\n",
    "\n",
    "Interpretation:\n",
    "\n",
    "Since the p-value is less than the significance level of 0.05, we reject the null hypothesis.\n",
    "\n",
    "This indicates that there is a statistically significant difference in the mean AQI between Los Angeles County and the rest of California. Therefore, a metropolitan-focused approach may be justified, as Los Angeles appears to have a different air quality profile compared to other counties in the state.\n",
    "\n",
    "Would you like help visualizing this difference with a boxplot or histogram?"
   ]
  },
  {
   "cell_type": "markdown",
   "id": "e516f4be",
   "metadata": {
    "id": "94a88155-3328-4c7e-8e60-67a2ba9d7967"
   },
   "source": [
    "### Hypothesis 2: With limited resources, ROA has to choose between New York and Ohio for their next regional office. Does New York have a lower AQI than Ohio?\n",
    "\n",
    "Before proceeding with your analysis, it will be helpful to subset the data for your comparison."
   ]
  },
  {
   "cell_type": "code",
   "execution_count": 7,
   "id": "6efe0db1",
   "metadata": {
    "id": "f39b7d83-9fbf-4bba-90c2-c99f903badd8"
   },
   "outputs": [
    {
     "name": "stdout",
     "output_type": "stream",
     "text": [
      "New York rows: 10\n",
      "Ohio rows: 12\n"
     ]
    }
   ],
   "source": [
    "# Subset for New York\n",
    "ny_df = aqi[aqi['state_name'] == 'New York']\n",
    "\n",
    "# Subset for Ohio\n",
    "ohio_df = aqi[aqi['state_name'] == 'Ohio']\n",
    "\n",
    "# Check the sizes of each group\n",
    "print(f\"New York rows: {len(ny_df)}\")\n",
    "print(f\"Ohio rows: {len(ohio_df)}\")"
   ]
  },
  {
   "cell_type": "markdown",
   "id": "fdd73082",
   "metadata": {
    "id": "91fcd91a-45a4-4d09-8e27-cef43d230d77"
   },
   "source": [
    "<details>\n",
    "  <summary><h4><strong>HINT 1</strong></h4></summary>\n",
    "\n",
    "  Consider referencing the materials on subsetting dataframes.  \n",
    "</details>"
   ]
  },
  {
   "cell_type": "markdown",
   "id": "0b5ce6ef",
   "metadata": {
    "id": "ee48c4a6-2838-4d61-88ed-9447dfa7dbb8"
   },
   "source": [
    "<details>\n",
    "  <summary><h4><strong>HINT 2</strong></h4></summary>\n",
    "\n",
    "  Consider creating two dataframes, one for New York, and one for Ohio observations.\n",
    "</details>"
   ]
  },
  {
   "cell_type": "markdown",
   "id": "fab15b6a",
   "metadata": {
    "id": "843a0f97-13b9-4b03-bd21-f0914a0cc5c1"
   },
   "source": [
    "<details>\n",
    "  <summary><h4><strong>HINT 3</strong></h4></summary>\n",
    "\n",
    "For your first dataframe, filter to `state_name` of `New York`. For your second dataframe, filter to `state_name` of `Ohio`.\n",
    "    \n",
    "</details>"
   ]
  },
  {
   "cell_type": "markdown",
   "id": "0876c560",
   "metadata": {
    "id": "7478185b-a351-4c7c-b1b8-6eaa1a26d2ed"
   },
   "source": [
    "#### Formulate your hypothesis:"
   ]
  },
  {
   "cell_type": "markdown",
   "id": "3b8235a4",
   "metadata": {
    "id": "029b0f9c-0d0c-475f-b745-643a313e2b79"
   },
   "source": [
    "**Formulate your null and alternative hypotheses:**\n",
    "\n",
    "*   $H_0$: The mean AQI of New York is greater than or equal to that of Ohio.\n",
    "*   $H_A$: The mean AQI of New York is **below** that of Ohio.\n"
   ]
  },
  {
   "cell_type": "markdown",
   "id": "2aade197",
   "metadata": {
    "id": "b12559f5-bd57-4664-be80-7208ca8818b4"
   },
   "source": [
    "#### Significance Level (remains at 5%)"
   ]
  },
  {
   "cell_type": "markdown",
   "id": "4a2b83be",
   "metadata": {
    "id": "2b57fcf8-6f9d-4dae-ba0d-4af9a24d991d"
   },
   "source": [
    "#### Determine the appropriate test procedure:"
   ]
  },
  {
   "cell_type": "markdown",
   "id": "45fb6674",
   "metadata": {
    "id": "8ac7075f-1342-4522-9c49-1f43574d05f8"
   },
   "source": [
    "Here, you are comparing the sample means between two independent samples in one direction. Therefore, you will utilize a **two-sample  𝑡-test**."
   ]
  },
  {
   "cell_type": "markdown",
   "id": "73b5cef2",
   "metadata": {
    "id": "77f03fc8-0663-48b2-af4b-2936b35027e7"
   },
   "source": [
    "#### Compute the P-value"
   ]
  },
  {
   "cell_type": "code",
   "execution_count": 8,
   "id": "b6d286d2",
   "metadata": {
    "id": "e495500f-c3d9-4cf2-ad1d-4687640a01b4",
    "tags": []
   },
   "outputs": [
    {
     "name": "stdout",
     "output_type": "stream",
     "text": [
      "T-statistic: -2.025951038880333\n",
      "P-value: 0.030446502691934697\n",
      "Reject the null hypothesis. New York has a statistically lower AQI than Ohio.\n"
     ]
    }
   ],
   "source": [
    "from scipy import stats\n",
    "\n",
    "# Extract the AQI values for New York and Ohio\n",
    "ny_aqi = ny_df['aqi']\n",
    "ohio_aqi = ohio_df['aqi']\n",
    "\n",
    "# Set the significance level\n",
    "alpha = 0.05\n",
    "\n",
    "# Perform the two-sample t-test\n",
    "t_stat, p_value = stats.ttest_ind(ny_aqi, ohio_aqi, equal_var=False, alternative='less')\n",
    "\n",
    "# Print the results\n",
    "print(\"T-statistic:\", t_stat)\n",
    "print(\"P-value:\", p_value)\n",
    "\n",
    "# Draw conclusion\n",
    "if p_value < alpha:\n",
    "    print(\"Reject the null hypothesis. New York has a statistically lower AQI than Ohio.\")\n",
    "else:\n",
    "    print(\"Fail to reject the null hypothesis. There is no statistically significant difference in AQI.\")"
   ]
  },
  {
   "cell_type": "markdown",
   "id": "4c8ebc57",
   "metadata": {
    "id": "bd2a3a68-4267-4622-8b08-55807f387a17"
   },
   "source": [
    "<details>\n",
    "  <summary><h4><strong>HINT 1</strong></h4></summary>\n",
    "\n",
    "  Consider referencing the material on how to perform a two-sample t-test.\n",
    "</details>"
   ]
  },
  {
   "cell_type": "markdown",
   "id": "ef13ab46",
   "metadata": {
    "id": "311bc999-a930-4cf0-85c6-6ae97855f0e9"
   },
   "source": [
    "<details>\n",
    "  <summary><h4><strong>HINT 2</strong></h4></summary>\n",
    "\n",
    "  In `ttest_ind()`, a is the aqi column from the \"New York\" dataframe, an b is the aqi column from the \"Ohio\" dataframe.\n",
    "</details>"
   ]
  },
  {
   "cell_type": "markdown",
   "id": "94d5ff96",
   "metadata": {
    "id": "7d54093d-253b-4d2a-a324-257eea617ac4"
   },
   "source": [
    "<details>\n",
    "  <summary><h4><strong>HINT 3</strong></h4></summary>\n",
    "\n",
    "  You can assign `tstat`, `pvalue` to the output of `ttest_ind`. Be sure to include `alternative = less` as part of your code.  \n",
    "\n",
    "</details>"
   ]
  },
  {
   "cell_type": "markdown",
   "id": "fc052654",
   "metadata": {
    "id": "d56642db-8f45-405a-af7d-69bd3ad3fe58"
   },
   "source": [
    "#### **Question 3. What is your P-value for hypothesis 2, and what does this indicate for your null hypothesis?**"
   ]
  },
  {
   "cell_type": "markdown",
   "id": "3fa5b725",
   "metadata": {
    "id": "dFDxoQ9aJxz3"
   },
   "source": [
    "P-value: 0.0304\n",
    "\n",
    "This p-value indicates that the difference in AQI between New York and Ohio is statistically significant at the 5% significance level. Since the p-value is less than 0.05, we reject the null hypothesis and conclude that New York has a lower AQI than Ohio."
   ]
  },
  {
   "cell_type": "markdown",
   "id": "d63b729f",
   "metadata": {
    "id": "4308fdf1-3080-4697-a0b4-4c7c59c49b9b"
   },
   "source": [
    "###  Hypothesis 3: A new policy will affect those states with a mean AQI of 10 or greater. Will Michigan be affected by this new policy?\n",
    "\n",
    "Before proceeding with your analysis, it will be helpful to subset the data for your comparison."
   ]
  },
  {
   "cell_type": "code",
   "execution_count": 9,
   "id": "7e03e725",
   "metadata": {
    "id": "559c43b4-ccb3-4a05-91d4-8f4aaee4d8b7"
   },
   "outputs": [
    {
     "name": "stdout",
     "output_type": "stream",
     "text": [
      "Michigan rows: 9\n",
      "count     9.000000\n",
      "mean      8.111111\n",
      "std       3.257470\n",
      "min       2.000000\n",
      "25%       7.000000\n",
      "50%       8.000000\n",
      "75%      10.000000\n",
      "max      13.000000\n",
      "Name: aqi, dtype: float64\n"
     ]
    }
   ],
   "source": [
    "# Subset for Michigan\n",
    "michigan_df = aqi[aqi['state_name'] == 'Michigan']\n",
    "\n",
    "# Check the number of rows for Michigan\n",
    "print(f\"Michigan rows: {len(michigan_df)}\")\n",
    "\n",
    "# Extract the AQI values for Michigan\n",
    "michigan_aqi = michigan_df['aqi']\n",
    "\n",
    "# Check the descriptive statistics for Michigan's AQI\n",
    "print(michigan_aqi.describe())"
   ]
  },
  {
   "cell_type": "markdown",
   "id": "c7bf6b54",
   "metadata": {
    "id": "170dd37b-b178-4ea0-8f75-04d312b83331"
   },
   "source": [
    "<details>\n",
    "  <summary><h4><strong>HINT 1</strong></h4></summary>\n",
    "\n",
    "  Consider referencing the material on subsetting dataframes.  \n",
    "</details>"
   ]
  },
  {
   "cell_type": "markdown",
   "id": "a855963d",
   "metadata": {
    "id": "63121346-1ff3-42ea-ab94-42838fd8c3e0"
   },
   "source": [
    "<details>\n",
    "  <summary><h4><strong>HINT 2</strong></h4></summary>\n",
    "\n",
    "  Consider creating one dataframe which only includes Michigan.\n",
    "</details>"
   ]
  },
  {
   "cell_type": "markdown",
   "id": "8c25d132",
   "metadata": {
    "id": "6886d303-82ca-42c5-980c-3893868241eb"
   },
   "source": [
    "#### Formulate your hypothesis:"
   ]
  },
  {
   "cell_type": "markdown",
   "id": "d555fe88",
   "metadata": {
    "id": "b25225ee-02d7-4d42-8746-9e68598b7bf6"
   },
   "source": [
    "**Formulate your null and alternative hypotheses here:**\n",
    "\n",
    "*   $H_0$: The mean AQI of Michigan is less than or equal to 10.\n",
    "*   $H_A$: The mean AQI of Michigan is greater than 10.\n"
   ]
  },
  {
   "cell_type": "markdown",
   "id": "b6eaee04",
   "metadata": {
    "id": "32581125-a9ef-4b17-b8d5-0e1085d4c746"
   },
   "source": [
    "#### Significance Level (remains at 5%)"
   ]
  },
  {
   "cell_type": "markdown",
   "id": "8ab49ce4",
   "metadata": {
    "id": "915f8cd0-d06b-44ab-81f6-0effa96fae09"
   },
   "source": [
    "#### Determine the appropriate test procedure:"
   ]
  },
  {
   "cell_type": "markdown",
   "id": "96a68a8d",
   "metadata": {
    "id": "6753e251-d152-48c9-a5ad-bd46b62636ee"
   },
   "source": [
    "Here, you are comparing one sample mean relative to a particular value in one direction. Therefore, you will utilize a **one-sample  𝑡-test**. "
   ]
  },
  {
   "cell_type": "markdown",
   "id": "1183eb15",
   "metadata": {
    "id": "95443324-76bb-4473-b07b-dcc0c9be7251"
   },
   "source": [
    "#### Compute the P-value"
   ]
  },
  {
   "cell_type": "code",
   "execution_count": 10,
   "id": "7aa4b437",
   "metadata": {
    "id": "8b86c9f5-284a-4ed7-b2d4-2b531e0092f9",
    "tags": []
   },
   "outputs": [
    {
     "name": "stdout",
     "output_type": "stream",
     "text": [
      "T-statistic: -1.7395913343286131\n",
      "P-value: 0.12011896137197813\n"
     ]
    }
   ],
   "source": [
    "# Hypothesis 3: A new policy will affect those states with a mean AQI of 10 or greater. Will Michigan be affected by this new policy?\n",
    "\n",
    "# Subset for Michigan\n",
    "michigan_df = aqi[aqi['state_name'] == 'Michigan']\n",
    "\n",
    "# Extract the AQI values for Michigan\n",
    "michigan_aqi = michigan_df['aqi']\n",
    "\n",
    "# Set the significance level\n",
    "alpha = 0.05\n",
    "\n",
    "# Perform a one-sample t-test (testing if the mean AQI of Michigan is greater than 10)\n",
    "from scipy import stats\n",
    "\n",
    "# Perform the t-test\n",
    "t_stat, p_value = stats.ttest_1samp(michigan_aqi, 10)\n",
    "\n",
    "# Output the test statistic and p-value\n",
    "print(\"T-statistic:\", t_stat)\n",
    "print(\"P-value:\", p_value)"
   ]
  },
  {
   "cell_type": "markdown",
   "id": "05841a5d",
   "metadata": {
    "id": "1a1a64bb-7517-456b-a485-7de62754df68"
   },
   "source": [
    "<details>\n",
    "  <summary><h4><strong>HINT 1</strong></h4></summary>\n",
    "\n",
    "  Consider referencing the material on how to perform a one-sample t-test.\n",
    "</details>"
   ]
  },
  {
   "cell_type": "markdown",
   "id": "4934f13a",
   "metadata": {
    "id": "695247c4-693d-427a-8b61-570aba635b18"
   },
   "source": [
    "<details>\n",
    "  <summary><h4><strong>HINT 2</strong></h4></summary>\n",
    "\n",
    "  In `ttest_1samp)`, you are comparing the aqi column from your Michigan data relative to 10, the new policy threshold.\n",
    "</details>"
   ]
  },
  {
   "cell_type": "markdown",
   "id": "e7aed5e4",
   "metadata": {
    "id": "e21ffe2e-bcd3-495e-9924-6f21d15494cb"
   },
   "source": [
    "<details>\n",
    "  <summary><h4><strong>HINT 3</strong></h4></summary>\n",
    "\n",
    "  You can assign `tstat`, `pvalue` to the output of `ttest_1samp`. Be sure to include `alternative = greater` as part of your code.  \n",
    "\n",
    "</details>"
   ]
  },
  {
   "cell_type": "markdown",
   "id": "d2b1e9b1",
   "metadata": {
    "id": "33175451-2fed-4105-8a46-1bfb0ad3b714"
   },
   "source": [
    "#### **Question 4. What is your P-value for hypothesis 3, and what does this indicate for your null hypothesis?**"
   ]
  },
  {
   "cell_type": "markdown",
   "id": "eea130e6",
   "metadata": {
    "id": "Li8YaXdqJuBF"
   },
   "source": [
    "The P-value for hypothesis 3 is 0.1201.\n",
    "\n",
    "Interpretation:\n",
    "Since the P-value (0.1201) is greater than the significance level (α = 0.05), we fail to reject the null hypothesis.\n",
    "\n",
    "This indicates that there is no statistically significant evidence to support the claim that the mean AQI in Michigan is greater than 10.\n",
    "\n",
    "Thus, Michigan is not significantly affected by the new policy, as its mean AQI does not exceed the threshold of 10 based on the test."
   ]
  },
  {
   "cell_type": "markdown",
   "id": "f225b02b",
   "metadata": {
    "id": "oS3JWcpU127z"
   },
   "source": [
    "## Step 4. Results and Evaluation\n",
    "\n",
    "Now that you've completed your statistical tests, you can consider your hypotheses and the results you gathered."
   ]
  },
  {
   "cell_type": "markdown",
   "id": "12bd35d5",
   "metadata": {
    "id": "q2p_8BmC16V-"
   },
   "source": [
    "#### **Question 5. Did your results show that the AQI in Los Angeles County was statistically different from the rest of California?**"
   ]
  },
  {
   "cell_type": "markdown",
   "id": "f972eccd",
   "metadata": {
    "id": "US0JnLp3JrfX"
   },
   "source": [
    "Yes, the results of the hypothesis test showed that the AQI in Los Angeles County is statistically different from the rest of California. The p-value for the two-sample t-test was 0.0498, which is less than the significance level of 0.05. Therefore, we rejected the null hypothesis and concluded that there is a significant difference in the mean AQI between Los Angeles County and the rest of California."
   ]
  },
  {
   "cell_type": "markdown",
   "id": "bf72db06",
   "metadata": {
    "id": "G7-YawsW68Yd"
   },
   "source": [
    "#### **Question 6. Did New York or Ohio have a lower AQI?**"
   ]
  },
  {
   "cell_type": "markdown",
   "id": "50843ee3",
   "metadata": {
    "id": "zzSBoJwMJpgG"
   },
   "source": [
    "Based on the results of the hypothesis test, New York had a statistically lower AQI than Ohio. The p-value for the one-tailed t-test was 0.0304, which is less than the significance level of 0.05. Thus, we rejected the null hypothesis and concluded that New York has a statistically lower AQI than Ohio."
   ]
  },
  {
   "cell_type": "markdown",
   "id": "7f684405",
   "metadata": {
    "id": "ppAmh9nD7HkZ"
   },
   "source": [
    "#### **Question 7: Will Michigan be affected by the new policy impacting states with a mean AQI of 10 or greater?**\n",
    "\n"
   ]
  },
  {
   "cell_type": "markdown",
   "id": "c16b8d6f",
   "metadata": {
    "id": "1nfqgTngJnLV"
   },
   "source": [
    "No, Michigan will not be significantly affected by the new policy based on the results of the one-sample t-test. The p-value was 0.1201, which is greater than the significance level of 0.05. Therefore, we failed to reject the null hypothesis and concluded that Michigan's mean AQI is not significantly greater than 10. Consequently, Michigan is unlikely to be impacted by the policy targeting states with an AQI of 10 or greater."
   ]
  },
  {
   "cell_type": "markdown",
   "id": "d1313f0b",
   "metadata": {
    "id": "e2bf2c48-c712-4310-a83e-96a13edc4da1"
   },
   "source": [
    "# Conclusion\n",
    "\n",
    "**What are key takeaways from this lab?**\n",
    "\n",
    "Statistical Testing for Decision-Making: This lab reinforced how hypothesis testing, particularly t-tests, can be used to analyze data and make informed decisions. By comparing AQI values across different counties, states, and cities, we were able to determine if observed differences were statistically significant or if they could be attributed to random variation.\n",
    "\n",
    "Focus on Regions with Significant Differences: The analysis of AQI across various locations, including Los Angeles County vs. the rest of California, and New York vs. Ohio, highlighted regions with significantly different air quality, which is critical for policy implementation and resource allocation.\n",
    "\n",
    "Importance of P-values: The use of p-values allowed us to quantitatively assess whether the differences in AQI between the regions were meaningful. For instance, a p-value below 0.05 indicated significant differences, which would justify further actions or changes, while higher p-values suggested no significant difference.\n",
    "\n",
    "Real-World Implications: The results have direct implications for decisions like selecting new regional offices based on air quality considerations, and evaluating the impact of new policies that are based on environmental thresholds.\n",
    "\n",
    "**What would you consider presenting to your manager as part of your findings?**\n",
    "\n",
    "Los Angeles vs. Rest of California: The AQI in Los Angeles County is statistically different from the rest of California, indicating that air quality in Los Angeles warrants special attention. If your company’s regional office is to be located there, it may require additional resources or strategies to mitigate pollution-related issues.\n",
    "\n",
    "New York vs. Ohio: New York has a statistically lower AQI compared to Ohio. If environmental quality is a deciding factor for your next regional office, New York may be a better choice in terms of air quality.\n",
    "\n",
    "Michigan’s Policy Impact: The new policy targeting states with a mean AQI of 10 or greater may not affect Michigan. The statistical test did not find evidence of Michigan’s AQI being significantly higher than 10, so Michigan may not need to make immediate adjustments based on this policy.\n",
    "\n",
    "Data-driven Recommendations: Based on the findings, it would be advisable to focus efforts on areas with significantly high AQI, like Los Angeles, or areas with significantly lower AQI, like New York, in your resource planning and policy implementation.\n",
    "\n",
    "**What would you convey to external stakeholders?**\n",
    "\n",
    "Environmental Quality and Its Importance: Share that air quality significantly varies by region, and decisions about regional offices, policies, or investments should consider environmental factors. This is crucial for both employee well-being and long-term operational success.\n",
    "\n",
    "Implications of New Policies: For external stakeholders, including policymakers and regulatory bodies, the results can inform discussions on environmental standards and regulations. For example, the policy targeting states with an AQI of 10 or greater may need to consider exceptions or different implementation timelines for regions like Michigan.\n",
    "\n",
    "Transparency in Data: It’s important to communicate that the decisions are based on robust statistical analyses, which helps in creating trust with external stakeholders who rely on accurate and transparent data when making decisions about the environment and public health.\n",
    "\n",
    "Further Investigations: While the analysis has provided insights into AQI differences, further research may be needed in specific regions with borderline AQI values, such as Michigan, to refine future policies or business strategies."
   ]
  }
 ],
 "metadata": {
  "colab": {
   "collapsed_sections": [
    "b12559f5-bd57-4664-be80-7208ca8818b4",
    "32581125-a9ef-4b17-b8d5-0e1085d4c746"
   ],
   "provenance": []
  },
  "kernelspec": {
   "display_name": "Python 3 (ipykernel)",
   "language": "python",
   "name": "python3"
  },
  "language_info": {
   "codemirror_mode": {
    "name": "ipython",
    "version": 3
   },
   "file_extension": ".py",
   "mimetype": "text/x-python",
   "name": "python",
   "nbconvert_exporter": "python",
   "pygments_lexer": "ipython3",
   "version": "3.11.9"
  }
 },
 "nbformat": 4,
 "nbformat_minor": 5
}
