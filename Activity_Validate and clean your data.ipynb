{
 "cells": [
  {
   "cell_type": "markdown",
   "id": "508a5942",
   "metadata": {
    "id": "1WD1hC5MTRMS"
   },
   "source": [
    "# Activity: Validate and clean your data"
   ]
  },
  {
   "cell_type": "markdown",
   "id": "9d95a1cf",
   "metadata": {
    "id": "ee31943b-274e-4c28-bce6-155cb6f4c334"
   },
   "source": [
    "## Introduction\n",
    "\n",
    "In this activity, you will use input validation and label encoding to prepare a dataset for analysis. These are fundamental techniques used in all types of data analysis, from simple linear regression to complex neural networks. \n",
    "\n",
    "In this activity, you are a data professional an investment firm that is attempting to invest in private companies with a valuation of at least $1 billion. These are often known as \"unicorns.\" Your client wants to develop a better understanding of unicorns, with the hope they can be early investors in future highly successful companies. They are particularly interested in the investment strategies of the three top unicorn investors: Sequoia Capital, Tiger Global Management, and Accel. "
   ]
  },
  {
   "cell_type": "markdown",
   "id": "2550e558",
   "metadata": {
    "id": "4bb9630e-b940-4835-a389-d39def1fa848"
   },
   "source": [
    "## Step 1: Imports"
   ]
  },
  {
   "cell_type": "markdown",
   "id": "7decf48e",
   "metadata": {
    "id": "bc180686-4ae2-47ea-a292-3588ac60a820"
   },
   "source": [
    "Import relevant Python libraries and packages: `numpy`, `pandas`, `seaborn`, and `pyplot` from `matplotlib`."
   ]
  },
  {
   "cell_type": "code",
   "execution_count": 1,
   "id": "4f1c1f27",
   "metadata": {
    "id": "8e7f1f2c-bbcc-4f3c-b927-b090ee8334c4"
   },
   "outputs": [],
   "source": [
    "# Import libraries and packages\n",
    "import numpy as np\n",
    "import pandas as pd\n",
    "import seaborn as sns\n",
    "import matplotlib.pyplot as plt\n",
    "\n",
    "# Optional: Configure matplotlib to show plots inline (useful in Jupyter notebooks)\n",
    "%matplotlib inline\n",
    "\n"
   ]
  },
  {
   "cell_type": "markdown",
   "id": "17b2e33c",
   "metadata": {
    "id": "7d29c6bd-f194-46bb-b794-56dc20130473"
   },
   "source": [
    "### Load the dataset\n",
    "\n",
    "The data contains details about unicorn companies, such as when they were founded, when they achieved unicorn status, and their current valuation. The dataset `Modified_Unicorn_Companies.csv` is loaded as `companies`, now display the first five rows. The variables in the dataset have been adjusted to suit the objectives of this lab, so they may be different from similar data used in prior labs. As shown in this cell, the dataset has been automatically loaded in for you. You do not need to download the .csv file, or provide more code, in order to access the dataset and proceed with this lab. Please continue with this activity by completing the following instructions."
   ]
  },
  {
   "cell_type": "code",
   "execution_count": 2,
   "id": "a1323f77",
   "metadata": {},
   "outputs": [],
   "source": [
    "# Run this cell so pandas displays all columns\n",
    "pd.set_option('display.max_columns', None)"
   ]
  },
  {
   "cell_type": "code",
   "execution_count": 3,
   "id": "89fb066b",
   "metadata": {
    "id": "3bd40d44-080f-4e49-b0c2-160dedc3c4df"
   },
   "outputs": [
    {
     "data": {
      "text/html": [
       "<div>\n",
       "<style scoped>\n",
       "    .dataframe tbody tr th:only-of-type {\n",
       "        vertical-align: middle;\n",
       "    }\n",
       "\n",
       "    .dataframe tbody tr th {\n",
       "        vertical-align: top;\n",
       "    }\n",
       "\n",
       "    .dataframe thead th {\n",
       "        text-align: right;\n",
       "    }\n",
       "</style>\n",
       "<table border=\"1\" class=\"dataframe\">\n",
       "  <thead>\n",
       "    <tr style=\"text-align: right;\">\n",
       "      <th></th>\n",
       "      <th>Company</th>\n",
       "      <th>Valuation</th>\n",
       "      <th>Date Joined</th>\n",
       "      <th>Industry</th>\n",
       "      <th>City</th>\n",
       "      <th>Country/Region</th>\n",
       "      <th>Continent</th>\n",
       "      <th>Year Founded</th>\n",
       "      <th>Funding</th>\n",
       "      <th>Select Investors</th>\n",
       "    </tr>\n",
       "  </thead>\n",
       "  <tbody>\n",
       "    <tr>\n",
       "      <th>0</th>\n",
       "      <td>Bytedance</td>\n",
       "      <td>180</td>\n",
       "      <td>2017-04-07</td>\n",
       "      <td>Artificial intelligence</td>\n",
       "      <td>Beijing</td>\n",
       "      <td>China</td>\n",
       "      <td>Asia</td>\n",
       "      <td>2012</td>\n",
       "      <td>$8B</td>\n",
       "      <td>Sequoia Capital China, SIG Asia Investments, S...</td>\n",
       "    </tr>\n",
       "    <tr>\n",
       "      <th>1</th>\n",
       "      <td>SpaceX</td>\n",
       "      <td>100</td>\n",
       "      <td>2012-12-01</td>\n",
       "      <td>Other</td>\n",
       "      <td>Hawthorne</td>\n",
       "      <td>United States</td>\n",
       "      <td>North America</td>\n",
       "      <td>2002</td>\n",
       "      <td>$7B</td>\n",
       "      <td>Founders Fund, Draper Fisher Jurvetson, Rothen...</td>\n",
       "    </tr>\n",
       "    <tr>\n",
       "      <th>2</th>\n",
       "      <td>SHEIN</td>\n",
       "      <td>100</td>\n",
       "      <td>2018-07-03</td>\n",
       "      <td>E-commerce &amp; direct-to-consumer</td>\n",
       "      <td>Shenzhen</td>\n",
       "      <td>China</td>\n",
       "      <td>Asia</td>\n",
       "      <td>2008</td>\n",
       "      <td>$2B</td>\n",
       "      <td>Tiger Global Management, Sequoia Capital China...</td>\n",
       "    </tr>\n",
       "    <tr>\n",
       "      <th>3</th>\n",
       "      <td>Stripe</td>\n",
       "      <td>95</td>\n",
       "      <td>2014-01-23</td>\n",
       "      <td>FinTech</td>\n",
       "      <td>San Francisco</td>\n",
       "      <td>United States</td>\n",
       "      <td>North America</td>\n",
       "      <td>2010</td>\n",
       "      <td>$2B</td>\n",
       "      <td>Khosla Ventures, LowercaseCapital, capitalG</td>\n",
       "    </tr>\n",
       "    <tr>\n",
       "      <th>4</th>\n",
       "      <td>Klarna</td>\n",
       "      <td>46</td>\n",
       "      <td>2011-12-12</td>\n",
       "      <td>Fintech</td>\n",
       "      <td>Stockholm</td>\n",
       "      <td>Sweden</td>\n",
       "      <td>Europe</td>\n",
       "      <td>2005</td>\n",
       "      <td>$4B</td>\n",
       "      <td>Institutional Venture Partners, Sequoia Capita...</td>\n",
       "    </tr>\n",
       "  </tbody>\n",
       "</table>\n",
       "</div>"
      ],
      "text/plain": [
       "     Company  Valuation Date Joined                         Industry  \\\n",
       "0  Bytedance        180  2017-04-07          Artificial intelligence   \n",
       "1     SpaceX        100  2012-12-01                            Other   \n",
       "2      SHEIN        100  2018-07-03  E-commerce & direct-to-consumer   \n",
       "3     Stripe         95  2014-01-23                          FinTech   \n",
       "4     Klarna         46  2011-12-12                          Fintech   \n",
       "\n",
       "            City Country/Region      Continent  Year Founded Funding  \\\n",
       "0        Beijing          China           Asia          2012     $8B   \n",
       "1      Hawthorne  United States  North America          2002     $7B   \n",
       "2       Shenzhen          China           Asia          2008     $2B   \n",
       "3  San Francisco  United States  North America          2010     $2B   \n",
       "4      Stockholm         Sweden         Europe          2005     $4B   \n",
       "\n",
       "                                    Select Investors  \n",
       "0  Sequoia Capital China, SIG Asia Investments, S...  \n",
       "1  Founders Fund, Draper Fisher Jurvetson, Rothen...  \n",
       "2  Tiger Global Management, Sequoia Capital China...  \n",
       "3        Khosla Ventures, LowercaseCapital, capitalG  \n",
       "4  Institutional Venture Partners, Sequoia Capita...  "
      ]
     },
     "execution_count": 3,
     "metadata": {},
     "output_type": "execute_result"
    }
   ],
   "source": [
    "# RUN THIS CELL TO IMPORT YOUR DATA. \n",
    "companies = pd.read_csv('Modified_Unicorn_Companies.csv')\n",
    "\n",
    "# Display the first five rows of the dataset\n",
    "companies.head()\n",
    "\n"
   ]
  },
  {
   "cell_type": "markdown",
   "id": "dc278e9c",
   "metadata": {
    "id": "95bf39c9-d05c-4324-a40b-bc692607b61b"
   },
   "source": [
    "## Step 2: Data cleaning\n"
   ]
  },
  {
   "cell_type": "markdown",
   "id": "bfe2f128",
   "metadata": {
    "id": "ad17d09c-c829-4e88-9089-83060d1adf91"
   },
   "source": [
    "Begin by displaying the data types of the columns in `companies`."
   ]
  },
  {
   "cell_type": "code",
   "execution_count": 4,
   "id": "b320c6b1",
   "metadata": {
    "id": "5340b9fd-a9e1-4943-b546-eece0049dc3b"
   },
   "outputs": [
    {
     "data": {
      "text/plain": [
       "Company             object\n",
       "Valuation            int64\n",
       "Date Joined         object\n",
       "Industry            object\n",
       "City                object\n",
       "Country/Region      object\n",
       "Continent           object\n",
       "Year Founded         int64\n",
       "Funding             object\n",
       "Select Investors    object\n",
       "dtype: object"
      ]
     },
     "execution_count": 4,
     "metadata": {},
     "output_type": "execute_result"
    }
   ],
   "source": [
    "# Display the data types of the columns\n",
    "companies.dtypes\n",
    "\n"
   ]
  },
  {
   "cell_type": "markdown",
   "id": "db832956",
   "metadata": {
    "id": "f155353c-d39d-436e-b0de-3cb0777c831e"
   },
   "source": [
    "<details>\n",
    "  <summary><h4><strong>Hint 1</strong></h4></summary>\n",
    "\n",
    "Review what you have learned about exploratory data analysis in Python.\n",
    "\n",
    "</details>"
   ]
  },
  {
   "cell_type": "markdown",
   "id": "a60647eb",
   "metadata": {
    "id": "a0c1a503-ccec-44a9-baaf-a89eabf363cf"
   },
   "source": [
    "<details>\n",
    "  <summary><h4><strong>Hint 2</strong></h4></summary>\n",
    "\n",
    "There is a `pandas` DataFrame property that displays the data types of the columns in the specified DataFrame.\n",
    " \n",
    "\n",
    "</details>"
   ]
  },
  {
   "cell_type": "markdown",
   "id": "b8e3c879",
   "metadata": {
    "id": "0566888c-aa4d-4dec-966b-d99959fc05f0"
   },
   "source": [
    "<details>\n",
    "  <summary><h4><strong>Hint 3</strong></h4></summary>\n",
    "\n",
    "  The `pandas` DataFrame `dtypes` property will be helpful.\n",
    "\n",
    "</details>"
   ]
  },
  {
   "cell_type": "markdown",
   "id": "b71e5ad2",
   "metadata": {
    "id": "0dbc048f-cd6d-4e52-93a9-21ec30ce055b"
   },
   "source": [
    "### Modify the data types"
   ]
  },
  {
   "cell_type": "markdown",
   "id": "f21ba4a0",
   "metadata": {
    "id": "ad280560-d6db-4fcd-ba70-2c16389e12fd"
   },
   "source": [
    "Notice that the data type of the `Date Joined` column is an `object`&mdash;in this case, a string. Convert this column to `datetime` to make it more usable. "
   ]
  },
  {
   "cell_type": "code",
   "execution_count": 5,
   "id": "2343ed20",
   "metadata": {
    "id": "1793ad8d-659a-4fc9-aa8a-570f063ca0d3"
   },
   "outputs": [],
   "source": [
    "# Convert 'Date Joined' column to datetime\n",
    "companies['Date Joined'] = pd.to_datetime(companies['Date Joined'])\n",
    "\n"
   ]
  },
  {
   "cell_type": "markdown",
   "id": "23ab86d9",
   "metadata": {
    "id": "1ea7364c-a5be-4c3a-ae8d-24a0ac497973"
   },
   "source": [
    "### Create a new column"
   ]
  },
  {
   "cell_type": "markdown",
   "id": "aa7c27c4",
   "metadata": {
    "id": "6ed05e76-0a66-4ea3-9796-39afb48eeb93"
   },
   "source": [
    "Add a column called `Years To Unicorn`, which is the number of years between when the company was founded and when it became a unicorn."
   ]
  },
  {
   "cell_type": "code",
   "execution_count": 6,
   "id": "3b546d2a",
   "metadata": {
    "id": "3d495d71-39af-4d3f-80fd-0d0a22b01532"
   },
   "outputs": [],
   "source": [
    "# Create the column 'Years To Unicorn'\n",
    "companies['Years To Unicorn'] = companies['Date Joined'].dt.year - companies['Year Founded']\n"
   ]
  },
  {
   "cell_type": "markdown",
   "id": "369d4a14",
   "metadata": {
    "id": "4a576b71-1047-48ab-abe9-c5e8d1b67d26"
   },
   "source": [
    "<details>\n",
    "  <summary><h4><strong>Hint 1</strong></h4></summary>\n",
    "\n",
    "Extract just the year from the `Date Joined` column. \n",
    "\n",
    "</details>"
   ]
  },
  {
   "cell_type": "markdown",
   "id": "ff48664c",
   "metadata": {
    "id": "21584921-1d6a-42ab-8f04-9793c7d5cee2"
   },
   "source": [
    "<details>\n",
    "  <summary><h4><strong>Hint 2</strong></h4></summary>\n",
    "\n",
    "  Use `dt.year` to access the year of a datetime object.\n",
    "\n",
    "</details>"
   ]
  },
  {
   "cell_type": "markdown",
   "id": "39df58dd",
   "metadata": {
    "id": "aea4d087-51f5-4b0f-b4c4-18b1acfe0c0d"
   },
   "source": [
    "<details>\n",
    "  <summary><h4><strong>Hint 3</strong></h4></summary>\n",
    "\n",
    "Subtract the `Year Founded` from the `Date Joined`, and save it to a new column called `Years To Unicorn`.\n",
    "  \n",
    "Ensure you're properly extracting just the year (as an integer) from `Date Joined`.\n",
    "\n",
    "</details>"
   ]
  },
  {
   "cell_type": "markdown",
   "id": "31e2e5c2",
   "metadata": {
    "id": "fb06c26b-70b7-4b05-9347-6675b8b329d3"
   },
   "source": [
    "**QUESTION: Why might your client be interested in how quickly a company achieved unicorn status?**"
   ]
  },
  {
   "cell_type": "markdown",
   "id": "e36989db",
   "metadata": {
    "id": "ac6a0172-611e-4a1c-9afd-a39b489cbdee"
   },
   "source": [
    "Your client might be interested in how quickly a company achieved unicorn status because it can indicate strong growth potential, efficient business strategies, and early market traction. Companies that become unicorns rapidly may be more likely to deliver high returns on investment in a shorter time frame. Understanding this timeline can help investors identify common traits among high-performing startups and make more informed decisions about where to invest early."
   ]
  },
  {
   "cell_type": "markdown",
   "id": "4c8c8044",
   "metadata": {
    "id": "9fc9ddf1-ece0-40fb-9281-0808c193f5da",
    "tags": []
   },
   "source": [
    "### Input validation\n",
    "\n",
    "The data has some issues with bad data, duplicate rows, and inconsistent `Industry` labels.\n",
    "\n",
    "Identify and correct each of these issues."
   ]
  },
  {
   "cell_type": "markdown",
   "id": "a52054ee",
   "metadata": {
    "id": "db0651e7-36ef-4c10-a3ba-97373167da64",
    "tags": []
   },
   "source": [
    "#### Correcting bad data\n",
    "\n",
    "Get descriptive statistics for the `Years To Unicorn` column."
   ]
  },
  {
   "cell_type": "code",
   "execution_count": 7,
   "id": "0adca26b",
   "metadata": {
    "id": "8b1b2ad0-a668-4290-9404-5a2541955c0d"
   },
   "outputs": [
    {
     "name": "stdout",
     "output_type": "stream",
     "text": [
      "count    1074.000000\n",
      "mean        7.013035\n",
      "std         5.331842\n",
      "min        -3.000000\n",
      "25%         4.000000\n",
      "50%         6.000000\n",
      "75%         9.000000\n",
      "max        98.000000\n",
      "Name: Years To Unicorn, dtype: float64\n",
      "count    1073.000000\n",
      "mean        7.022367\n",
      "std         5.325546\n",
      "min         0.000000\n",
      "25%         4.000000\n",
      "50%         6.000000\n",
      "75%         9.000000\n",
      "max        98.000000\n",
      "Name: Years To Unicorn, dtype: float64\n"
     ]
    }
   ],
   "source": [
    "# Get descriptive statistics for the Years To Unicorn column\n",
    "print(companies['Years To Unicorn'].describe())\n",
    "\n",
    "# Filter out rows with negative values in Years To Unicorn\n",
    "companies = companies[companies['Years To Unicorn'] >= 0]\n",
    "\n",
    "# Confirm correction\n",
    "print(companies['Years To Unicorn'].describe())"
   ]
  },
  {
   "cell_type": "markdown",
   "id": "0fd2ec2e",
   "metadata": {
    "id": "80974b46-b7f9-4181-a90d-a6fa927a710b"
   },
   "source": [
    "<details>\n",
    "  <summary><h4><strong>Hint 1</strong></h4></summary>\n",
    "\n",
    "Use the `describe()` method on the series. Considering the results, does anything seem problematic?\n",
    "\n",
    "</details>"
   ]
  },
  {
   "cell_type": "markdown",
   "id": "91e3cbff",
   "metadata": {
    "id": "7d7e351d-368e-45ab-8e8a-5f1aded15655"
   },
   "source": [
    "<details>\n",
    "  <summary><h4><strong>Hint 2</strong></h4></summary>\n",
    "\n",
    "A company cannot reach unicorn status before it is founded. In other words, `Years to Unicorn` cannot be less than 0.\n",
    "\n",
    "</details>"
   ]
  },
  {
   "cell_type": "markdown",
   "id": "6cea3734",
   "metadata": {},
   "source": [
    "<details>\n",
    "  <summary><h4><strong>Hint 3</strong></h4></summary>\n",
    "\n",
    "Using the `describe()` method on the `Years To Unicorn` series shows that the minimum value is `-3`. Since there cannot be negative time, this value and possibly others are problematic.\n",
    "\n",
    "</details>"
   ]
  },
  {
   "cell_type": "markdown",
   "id": "9ae17a88",
   "metadata": {
    "id": "8b325a5a-67d2-4f92-8159-a9f4c21b1779"
   },
   "source": [
    "Isolate all rows where the `Years To Unicorn` column contains a negative value."
   ]
  },
  {
   "cell_type": "code",
   "execution_count": 9,
   "id": "bb89e401",
   "metadata": {
    "id": "b02348fb-dde8-43e7-9368-4d771bf6e5a7"
   },
   "outputs": [
    {
     "name": "stdout",
     "output_type": "stream",
     "text": [
      "Descriptive statistics for 'Years To Unicorn':\n",
      "count    1073.000000\n",
      "mean        7.022367\n",
      "std         5.325546\n",
      "min         0.000000\n",
      "25%         4.000000\n",
      "50%         6.000000\n",
      "75%         9.000000\n",
      "max        98.000000\n",
      "Name: Years To Unicorn, dtype: float64\n",
      "\n",
      "Companies with negative 'Years To Unicorn':\n",
      "Empty DataFrame\n",
      "Columns: [Company, Valuation, Date Joined, Industry, City, Country/Region, Continent, Year Founded, Funding, Select Investors, Years To Unicorn]\n",
      "Index: []\n",
      "\n",
      "Number of rows with negative values: 0\n"
     ]
    }
   ],
   "source": [
    "# Ensure correct data types\n",
    "companies['Date Joined'] = pd.to_datetime(companies['Date Joined'], errors='coerce')\n",
    "companies['Year Founded'] = pd.to_numeric(companies['Year Founded'], errors='coerce')\n",
    "\n",
    "# Recalculate 'Years To Unicorn'\n",
    "companies['Years To Unicorn'] = companies['Date Joined'].dt.year - companies['Year Founded']\n",
    "\n",
    "# Describe the column\n",
    "print(\"Descriptive statistics for 'Years To Unicorn':\")\n",
    "print(companies['Years To Unicorn'].describe())\n",
    "\n",
    "# Isolate and print rows with negative values\n",
    "negative_years = companies[companies['Years To Unicorn'] < 0]\n",
    "print(\"\\nCompanies with negative 'Years To Unicorn':\")\n",
    "print(negative_years)\n",
    "print(f\"\\nNumber of rows with negative values: {len(negative_years)}\")\n"
   ]
  },
  {
   "cell_type": "markdown",
   "id": "0bcd312e",
   "metadata": {},
   "source": [
    "**Question: How many rows have negative values in the `Years To Unicorn` column, and what companies are they for?**\n"
   ]
  },
  {
   "cell_type": "markdown",
   "id": "1393e483",
   "metadata": {},
   "source": [
    "There are 0 rows with negative values in the Years To Unicorn column. This means no companies in the dataset have a Date Joined year that is earlier than their Year Founded, so there are no data quality issues in this column related to negative time differences."
   ]
  },
  {
   "cell_type": "markdown",
   "id": "8ca69e59",
   "metadata": {
    "id": "739430f4-97ce-43d4-a982-3f75f3823702"
   },
   "source": [
    "An internet search reveals that InVision was founded in 2011. Replace the value at `Year Founded` with `2011` for InVision's row. "
   ]
  },
  {
   "cell_type": "code",
   "execution_count": 10,
   "id": "30e3481d",
   "metadata": {
    "id": "6b89463a-6426-4797-a62e-b7b26f0b2f3b"
   },
   "outputs": [
    {
     "name": "stdout",
     "output_type": "stream",
     "text": [
      "Updated 'Year Founded' for InVision:\n",
      "Empty DataFrame\n",
      "Columns: [Company, Year Founded]\n",
      "Index: []\n"
     ]
    }
   ],
   "source": [
    "# Replace InVision's 'Year Founded' value with 2011\n",
    "companies.loc[companies['Company'] == 'InVision', 'Year Founded'] = 2011\n",
    "\n",
    "# Verify the change was made properly\n",
    "print(\"Updated 'Year Founded' for InVision:\")\n",
    "print(companies.loc[companies['Company'] == 'InVision', ['Company', 'Year Founded']])\n"
   ]
  },
  {
   "cell_type": "markdown",
   "id": "a1dc4702",
   "metadata": {
    "id": "65909471-2b17-4d8d-b734-6d895029dc7d"
   },
   "source": [
    "<details>\n",
    "  <summary><h4><strong>Hint 1</strong></h4></summary>\n",
    "\n",
    "To overwrite data in a dataframe in a situation like this, you should use `loc[]` or `iloc[]` selection statements. Otherwise, you might overwrite to a view of the dataframe, which means that you're not overwriting the data in the dataframe itself, and the change will not take permanent effect.\n",
    "\n",
    "</details>"
   ]
  },
  {
   "cell_type": "markdown",
   "id": "7d40434f",
   "metadata": {
    "id": "c12d89ac-bcd3-4912-9faf-507b70b4b060"
   },
   "source": [
    "<details>\n",
    "  <summary><h4><strong>Hint 2</strong></h4></summary>\n",
    "\n",
    "The following code will **not** work:\n",
    "    \n",
    "    companies[companies['Company']=='InVision']['Year Founded'] = 2011\n",
    "    \n",
    "You must use either `loc[]` or `iloc[]`.\n",
    "\n",
    "</details>"
   ]
  },
  {
   "cell_type": "markdown",
   "id": "208aede4",
   "metadata": {
    "id": "121e1b7c-845f-4cee-a973-aebd41411dd2"
   },
   "source": [
    "Now, recalculate all the values in the `Years To Unicorn` column to remove the negative value for InVision. Verify that there are no more negative values afterwards."
   ]
  },
  {
   "cell_type": "code",
   "execution_count": 11,
   "id": "ad3e5466",
   "metadata": {
    "id": "0850371d-4cf8-4f06-9e41-b3baa842d86c",
    "scrolled": true
   },
   "outputs": [
    {
     "name": "stdout",
     "output_type": "stream",
     "text": [
      "\n",
      "Companies with negative 'Years To Unicorn':\n",
      "Empty DataFrame\n",
      "Columns: [Company, Valuation, Date Joined, Industry, City, Country/Region, Continent, Year Founded, Funding, Select Investors, Years To Unicorn]\n",
      "Index: []\n",
      "\n",
      "Number of rows with negative values: 0\n"
     ]
    }
   ],
   "source": [
    "# Recalculate all values in the 'Years To Unicorn' column\n",
    "companies['Years To Unicorn'] = companies['Date Joined'].dt.year - companies['Year Founded']\n",
    "\n",
    "# Verify that there are no more negative values in the column\n",
    "negative_years = companies[companies['Years To Unicorn'] < 0]\n",
    "print(\"\\nCompanies with negative 'Years To Unicorn':\")\n",
    "print(negative_years)\n",
    "print(f\"\\nNumber of rows with negative values: {len(negative_years)}\")"
   ]
  },
  {
   "cell_type": "markdown",
   "id": "fb2aaf0c",
   "metadata": {
    "id": "0b6edaeb-6561-4201-b2d8-2c11ed8837c1"
   },
   "source": [
    "#### Issues with `Industry` labels\n",
    "\n",
    "The company provided you with the following list of industry labels to identify in the data for `Industry`. \n",
    "\n",
    "**Note:** Any labels in the `Industry` column that are not in `industry_list` are misspellings."
   ]
  },
  {
   "cell_type": "code",
   "execution_count": null,
   "id": "a91669b0",
   "metadata": {},
   "outputs": [],
   "source": [
    "# List provided by the company of the expected industry labels in the data\n",
    "industry_list = ['Artificial intelligence', 'Other','E-commerce & direct-to-consumer', 'Fintech',\\\n",
    "       'Internet software & services','Supply chain, logistics, & delivery', 'Consumer & retail',\\\n",
    "       'Data management & analytics', 'Edtech', 'Health', 'Hardware','Auto & transportation', \\\n",
    "        'Travel', 'Cybersecurity','Mobile & telecommunications']"
   ]
  },
  {
   "cell_type": "markdown",
   "id": "94d48a1d",
   "metadata": {},
   "source": [
    "First, check if there are values in the `Industry` column that are not in `industry_list`. If so, what are they?"
   ]
  },
  {
   "cell_type": "code",
   "execution_count": 12,
   "id": "09e1bd16",
   "metadata": {},
   "outputs": [
    {
     "name": "stdout",
     "output_type": "stream",
     "text": [
      "Unexpected/misspelled values in 'Industry':\n",
      "{'FinTech', 'Data management and analytics', 'Artificial Intelligence'}\n"
     ]
    }
   ],
   "source": [
    "# Provided list of valid industry labels\n",
    "industry_list = [\n",
    "    'Artificial intelligence', 'Other', 'E-commerce & direct-to-consumer', 'Fintech',\n",
    "    'Internet software & services', 'Supply chain, logistics, & delivery', 'Consumer & retail',\n",
    "    'Data management & analytics', 'Edtech', 'Health', 'Hardware', 'Auto & transportation',\n",
    "    'Travel', 'Cybersecurity', 'Mobile & telecommunications'\n",
    "]\n",
    "\n",
    "# Check for unexpected values in the 'Industry' column\n",
    "invalid_industries = set(companies['Industry'].unique()) - set(industry_list)\n",
    "\n",
    "# Display the unexpected values\n",
    "print(\"Unexpected/misspelled values in 'Industry':\")\n",
    "print(invalid_industries)"
   ]
  },
  {
   "cell_type": "markdown",
   "id": "7a08ff98",
   "metadata": {},
   "source": [
    "<details>\n",
    "  <summary><h4><strong>HINT 1</strong></h4></summary>\n",
    "\n",
    "There are many ways to do this. One approach is to consider what data type reduces iterable sequences to their unique elements and allows you to compare membership.\n",
    "\n",
    "</details>"
   ]
  },
  {
   "cell_type": "markdown",
   "id": "4433333a",
   "metadata": {},
   "source": [
    "<details>\n",
    "  <summary><h4><strong>HINT 2</strong></h4></summary>\n",
    "\n",
    "A set is a data type that consists of unique elements and supports membership testing with other sets.\n",
    "\n",
    "</details>"
   ]
  },
  {
   "cell_type": "markdown",
   "id": "6902b9b3",
   "metadata": {},
   "source": [
    "<details>\n",
    "  <summary><h4><strong>HINT 3</strong></h4></summary>\n",
    "\n",
    "Set A &ndash; Set B will result in all the elements that are in Set A but not in Set B. Convert `industry_list` to a set and subtract it from the set of the values in the `Industry` series.\n",
    "\n",
    "</details>"
   ]
  },
  {
   "cell_type": "markdown",
   "id": "54dd020d",
   "metadata": {},
   "source": [
    "**Question: Which values currently exist in the `Industry` column that are not in `industry_list`?**\n"
   ]
  },
  {
   "cell_type": "markdown",
   "id": "c57b8e00",
   "metadata": {},
   "source": [
    "The values currently in the Industry column that are not in the provided industry_list (i.e., misspellings or inconsistent capitalizations) are:\n",
    "\n",
    "'FinTech'\n",
    "\n",
    "'Data management and analytics'\n",
    "\n",
    "'Artificial Intelligence'\n",
    "\n",
    "These should be corrected to:\n",
    "\n",
    "'Fintech'\n",
    "\n",
    "'Data management & analytics'\n",
    "\n",
    "'Artificial intelligence'"
   ]
  },
  {
   "cell_type": "markdown",
   "id": "68cff37c",
   "metadata": {},
   "source": [
    "Now, correct the bad entries in the `Industry` column by replacing them with an approved string from `industry_list`. To do this, use the [`replace()`](https://pandas.pydata.org/docs/reference/api/pandas.Series.replace.html) `Series` method on the `Industry` series. When you pass a dictionary to the method, it will replace the data in the series where that data matches the dictionary's keys. The values that get imputed are the values of the dictionary. If a value is not specified in the dictionary, the series' original value is retained.\n",
    "</br></br>\n",
    "\n",
    "\n",
    "```\n",
    "Example:\n",
    "\n",
    " [IN]: column_a = pd.Series(['A', 'B', 'C', 'D'])\n",
    "       column_a\n",
    "\n",
    "[OUT]: 0    A\n",
    "       1    B\n",
    "       2    C\n",
    "       3    D\n",
    "       dtype: object\n",
    "\n",
    " [IN]: replacement_dict = {'A':'z', 'B':'y', 'C':'x'}\n",
    "       column_a = column_a.replace(replacement_dict)\n",
    "       column_a\n",
    "       \n",
    "[OUT]: 0    z\n",
    "       1    y\n",
    "       2    x\n",
    "       3    D\n",
    "       dtype: object\n",
    "\n",
    "```\n",
    "\n",
    "1. Create a dictionary called `replacement_dict` whose keys are the incorrect spellings in the `Industry` series and whose values are the correct spelling, as indicated in `industry_list`.\n",
    "\n",
    "2. Call the `replace()` method on the `Industry` series and pass to it `replacement_dict` as its argument. Reassign the result back to the `Industry` column.\n",
    "\n",
    "3. Verify that there are no longer any elements in `Industry` that are not in `industry_list`."
   ]
  },
  {
   "cell_type": "code",
   "execution_count": 13,
   "id": "c25da9de",
   "metadata": {},
   "outputs": [
    {
     "name": "stdout",
     "output_type": "stream",
     "text": [
      "Unexpected/misspelled values in 'Industry' after correction:\n",
      "set()\n"
     ]
    }
   ],
   "source": [
    "# 1. Create `replacement_dict`\n",
    "replacement_dict = {\n",
    "    'FinTech': 'Fintech',\n",
    "    'Data management and analytics': 'Data management & analytics',\n",
    "    'Artificial Intelligence': 'Artificial intelligence'\n",
    "}\n",
    "\n",
    "# 2. Replace the incorrect values in the `Industry` column\n",
    "companies['Industry'] = companies['Industry'].replace(replacement_dict)\n",
    "\n",
    "# 3. Verify that there are no longer any elements in `Industry` that are not in `industry_list`\n",
    "invalid_industries = set(companies['Industry'].unique()) - set(industry_list)\n",
    "print(\"Unexpected/misspelled values in 'Industry' after correction:\")\n",
    "print(invalid_industries)"
   ]
  },
  {
   "cell_type": "markdown",
   "id": "74c2d8a7",
   "metadata": {},
   "source": [
    "<details>\n",
    "  <summary><h4><strong>Hint 1</strong></h4></summary>\n",
    "\n",
    "Refer to the example provided for how to use the `replace()` `Series` method.\n",
    "    \n",
    "</details>"
   ]
  },
  {
   "cell_type": "markdown",
   "id": "58d54e7b",
   "metadata": {},
   "source": [
    "<details>\n",
    "  <summary><h4><strong>Hint 2</strong></h4></summary>\n",
    "\n",
    "When you define the `replacement_dict` dictionary, the misspellings should be the keys and the correct spellings should be the values.\n",
    "\n",
    "</details>"
   ]
  },
  {
   "cell_type": "markdown",
   "id": "c7abd0ef",
   "metadata": {},
   "source": [
    "<details>\n",
    "  <summary><h4><strong>Hint 3</strong></h4></summary>   \n",
    "\n",
    "When you call `replace()` on the `Industry` series and pass to it the `replacement_dict` dictionary as an argument, you must reassign the result back to `companies['Industry']` for the change to take effect.   \n",
    "    \n",
    "</details>"
   ]
  },
  {
   "cell_type": "markdown",
   "id": "34a2370b",
   "metadata": {},
   "source": [
    "#### Handling duplicate rows\n",
    "\n",
    "The business mentioned that no company should appear in the data more than once.\n",
    "\n",
    "Verify that this is indeed the case, and if not, clean the data so each company appears only once.\n",
    "\n",
    "Begin by checking which, if any, companies are duplicated. Filter the data to return all occurrences of those duplicated companies."
   ]
  },
  {
   "cell_type": "code",
   "execution_count": 14,
   "id": "48bb1bcb",
   "metadata": {},
   "outputs": [
    {
     "name": "stdout",
     "output_type": "stream",
     "text": [
      "Duplicated companies:\n",
      "         Company  Valuation Date Joined                 Industry         City  \\\n",
      "385      BrewDog          2  2017-04-10        Consumer & retail     Aberdeen   \n",
      "386      BrewDog          2  2017-04-10        Consumer & retail     Aberdeen   \n",
      "510       ZocDoc          2  2015-08-20                   Health     New York   \n",
      "511       ZocDoc          2  2015-08-20                   Health          NaN   \n",
      "1031  SoundHound          1  2018-05-03  Artificial intelligence  Santa Clara   \n",
      "1032  SoundHound          1  2018-05-03                    Other  Santa Clara   \n",
      "\n",
      "      Country/Region      Continent  Year Founded Funding  \\\n",
      "385   United Kingdom         Europe          2007   $233M   \n",
      "386    UnitedKingdom         Europe          2007   $233M   \n",
      "510    United States  North America          2007   $374M   \n",
      "511    United States  North America          2007   $374M   \n",
      "1031   United States  North America          2005   $215M   \n",
      "1032   United States  North America          2005   $215M   \n",
      "\n",
      "                                       Select Investors  Years To Unicorn  \n",
      "385                    TSG Consumer Partners, Crowdcube                10  \n",
      "386                               TSG Consumer Partners                10  \n",
      "510       Founders Fund, Khosla Ventures, Goldman Sachs                 8  \n",
      "511                                       Founders Fund                 8  \n",
      "1031  Tencent Holdings, Walden Venture Capital, Glob...                13  \n",
      "1032                                   Tencent Holdings                13  \n"
     ]
    }
   ],
   "source": [
    "# 1. Isolate rows of all companies that have duplicates\n",
    "duplicated_companies = companies[companies.duplicated(subset='Company', keep=False)]\n",
    "\n",
    "# Display the duplicated rows\n",
    "print(\"Duplicated companies:\")\n",
    "print(duplicated_companies)"
   ]
  },
  {
   "cell_type": "markdown",
   "id": "43f07c96",
   "metadata": {},
   "source": [
    "<details>\n",
    "  <summary><h4><strong>Hint 1</strong></h4></summary>\n",
    "\n",
    "Check for duplicated values specifically in the `Company` column, not entire rows that are duplicated. \n",
    "    \n",
    "</details>"
   ]
  },
  {
   "cell_type": "markdown",
   "id": "70e214fb",
   "metadata": {},
   "source": [
    "<details>\n",
    "  <summary><h4><strong>Hint 2</strong></h4></summary>\n",
    "\n",
    "The pandas [`duplicated()`](https://pandas.pydata.org/docs/reference/api/pandas.DataFrame.duplicated.html#pandas.DataFrame.duplicated) `DataFrame` method can indentify duplicated rows. Apply it to the `Company` column in `companies` to find which companies appear more than once.\n",
    "    \n",
    "</details>"
   ]
  },
  {
   "cell_type": "markdown",
   "id": "8b9f5e2c",
   "metadata": {},
   "source": [
    "<details>\n",
    "  <summary><h4><strong>Hint 3</strong></h4></summary>\n",
    "\n",
    "* To specify that you want to check for duplicates only in the `Company` column, indicate this with the `subset` parameter.\n",
    "* To return _all_ occurrences of duplicates, set the `keep` parameter to `False`. \n",
    "    \n",
    "</details>"
   ]
  },
  {
   "cell_type": "markdown",
   "id": "67469518",
   "metadata": {},
   "source": [
    "**Question: Do these duplicated companies seem like legitimate data points, or are they problematic data?**\n"
   ]
  },
  {
   "cell_type": "markdown",
   "id": "b422dc9b",
   "metadata": {},
   "source": [
    "It looks like the duplicated companies are problematic data. In most cases, a company should only appear once in the dataset, as each company is a unique entity. Duplicates could indicate data entry errors or issues during data collection. These duplicates might skew analysis results and affect conclusions, so they should be carefully handled.\n",
    "\n",
    "The next step would be to determine whether to remove the duplicates, based on their relevance and whether additional columns (such as valuation or year founded) differ for the duplicated rows. If no meaningful difference exists, we could simply drop the duplicates and retain a single entry for each company."
   ]
  },
  {
   "cell_type": "markdown",
   "id": "dd37f749",
   "metadata": {},
   "source": [
    "Keep the first occurrence of each duplicate company and drop the subsequent rows that are copies."
   ]
  },
  {
   "cell_type": "code",
   "execution_count": 15,
   "id": "e102992d",
   "metadata": {},
   "outputs": [
    {
     "name": "stdout",
     "output_type": "stream",
     "text": [
      "Number of rows after removing duplicates: 1070\n"
     ]
    }
   ],
   "source": [
    "# Drop rows of duplicate companies after their first occurrence\n",
    "companies = companies.drop_duplicates(subset='Company', keep='first')\n",
    "\n",
    "# Verify the result by checking for any remaining duplicates\n",
    "print(f\"Number of rows after removing duplicates: {len(companies)}\")"
   ]
  },
  {
   "cell_type": "markdown",
   "id": "4bfc2586",
   "metadata": {},
   "source": [
    "<details>\n",
    "  <summary><h4><strong>Hint 1</strong></h4></summary>\n",
    "\n",
    "Use the [`drop_duplicates()`](https://pandas.pydata.org/docs/reference/api/pandas.DataFrame.drop_duplicates.html) `DataFrame` method. \n",
    "    \n",
    "</details>"
   ]
  },
  {
   "cell_type": "markdown",
   "id": "2e525b07",
   "metadata": {},
   "source": [
    "<details>\n",
    "  <summary><h4><strong>Hint 2</strong></h4></summary>\n",
    "\n",
    "Make sure to subset `Company` and reassign the results back to the `companies` dataframe for the changes to take effect.\n",
    "    \n",
    "</details>"
   ]
  },
  {
   "cell_type": "markdown",
   "id": "2671f3ba",
   "metadata": {},
   "source": [
    "**Question: Why is it important to perform input validation?**\n"
   ]
  },
  {
   "cell_type": "markdown",
   "id": "7da70788",
   "metadata": {},
   "source": [
    "Input validation is crucial because it ensures that the data being used for analysis is clean, accurate, and reliable. Without proper validation, data inconsistencies, errors, or missing values could lead to incorrect conclusions, skewed analysis, or flawed machine learning models. Inaccurate data can also impact decision-making, especially when the data influences high-stakes business decisions. Input validation helps identify and correct problems such as bad data, duplicates, inconsistencies, or misformulated entries, which improves the overall quality of the data and the robustness of the analysis."
   ]
  },
  {
   "cell_type": "markdown",
   "id": "3bd80060",
   "metadata": {},
   "source": [
    "**Question: What steps did you take to perform input validation for this dataset?**\n"
   ]
  },
  {
   "cell_type": "markdown",
   "id": "19823cfd",
   "metadata": {},
   "source": [
    "Checked and Corrected Data Types: I ensured that the Date Joined column was correctly converted to a datetime format and the Year Founded column was converted to a numeric format to avoid issues during calculations.\n",
    "\n",
    "Created the Years To Unicorn Column: I computed the number of years between the year a company was founded and when it achieved unicorn status, ensuring that the calculated value was meaningful by verifying that no negative values existed.\n",
    "\n",
    "Handled Bad Data: I identified and corrected negative values in the Years To Unicorn column (e.g., for InVision) by recalculating it after correcting incorrect year data.\n",
    "\n",
    "Corrected Industry Label Errors: I identified misspelled industry labels in the Industry column, such as 'FinTech' and 'Artificial Intelligence', and replaced them with the correct values using a dictionary-based approach.\n",
    "\n",
    "Removed Duplicates: I checked for duplicate entries in the dataset (specifically in the Company column) and removed subsequent occurrences of duplicate companies to ensure each company was represented only once in the dataset."
   ]
  },
  {
   "cell_type": "markdown",
   "id": "f8a371f7",
   "metadata": {
    "id": "w_HtFyHrXVAc"
   },
   "source": [
    "### Convert numerical data to categorical data\n",
    "\n",
    "Sometimes, you'll want to simplify a numeric column by converting it to a categorical column. To do this, one common approach is to break the range of possible values into a defined number of equally sized bins and assign each bin a name. In the next step, you'll practice this process."
   ]
  },
  {
   "cell_type": "markdown",
   "id": "3e4690fc",
   "metadata": {
    "id": "3c03f2b7-8262-4ea5-94dd-53ee5f219cc7"
   },
   "source": [
    "#### Create a `High Valuation` column\n",
    "\n",
    "The data in the `Valuation` column represents how much money (in billions, USD) each company is valued at. Use the `Valuation` column to create a new column called `High Valuation`. For each company, the value in this column should be `low` if the company is in the bottom 50% of company valuations and `high` if the company is in the top 50%."
   ]
  },
  {
   "cell_type": "code",
   "execution_count": 16,
   "id": "46ec5099",
   "metadata": {
    "id": "646aaace-82a5-4b73-822a-27475822de4a"
   },
   "outputs": [
    {
     "name": "stdout",
     "output_type": "stream",
     "text": [
      "     Company  Valuation High Valuation\n",
      "0  Bytedance        180           high\n",
      "1     SpaceX        100           high\n",
      "2      SHEIN        100           high\n",
      "3     Stripe         95           high\n",
      "4     Klarna         46           high\n"
     ]
    }
   ],
   "source": [
    "# Create new 'High Valuation' column\n",
    "# Use qcut to divide Valuation into 'high' and 'low' Valuation groups\n",
    "companies['High Valuation'] = pd.qcut(companies['Valuation'], q=2, labels=['low', 'high'])\n",
    "\n",
    "# Display the result\n",
    "print(companies[['Company', 'Valuation', 'High Valuation']].head())"
   ]
  },
  {
   "cell_type": "markdown",
   "id": "5959daed",
   "metadata": {
    "id": "3f610ee9-ef9d-4451-8667-edc8b4d803b9"
   },
   "source": [
    "<details>\n",
    "  <summary><h4><strong>Hint 1</strong></h4></summary>\n",
    "\n",
    "There are multiple ways to complete this task. Review what you've learned about organizing data into equal quantiles.\n",
    "    \n",
    "</details>"
   ]
  },
  {
   "cell_type": "markdown",
   "id": "a7d7099d",
   "metadata": {
    "id": "97caea9d-0d55-45ba-be01-d90260610d95"
   },
   "source": [
    "<details>\n",
    "  <summary><h4><strong>Hint 2</strong></h4></summary>\n",
    "\n",
    "Consider using the pandas [`qcut()`](https://pandas.pydata.org/docs/reference/api/pandas.qcut.html) function. \n",
    "    \n",
    "</details>"
   ]
  },
  {
   "cell_type": "markdown",
   "id": "ae24deaa",
   "metadata": {
    "id": "a606f612-aa34-46e3-b39f-c6f39b7e5dbd"
   },
   "source": [
    "<details>\n",
    "  <summary><h4><strong>Hint 3</strong></h4></summary>\n",
    "\n",
    "Use `pandas` `qcut()` to divide the data into two equal-sized quantile buckets. Use the `labels` parameter to define the output labels. The values you give for `labels` will be the values that are inserted into the new column. \n",
    "    \n",
    "</details>"
   ]
  },
  {
   "cell_type": "markdown",
   "id": "8b342873",
   "metadata": {
    "id": "6f5107f1-3694-4296-b857-b1e44ce2b09b"
   },
   "source": [
    "### Convert categorical data to numerical data\n",
    "\n",
    "Three common methods for changing categorical data to numerical are:\n",
    "\n",
    "1. Label encoding: order matters (ordinal numeric labels)\n",
    "2. Label encoding: order doesn't matter (nominal numeric labels)\n",
    "3. Dummy encoding: order doesn't matter (creation of binary columns for each possible category contained in the variable)\n",
    "\n",
    "The decision on which method to use depends on the context and must be made on a case-to-case basis. However, a distinction is typically made between categorical variables with equal weight given to all possible categories vs. variables with a hierarchical structure of importance to their possible categories.  \n",
    "\n",
    "For example, a variable called `subject` might have possible values of `history`, `mathematics`, `literature`. In this case, each subject might be **nominal**&mdash;given the same level of importance. However, you might have another variable called `class`, whose possible values are `freshman`, `sophomore`, `junior`, `senior`. In this case, the class variable is **ordinal**&mdash;its values have an ordered, hierarchical structure of importance. \n",
    "\n",
    "Machine learning models typically need all data to be numeric, and they generally use ordinal label encoding (method 1) and dummy encoding (method 3). \n",
    "\n",
    "In the next steps, you'll convert the following variables: `Continent`, `Country/Region`, and `Industry`, each using a different approach."
   ]
  },
  {
   "cell_type": "markdown",
   "id": "afcdbe1c",
   "metadata": {},
   "source": [
    "### Convert `Continent` to numeric\n",
    "\n",
    "For the purposes of this exercise, suppose that the investment group has specified that they want to give more weight to continents with fewer unicorn companies because they believe this could indicate unrealized market potential. "
   ]
  },
  {
   "cell_type": "markdown",
   "id": "2427a474",
   "metadata": {},
   "source": [
    "**Question: Which type of variable would this make the `Continent` variable in terms of how it would be converted to a numeric data type?**\n"
   ]
  },
  {
   "cell_type": "markdown",
   "id": "1ca37f0f",
   "metadata": {},
   "source": [
    "In this case, the Continent variable would be treated as ordinal because the investment group is assigning more weight (importance) to continents with fewer unicorn companies, implying a hierarchical structure. This suggests that the value of the variable has an order based on the number of companies in each continent, where the continents with fewer unicorns have more potential."
   ]
  },
  {
   "cell_type": "markdown",
   "id": "6d03a885",
   "metadata": {},
   "source": [
    "Rank the continents in descending order from the greatest number of unicorn companies to the least."
   ]
  },
  {
   "cell_type": "code",
   "execution_count": 17,
   "id": "055c749a",
   "metadata": {
    "id": "bbd72ed4-5cac-41f7-a816-3a4d28e34eb4"
   },
   "outputs": [
    {
     "name": "stdout",
     "output_type": "stream",
     "text": [
      "North America    585\n",
      "Asia             310\n",
      "Europe           143\n",
      "South America     21\n",
      "Oceania            8\n",
      "Africa             3\n",
      "Name: Continent, dtype: int64\n"
     ]
    }
   ],
   "source": [
    "# Rank the continents by number of unicorn companies\n",
    "continent_counts = companies['Continent'].value_counts()\n",
    "\n",
    "# Display the ranking\n",
    "print(continent_counts)"
   ]
  },
  {
   "cell_type": "markdown",
   "id": "80c05dc5",
   "metadata": {
    "id": "34f1f513-2d9f-4da7-b884-6a6714b7652e"
   },
   "source": [
    "<details>\n",
    "  <summary><h4><strong>Hint</strong></h4></summary>\n",
    "\n",
    "Use the `value_counts()` method on the `Continent` series.\n",
    "    \n",
    "</details>"
   ]
  },
  {
   "cell_type": "markdown",
   "id": "c38ac17a",
   "metadata": {
    "id": "2c95b77d-7cda-46ba-975f-8632aaa6158d",
    "tags": []
   },
   "source": [
    "Now, create a new column called `Continent Number` that represents the `Continent` column converted to numeric in the order of their number of unicorn companies, where North America is encoded as `1`, through Africa, encoded as `6`."
   ]
  },
  {
   "cell_type": "code",
   "execution_count": 18,
   "id": "559f6164",
   "metadata": {
    "id": "c3bd716a-7845-4c3c-988c-3b227c10e036"
   },
   "outputs": [
    {
     "name": "stdout",
     "output_type": "stream",
     "text": [
      "     Company      Continent  Continent Number\n",
      "0  Bytedance           Asia                 2\n",
      "1     SpaceX  North America                 1\n",
      "2      SHEIN           Asia                 2\n",
      "3     Stripe  North America                 1\n",
      "4     Klarna         Europe                 3\n"
     ]
    }
   ],
   "source": [
    "# Rank the continents by the number of unicorn companies\n",
    "continent_counts = companies['Continent'].value_counts()\n",
    "\n",
    "# Create a mapping dictionary from continent names to numeric values\n",
    "continent_mapping = {continent: rank+1 for rank, continent in enumerate(continent_counts.index)}\n",
    "\n",
    "# Create the 'Continent Number' column by replacing the continent names with their numeric values\n",
    "companies['Continent Number'] = companies['Continent'].replace(continent_mapping)\n",
    "\n",
    "# Display the updated dataframe with the new column\n",
    "print(companies[['Company', 'Continent', 'Continent Number']].head())"
   ]
  },
  {
   "cell_type": "markdown",
   "id": "b32cddec",
   "metadata": {
    "id": "ce4eb04d-d2d3-454c-a273-0815b1d1a95a"
   },
   "source": [
    "<details>\n",
    "  <summary><h4><strong>Hint </strong></h4></summary>\n",
    "\n",
    "Create a mapping dictionary and use the `replace()` method on the `Category` column. Refer to the example provided above for more information about `replace()`.\n",
    "    \n",
    "</details>"
   ]
  },
  {
   "cell_type": "markdown",
   "id": "98b9f004",
   "metadata": {},
   "source": [
    "### Convert `Country/Region` to numeric\n",
    "\n",
    "Now, suppose that within a given continent, each company's `Country/Region` is given equal importance. For analytical purposes, you want to convert the values in this column to numeric without creating a large number of dummy columns. Use label encoding of this nominal categorical variable to create a new column called `Country/Region Numeric`, wherein each unique `Country/Region` is assigned its own number. "
   ]
  },
  {
   "cell_type": "code",
   "execution_count": 20,
   "id": "ca4f55b8",
   "metadata": {},
   "outputs": [
    {
     "name": "stdout",
     "output_type": "stream",
     "text": [
      "     Company Country/Region  Country/Region Numeric\n",
      "0  Bytedance          China                       9\n",
      "1     SpaceX  United States                      44\n",
      "2      SHEIN          China                       9\n",
      "3     Stripe  United States                      44\n",
      "4     Klarna         Sweden                      38\n"
     ]
    }
   ],
   "source": [
    "# Create the 'Country/Region Numeric' column by label encoding the 'Country/Region' column\n",
    "companies['Country/Region Numeric'] = companies['Country/Region'].astype('category').cat.codes\n",
    "\n",
    "# Display the updated dataframe with the new column\n",
    "print(companies[['Company', 'Country/Region', 'Country/Region Numeric']].head())"
   ]
  },
  {
   "cell_type": "markdown",
   "id": "a044059e",
   "metadata": {},
   "source": [
    "<details>\n",
    "  <summary><h4><strong>Hint 1</strong></h4></summary>\n",
    "\n",
    "Review what you have learned about converting a variable with a string/object data type to a category.\n",
    "    \n",
    "</details>"
   ]
  },
  {
   "cell_type": "markdown",
   "id": "e606ab31",
   "metadata": {},
   "source": [
    "<details>\n",
    "  <summary><h4><strong>Hint 2</strong></h4></summary>\n",
    "\n",
    "To use label encoding, apply `.astype('category').cat.codes` to the `Country/Region` in `companies`.\n",
    "    \n",
    "</details>"
   ]
  },
  {
   "cell_type": "markdown",
   "id": "ca6a57c6",
   "metadata": {
    "id": "2eeff065-469f-4a43-bf2a-87920c4d7bc0"
   },
   "source": [
    "### Convert `Industry` to numeric\n",
    "\n",
    "Finally, create dummy variables for the values in the `Industry` column. "
   ]
  },
  {
   "cell_type": "code",
   "execution_count": 21,
   "id": "6ddd4275",
   "metadata": {
    "id": "4bca4703-9f76-4b59-bc5e-df0097e44b4a"
   },
   "outputs": [],
   "source": [
    "# Create dummy variables for the 'Industry' column\n",
    "industry_dummies = pd.get_dummies(companies['Industry'], prefix='Industry')\n",
    "\n",
    "# Combine the dummy variables with the original companies DataFrame\n",
    "companies = pd.concat([companies, industry_dummies], axis=1)"
   ]
  },
  {
   "cell_type": "markdown",
   "id": "72a41aa2",
   "metadata": {},
   "source": [
    "Display the first few rows of `companies`"
   ]
  },
  {
   "cell_type": "code",
   "execution_count": 22,
   "id": "3970ccfa",
   "metadata": {},
   "outputs": [
    {
     "name": "stdout",
     "output_type": "stream",
     "text": [
      "     Company  Valuation Date Joined                         Industry  \\\n",
      "0  Bytedance        180  2017-04-07          Artificial intelligence   \n",
      "1     SpaceX        100  2012-12-01                            Other   \n",
      "2      SHEIN        100  2018-07-03  E-commerce & direct-to-consumer   \n",
      "3     Stripe         95  2014-01-23                          Fintech   \n",
      "4     Klarna         46  2011-12-12                          Fintech   \n",
      "\n",
      "            City Country/Region      Continent  Year Founded Funding  \\\n",
      "0        Beijing          China           Asia          2012     $8B   \n",
      "1      Hawthorne  United States  North America          2002     $7B   \n",
      "2       Shenzhen          China           Asia          2008     $2B   \n",
      "3  San Francisco  United States  North America          2010     $2B   \n",
      "4      Stockholm         Sweden         Europe          2005     $4B   \n",
      "\n",
      "                                    Select Investors  Years To Unicorn  \\\n",
      "0  Sequoia Capital China, SIG Asia Investments, S...                 5   \n",
      "1  Founders Fund, Draper Fisher Jurvetson, Rothen...                10   \n",
      "2  Tiger Global Management, Sequoia Capital China...                10   \n",
      "3        Khosla Ventures, LowercaseCapital, capitalG                 4   \n",
      "4  Institutional Venture Partners, Sequoia Capita...                 6   \n",
      "\n",
      "  High Valuation  Continent Number  Country/Region Numeric  \\\n",
      "0           high                 2                       9   \n",
      "1           high                 1                      44   \n",
      "2           high                 2                       9   \n",
      "3           high                 1                      44   \n",
      "4           high                 3                      38   \n",
      "\n",
      "   Industry_Artificial intelligence  Industry_Auto & transportation  \\\n",
      "0                                 1                               0   \n",
      "1                                 0                               0   \n",
      "2                                 0                               0   \n",
      "3                                 0                               0   \n",
      "4                                 0                               0   \n",
      "\n",
      "   Industry_Consumer & retail  Industry_Cybersecurity  \\\n",
      "0                           0                       0   \n",
      "1                           0                       0   \n",
      "2                           0                       0   \n",
      "3                           0                       0   \n",
      "4                           0                       0   \n",
      "\n",
      "   Industry_Data management & analytics  \\\n",
      "0                                     0   \n",
      "1                                     0   \n",
      "2                                     0   \n",
      "3                                     0   \n",
      "4                                     0   \n",
      "\n",
      "   Industry_E-commerce & direct-to-consumer  Industry_Edtech  \\\n",
      "0                                         0                0   \n",
      "1                                         0                0   \n",
      "2                                         1                0   \n",
      "3                                         0                0   \n",
      "4                                         0                0   \n",
      "\n",
      "   Industry_Fintech  Industry_Hardware  Industry_Health  \\\n",
      "0                 0                  0                0   \n",
      "1                 0                  0                0   \n",
      "2                 0                  0                0   \n",
      "3                 1                  0                0   \n",
      "4                 1                  0                0   \n",
      "\n",
      "   Industry_Internet software & services  \\\n",
      "0                                      0   \n",
      "1                                      0   \n",
      "2                                      0   \n",
      "3                                      0   \n",
      "4                                      0   \n",
      "\n",
      "   Industry_Mobile & telecommunications  Industry_Other  \\\n",
      "0                                     0               0   \n",
      "1                                     0               1   \n",
      "2                                     0               0   \n",
      "3                                     0               0   \n",
      "4                                     0               0   \n",
      "\n",
      "   Industry_Supply chain, logistics, & delivery  Industry_Travel  \n",
      "0                                             0                0  \n",
      "1                                             0                0  \n",
      "2                                             0                0  \n",
      "3                                             0                0  \n",
      "4                                             0                0  \n"
     ]
    }
   ],
   "source": [
    "# Display the first few rows of the updated companies DataFrame\n",
    "print(companies.head())"
   ]
  },
  {
   "cell_type": "code",
   "execution_count": 23,
   "id": "fcb465c8",
   "metadata": {},
   "outputs": [
    {
     "data": {
      "text/html": [
       "<div>\n",
       "<style scoped>\n",
       "    .dataframe tbody tr th:only-of-type {\n",
       "        vertical-align: middle;\n",
       "    }\n",
       "\n",
       "    .dataframe tbody tr th {\n",
       "        vertical-align: top;\n",
       "    }\n",
       "\n",
       "    .dataframe thead th {\n",
       "        text-align: right;\n",
       "    }\n",
       "</style>\n",
       "<table border=\"1\" class=\"dataframe\">\n",
       "  <thead>\n",
       "    <tr style=\"text-align: right;\">\n",
       "      <th></th>\n",
       "      <th>Company</th>\n",
       "      <th>Valuation</th>\n",
       "      <th>Date Joined</th>\n",
       "      <th>Industry</th>\n",
       "      <th>City</th>\n",
       "      <th>Country/Region</th>\n",
       "      <th>Continent</th>\n",
       "      <th>Year Founded</th>\n",
       "      <th>Funding</th>\n",
       "      <th>Select Investors</th>\n",
       "      <th>Years To Unicorn</th>\n",
       "      <th>High Valuation</th>\n",
       "      <th>Continent Number</th>\n",
       "      <th>Country/Region Numeric</th>\n",
       "      <th>Industry_Artificial intelligence</th>\n",
       "      <th>Industry_Auto &amp; transportation</th>\n",
       "      <th>Industry_Consumer &amp; retail</th>\n",
       "      <th>Industry_Cybersecurity</th>\n",
       "      <th>Industry_Data management &amp; analytics</th>\n",
       "      <th>Industry_E-commerce &amp; direct-to-consumer</th>\n",
       "      <th>Industry_Edtech</th>\n",
       "      <th>Industry_Fintech</th>\n",
       "      <th>Industry_Hardware</th>\n",
       "      <th>Industry_Health</th>\n",
       "      <th>Industry_Internet software &amp; services</th>\n",
       "      <th>Industry_Mobile &amp; telecommunications</th>\n",
       "      <th>Industry_Other</th>\n",
       "      <th>Industry_Supply chain, logistics, &amp; delivery</th>\n",
       "      <th>Industry_Travel</th>\n",
       "      <th>Industry_Artificial intelligence</th>\n",
       "      <th>Industry_Auto &amp; transportation</th>\n",
       "      <th>Industry_Consumer &amp; retail</th>\n",
       "      <th>Industry_Cybersecurity</th>\n",
       "      <th>Industry_Data management &amp; analytics</th>\n",
       "      <th>Industry_E-commerce &amp; direct-to-consumer</th>\n",
       "      <th>Industry_Edtech</th>\n",
       "      <th>Industry_Fintech</th>\n",
       "      <th>Industry_Hardware</th>\n",
       "      <th>Industry_Health</th>\n",
       "      <th>Industry_Internet software &amp; services</th>\n",
       "      <th>Industry_Mobile &amp; telecommunications</th>\n",
       "      <th>Industry_Other</th>\n",
       "      <th>Industry_Supply chain, logistics, &amp; delivery</th>\n",
       "      <th>Industry_Travel</th>\n",
       "    </tr>\n",
       "  </thead>\n",
       "  <tbody>\n",
       "    <tr>\n",
       "      <th>0</th>\n",
       "      <td>Bytedance</td>\n",
       "      <td>180</td>\n",
       "      <td>2017-04-07</td>\n",
       "      <td>Artificial intelligence</td>\n",
       "      <td>Beijing</td>\n",
       "      <td>China</td>\n",
       "      <td>Asia</td>\n",
       "      <td>2012</td>\n",
       "      <td>$8B</td>\n",
       "      <td>Sequoia Capital China, SIG Asia Investments, S...</td>\n",
       "      <td>5</td>\n",
       "      <td>high</td>\n",
       "      <td>2</td>\n",
       "      <td>9</td>\n",
       "      <td>1</td>\n",
       "      <td>0</td>\n",
       "      <td>0</td>\n",
       "      <td>0</td>\n",
       "      <td>0</td>\n",
       "      <td>0</td>\n",
       "      <td>0</td>\n",
       "      <td>0</td>\n",
       "      <td>0</td>\n",
       "      <td>0</td>\n",
       "      <td>0</td>\n",
       "      <td>0</td>\n",
       "      <td>0</td>\n",
       "      <td>0</td>\n",
       "      <td>0</td>\n",
       "      <td>1</td>\n",
       "      <td>0</td>\n",
       "      <td>0</td>\n",
       "      <td>0</td>\n",
       "      <td>0</td>\n",
       "      <td>0</td>\n",
       "      <td>0</td>\n",
       "      <td>0</td>\n",
       "      <td>0</td>\n",
       "      <td>0</td>\n",
       "      <td>0</td>\n",
       "      <td>0</td>\n",
       "      <td>0</td>\n",
       "      <td>0</td>\n",
       "      <td>0</td>\n",
       "    </tr>\n",
       "    <tr>\n",
       "      <th>1</th>\n",
       "      <td>SpaceX</td>\n",
       "      <td>100</td>\n",
       "      <td>2012-12-01</td>\n",
       "      <td>Other</td>\n",
       "      <td>Hawthorne</td>\n",
       "      <td>United States</td>\n",
       "      <td>North America</td>\n",
       "      <td>2002</td>\n",
       "      <td>$7B</td>\n",
       "      <td>Founders Fund, Draper Fisher Jurvetson, Rothen...</td>\n",
       "      <td>10</td>\n",
       "      <td>high</td>\n",
       "      <td>1</td>\n",
       "      <td>44</td>\n",
       "      <td>0</td>\n",
       "      <td>0</td>\n",
       "      <td>0</td>\n",
       "      <td>0</td>\n",
       "      <td>0</td>\n",
       "      <td>0</td>\n",
       "      <td>0</td>\n",
       "      <td>0</td>\n",
       "      <td>0</td>\n",
       "      <td>0</td>\n",
       "      <td>0</td>\n",
       "      <td>0</td>\n",
       "      <td>1</td>\n",
       "      <td>0</td>\n",
       "      <td>0</td>\n",
       "      <td>0</td>\n",
       "      <td>0</td>\n",
       "      <td>0</td>\n",
       "      <td>0</td>\n",
       "      <td>0</td>\n",
       "      <td>0</td>\n",
       "      <td>0</td>\n",
       "      <td>0</td>\n",
       "      <td>0</td>\n",
       "      <td>0</td>\n",
       "      <td>0</td>\n",
       "      <td>0</td>\n",
       "      <td>1</td>\n",
       "      <td>0</td>\n",
       "      <td>0</td>\n",
       "    </tr>\n",
       "    <tr>\n",
       "      <th>2</th>\n",
       "      <td>SHEIN</td>\n",
       "      <td>100</td>\n",
       "      <td>2018-07-03</td>\n",
       "      <td>E-commerce &amp; direct-to-consumer</td>\n",
       "      <td>Shenzhen</td>\n",
       "      <td>China</td>\n",
       "      <td>Asia</td>\n",
       "      <td>2008</td>\n",
       "      <td>$2B</td>\n",
       "      <td>Tiger Global Management, Sequoia Capital China...</td>\n",
       "      <td>10</td>\n",
       "      <td>high</td>\n",
       "      <td>2</td>\n",
       "      <td>9</td>\n",
       "      <td>0</td>\n",
       "      <td>0</td>\n",
       "      <td>0</td>\n",
       "      <td>0</td>\n",
       "      <td>0</td>\n",
       "      <td>1</td>\n",
       "      <td>0</td>\n",
       "      <td>0</td>\n",
       "      <td>0</td>\n",
       "      <td>0</td>\n",
       "      <td>0</td>\n",
       "      <td>0</td>\n",
       "      <td>0</td>\n",
       "      <td>0</td>\n",
       "      <td>0</td>\n",
       "      <td>0</td>\n",
       "      <td>0</td>\n",
       "      <td>0</td>\n",
       "      <td>0</td>\n",
       "      <td>0</td>\n",
       "      <td>1</td>\n",
       "      <td>0</td>\n",
       "      <td>0</td>\n",
       "      <td>0</td>\n",
       "      <td>0</td>\n",
       "      <td>0</td>\n",
       "      <td>0</td>\n",
       "      <td>0</td>\n",
       "      <td>0</td>\n",
       "      <td>0</td>\n",
       "    </tr>\n",
       "    <tr>\n",
       "      <th>3</th>\n",
       "      <td>Stripe</td>\n",
       "      <td>95</td>\n",
       "      <td>2014-01-23</td>\n",
       "      <td>Fintech</td>\n",
       "      <td>San Francisco</td>\n",
       "      <td>United States</td>\n",
       "      <td>North America</td>\n",
       "      <td>2010</td>\n",
       "      <td>$2B</td>\n",
       "      <td>Khosla Ventures, LowercaseCapital, capitalG</td>\n",
       "      <td>4</td>\n",
       "      <td>high</td>\n",
       "      <td>1</td>\n",
       "      <td>44</td>\n",
       "      <td>0</td>\n",
       "      <td>0</td>\n",
       "      <td>0</td>\n",
       "      <td>0</td>\n",
       "      <td>0</td>\n",
       "      <td>0</td>\n",
       "      <td>0</td>\n",
       "      <td>1</td>\n",
       "      <td>0</td>\n",
       "      <td>0</td>\n",
       "      <td>0</td>\n",
       "      <td>0</td>\n",
       "      <td>0</td>\n",
       "      <td>0</td>\n",
       "      <td>0</td>\n",
       "      <td>0</td>\n",
       "      <td>0</td>\n",
       "      <td>0</td>\n",
       "      <td>0</td>\n",
       "      <td>0</td>\n",
       "      <td>0</td>\n",
       "      <td>0</td>\n",
       "      <td>1</td>\n",
       "      <td>0</td>\n",
       "      <td>0</td>\n",
       "      <td>0</td>\n",
       "      <td>0</td>\n",
       "      <td>0</td>\n",
       "      <td>0</td>\n",
       "      <td>0</td>\n",
       "    </tr>\n",
       "    <tr>\n",
       "      <th>4</th>\n",
       "      <td>Klarna</td>\n",
       "      <td>46</td>\n",
       "      <td>2011-12-12</td>\n",
       "      <td>Fintech</td>\n",
       "      <td>Stockholm</td>\n",
       "      <td>Sweden</td>\n",
       "      <td>Europe</td>\n",
       "      <td>2005</td>\n",
       "      <td>$4B</td>\n",
       "      <td>Institutional Venture Partners, Sequoia Capita...</td>\n",
       "      <td>6</td>\n",
       "      <td>high</td>\n",
       "      <td>3</td>\n",
       "      <td>38</td>\n",
       "      <td>0</td>\n",
       "      <td>0</td>\n",
       "      <td>0</td>\n",
       "      <td>0</td>\n",
       "      <td>0</td>\n",
       "      <td>0</td>\n",
       "      <td>0</td>\n",
       "      <td>1</td>\n",
       "      <td>0</td>\n",
       "      <td>0</td>\n",
       "      <td>0</td>\n",
       "      <td>0</td>\n",
       "      <td>0</td>\n",
       "      <td>0</td>\n",
       "      <td>0</td>\n",
       "      <td>0</td>\n",
       "      <td>0</td>\n",
       "      <td>0</td>\n",
       "      <td>0</td>\n",
       "      <td>0</td>\n",
       "      <td>0</td>\n",
       "      <td>0</td>\n",
       "      <td>1</td>\n",
       "      <td>0</td>\n",
       "      <td>0</td>\n",
       "      <td>0</td>\n",
       "      <td>0</td>\n",
       "      <td>0</td>\n",
       "      <td>0</td>\n",
       "      <td>0</td>\n",
       "    </tr>\n",
       "  </tbody>\n",
       "</table>\n",
       "</div>"
      ],
      "text/plain": [
       "     Company  Valuation Date Joined                         Industry  \\\n",
       "0  Bytedance        180  2017-04-07          Artificial intelligence   \n",
       "1     SpaceX        100  2012-12-01                            Other   \n",
       "2      SHEIN        100  2018-07-03  E-commerce & direct-to-consumer   \n",
       "3     Stripe         95  2014-01-23                          Fintech   \n",
       "4     Klarna         46  2011-12-12                          Fintech   \n",
       "\n",
       "            City Country/Region      Continent  Year Founded Funding  \\\n",
       "0        Beijing          China           Asia          2012     $8B   \n",
       "1      Hawthorne  United States  North America          2002     $7B   \n",
       "2       Shenzhen          China           Asia          2008     $2B   \n",
       "3  San Francisco  United States  North America          2010     $2B   \n",
       "4      Stockholm         Sweden         Europe          2005     $4B   \n",
       "\n",
       "                                    Select Investors  Years To Unicorn  \\\n",
       "0  Sequoia Capital China, SIG Asia Investments, S...                 5   \n",
       "1  Founders Fund, Draper Fisher Jurvetson, Rothen...                10   \n",
       "2  Tiger Global Management, Sequoia Capital China...                10   \n",
       "3        Khosla Ventures, LowercaseCapital, capitalG                 4   \n",
       "4  Institutional Venture Partners, Sequoia Capita...                 6   \n",
       "\n",
       "  High Valuation  Continent Number  Country/Region Numeric  \\\n",
       "0           high                 2                       9   \n",
       "1           high                 1                      44   \n",
       "2           high                 2                       9   \n",
       "3           high                 1                      44   \n",
       "4           high                 3                      38   \n",
       "\n",
       "   Industry_Artificial intelligence  Industry_Auto & transportation  \\\n",
       "0                                 1                               0   \n",
       "1                                 0                               0   \n",
       "2                                 0                               0   \n",
       "3                                 0                               0   \n",
       "4                                 0                               0   \n",
       "\n",
       "   Industry_Consumer & retail  Industry_Cybersecurity  \\\n",
       "0                           0                       0   \n",
       "1                           0                       0   \n",
       "2                           0                       0   \n",
       "3                           0                       0   \n",
       "4                           0                       0   \n",
       "\n",
       "   Industry_Data management & analytics  \\\n",
       "0                                     0   \n",
       "1                                     0   \n",
       "2                                     0   \n",
       "3                                     0   \n",
       "4                                     0   \n",
       "\n",
       "   Industry_E-commerce & direct-to-consumer  Industry_Edtech  \\\n",
       "0                                         0                0   \n",
       "1                                         0                0   \n",
       "2                                         1                0   \n",
       "3                                         0                0   \n",
       "4                                         0                0   \n",
       "\n",
       "   Industry_Fintech  Industry_Hardware  Industry_Health  \\\n",
       "0                 0                  0                0   \n",
       "1                 0                  0                0   \n",
       "2                 0                  0                0   \n",
       "3                 1                  0                0   \n",
       "4                 1                  0                0   \n",
       "\n",
       "   Industry_Internet software & services  \\\n",
       "0                                      0   \n",
       "1                                      0   \n",
       "2                                      0   \n",
       "3                                      0   \n",
       "4                                      0   \n",
       "\n",
       "   Industry_Mobile & telecommunications  Industry_Other  \\\n",
       "0                                     0               0   \n",
       "1                                     0               1   \n",
       "2                                     0               0   \n",
       "3                                     0               0   \n",
       "4                                     0               0   \n",
       "\n",
       "   Industry_Supply chain, logistics, & delivery  Industry_Travel  \\\n",
       "0                                             0                0   \n",
       "1                                             0                0   \n",
       "2                                             0                0   \n",
       "3                                             0                0   \n",
       "4                                             0                0   \n",
       "\n",
       "   Industry_Artificial intelligence  Industry_Auto & transportation  \\\n",
       "0                                 1                               0   \n",
       "1                                 0                               0   \n",
       "2                                 0                               0   \n",
       "3                                 0                               0   \n",
       "4                                 0                               0   \n",
       "\n",
       "   Industry_Consumer & retail  Industry_Cybersecurity  \\\n",
       "0                           0                       0   \n",
       "1                           0                       0   \n",
       "2                           0                       0   \n",
       "3                           0                       0   \n",
       "4                           0                       0   \n",
       "\n",
       "   Industry_Data management & analytics  \\\n",
       "0                                     0   \n",
       "1                                     0   \n",
       "2                                     0   \n",
       "3                                     0   \n",
       "4                                     0   \n",
       "\n",
       "   Industry_E-commerce & direct-to-consumer  Industry_Edtech  \\\n",
       "0                                         0                0   \n",
       "1                                         0                0   \n",
       "2                                         1                0   \n",
       "3                                         0                0   \n",
       "4                                         0                0   \n",
       "\n",
       "   Industry_Fintech  Industry_Hardware  Industry_Health  \\\n",
       "0                 0                  0                0   \n",
       "1                 0                  0                0   \n",
       "2                 0                  0                0   \n",
       "3                 1                  0                0   \n",
       "4                 1                  0                0   \n",
       "\n",
       "   Industry_Internet software & services  \\\n",
       "0                                      0   \n",
       "1                                      0   \n",
       "2                                      0   \n",
       "3                                      0   \n",
       "4                                      0   \n",
       "\n",
       "   Industry_Mobile & telecommunications  Industry_Other  \\\n",
       "0                                     0               0   \n",
       "1                                     0               1   \n",
       "2                                     0               0   \n",
       "3                                     0               0   \n",
       "4                                     0               0   \n",
       "\n",
       "   Industry_Supply chain, logistics, & delivery  Industry_Travel  \n",
       "0                                             0                0  \n",
       "1                                             0                0  \n",
       "2                                             0                0  \n",
       "3                                             0                0  \n",
       "4                                             0                0  "
      ]
     },
     "execution_count": 23,
     "metadata": {},
     "output_type": "execute_result"
    }
   ],
   "source": [
    "# Create dummy variables for the 'Industry' column\n",
    "industry_dummies = pd.get_dummies(companies['Industry'], prefix='Industry')\n",
    "\n",
    "# Combine the dummy variables with the original companies DataFrame\n",
    "companies_with_industry_dummies = pd.concat([companies, industry_dummies], axis=1)\n",
    "\n",
    "# Display the first few rows of the updated DataFrame\n",
    "companies_with_industry_dummies.head()\n"
   ]
  },
  {
   "cell_type": "markdown",
   "id": "1a476080",
   "metadata": {
    "id": "adc26824-609c-4a9b-a5d7-c3abfb5258e1"
   },
   "source": [
    "<details>\n",
    "  <summary><h4><strong>Hint 1</strong></h4></summary>\n",
    "\n",
    "Consider using `pd.get_dummies` on the specified column. \n",
    "    \n",
    "</details>"
   ]
  },
  {
   "cell_type": "markdown",
   "id": "79421d6c",
   "metadata": {
    "id": "5f2bf2c6-fc4b-4d5f-b985-dd8fe5a7d87d"
   },
   "source": [
    "<details>\n",
    "  <summary><h4><strong>Hint 2</strong></h4></summary>\n",
    "\n",
    "When you call `pd.get_dummies()` on a specified series, it will return a dataframe consisting of each possible category contained in the series represented as its own binary column. You'll then have to combine this new dataframe of binary columns with the existing `companies` dataframe.\n",
    "    \n",
    "</details>"
   ]
  },
  {
   "cell_type": "markdown",
   "id": "6e845f95",
   "metadata": {
    "id": "fa14d383-ff64-4249-b51b-8026618a4571"
   },
   "source": [
    "<details>\n",
    "  <summary><h4><strong>Hint 3</strong></h4></summary>\n",
    "\n",
    "You can use `pd.concat([col_a, col_b])` to combine the two dataframes. Remember to specify the correct axis of concatenation and to reassign the result back to the `companies` dataframe.\n",
    "    \n",
    "</details>"
   ]
  },
  {
   "cell_type": "markdown",
   "id": "3d427185",
   "metadata": {
    "id": "f7edb136-45f0-4ff1-84d7-ff6bcc29dd43"
   },
   "source": [
    "**Question: Which categorical encoding approach did you use for each variable? Why?**"
   ]
  },
  {
   "cell_type": "markdown",
   "id": "c1891de0",
   "metadata": {
    "id": "qNl-29W8ejOX"
   },
   "source": [
    "Continent: Label Encoding (Ordinal)\n",
    "\n",
    "Reason: We assigned a numeric value to each continent based on the number of unicorn companies in it. This approach reflects a hierarchical order, where continents with fewer unicorns are assigned higher numbers, showing the investment group's emphasis on potential.\n",
    "\n",
    "Country/Region: Label Encoding (Nominal)\n",
    "\n",
    "Reason: In this case, each unique country/region is assigned a numeric code. The encoding doesn't imply any specific order or hierarchy, just a unique number for each country/region.\n",
    "\n",
    "Industry: One-Hot Encoding\n",
    "\n",
    "Reason: Since the industry categories are nominal (no particular order or hierarchy), one-hot encoding was used to create separate binary columns for each industry. Each company has a 1 or 0 indicating the presence of a particular industry category."
   ]
  },
  {
   "cell_type": "markdown",
   "id": "7455b523",
   "metadata": {},
   "source": [
    "**Question: How does label encoding change the data?**\n"
   ]
  },
  {
   "cell_type": "markdown",
   "id": "e22e75ea",
   "metadata": {},
   "source": [
    "Label Encoding converts categorical labels into numeric values, assigning a unique integer to each distinct category. This transformation enables machine learning algorithms, which require numeric data, to process categorical variables. For instance, if a column contains values like \"China,\" \"USA,\" and \"India,\" label encoding would convert them into numerical values like 0, 1, and 2, respectively. However, label encoding can impose unintended ordinal relationships, where the numerical values might be mistakenly interpreted as having a ranking, even if the original categories are nominal."
   ]
  },
  {
   "cell_type": "markdown",
   "id": "abfbc768",
   "metadata": {},
   "source": [
    "**Question: What are the benefits of label encoding?**\n"
   ]
  },
  {
   "cell_type": "markdown",
   "id": "56f09123",
   "metadata": {},
   "source": [
    "Efficient: Label encoding is memory efficient since it replaces each category with a single numeric value, rather than creating multiple binary columns.\n",
    "\n",
    "Suitable for Ordinal Data: It works well when the categorical variable has a natural order (i.e., ordinal data).\n",
    "\n",
    "Easy to Implement: It’s a simple method that can be easily applied using built-in pandas functions."
   ]
  },
  {
   "cell_type": "markdown",
   "id": "5d7ba213",
   "metadata": {},
   "source": [
    "**Question: What are the disadvantages of label encoding?**\n"
   ]
  },
  {
   "cell_type": "markdown",
   "id": "b2a99c3b",
   "metadata": {},
   "source": [
    "Unintended Ordinality: Label encoding may imply an ordinal relationship where none exists. For example, if categories are \"red,\" \"green,\" and \"blue,\" label encoding would assign numerical values 0, 1, and 2, which may lead models to incorrectly assume a rank order.\n",
    "\n",
    "Inappropriate for Nominal Data: It is not suitable for nominal categorical data where the categories have no meaningful order (like countries, cities, or industry types). One-hot encoding would be a better choice in such cases."
   ]
  },
  {
   "cell_type": "markdown",
   "id": "674d8e14",
   "metadata": {
    "id": "c38f5e8d-89fa-4eaf-acd3-4841583e427c",
    "tags": []
   },
   "source": [
    "## Conclusion\n",
    "\n",
    "**What are some key takeaways that you learned during this lab?**"
   ]
  },
  {
   "cell_type": "markdown",
   "id": "7f8ead7a",
   "metadata": {},
   "source": [
    "[Write your response here. Double-click (or enter) to edit.]"
   ]
  },
  {
   "cell_type": "markdown",
   "id": "2603a8ad",
   "metadata": {
    "id": "R9sAADZgr-YI"
   },
   "source": [
    "**Reference**\n",
    "\n",
    "[Bhat, M.A. *Unicorn Companies*](https://www.kaggle.com/datasets/mysarahmadbhat/unicorn-companies)\n",
    "\n"
   ]
  }
 ],
 "metadata": {
  "colab": {
   "collapsed_sections": [],
   "provenance": []
  },
  "kernelspec": {
   "display_name": "Python 3 (ipykernel)",
   "language": "python",
   "name": "python3"
  },
  "language_info": {
   "codemirror_mode": {
    "name": "ipython",
    "version": 3
   },
   "file_extension": ".py",
   "mimetype": "text/x-python",
   "name": "python",
   "nbconvert_exporter": "python",
   "pygments_lexer": "ipython3",
   "version": "3.11.9"
  },
  "toc-autonumbering": false,
  "toc-showtags": false
 },
 "nbformat": 4,
 "nbformat_minor": 5
}
